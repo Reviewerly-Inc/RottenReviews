{
 "cells": [
  {
   "cell_type": "code",
   "execution_count": 23,
   "metadata": {},
   "outputs": [],
   "source": [
    "import pandas as pd\n",
    "import json\n",
    "import re\n",
    "import csv\n",
    "import time\n",
    "from tqdm import tqdm\n",
    "from ollama import chat\n",
    "\n",
    "\n",
    "input_file = '/home/ali/Review_Quality_Benchmark/data/processed/openreview_iclr2024_v8.json'\n",
    "# Load data\n",
    "df = pd.read_json(input_file)\n",
    "\n",
    "llm_fields = [\n",
    "    \"llm_length_effort\", \"llm_lexical_diversity\", \"llm_questions_raised\",\n",
    "    \"llm_citation_usage\", \"llm_sentiment_polarity\", \"llm_politeness\", \"llm_hedging\",\n",
    "    \"llm_specificity\", \"llm_domain_terms\", \"llm_relevance_alignment\",\n",
    "    \"llm_readability\", \"llm_overall_quality\", \"llm_overall_score_100\"\n",
    "]\n",
    "\n",
    "# Check for missing fields and add them if not present\n",
    "for field in llm_fields:\n",
    "    if field not in df.columns:\n",
    "        df[field] = pd.NA\n",
    "\n",
    "# Pattern to extract JSON block\n",
    "pattern = re.compile(r\"<review_assessment>\\s*(\\{.*?\\})\\s*</review_assessment>\", re.DOTALL)\n",
    "\n",
    "# Define prompt template\n",
    "template = \"\"\"# REVIEW-QUALITY JUDGE\n",
    "\n",
    "## 0 — ROLE  \n",
    "You are **ReviewInspector-LLM**, a rigorous, impartial meta-reviewer.  \n",
    "Your goal is to grade the quality of a single peer-review against a rich set of predefined criteria and to provide concise, actionable feedback.\n",
    "\n",
    "## 1 — INPUTS  \n",
    "Title : {title}  \n",
    "Abstract : {abstract}  \n",
    "Review: {review_text}\n",
    "\n",
    "## 2 — EVALUATION CRITERIA  \n",
    "Return **only** the scale value or label at right (no rationale text).\n",
    "\n",
    "| # | Criterion | Allowed scale / label |\n",
    "|---|-----------|-----------------------|\n",
    "| 1 | **Length & Effort**             | integer **0-5** |\n",
    "| 2 | **Lexical Diversity (TTR)**     | integer **0-5** |\n",
    "| 3 | **Number of Questions Raised**  | non-negative **integer** |\n",
    "| 4 | **Citation Usage**              | **yes / no** |\n",
    "| 5 | **Sentiment Polarity**          | **negative / neutral / positive** |\n",
    "| 6 | **Politeness**                  | **polite / neutral / impolite** |\n",
    "| 7 | **Hedging / Uncertainty**       | **No Hedging / Minimal / Moderate / Heavy / Extreme** |\n",
    "| 8 | **Specificity**                 | **very specific / somewhat specific / neutral / broad / very broad** |\n",
    "| 9 | **Use of Domain-Specific Terms**| integer **0-5** |\n",
    "|10 | **Relevance Alignment**         | integer **0-5** |\n",
    "|11 | **Readability**                 | integer **0-5** |\n",
    "|12 | **Overall Quality**             | integer **0-100** |\n",
    "\n",
    "## 3 — SCORING GUIDELINES  \n",
    "For 0-5 scales: 5 = Outstanding, 4 = Strong, 3 = Adequate, 2 = Weak, 1 = Very weak, 0 = Absent/irrelevant.\n",
    "\n",
    "## 4 — ANALYSIS & COMPUTATION (silent)  \n",
    "1. Read and comprehend the review text.  \n",
    "2. Compute raw metrics (word count, TTR, sentiment, FK grade, counts, etc.) or otherwise quantify qualitative aspects.  \n",
    "3. Map raw metrics to the scales above.\n",
    "\n",
    "## 5 — OUTPUT FORMAT (strict)  \n",
    "Return **exactly one** JSON block wrapped in the tag below — **no comments or extra text**.\n",
    "\n",
    "```json\n",
    "<review_assessment>\n",
    "{{\n",
    "  \"paper_title\": \"{title}\",\n",
    "  \"criteria\": {{\n",
    "    \"length_effort\":       ...,\n",
    "    \"lexical_diversity\":   ...,\n",
    "    \"questions_raised\":    ...,\n",
    "    \"citation_usage\":      ...,\n",
    "    \"sentiment_polarity\":  ...,\n",
    "    \"politeness\":          ...,\n",
    "    \"hedging\":             ...,\n",
    "    \"specificity\":         ...,\n",
    "    \"domain_terms\":        ...,\n",
    "    \"relevance_alignment\": ...,\n",
    "    \"readability\":         ...,\n",
    "    \"overall_quality\":     ...\n",
    "  }},\n",
    "  \"overall_score_100\": ...\n",
    "}}\n",
    "</review_assessment>\n",
    "```\n",
    "\"\"\""
   ]
  },
  {
   "cell_type": "code",
   "execution_count": 35,
   "metadata": {},
   "outputs": [
    {
     "name": "stderr",
     "output_type": "stream",
     "text": [
      "Scoring with LLM:   0%|          | 1/28028 [00:00<1:05:30,  7.13it/s]"
     ]
    },
    {
     "name": "stdout",
     "output_type": "stream",
     "text": [
      "❌ Error at row 24, attempt 1: No JSON block found\n",
      "❌ Error at row 24, attempt 2: No JSON block found\n",
      "❌ Error at row 24, attempt 3: No JSON block found\n",
      "❌ Error at row 24, attempt 4: No JSON block found\n"
     ]
    },
    {
     "name": "stderr",
     "output_type": "stream",
     "text": [
      "Scoring with LLM:   0%|          | 25/28028 [00:06<1:55:07,  4.05it/s]"
     ]
    },
    {
     "name": "stdout",
     "output_type": "stream",
     "text": [
      "❌ Error at row 24, attempt 5: No JSON block found\n"
     ]
    },
    {
     "name": "stderr",
     "output_type": "stream",
     "text": [
      "Scoring with LLM:   0%|          | 52/28028 [00:07<1:01:50,  7.54it/s]"
     ]
    },
    {
     "name": "stdout",
     "output_type": "stream",
     "text": [
      "82\n"
     ]
    },
    {
     "name": "stderr",
     "output_type": "stream",
     "text": [
      "Scoring with LLM:   0%|          | 59/28028 [00:12<1:50:59,  4.20it/s]"
     ]
    },
    {
     "name": "stdout",
     "output_type": "stream",
     "text": [
      "82\n",
      "❌ Error at row 64, attempt 1: No JSON block found\n",
      "❌ Error at row 64, attempt 2: No JSON block found\n",
      "❌ Error at row 64, attempt 3: No JSON block found\n",
      "❌ Error at row 64, attempt 4: No JSON block found\n"
     ]
    },
    {
     "name": "stderr",
     "output_type": "stream",
     "text": [
      "Scoring with LLM:   0%|          | 65/28028 [00:18<2:56:40,  2.64it/s]"
     ]
    },
    {
     "name": "stdout",
     "output_type": "stream",
     "text": [
      "❌ Error at row 64, attempt 5: No JSON block found\n",
      "❌ Error at row 101, attempt 1: No JSON block found\n"
     ]
    },
    {
     "name": "stderr",
     "output_type": "stream",
     "text": [
      "Scoring with LLM:   0%|          | 102/28028 [00:21<1:32:15,  5.04it/s]"
     ]
    },
    {
     "name": "stdout",
     "output_type": "stream",
     "text": [
      "82\n",
      "❌ Error at row 106, attempt 1: No JSON block found\n",
      "❌ Error at row 106, attempt 2: No JSON block found\n",
      "❌ Error at row 106, attempt 3: No JSON block found\n",
      "❌ Error at row 106, attempt 4: No JSON block found\n"
     ]
    },
    {
     "name": "stderr",
     "output_type": "stream",
     "text": [
      "Scoring with LLM:   0%|          | 107/28028 [00:27<2:18:40,  3.36it/s]"
     ]
    },
    {
     "name": "stdout",
     "output_type": "stream",
     "text": [
      "❌ Error at row 106, attempt 5: No JSON block found\n",
      "❌ Error at row 109, attempt 1: No JSON block found\n",
      "❌ Error at row 109, attempt 2: No JSON block found\n"
     ]
    },
    {
     "name": "stderr",
     "output_type": "stream",
     "text": [
      "Scoring with LLM:   0%|          | 110/28028 [00:31<3:01:59,  2.56it/s]"
     ]
    },
    {
     "name": "stdout",
     "output_type": "stream",
     "text": [
      "86\n"
     ]
    },
    {
     "name": "stderr",
     "output_type": "stream",
     "text": [
      "Scoring with LLM:   0%|          | 112/28028 [00:34<3:36:21,  2.15it/s]"
     ]
    },
    {
     "name": "stdout",
     "output_type": "stream",
     "text": [
      "80\n",
      "❌ Error at row 114, attempt 1: No JSON block found\n",
      "❌ Error at row 114, attempt 2: No JSON block found\n",
      "❌ Error at row 114, attempt 3: No JSON block found\n",
      "❌ Error at row 114, attempt 4: No JSON block found\n"
     ]
    },
    {
     "name": "stderr",
     "output_type": "stream",
     "text": [
      "Scoring with LLM:   0%|          | 115/28028 [00:40<5:15:18,  1.48it/s]"
     ]
    },
    {
     "name": "stdout",
     "output_type": "stream",
     "text": [
      "❌ Error at row 114, attempt 5: No JSON block found\n",
      "❌ Error at row 124, attempt 1: No JSON block found\n"
     ]
    },
    {
     "name": "stderr",
     "output_type": "stream",
     "text": [
      "Scoring with LLM:   0%|          | 125/28028 [00:43<4:03:02,  1.91it/s]"
     ]
    },
    {
     "name": "stdout",
     "output_type": "stream",
     "text": [
      "90.0\n"
     ]
    },
    {
     "name": "stderr",
     "output_type": "stream",
     "text": [
      "Scoring with LLM:   0%|          | 128/28028 [00:47<5:08:32,  1.51it/s]"
     ]
    },
    {
     "name": "stdout",
     "output_type": "stream",
     "text": [
      "74\n",
      "❌ Error at row 131, attempt 1: No JSON block found\n",
      "❌ Error at row 131, attempt 2: No JSON block found\n"
     ]
    },
    {
     "name": "stderr",
     "output_type": "stream",
     "text": [
      "Scoring with LLM:   0%|          | 132/28028 [00:52<5:45:50,  1.34it/s]"
     ]
    },
    {
     "name": "stdout",
     "output_type": "stream",
     "text": [
      "70\n",
      "❌ Error at row 135, attempt 1: No JSON block found\n",
      "❌ Error at row 135, attempt 2: No JSON block found\n",
      "❌ Error at row 135, attempt 3: No JSON block found\n"
     ]
    },
    {
     "name": "stderr",
     "output_type": "stream",
     "text": [
      "Scoring with LLM:   0%|          | 136/28028 [00:57<6:50:55,  1.13it/s]"
     ]
    },
    {
     "name": "stdout",
     "output_type": "stream",
     "text": [
      "92\n"
     ]
    },
    {
     "name": "stderr",
     "output_type": "stream",
     "text": [
      "Scoring with LLM:   1%|          | 147/28028 [00:59<4:09:53,  1.86it/s]"
     ]
    },
    {
     "name": "stdout",
     "output_type": "stream",
     "text": [
      "75\n",
      "❌ Error at row 148, attempt 1: No JSON block found\n",
      "❌ Error at row 148, attempt 2: No JSON block found\n",
      "❌ Error at row 148, attempt 3: No JSON block found\n",
      "❌ Error at row 148, attempt 4: No JSON block found\n"
     ]
    },
    {
     "name": "stderr",
     "output_type": "stream",
     "text": [
      "Scoring with LLM:   1%|          | 149/28028 [01:05<6:33:32,  1.18it/s]"
     ]
    },
    {
     "name": "stdout",
     "output_type": "stream",
     "text": [
      "❌ Error at row 148, attempt 5: No JSON block found\n",
      "❌ Error at row 163, attempt 1: No JSON block found\n"
     ]
    },
    {
     "name": "stderr",
     "output_type": "stream",
     "text": [
      "Scoring with LLM:   1%|          | 164/28028 [01:08<3:46:17,  2.05it/s]"
     ]
    },
    {
     "name": "stdout",
     "output_type": "stream",
     "text": [
      "True\n",
      "❌ Error at row 164, attempt 1: No JSON block found\n",
      "❌ Error at row 164, attempt 2: No JSON block found\n",
      "❌ Error at row 164, attempt 3: No JSON block found\n",
      "❌ Error at row 164, attempt 4: No JSON block found\n"
     ]
    },
    {
     "name": "stderr",
     "output_type": "stream",
     "text": [
      "Scoring with LLM:   1%|          | 165/28028 [01:14<5:51:46,  1.32it/s]"
     ]
    },
    {
     "name": "stdout",
     "output_type": "stream",
     "text": [
      "❌ Error at row 164, attempt 5: No JSON block found\n",
      "❌ Error at row 165, attempt 1: Expecting value: line 17 column 24 (char 536)\n",
      "❌ Error at row 165, attempt 2: Expecting property name enclosed in double quotes: line 8 column 33 (char 244)\n"
     ]
    },
    {
     "name": "stderr",
     "output_type": "stream",
     "text": [
      "Scoring with LLM:   1%|          | 166/28028 [01:33<14:56:06,  1.93s/it]"
     ]
    },
    {
     "name": "stdout",
     "output_type": "stream",
     "text": [
      "90\n"
     ]
    },
    {
     "name": "stderr",
     "output_type": "stream",
     "text": [
      "Scoring with LLM:   1%|          | 171/28028 [01:38<12:49:24,  1.66s/it]"
     ]
    },
    {
     "name": "stdout",
     "output_type": "stream",
     "text": [
      "86\n",
      "❌ Error at row 197, attempt 1: No JSON block found\n"
     ]
    },
    {
     "name": "stderr",
     "output_type": "stream",
     "text": [
      "Scoring with LLM:   1%|          | 198/28028 [01:41<4:15:28,  1.82it/s] "
     ]
    },
    {
     "name": "stdout",
     "output_type": "stream",
     "text": [
      "72\n",
      "❌ Error at row 210, attempt 1: No JSON block found\n"
     ]
    },
    {
     "name": "stderr",
     "output_type": "stream",
     "text": [
      "Scoring with LLM:   1%|          | 211/28028 [01:44<3:26:38,  2.24it/s]"
     ]
    },
    {
     "name": "stdout",
     "output_type": "stream",
     "text": [
      "85\n"
     ]
    },
    {
     "name": "stderr",
     "output_type": "stream",
     "text": [
      "Scoring with LLM:   1%|          | 218/28028 [01:46<3:08:16,  2.46it/s]"
     ]
    },
    {
     "name": "stdout",
     "output_type": "stream",
     "text": [
      "85\n",
      "❌ Error at row 218, attempt 1: No JSON block found\n"
     ]
    },
    {
     "name": "stderr",
     "output_type": "stream",
     "text": [
      "Scoring with LLM:   1%|          | 219/28028 [01:48<3:51:11,  2.00it/s]"
     ]
    },
    {
     "name": "stdout",
     "output_type": "stream",
     "text": [
      "84\n"
     ]
    },
    {
     "name": "stderr",
     "output_type": "stream",
     "text": [
      "Scoring with LLM:   1%|          | 244/28028 [01:50<1:55:52,  4.00it/s]"
     ]
    },
    {
     "name": "stdout",
     "output_type": "stream",
     "text": [
      "82\n"
     ]
    },
    {
     "name": "stderr",
     "output_type": "stream",
     "text": [
      "Scoring with LLM:   1%|          | 245/28028 [01:54<2:40:58,  2.88it/s]"
     ]
    },
    {
     "name": "stdout",
     "output_type": "stream",
     "text": [
      "80\n",
      "❌ Error at row 247, attempt 1: No JSON block found\n"
     ]
    },
    {
     "name": "stderr",
     "output_type": "stream",
     "text": [
      "Scoring with LLM:   1%|          | 248/28028 [01:57<3:22:30,  2.29it/s]"
     ]
    },
    {
     "name": "stdout",
     "output_type": "stream",
     "text": [
      "75\n",
      "❌ Error at row 250, attempt 1: No JSON block found\n"
     ]
    },
    {
     "name": "stderr",
     "output_type": "stream",
     "text": [
      "Scoring with LLM:   1%|          | 251/28028 [02:00<4:03:09,  1.90it/s]"
     ]
    },
    {
     "name": "stdout",
     "output_type": "stream",
     "text": [
      "83\n",
      "❌ Error at row 255, attempt 1: No JSON block found\n"
     ]
    },
    {
     "name": "stderr",
     "output_type": "stream",
     "text": [
      "Scoring with LLM:   1%|          | 256/28028 [02:05<5:03:37,  1.52it/s]"
     ]
    },
    {
     "name": "stdout",
     "output_type": "stream",
     "text": [
      "True\n",
      "❌ Error at row 263, attempt 1: Expecting value: line 17 column 24 (char 497)\n",
      "❌ Error at row 263, attempt 2: No JSON block found\n",
      "❌ Error at row 263, attempt 3: No JSON block found\n",
      "❌ Error at row 263, attempt 4: No JSON block found\n"
     ]
    },
    {
     "name": "stderr",
     "output_type": "stream",
     "text": [
      "Scoring with LLM:   1%|          | 264/28028 [02:29<11:47:30,  1.53s/it]"
     ]
    },
    {
     "name": "stdout",
     "output_type": "stream",
     "text": [
      "❌ Error at row 263, attempt 5: Expecting value: line 4 column 28 (char 135)\n",
      "❌ Error at row 264, attempt 1: No JSON block found\n",
      "❌ Error at row 264, attempt 2: No JSON block found\n",
      "❌ Error at row 264, attempt 3: No JSON block found\n"
     ]
    },
    {
     "name": "stderr",
     "output_type": "stream",
     "text": [
      "Scoring with LLM:   1%|          | 265/28028 [02:34<13:34:37,  1.76s/it]"
     ]
    },
    {
     "name": "stdout",
     "output_type": "stream",
     "text": [
      "30\n",
      "❌ Error at row 267, attempt 1: No JSON block found\n"
     ]
    },
    {
     "name": "stderr",
     "output_type": "stream",
     "text": [
      "Scoring with LLM:   1%|          | 268/28028 [02:37<12:17:53,  1.59s/it]"
     ]
    },
    {
     "name": "stdout",
     "output_type": "stream",
     "text": [
      "90\n",
      "❌ Error at row 269, attempt 1: No JSON block found\n",
      "❌ Error at row 269, attempt 2: No JSON block found\n",
      "❌ Error at row 269, attempt 3: No JSON block found\n"
     ]
    },
    {
     "name": "stderr",
     "output_type": "stream",
     "text": [
      "Scoring with LLM:   1%|          | 270/28028 [02:43<13:47:39,  1.79s/it]"
     ]
    },
    {
     "name": "stdout",
     "output_type": "stream",
     "text": [
      "42\n",
      "❌ Error at row 291, attempt 1: No JSON block found\n",
      "❌ Error at row 291, attempt 2: No JSON block found\n",
      "❌ Error at row 291, attempt 3: No JSON block found\n",
      "❌ Error at row 291, attempt 4: No JSON block found\n"
     ]
    },
    {
     "name": "stderr",
     "output_type": "stream",
     "text": [
      "Scoring with LLM:   1%|          | 292/28028 [02:49<5:20:42,  1.44it/s] "
     ]
    },
    {
     "name": "stdout",
     "output_type": "stream",
     "text": [
      "❌ Error at row 291, attempt 5: No JSON block found\n",
      "❌ Error at row 296, attempt 1: No JSON block found\n"
     ]
    },
    {
     "name": "stderr",
     "output_type": "stream",
     "text": [
      "Scoring with LLM:   1%|          | 297/28028 [02:52<5:14:03,  1.47it/s]"
     ]
    },
    {
     "name": "stdout",
     "output_type": "stream",
     "text": [
      "64\n",
      "❌ Error at row 305, attempt 1: No JSON block found\n"
     ]
    },
    {
     "name": "stderr",
     "output_type": "stream",
     "text": [
      "Scoring with LLM:   1%|          | 306/28028 [02:55<4:24:04,  1.75it/s]"
     ]
    },
    {
     "name": "stdout",
     "output_type": "stream",
     "text": [
      "85\n",
      "❌ Error at row 336, attempt 1: No JSON block found\n"
     ]
    },
    {
     "name": "stderr",
     "output_type": "stream",
     "text": [
      "Scoring with LLM:   1%|          | 337/28028 [02:59<2:15:53,  3.40it/s]"
     ]
    },
    {
     "name": "stdout",
     "output_type": "stream",
     "text": [
      "80\n",
      "❌ Error at row 346, attempt 1: No JSON block found\n",
      "❌ Error at row 346, attempt 2: No JSON block found\n"
     ]
    },
    {
     "name": "stderr",
     "output_type": "stream",
     "text": [
      "Scoring with LLM:   1%|          | 347/28028 [03:03<2:26:38,  3.15it/s]"
     ]
    },
    {
     "name": "stdout",
     "output_type": "stream",
     "text": [
      "84\n",
      "❌ Error at row 351, attempt 1: No JSON block found\n",
      "❌ Error at row 351, attempt 2: No JSON block found\n",
      "❌ Error at row 351, attempt 3: No JSON block found\n",
      "❌ Error at row 351, attempt 4: No JSON block found\n"
     ]
    },
    {
     "name": "stderr",
     "output_type": "stream",
     "text": [
      "Scoring with LLM:   1%|▏         | 352/28028 [03:09<3:25:09,  2.25it/s]"
     ]
    },
    {
     "name": "stdout",
     "output_type": "stream",
     "text": [
      "❌ Error at row 351, attempt 5: No JSON block found\n",
      "❌ Error at row 353, attempt 1: No JSON block found\n",
      "❌ Error at row 353, attempt 2: No JSON block found\n"
     ]
    },
    {
     "name": "stderr",
     "output_type": "stream",
     "text": [
      "Scoring with LLM:   1%|▏         | 354/28028 [03:13<4:16:46,  1.80it/s]"
     ]
    },
    {
     "name": "stdout",
     "output_type": "stream",
     "text": [
      "80\n",
      "❌ Error at row 354, attempt 1: No JSON block found\n",
      "❌ Error at row 354, attempt 2: No JSON block found\n",
      "❌ Error at row 354, attempt 3: No JSON block found\n",
      "❌ Error at row 354, attempt 4: No JSON block found\n"
     ]
    },
    {
     "name": "stderr",
     "output_type": "stream",
     "text": [
      "Scoring with LLM:   1%|▏         | 355/28028 [03:19<6:17:54,  1.22it/s]"
     ]
    },
    {
     "name": "stdout",
     "output_type": "stream",
     "text": [
      "❌ Error at row 354, attempt 5: No JSON block found\n",
      "❌ Error at row 355, attempt 1: No JSON block found\n",
      "❌ Error at row 355, attempt 2: No JSON block found\n"
     ]
    },
    {
     "name": "stderr",
     "output_type": "stream",
     "text": [
      "Scoring with LLM:   1%|▏         | 356/28028 [03:23<8:04:53,  1.05s/it]"
     ]
    },
    {
     "name": "stdout",
     "output_type": "stream",
     "text": [
      "92\n",
      "❌ Error at row 356, attempt 1: No JSON block found\n",
      "❌ Error at row 356, attempt 2: No JSON block found\n"
     ]
    },
    {
     "name": "stderr",
     "output_type": "stream",
     "text": [
      "Scoring with LLM:   1%|▏         | 357/28028 [03:27<10:02:44,  1.31s/it]"
     ]
    },
    {
     "name": "stdout",
     "output_type": "stream",
     "text": [
      "86\n"
     ]
    },
    {
     "name": "stderr",
     "output_type": "stream",
     "text": [
      "Scoring with LLM:   1%|▏         | 358/28028 [03:31<12:05:48,  1.57s/it]"
     ]
    },
    {
     "name": "stdout",
     "output_type": "stream",
     "text": [
      "93\n",
      "❌ Error at row 364, attempt 1: No JSON block found\n"
     ]
    },
    {
     "name": "stderr",
     "output_type": "stream",
     "text": [
      "Scoring with LLM:   1%|▏         | 365/28028 [03:34<7:23:17,  1.04it/s] "
     ]
    },
    {
     "name": "stdout",
     "output_type": "stream",
     "text": [
      "72\n"
     ]
    },
    {
     "name": "stderr",
     "output_type": "stream",
     "text": [
      "Scoring with LLM:   1%|▏         | 384/28028 [03:35<2:52:32,  2.67it/s]"
     ]
    },
    {
     "name": "stdout",
     "output_type": "stream",
     "text": [
      "80\n",
      "❌ Error at row 384, attempt 1: No JSON block found\n"
     ]
    },
    {
     "name": "stderr",
     "output_type": "stream",
     "text": [
      "Scoring with LLM:   1%|▏         | 385/28028 [03:38<3:47:45,  2.02it/s]"
     ]
    },
    {
     "name": "stdout",
     "output_type": "stream",
     "text": [
      "70\n"
     ]
    },
    {
     "name": "stderr",
     "output_type": "stream",
     "text": [
      "Scoring with LLM:   1%|▏         | 398/28028 [03:43<3:19:02,  2.31it/s]"
     ]
    },
    {
     "name": "stdout",
     "output_type": "stream",
     "text": [
      "42\n",
      "❌ Error at row 419, attempt 1: No JSON block found\n",
      "❌ Error at row 419, attempt 2: No JSON block found\n",
      "❌ Error at row 419, attempt 3: No JSON block found\n",
      "❌ Error at row 419, attempt 4: No JSON block found\n"
     ]
    },
    {
     "name": "stderr",
     "output_type": "stream",
     "text": [
      "Scoring with LLM:   1%|▏         | 420/28028 [03:49<2:43:21,  2.82it/s]"
     ]
    },
    {
     "name": "stdout",
     "output_type": "stream",
     "text": [
      "❌ Error at row 419, attempt 5: No JSON block found\n",
      "❌ Error at row 420, attempt 1: No JSON block found\n",
      "❌ Error at row 420, attempt 2: No JSON block found\n",
      "❌ Error at row 420, attempt 3: No JSON block found\n",
      "❌ Error at row 420, attempt 4: No JSON block found\n"
     ]
    },
    {
     "name": "stderr",
     "output_type": "stream",
     "text": [
      "Scoring with LLM:   2%|▏         | 421/28028 [03:55<4:11:43,  1.83it/s]"
     ]
    },
    {
     "name": "stdout",
     "output_type": "stream",
     "text": [
      "❌ Error at row 420, attempt 5: No JSON block found\n"
     ]
    },
    {
     "name": "stderr",
     "output_type": "stream",
     "text": [
      "Scoring with LLM:   2%|▏         | 423/28028 [04:00<5:24:01,  1.42it/s]"
     ]
    },
    {
     "name": "stdout",
     "output_type": "stream",
     "text": [
      "74\n"
     ]
    },
    {
     "name": "stderr",
     "output_type": "stream",
     "text": [
      "Scoring with LLM:   2%|▏         | 425/28028 [04:03<5:52:26,  1.31it/s]"
     ]
    },
    {
     "name": "stdout",
     "output_type": "stream",
     "text": [
      "60\n",
      "❌ Error at row 428, attempt 1: No JSON block found\n",
      "❌ Error at row 428, attempt 2: No JSON block found\n",
      "❌ Error at row 428, attempt 3: No JSON block found\n"
     ]
    },
    {
     "name": "stderr",
     "output_type": "stream",
     "text": [
      "Scoring with LLM:   2%|▏         | 429/28028 [04:10<7:50:08,  1.02s/it]"
     ]
    },
    {
     "name": "stdout",
     "output_type": "stream",
     "text": [
      "False\n"
     ]
    },
    {
     "name": "stderr",
     "output_type": "stream",
     "text": [
      "Scoring with LLM:   2%|▏         | 435/28028 [04:12<5:56:15,  1.29it/s]"
     ]
    },
    {
     "name": "stdout",
     "output_type": "stream",
     "text": [
      "90\n",
      "❌ Error at row 438, attempt 1: No JSON block found\n",
      "❌ Error at row 438, attempt 2: No JSON block found\n"
     ]
    },
    {
     "name": "stderr",
     "output_type": "stream",
     "text": [
      "Scoring with LLM:   2%|▏         | 439/28028 [04:16<6:33:01,  1.17it/s]"
     ]
    },
    {
     "name": "stdout",
     "output_type": "stream",
     "text": [
      "90\n",
      "❌ Error at row 453, attempt 1: No JSON block found\n",
      "❌ Error at row 453, attempt 2: No JSON block found\n"
     ]
    },
    {
     "name": "stderr",
     "output_type": "stream",
     "text": [
      "Scoring with LLM:   2%|▏         | 454/28028 [04:25<5:29:21,  1.40it/s]"
     ]
    },
    {
     "name": "stdout",
     "output_type": "stream",
     "text": [
      "True\n"
     ]
    },
    {
     "name": "stderr",
     "output_type": "stream",
     "text": [
      "Scoring with LLM:   2%|▏         | 455/28028 [04:28<6:17:47,  1.22it/s]"
     ]
    },
    {
     "name": "stdout",
     "output_type": "stream",
     "text": [
      "85\n",
      "❌ Error at row 455, attempt 1: No JSON block found\n",
      "❌ Error at row 455, attempt 2: No JSON block found\n",
      "❌ Error at row 455, attempt 3: No JSON block found\n"
     ]
    },
    {
     "name": "stderr",
     "output_type": "stream",
     "text": [
      "Scoring with LLM:   2%|▏         | 456/28028 [04:34<8:48:05,  1.15s/it]"
     ]
    },
    {
     "name": "stdout",
     "output_type": "stream",
     "text": [
      "70\n"
     ]
    },
    {
     "name": "stderr",
     "output_type": "stream",
     "text": [
      "Scoring with LLM:   2%|▏         | 459/28028 [04:36<7:50:22,  1.02s/it]"
     ]
    },
    {
     "name": "stdout",
     "output_type": "stream",
     "text": [
      "72\n"
     ]
    },
    {
     "name": "stderr",
     "output_type": "stream",
     "text": [
      "Scoring with LLM:   2%|▏         | 470/28028 [04:38<4:20:59,  1.76it/s]"
     ]
    },
    {
     "name": "stdout",
     "output_type": "stream",
     "text": [
      "92\n",
      "❌ Error at row 477, attempt 1: No JSON block found\n",
      "❌ Error at row 477, attempt 2: No JSON block found\n",
      "❌ Error at row 477, attempt 3: No JSON block found\n",
      "❌ Error at row 477, attempt 4: No JSON block found\n"
     ]
    },
    {
     "name": "stderr",
     "output_type": "stream",
     "text": [
      "Scoring with LLM:   2%|▏         | 478/28028 [04:44<4:57:53,  1.54it/s]"
     ]
    },
    {
     "name": "stdout",
     "output_type": "stream",
     "text": [
      "❌ Error at row 477, attempt 5: No JSON block found\n",
      "❌ Error at row 478, attempt 1: No JSON block found\n",
      "❌ Error at row 478, attempt 2: No JSON block found\n",
      "❌ Error at row 478, attempt 3: Expecting value: line 7 column 28 (char 253)\n",
      "❌ Error at row 478, attempt 4: No JSON block found\n"
     ]
    },
    {
     "name": "stderr",
     "output_type": "stream",
     "text": [
      "Scoring with LLM:   2%|▏         | 479/28028 [04:59<11:50:23,  1.55s/it]"
     ]
    },
    {
     "name": "stdout",
     "output_type": "stream",
     "text": [
      "89\n",
      "❌ Error at row 488, attempt 1: No JSON block found\n",
      "❌ Error at row 488, attempt 2: No JSON block found\n",
      "❌ Error at row 488, attempt 3: No JSON block found\n",
      "❌ Error at row 488, attempt 4: No JSON block found\n"
     ]
    },
    {
     "name": "stderr",
     "output_type": "stream",
     "text": [
      "Scoring with LLM:   2%|▏         | 489/28028 [05:06<8:43:42,  1.14s/it] "
     ]
    },
    {
     "name": "stdout",
     "output_type": "stream",
     "text": [
      "❌ Error at row 488, attempt 5: No JSON block found\n"
     ]
    },
    {
     "name": "stderr",
     "output_type": "stream",
     "text": [
      "Scoring with LLM:   2%|▏         | 491/28028 [05:08<8:31:14,  1.11s/it]"
     ]
    },
    {
     "name": "stdout",
     "output_type": "stream",
     "text": [
      "84\n"
     ]
    },
    {
     "name": "stderr",
     "output_type": "stream",
     "text": [
      "Scoring with LLM:   2%|▏         | 501/28028 [05:11<5:43:34,  1.34it/s]"
     ]
    },
    {
     "name": "stdout",
     "output_type": "stream",
     "text": [
      "70\n"
     ]
    },
    {
     "name": "stderr",
     "output_type": "stream",
     "text": [
      "Scoring with LLM:   2%|▏         | 502/28028 [05:13<6:19:54,  1.21it/s]"
     ]
    },
    {
     "name": "stdout",
     "output_type": "stream",
     "text": [
      "80\n",
      "❌ Error at row 502, attempt 1: No JSON block found\n",
      "❌ Error at row 502, attempt 2: No JSON block found\n",
      "❌ Error at row 502, attempt 3: No JSON block found\n",
      "❌ Error at row 502, attempt 4: No JSON block found\n"
     ]
    },
    {
     "name": "stderr",
     "output_type": "stream",
     "text": [
      "Scoring with LLM:   2%|▏         | 503/28028 [05:19<9:37:27,  1.26s/it]"
     ]
    },
    {
     "name": "stdout",
     "output_type": "stream",
     "text": [
      "❌ Error at row 502, attempt 5: No JSON block found\n"
     ]
    },
    {
     "name": "stderr",
     "output_type": "stream",
     "text": [
      "Scoring with LLM:   2%|▏         | 504/28028 [05:24<12:31:49,  1.64s/it]"
     ]
    },
    {
     "name": "stdout",
     "output_type": "stream",
     "text": [
      "90\n",
      "❌ Error at row 504, attempt 1: No JSON block found\n"
     ]
    },
    {
     "name": "stderr",
     "output_type": "stream",
     "text": [
      "Scoring with LLM:   2%|▏         | 505/28028 [05:27<13:51:19,  1.81s/it]"
     ]
    },
    {
     "name": "stdout",
     "output_type": "stream",
     "text": [
      "92\n",
      "❌ Error at row 505, attempt 1: No JSON block found\n"
     ]
    },
    {
     "name": "stderr",
     "output_type": "stream",
     "text": [
      "Scoring with LLM:   2%|▏         | 506/28028 [05:30<15:02:06,  1.97s/it]"
     ]
    },
    {
     "name": "stdout",
     "output_type": "stream",
     "text": [
      "92\n",
      "❌ Error at row 506, attempt 1: No JSON block found\n"
     ]
    },
    {
     "name": "stderr",
     "output_type": "stream",
     "text": [
      "Scoring with LLM:   2%|▏         | 507/28028 [05:33<16:14:19,  2.12s/it]"
     ]
    },
    {
     "name": "stdout",
     "output_type": "stream",
     "text": [
      "72\n"
     ]
    },
    {
     "name": "stderr",
     "output_type": "stream",
     "text": [
      "Scoring with LLM:   2%|▏         | 508/28028 [05:36<17:58:56,  2.35s/it]"
     ]
    },
    {
     "name": "stdout",
     "output_type": "stream",
     "text": [
      "72\n"
     ]
    },
    {
     "name": "stderr",
     "output_type": "stream",
     "text": [
      "Scoring with LLM:   2%|▏         | 509/28028 [05:38<17:11:33,  2.25s/it]"
     ]
    },
    {
     "name": "stdout",
     "output_type": "stream",
     "text": [
      "83\n"
     ]
    },
    {
     "name": "stderr",
     "output_type": "stream",
     "text": [
      "Scoring with LLM:   2%|▏         | 510/28028 [05:40<16:18:36,  2.13s/it]"
     ]
    },
    {
     "name": "stdout",
     "output_type": "stream",
     "text": [
      "80\n"
     ]
    },
    {
     "name": "stderr",
     "output_type": "stream",
     "text": [
      "Scoring with LLM:   2%|▏         | 511/28028 [05:42<15:29:04,  2.03s/it]"
     ]
    },
    {
     "name": "stdout",
     "output_type": "stream",
     "text": [
      "83\n",
      "❌ Error at row 511, attempt 1: No JSON block found\n",
      "❌ Error at row 511, attempt 2: No JSON block found\n"
     ]
    },
    {
     "name": "stderr",
     "output_type": "stream",
     "text": [
      "Scoring with LLM:   2%|▏         | 512/28028 [05:46<20:23:47,  2.67s/it]"
     ]
    },
    {
     "name": "stdout",
     "output_type": "stream",
     "text": [
      "74\n"
     ]
    },
    {
     "name": "stderr",
     "output_type": "stream",
     "text": [
      "Scoring with LLM:   2%|▏         | 513/28028 [05:48<18:18:19,  2.40s/it]"
     ]
    },
    {
     "name": "stdout",
     "output_type": "stream",
     "text": [
      "True\n"
     ]
    },
    {
     "name": "stderr",
     "output_type": "stream",
     "text": [
      "Scoring with LLM:   2%|▏         | 514/28028 [05:50<17:21:48,  2.27s/it]"
     ]
    },
    {
     "name": "stdout",
     "output_type": "stream",
     "text": [
      "72\n",
      "❌ Error at row 514, attempt 1: No JSON block found\n",
      "❌ Error at row 514, attempt 2: No JSON block found\n",
      "❌ Error at row 514, attempt 3: No JSON block found\n",
      "❌ Error at row 514, attempt 4: No JSON block found\n"
     ]
    },
    {
     "name": "stderr",
     "output_type": "stream",
     "text": [
      "Scoring with LLM:   2%|▏         | 515/28028 [05:56<26:07:26,  3.42s/it]"
     ]
    },
    {
     "name": "stdout",
     "output_type": "stream",
     "text": [
      "70\n",
      "❌ Error at row 515, attempt 1: No JSON block found\n"
     ]
    },
    {
     "name": "stderr",
     "output_type": "stream",
     "text": [
      "Scoring with LLM:   2%|▏         | 516/28028 [06:01<30:09:20,  3.95s/it]"
     ]
    },
    {
     "name": "stdout",
     "output_type": "stream",
     "text": [
      "78\n",
      "❌ Error at row 516, attempt 1: No JSON block found\n",
      "❌ Error at row 516, attempt 2: No JSON block found\n",
      "❌ Error at row 516, attempt 3: No JSON block found\n"
     ]
    },
    {
     "name": "stderr",
     "output_type": "stream",
     "text": [
      "Scoring with LLM:   2%|▏         | 517/28028 [06:06<32:44:54,  4.29s/it]"
     ]
    },
    {
     "name": "stdout",
     "output_type": "stream",
     "text": [
      "90\n"
     ]
    },
    {
     "name": "stderr",
     "output_type": "stream",
     "text": [
      "Scoring with LLM:   2%|▏         | 518/28028 [06:08<27:32:22,  3.60s/it]"
     ]
    },
    {
     "name": "stdout",
     "output_type": "stream",
     "text": [
      "72\n",
      "❌ Error at row 518, attempt 1: No JSON block found\n",
      "❌ Error at row 518, attempt 2: No JSON block found\n",
      "❌ Error at row 518, attempt 3: Expecting property name enclosed in double quotes: line 8 column 33 (char 248)\n",
      "❌ Error at row 518, attempt 4: No JSON block found\n"
     ]
    },
    {
     "name": "stderr",
     "output_type": "stream",
     "text": [
      "Scoring with LLM:   2%|▏         | 519/28028 [06:15<35:26:29,  4.64s/it]"
     ]
    },
    {
     "name": "stdout",
     "output_type": "stream",
     "text": [
      "❌ Error at row 518, attempt 5: No JSON block found\n"
     ]
    },
    {
     "name": "stderr",
     "output_type": "stream",
     "text": [
      "Scoring with LLM:   2%|▏         | 520/28028 [06:17<29:11:32,  3.82s/it]"
     ]
    },
    {
     "name": "stdout",
     "output_type": "stream",
     "text": [
      "80\n",
      "❌ Error at row 520, attempt 1: No JSON block found\n"
     ]
    },
    {
     "name": "stderr",
     "output_type": "stream",
     "text": [
      "Scoring with LLM:   2%|▏         | 521/28028 [06:20<26:47:16,  3.51s/it]"
     ]
    },
    {
     "name": "stdout",
     "output_type": "stream",
     "text": [
      "82\n"
     ]
    },
    {
     "name": "stderr",
     "output_type": "stream",
     "text": [
      "Scoring with LLM:   2%|▏         | 522/28028 [06:24<29:00:35,  3.80s/it]"
     ]
    },
    {
     "name": "stdout",
     "output_type": "stream",
     "text": [
      "True\n",
      "❌ Error at row 522, attempt 1: No JSON block found\n",
      "❌ Error at row 522, attempt 2: No JSON block found\n",
      "❌ Error at row 522, attempt 3: No JSON block found\n"
     ]
    },
    {
     "name": "stderr",
     "output_type": "stream",
     "text": [
      "Scoring with LLM:   2%|▏         | 523/28028 [06:30<33:18:58,  4.36s/it]"
     ]
    },
    {
     "name": "stdout",
     "output_type": "stream",
     "text": [
      "87\n",
      "❌ Error at row 523, attempt 1: No JSON block found\n",
      "❌ Error at row 523, attempt 2: No JSON block found\n"
     ]
    },
    {
     "name": "stderr",
     "output_type": "stream",
     "text": [
      "Scoring with LLM:   2%|▏         | 524/28028 [06:34<32:45:40,  4.29s/it]"
     ]
    },
    {
     "name": "stdout",
     "output_type": "stream",
     "text": [
      "84\n"
     ]
    },
    {
     "name": "stderr",
     "output_type": "stream",
     "text": [
      "Scoring with LLM:   2%|▏         | 525/28028 [06:36<26:45:44,  3.50s/it]"
     ]
    },
    {
     "name": "stdout",
     "output_type": "stream",
     "text": [
      "90\n"
     ]
    },
    {
     "name": "stderr",
     "output_type": "stream",
     "text": [
      "Scoring with LLM:   2%|▏         | 526/28028 [06:37<22:34:41,  2.96s/it]"
     ]
    },
    {
     "name": "stdout",
     "output_type": "stream",
     "text": [
      "85\n"
     ]
    },
    {
     "name": "stderr",
     "output_type": "stream",
     "text": [
      "Scoring with LLM:   2%|▏         | 527/28028 [06:39<19:47:41,  2.59s/it]"
     ]
    },
    {
     "name": "stdout",
     "output_type": "stream",
     "text": [
      "88\n"
     ]
    },
    {
     "name": "stderr",
     "output_type": "stream",
     "text": [
      "Scoring with LLM:   2%|▏         | 528/28028 [06:41<17:33:25,  2.30s/it]"
     ]
    },
    {
     "name": "stdout",
     "output_type": "stream",
     "text": [
      "83\n",
      "❌ Error at row 528, attempt 1: No JSON block found\n",
      "❌ Error at row 528, attempt 2: No JSON block found\n",
      "❌ Error at row 528, attempt 3: No JSON block found\n",
      "❌ Error at row 528, attempt 4: No JSON block found\n"
     ]
    },
    {
     "name": "stderr",
     "output_type": "stream",
     "text": [
      "Scoring with LLM:   2%|▏         | 529/28028 [06:47<26:26:27,  3.46s/it]"
     ]
    },
    {
     "name": "stdout",
     "output_type": "stream",
     "text": [
      "❌ Error at row 528, attempt 5: No JSON block found\n"
     ]
    },
    {
     "name": "stderr",
     "output_type": "stream",
     "text": [
      "Scoring with LLM:   2%|▏         | 530/28028 [06:49<22:37:54,  2.96s/it]"
     ]
    },
    {
     "name": "stdout",
     "output_type": "stream",
     "text": [
      "50\n",
      "❌ Error at row 530, attempt 1: No JSON block found\n",
      "❌ Error at row 530, attempt 2: Expecting value: line 17 column 24 (char 556)\n"
     ]
    },
    {
     "name": "stderr",
     "output_type": "stream",
     "text": [
      "Scoring with LLM:   2%|▏         | 531/28028 [07:09<63:00:58,  8.25s/it]"
     ]
    },
    {
     "name": "stdout",
     "output_type": "stream",
     "text": [
      "77\n",
      "❌ Error at row 531, attempt 1: No JSON block found\n"
     ]
    },
    {
     "name": "stderr",
     "output_type": "stream",
     "text": [
      "Scoring with LLM:   2%|▏         | 532/28028 [07:12<50:23:34,  6.60s/it]"
     ]
    },
    {
     "name": "stdout",
     "output_type": "stream",
     "text": [
      "65\n"
     ]
    },
    {
     "name": "stderr",
     "output_type": "stream",
     "text": [
      "Scoring with LLM:   2%|▏         | 533/28028 [07:16<44:02:15,  5.77s/it]"
     ]
    },
    {
     "name": "stdout",
     "output_type": "stream",
     "text": [
      "67\n"
     ]
    },
    {
     "name": "stderr",
     "output_type": "stream",
     "text": [
      "Scoring with LLM:   2%|▏         | 534/28028 [07:18<35:38:53,  4.67s/it]"
     ]
    },
    {
     "name": "stdout",
     "output_type": "stream",
     "text": [
      "True\n"
     ]
    },
    {
     "name": "stderr",
     "output_type": "stream",
     "text": [
      "Scoring with LLM:   2%|▏         | 535/28028 [07:20<28:57:46,  3.79s/it]"
     ]
    },
    {
     "name": "stdout",
     "output_type": "stream",
     "text": [
      "92\n"
     ]
    },
    {
     "name": "stderr",
     "output_type": "stream",
     "text": [
      "Scoring with LLM:   2%|▏         | 536/28028 [07:22<24:08:05,  3.16s/it]"
     ]
    },
    {
     "name": "stdout",
     "output_type": "stream",
     "text": [
      "True\n"
     ]
    },
    {
     "name": "stderr",
     "output_type": "stream",
     "text": [
      "Scoring with LLM:   2%|▏         | 537/28028 [07:23<21:22:23,  2.80s/it]"
     ]
    },
    {
     "name": "stdout",
     "output_type": "stream",
     "text": [
      "83\n",
      "❌ Error at row 537, attempt 1: No JSON block found\n",
      "❌ Error at row 537, attempt 2: No JSON block found\n"
     ]
    },
    {
     "name": "stderr",
     "output_type": "stream",
     "text": [
      "Scoring with LLM:   2%|▏         | 538/28028 [07:27<24:03:45,  3.15s/it]"
     ]
    },
    {
     "name": "stdout",
     "output_type": "stream",
     "text": [
      "76\n",
      "❌ Error at row 538, attempt 1: No JSON block found\n",
      "❌ Error at row 538, attempt 2: No JSON block found\n",
      "❌ Error at row 538, attempt 3: No JSON block found\n",
      "❌ Error at row 538, attempt 4: No JSON block found\n"
     ]
    },
    {
     "name": "stderr",
     "output_type": "stream",
     "text": [
      "Scoring with LLM:   2%|▏         | 539/28028 [07:34<32:14:39,  4.22s/it]"
     ]
    },
    {
     "name": "stdout",
     "output_type": "stream",
     "text": [
      "82\n",
      "❌ Error at row 539, attempt 1: No JSON block found\n",
      "❌ Error at row 539, attempt 2: No JSON block found\n",
      "❌ Error at row 539, attempt 3: No JSON block found\n",
      "❌ Error at row 539, attempt 4: No JSON block found\n"
     ]
    },
    {
     "name": "stderr",
     "output_type": "stream",
     "text": [
      "Scoring with LLM:   2%|▏         | 540/28028 [07:40<36:35:31,  4.79s/it]"
     ]
    },
    {
     "name": "stdout",
     "output_type": "stream",
     "text": [
      "❌ Error at row 539, attempt 5: No JSON block found\n"
     ]
    },
    {
     "name": "stderr",
     "output_type": "stream",
     "text": [
      "Scoring with LLM:   2%|▏         | 541/28028 [07:42<29:21:32,  3.85s/it]"
     ]
    },
    {
     "name": "stdout",
     "output_type": "stream",
     "text": [
      "83\n",
      "❌ Error at row 541, attempt 1: No JSON block found\n"
     ]
    },
    {
     "name": "stderr",
     "output_type": "stream",
     "text": [
      "Scoring with LLM:   2%|▏         | 542/28028 [07:45<27:41:00,  3.63s/it]"
     ]
    },
    {
     "name": "stdout",
     "output_type": "stream",
     "text": [
      "85\n",
      "❌ Error at row 542, attempt 1: No JSON block found\n",
      "❌ Error at row 542, attempt 2: No JSON block found\n"
     ]
    },
    {
     "name": "stderr",
     "output_type": "stream",
     "text": [
      "Scoring with LLM:   2%|▏         | 543/28028 [07:52<36:18:22,  4.76s/it]"
     ]
    },
    {
     "name": "stdout",
     "output_type": "stream",
     "text": [
      "84\n"
     ]
    },
    {
     "name": "stderr",
     "output_type": "stream",
     "text": [
      "Scoring with LLM:   2%|▏         | 544/28028 [07:54<29:31:27,  3.87s/it]"
     ]
    },
    {
     "name": "stdout",
     "output_type": "stream",
     "text": [
      "82\n"
     ]
    },
    {
     "name": "stderr",
     "output_type": "stream",
     "text": [
      "Scoring with LLM:   2%|▏         | 545/28028 [07:56<24:48:19,  3.25s/it]"
     ]
    },
    {
     "name": "stdout",
     "output_type": "stream",
     "text": [
      "84\n",
      "❌ Error at row 545, attempt 1: No JSON block found\n"
     ]
    },
    {
     "name": "stderr",
     "output_type": "stream",
     "text": [
      "Scoring with LLM:   2%|▏         | 546/28028 [07:59<23:39:36,  3.10s/it]"
     ]
    },
    {
     "name": "stdout",
     "output_type": "stream",
     "text": [
      "73\n",
      "❌ Error at row 546, attempt 1: No JSON block found\n",
      "❌ Error at row 546, attempt 2: No JSON block found\n",
      "❌ Error at row 546, attempt 3: No JSON block found\n",
      "❌ Error at row 546, attempt 4: No JSON block found\n"
     ]
    },
    {
     "name": "stderr",
     "output_type": "stream",
     "text": [
      "Scoring with LLM:   2%|▏         | 547/28028 [08:05<30:56:58,  4.05s/it]"
     ]
    },
    {
     "name": "stdout",
     "output_type": "stream",
     "text": [
      "❌ Error at row 546, attempt 5: No JSON block found\n",
      "❌ Error at row 547, attempt 1: No JSON block found\n",
      "❌ Error at row 547, attempt 2: No JSON block found\n"
     ]
    },
    {
     "name": "stderr",
     "output_type": "stream",
     "text": [
      "Scoring with LLM:   2%|▏         | 548/28028 [08:09<30:38:10,  4.01s/it]"
     ]
    },
    {
     "name": "stdout",
     "output_type": "stream",
     "text": [
      "92\n"
     ]
    },
    {
     "name": "stderr",
     "output_type": "stream",
     "text": [
      "Scoring with LLM:   2%|▏         | 549/28028 [08:14<33:33:15,  4.40s/it]"
     ]
    },
    {
     "name": "stdout",
     "output_type": "stream",
     "text": [
      "80\n",
      "❌ Error at row 549, attempt 1: No JSON block found\n"
     ]
    },
    {
     "name": "stderr",
     "output_type": "stream",
     "text": [
      "Scoring with LLM:   2%|▏         | 550/28028 [08:17<30:05:15,  3.94s/it]"
     ]
    },
    {
     "name": "stdout",
     "output_type": "stream",
     "text": [
      "92\n",
      "❌ Error at row 550, attempt 1: No JSON block found\n",
      "❌ Error at row 550, attempt 2: No JSON block found\n",
      "❌ Error at row 550, attempt 3: No JSON block found\n"
     ]
    },
    {
     "name": "stderr",
     "output_type": "stream",
     "text": [
      "Scoring with LLM:   2%|▏         | 551/28028 [08:24<37:01:09,  4.85s/it]"
     ]
    },
    {
     "name": "stdout",
     "output_type": "stream",
     "text": [
      "85\n"
     ]
    },
    {
     "name": "stderr",
     "output_type": "stream",
     "text": [
      "Scoring with LLM:   2%|▏         | 552/28028 [08:26<29:44:16,  3.90s/it]"
     ]
    },
    {
     "name": "stdout",
     "output_type": "stream",
     "text": [
      "83.33333333333333\n"
     ]
    },
    {
     "name": "stderr",
     "output_type": "stream",
     "text": [
      "Scoring with LLM:   2%|▏         | 553/28028 [08:27<24:24:20,  3.20s/it]"
     ]
    },
    {
     "name": "stdout",
     "output_type": "stream",
     "text": [
      "80\n"
     ]
    },
    {
     "name": "stderr",
     "output_type": "stream",
     "text": [
      "Scoring with LLM:   2%|▏         | 554/28028 [08:29<20:39:58,  2.71s/it]"
     ]
    },
    {
     "name": "stdout",
     "output_type": "stream",
     "text": [
      "78\n"
     ]
    },
    {
     "name": "stderr",
     "output_type": "stream",
     "text": [
      "Scoring with LLM:   2%|▏         | 555/28028 [08:31<18:13:10,  2.39s/it]"
     ]
    },
    {
     "name": "stdout",
     "output_type": "stream",
     "text": [
      "82\n",
      "❌ Error at row 555, attempt 1: No JSON block found\n"
     ]
    },
    {
     "name": "stderr",
     "output_type": "stream",
     "text": [
      "Scoring with LLM:   2%|▏         | 556/28028 [08:33<19:23:51,  2.54s/it]"
     ]
    },
    {
     "name": "stdout",
     "output_type": "stream",
     "text": [
      "92\n",
      "❌ Error at row 556, attempt 1: No JSON block found\n",
      "❌ Error at row 556, attempt 2: No JSON block found\n",
      "❌ Error at row 556, attempt 3: No JSON block found\n",
      "❌ Error at row 556, attempt 4: No JSON block found\n"
     ]
    },
    {
     "name": "stderr",
     "output_type": "stream",
     "text": [
      "Scoring with LLM:   2%|▏         | 557/28028 [08:40<27:46:49,  3.64s/it]"
     ]
    },
    {
     "name": "stdout",
     "output_type": "stream",
     "text": [
      "❌ Error at row 556, attempt 5: No JSON block found\n"
     ]
    },
    {
     "name": "stderr",
     "output_type": "stream",
     "text": [
      "Scoring with LLM:   2%|▏         | 558/28028 [08:42<23:57:03,  3.14s/it]"
     ]
    },
    {
     "name": "stdout",
     "output_type": "stream",
     "text": [
      "83\n",
      "❌ Error at row 558, attempt 1: No JSON block found\n",
      "❌ Error at row 558, attempt 2: No JSON block found\n",
      "❌ Error at row 558, attempt 3: No JSON block found\n",
      "❌ Error at row 558, attempt 4: No JSON block found\n"
     ]
    },
    {
     "name": "stderr",
     "output_type": "stream",
     "text": [
      "Scoring with LLM:   2%|▏         | 559/28028 [08:48<30:45:00,  4.03s/it]"
     ]
    },
    {
     "name": "stdout",
     "output_type": "stream",
     "text": [
      "❌ Error at row 558, attempt 5: No JSON block found\n",
      "❌ Error at row 559, attempt 1: No JSON block found\n",
      "❌ Error at row 559, attempt 2: No JSON block found\n"
     ]
    },
    {
     "name": "stderr",
     "output_type": "stream",
     "text": [
      "Scoring with LLM:   2%|▏         | 560/28028 [08:52<31:04:12,  4.07s/it]"
     ]
    },
    {
     "name": "stdout",
     "output_type": "stream",
     "text": [
      "84\n"
     ]
    },
    {
     "name": "stderr",
     "output_type": "stream",
     "text": [
      "Scoring with LLM:   2%|▏         | 561/28028 [08:54<27:30:55,  3.61s/it]"
     ]
    },
    {
     "name": "stdout",
     "output_type": "stream",
     "text": [
      "92.0\n",
      "❌ Error at row 561, attempt 1: No JSON block found\n"
     ]
    },
    {
     "name": "stderr",
     "output_type": "stream",
     "text": [
      "Scoring with LLM:   2%|▏         | 562/28028 [08:58<26:29:18,  3.47s/it]"
     ]
    },
    {
     "name": "stdout",
     "output_type": "stream",
     "text": [
      "92\n",
      "❌ Error at row 562, attempt 1: No JSON block found\n",
      "❌ Error at row 562, attempt 2: No JSON block found\n",
      "❌ Error at row 562, attempt 3: No JSON block found\n",
      "❌ Error at row 562, attempt 4: No JSON block found\n"
     ]
    },
    {
     "name": "stderr",
     "output_type": "stream",
     "text": [
      "Scoring with LLM:   2%|▏         | 563/28028 [09:04<33:44:10,  4.42s/it]"
     ]
    },
    {
     "name": "stdout",
     "output_type": "stream",
     "text": [
      "❌ Error at row 562, attempt 5: No JSON block found\n",
      "❌ Error at row 563, attempt 1: No JSON block found\n",
      "❌ Error at row 563, attempt 2: No JSON block found\n",
      "❌ Error at row 563, attempt 3: No JSON block found\n"
     ]
    },
    {
     "name": "stderr",
     "output_type": "stream",
     "text": [
      "Scoring with LLM:   2%|▏         | 564/28028 [09:10<36:17:16,  4.76s/it]"
     ]
    },
    {
     "name": "stdout",
     "output_type": "stream",
     "text": [
      "87\n",
      "❌ Error at row 564, attempt 1: Expecting value: line 7 column 28 (char 238)\n",
      "❌ Error at row 564, attempt 2: Expecting value: line 17 column 24 (char 529)\n"
     ]
    },
    {
     "name": "stderr",
     "output_type": "stream",
     "text": [
      "Scoring with LLM:   2%|▏         | 565/28028 [09:28<66:42:17,  8.74s/it]"
     ]
    },
    {
     "name": "stdout",
     "output_type": "stream",
     "text": [
      "80\n",
      "❌ Error at row 565, attempt 1: No JSON block found\n",
      "❌ Error at row 565, attempt 2: No JSON block found\n",
      "❌ Error at row 565, attempt 3: No JSON block found\n",
      "❌ Error at row 565, attempt 4: No JSON block found\n"
     ]
    },
    {
     "name": "stderr",
     "output_type": "stream",
     "text": [
      "Scoring with LLM:   2%|▏         | 566/28028 [09:34<60:38:09,  7.95s/it]"
     ]
    },
    {
     "name": "stdout",
     "output_type": "stream",
     "text": [
      "❌ Error at row 565, attempt 5: No JSON block found\n"
     ]
    },
    {
     "name": "stderr",
     "output_type": "stream",
     "text": [
      "Scoring with LLM:   2%|▏         | 567/28028 [09:36<46:32:32,  6.10s/it]"
     ]
    },
    {
     "name": "stdout",
     "output_type": "stream",
     "text": [
      "83\n"
     ]
    },
    {
     "name": "stderr",
     "output_type": "stream",
     "text": [
      "Scoring with LLM:   2%|▏         | 568/28028 [09:38<36:52:06,  4.83s/it]"
     ]
    },
    {
     "name": "stdout",
     "output_type": "stream",
     "text": [
      "82\n"
     ]
    },
    {
     "name": "stderr",
     "output_type": "stream",
     "text": [
      "Scoring with LLM:   2%|▏         | 569/28028 [09:42<35:02:42,  4.59s/it]"
     ]
    },
    {
     "name": "stdout",
     "output_type": "stream",
     "text": [
      "80\n",
      "❌ Error at row 569, attempt 1: No JSON block found\n"
     ]
    },
    {
     "name": "stderr",
     "output_type": "stream",
     "text": [
      "Scoring with LLM:   2%|▏         | 570/28028 [09:45<31:14:19,  4.10s/it]"
     ]
    },
    {
     "name": "stdout",
     "output_type": "stream",
     "text": [
      "85\n"
     ]
    },
    {
     "name": "stderr",
     "output_type": "stream",
     "text": [
      "Scoring with LLM:   2%|▏         | 571/28028 [09:46<26:13:52,  3.44s/it]"
     ]
    },
    {
     "name": "stdout",
     "output_type": "stream",
     "text": [
      "68\n"
     ]
    },
    {
     "name": "stderr",
     "output_type": "stream",
     "text": [
      "Scoring with LLM:   2%|▏         | 572/28028 [09:48<22:22:50,  2.93s/it]"
     ]
    },
    {
     "name": "stdout",
     "output_type": "stream",
     "text": [
      "88\n"
     ]
    },
    {
     "name": "stderr",
     "output_type": "stream",
     "text": [
      "Scoring with LLM:   2%|▏         | 573/28028 [09:50<19:32:55,  2.56s/it]"
     ]
    },
    {
     "name": "stdout",
     "output_type": "stream",
     "text": [
      "92\n"
     ]
    },
    {
     "name": "stderr",
     "output_type": "stream",
     "text": [
      "Scoring with LLM:   2%|▏         | 574/28028 [09:52<18:34:50,  2.44s/it]"
     ]
    },
    {
     "name": "stdout",
     "output_type": "stream",
     "text": [
      "90\n"
     ]
    },
    {
     "name": "stderr",
     "output_type": "stream",
     "text": [
      "Scoring with LLM:   2%|▏         | 575/28028 [09:54<17:01:31,  2.23s/it]"
     ]
    },
    {
     "name": "stdout",
     "output_type": "stream",
     "text": [
      "83\n",
      "❌ Error at row 575, attempt 1: No JSON block found\n",
      "❌ Error at row 575, attempt 2: No JSON block found\n",
      "❌ Error at row 575, attempt 3: No JSON block found\n",
      "❌ Error at row 575, attempt 4: No JSON block found\n"
     ]
    },
    {
     "name": "stderr",
     "output_type": "stream",
     "text": [
      "Scoring with LLM:   2%|▏         | 576/28028 [10:00<25:17:38,  3.32s/it]"
     ]
    },
    {
     "name": "stdout",
     "output_type": "stream",
     "text": [
      "❌ Error at row 575, attempt 5: No JSON block found\n"
     ]
    },
    {
     "name": "stderr",
     "output_type": "stream",
     "text": [
      "Scoring with LLM:   2%|▏         | 577/28028 [10:02<22:54:33,  3.00s/it]"
     ]
    },
    {
     "name": "stdout",
     "output_type": "stream",
     "text": [
      "88\n",
      "❌ Error at row 577, attempt 1: No JSON block found\n"
     ]
    },
    {
     "name": "stderr",
     "output_type": "stream",
     "text": [
      "Scoring with LLM:   2%|▏         | 578/28028 [10:05<22:40:52,  2.97s/it]"
     ]
    },
    {
     "name": "stdout",
     "output_type": "stream",
     "text": [
      "82\n"
     ]
    },
    {
     "name": "stderr",
     "output_type": "stream",
     "text": [
      "Scoring with LLM:   2%|▏         | 579/28028 [10:09<25:18:53,  3.32s/it]"
     ]
    },
    {
     "name": "stdout",
     "output_type": "stream",
     "text": [
      "85\n",
      "❌ Error at row 579, attempt 1: No JSON block found\n"
     ]
    },
    {
     "name": "stderr",
     "output_type": "stream",
     "text": [
      "Scoring with LLM:   2%|▏         | 580/28028 [10:12<23:53:56,  3.13s/it]"
     ]
    },
    {
     "name": "stdout",
     "output_type": "stream",
     "text": [
      "85\n",
      "❌ Error at row 580, attempt 1: No JSON block found\n",
      "❌ Error at row 580, attempt 2: No JSON block found\n"
     ]
    },
    {
     "name": "stderr",
     "output_type": "stream",
     "text": [
      "Scoring with LLM:   2%|▏         | 581/28028 [10:16<26:21:50,  3.46s/it]"
     ]
    },
    {
     "name": "stdout",
     "output_type": "stream",
     "text": [
      "93\n",
      "❌ Error at row 581, attempt 1: No JSON block found\n"
     ]
    },
    {
     "name": "stderr",
     "output_type": "stream",
     "text": [
      "Scoring with LLM:   2%|▏         | 582/28028 [10:21<30:42:58,  4.03s/it]"
     ]
    },
    {
     "name": "stdout",
     "output_type": "stream",
     "text": [
      "72\n"
     ]
    },
    {
     "name": "stderr",
     "output_type": "stream",
     "text": [
      "Scoring with LLM:   2%|▏         | 583/28028 [10:27<33:53:02,  4.44s/it]"
     ]
    },
    {
     "name": "stdout",
     "output_type": "stream",
     "text": [
      "68\n"
     ]
    },
    {
     "name": "stderr",
     "output_type": "stream",
     "text": [
      "Scoring with LLM:   2%|▏         | 584/28028 [10:28<27:43:15,  3.64s/it]"
     ]
    },
    {
     "name": "stdout",
     "output_type": "stream",
     "text": [
      "80\n",
      "❌ Error at row 584, attempt 1: No JSON block found\n"
     ]
    },
    {
     "name": "stderr",
     "output_type": "stream",
     "text": [
      "Scoring with LLM:   2%|▏         | 585/28028 [10:31<26:11:10,  3.44s/it]"
     ]
    },
    {
     "name": "stdout",
     "output_type": "stream",
     "text": [
      "85\n",
      "❌ Error at row 585, attempt 1: No JSON block found\n"
     ]
    },
    {
     "name": "stderr",
     "output_type": "stream",
     "text": [
      "Scoring with LLM:   2%|▏         | 586/28028 [10:34<24:59:02,  3.28s/it]"
     ]
    },
    {
     "name": "stdout",
     "output_type": "stream",
     "text": [
      "85\n",
      "❌ Error at row 586, attempt 1: No JSON block found\n",
      "❌ Error at row 586, attempt 2: No JSON block found\n",
      "❌ Error at row 586, attempt 3: No JSON block found\n"
     ]
    },
    {
     "name": "stderr",
     "output_type": "stream",
     "text": [
      "Scoring with LLM:   2%|▏         | 587/28028 [10:39<28:10:01,  3.70s/it]"
     ]
    },
    {
     "name": "stdout",
     "output_type": "stream",
     "text": [
      "85\n",
      "❌ Error at row 587, attempt 1: No JSON block found\n",
      "❌ Error at row 587, attempt 2: No JSON block found\n"
     ]
    },
    {
     "name": "stderr",
     "output_type": "stream",
     "text": [
      "Scoring with LLM:   2%|▏         | 588/28028 [10:43<28:05:26,  3.69s/it]"
     ]
    },
    {
     "name": "stdout",
     "output_type": "stream",
     "text": [
      "85\n"
     ]
    },
    {
     "name": "stderr",
     "output_type": "stream",
     "text": [
      "Scoring with LLM:   2%|▏         | 589/28028 [10:47<30:46:51,  4.04s/it]"
     ]
    },
    {
     "name": "stdout",
     "output_type": "stream",
     "text": [
      "70\n"
     ]
    },
    {
     "name": "stderr",
     "output_type": "stream",
     "text": [
      "Scoring with LLM:   2%|▏         | 590/28028 [10:51<28:41:54,  3.77s/it]"
     ]
    },
    {
     "name": "stdout",
     "output_type": "stream",
     "text": [
      "83\n"
     ]
    },
    {
     "name": "stderr",
     "output_type": "stream",
     "text": [
      "Scoring with LLM:   2%|▏         | 591/28028 [10:54<27:33:31,  3.62s/it]"
     ]
    },
    {
     "name": "stdout",
     "output_type": "stream",
     "text": [
      "70\n"
     ]
    },
    {
     "name": "stderr",
     "output_type": "stream",
     "text": [
      "Scoring with LLM:   2%|▏         | 592/28028 [10:56<23:19:04,  3.06s/it]"
     ]
    },
    {
     "name": "stdout",
     "output_type": "stream",
     "text": [
      "78\n",
      "❌ Error at row 592, attempt 1: No JSON block found\n"
     ]
    },
    {
     "name": "stderr",
     "output_type": "stream",
     "text": [
      "Scoring with LLM:   2%|▏         | 593/28028 [10:59<22:57:14,  3.01s/it]"
     ]
    },
    {
     "name": "stdout",
     "output_type": "stream",
     "text": [
      "92\n",
      "❌ Error at row 593, attempt 1: No JSON block found\n",
      "❌ Error at row 593, attempt 2: No JSON block found\n",
      "❌ Error at row 593, attempt 3: No JSON block found\n"
     ]
    },
    {
     "name": "stderr",
     "output_type": "stream",
     "text": [
      "Scoring with LLM:   2%|▏         | 594/28028 [11:04<28:11:22,  3.70s/it]"
     ]
    },
    {
     "name": "stdout",
     "output_type": "stream",
     "text": [
      "81\n",
      "❌ Error at row 594, attempt 1: No JSON block found\n",
      "❌ Error at row 594, attempt 2: Expecting value: line 4 column 28 (char 158)\n"
     ]
    },
    {
     "name": "stderr",
     "output_type": "stream",
     "text": [
      "Scoring with LLM:   2%|▏         | 595/28028 [11:23<63:57:19,  8.39s/it]"
     ]
    },
    {
     "name": "stdout",
     "output_type": "stream",
     "text": [
      "93.75\n"
     ]
    },
    {
     "name": "stderr",
     "output_type": "stream",
     "text": [
      "Scoring with LLM:   2%|▏         | 596/28028 [11:25<49:26:57,  6.49s/it]"
     ]
    },
    {
     "name": "stdout",
     "output_type": "stream",
     "text": [
      "68\n"
     ]
    },
    {
     "name": "stderr",
     "output_type": "stream",
     "text": [
      "Scoring with LLM:   2%|▏         | 597/28028 [11:27<38:29:15,  5.05s/it]"
     ]
    },
    {
     "name": "stdout",
     "output_type": "stream",
     "text": [
      "70\n",
      "❌ Error at row 597, attempt 1: No JSON block found\n"
     ]
    },
    {
     "name": "stderr",
     "output_type": "stream",
     "text": [
      "Scoring with LLM:   2%|▏         | 598/28028 [11:30<33:43:16,  4.43s/it]"
     ]
    },
    {
     "name": "stdout",
     "output_type": "stream",
     "text": [
      "85\n",
      "❌ Error at row 598, attempt 1: No JSON block found\n"
     ]
    },
    {
     "name": "stderr",
     "output_type": "stream",
     "text": [
      "Scoring with LLM:   2%|▏         | 599/28028 [11:33<30:29:18,  4.00s/it]"
     ]
    },
    {
     "name": "stdout",
     "output_type": "stream",
     "text": [
      "90\n",
      "❌ Error at row 599, attempt 1: No JSON block found\n"
     ]
    },
    {
     "name": "stderr",
     "output_type": "stream",
     "text": [
      "Scoring with LLM:   2%|▏         | 600/28028 [11:36<27:59:40,  3.67s/it]"
     ]
    },
    {
     "name": "stdout",
     "output_type": "stream",
     "text": [
      "64\n"
     ]
    },
    {
     "name": "stderr",
     "output_type": "stream",
     "text": [
      "Scoring with LLM:   2%|▏         | 601/28028 [11:37<23:13:29,  3.05s/it]"
     ]
    },
    {
     "name": "stdout",
     "output_type": "stream",
     "text": [
      "85\n"
     ]
    },
    {
     "name": "stderr",
     "output_type": "stream",
     "text": [
      "Scoring with LLM:   2%|▏         | 602/28028 [11:39<20:15:13,  2.66s/it]"
     ]
    },
    {
     "name": "stdout",
     "output_type": "stream",
     "text": [
      "83\n"
     ]
    },
    {
     "name": "stderr",
     "output_type": "stream",
     "text": [
      "Scoring with LLM:   2%|▏         | 603/28028 [11:41<18:32:36,  2.43s/it]"
     ]
    },
    {
     "name": "stdout",
     "output_type": "stream",
     "text": [
      "85\n"
     ]
    },
    {
     "name": "stderr",
     "output_type": "stream",
     "text": [
      "Scoring with LLM:   2%|▏         | 604/28028 [11:43<16:30:28,  2.17s/it]"
     ]
    },
    {
     "name": "stdout",
     "output_type": "stream",
     "text": [
      "82\n"
     ]
    },
    {
     "name": "stderr",
     "output_type": "stream",
     "text": [
      "Scoring with LLM:   2%|▏         | 605/28028 [11:44<15:39:22,  2.06s/it]"
     ]
    },
    {
     "name": "stdout",
     "output_type": "stream",
     "text": [
      "82\n",
      "❌ Error at row 605, attempt 1: No JSON block found\n",
      "❌ Error at row 605, attempt 2: No JSON block found\n",
      "❌ Error at row 605, attempt 3: No JSON block found\n",
      "❌ Error at row 605, attempt 4: No JSON block found\n"
     ]
    },
    {
     "name": "stderr",
     "output_type": "stream",
     "text": [
      "Scoring with LLM:   2%|▏         | 606/28028 [11:50<24:34:20,  3.23s/it]"
     ]
    },
    {
     "name": "stdout",
     "output_type": "stream",
     "text": [
      "❌ Error at row 605, attempt 5: No JSON block found\n",
      "❌ Error at row 606, attempt 1: No JSON block found\n",
      "❌ Error at row 606, attempt 2: No JSON block found\n",
      "❌ Error at row 606, attempt 3: No JSON block found\n",
      "❌ Error at row 606, attempt 4: No JSON block found\n"
     ]
    },
    {
     "name": "stderr",
     "output_type": "stream",
     "text": [
      "Scoring with LLM:   2%|▏         | 607/28028 [11:56<31:03:34,  4.08s/it]"
     ]
    },
    {
     "name": "stdout",
     "output_type": "stream",
     "text": [
      "❌ Error at row 606, attempt 5: No JSON block found\n"
     ]
    },
    {
     "name": "stderr",
     "output_type": "stream",
     "text": [
      "Scoring with LLM:   2%|▏         | 608/28028 [11:58<26:18:51,  3.45s/it]"
     ]
    },
    {
     "name": "stdout",
     "output_type": "stream",
     "text": [
      "50\n"
     ]
    },
    {
     "name": "stderr",
     "output_type": "stream",
     "text": [
      "Scoring with LLM:   2%|▏         | 609/28028 [12:03<29:30:41,  3.87s/it]"
     ]
    },
    {
     "name": "stdout",
     "output_type": "stream",
     "text": [
      "80\n"
     ]
    },
    {
     "name": "stderr",
     "output_type": "stream",
     "text": [
      "Scoring with LLM:   2%|▏         | 610/28028 [12:05<24:10:18,  3.17s/it]"
     ]
    },
    {
     "name": "stdout",
     "output_type": "stream",
     "text": [
      "84\n"
     ]
    },
    {
     "name": "stderr",
     "output_type": "stream",
     "text": [
      "Scoring with LLM:   2%|▏         | 611/28028 [12:06<20:42:58,  2.72s/it]"
     ]
    },
    {
     "name": "stdout",
     "output_type": "stream",
     "text": [
      "88\n",
      "❌ Error at row 611, attempt 1: No JSON block found\n",
      "❌ Error at row 611, attempt 2: No JSON block found\n"
     ]
    },
    {
     "name": "stderr",
     "output_type": "stream",
     "text": [
      "Scoring with LLM:   2%|▏         | 612/28028 [12:11<24:25:10,  3.21s/it]"
     ]
    },
    {
     "name": "stdout",
     "output_type": "stream",
     "text": [
      "72\n",
      "❌ Error at row 612, attempt 1: No JSON block found\n"
     ]
    },
    {
     "name": "stderr",
     "output_type": "stream",
     "text": [
      "Scoring with LLM:   2%|▏         | 613/28028 [12:17<31:18:36,  4.11s/it]"
     ]
    },
    {
     "name": "stdout",
     "output_type": "stream",
     "text": [
      "78\n",
      "❌ Error at row 613, attempt 1: No JSON block found\n",
      "❌ Error at row 613, attempt 2: No JSON block found\n",
      "❌ Error at row 613, attempt 3: No JSON block found\n",
      "❌ Error at row 613, attempt 4: No JSON block found\n"
     ]
    },
    {
     "name": "stderr",
     "output_type": "stream",
     "text": [
      "Scoring with LLM:   2%|▏         | 614/28028 [12:23<36:19:35,  4.77s/it]"
     ]
    },
    {
     "name": "stdout",
     "output_type": "stream",
     "text": [
      "❌ Error at row 613, attempt 5: No JSON block found\n",
      "❌ Error at row 614, attempt 1: No JSON block found\n",
      "❌ Error at row 614, attempt 2: No JSON block found\n",
      "❌ Error at row 614, attempt 3: No JSON block found\n",
      "❌ Error at row 614, attempt 4: No JSON block found\n"
     ]
    },
    {
     "name": "stderr",
     "output_type": "stream",
     "text": [
      "Scoring with LLM:   2%|▏         | 615/28028 [12:30<40:51:42,  5.37s/it]"
     ]
    },
    {
     "name": "stdout",
     "output_type": "stream",
     "text": [
      "❌ Error at row 614, attempt 5: No JSON block found\n"
     ]
    },
    {
     "name": "stderr",
     "output_type": "stream",
     "text": [
      "Scoring with LLM:   2%|▏         | 616/28028 [12:32<32:55:22,  4.32s/it]"
     ]
    },
    {
     "name": "stdout",
     "output_type": "stream",
     "text": [
      "85\n"
     ]
    },
    {
     "name": "stderr",
     "output_type": "stream",
     "text": [
      "Scoring with LLM:   2%|▏         | 617/28028 [12:33<26:28:20,  3.48s/it]"
     ]
    },
    {
     "name": "stdout",
     "output_type": "stream",
     "text": [
      "80\n"
     ]
    },
    {
     "name": "stderr",
     "output_type": "stream",
     "text": [
      "Scoring with LLM:   2%|▏         | 618/28028 [12:35<22:09:04,  2.91s/it]"
     ]
    },
    {
     "name": "stdout",
     "output_type": "stream",
     "text": [
      "85\n"
     ]
    },
    {
     "name": "stderr",
     "output_type": "stream",
     "text": [
      "Scoring with LLM:   2%|▏         | 619/28028 [12:37<19:40:57,  2.59s/it]"
     ]
    },
    {
     "name": "stdout",
     "output_type": "stream",
     "text": [
      "92\n"
     ]
    },
    {
     "name": "stderr",
     "output_type": "stream",
     "text": [
      "Scoring with LLM:   2%|▏         | 620/28028 [12:39<17:34:00,  2.31s/it]"
     ]
    },
    {
     "name": "stdout",
     "output_type": "stream",
     "text": [
      "92\n"
     ]
    },
    {
     "name": "stderr",
     "output_type": "stream",
     "text": [
      "Scoring with LLM:   2%|▏         | 621/28028 [12:41<17:06:25,  2.25s/it]"
     ]
    },
    {
     "name": "stdout",
     "output_type": "stream",
     "text": [
      "82\n"
     ]
    },
    {
     "name": "stderr",
     "output_type": "stream",
     "text": [
      "Scoring with LLM:   2%|▏         | 622/28028 [12:42<16:05:21,  2.11s/it]"
     ]
    },
    {
     "name": "stdout",
     "output_type": "stream",
     "text": [
      "10\n",
      "❌ Error at row 622, attempt 1: Expecting value: line 7 column 28 (char 247)\n",
      "❌ Error at row 622, attempt 2: Expecting property name enclosed in double quotes: line 8 column 33 (char 274)\n"
     ]
    },
    {
     "name": "stderr",
     "output_type": "stream",
     "text": [
      "Scoring with LLM:   2%|▏         | 623/28028 [12:49<26:43:13,  3.51s/it]"
     ]
    },
    {
     "name": "stdout",
     "output_type": "stream",
     "text": [
      "82\n"
     ]
    },
    {
     "name": "stderr",
     "output_type": "stream",
     "text": [
      "Scoring with LLM:   2%|▏         | 624/28028 [12:51<23:21:22,  3.07s/it]"
     ]
    },
    {
     "name": "stdout",
     "output_type": "stream",
     "text": [
      "78\n"
     ]
    },
    {
     "name": "stderr",
     "output_type": "stream",
     "text": [
      "Scoring with LLM:   2%|▏         | 625/28028 [12:53<20:28:24,  2.69s/it]"
     ]
    },
    {
     "name": "stdout",
     "output_type": "stream",
     "text": [
      "82\n"
     ]
    },
    {
     "name": "stderr",
     "output_type": "stream",
     "text": [
      "Scoring with LLM:   2%|▏         | 626/28028 [12:57<22:31:31,  2.96s/it]"
     ]
    },
    {
     "name": "stdout",
     "output_type": "stream",
     "text": [
      "42\n",
      "❌ Error at row 626, attempt 1: No JSON block found\n",
      "❌ Error at row 626, attempt 2: No JSON block found\n",
      "❌ Error at row 626, attempt 3: No JSON block found\n",
      "❌ Error at row 626, attempt 4: No JSON block found\n"
     ]
    },
    {
     "name": "stderr",
     "output_type": "stream",
     "text": [
      "Scoring with LLM:   2%|▏         | 627/28028 [13:03<30:12:56,  3.97s/it]"
     ]
    },
    {
     "name": "stdout",
     "output_type": "stream",
     "text": [
      "❌ Error at row 626, attempt 5: No JSON block found\n"
     ]
    },
    {
     "name": "stderr",
     "output_type": "stream",
     "text": [
      "Scoring with LLM:   2%|▏         | 628/28028 [13:08<32:27:23,  4.26s/it]"
     ]
    },
    {
     "name": "stdout",
     "output_type": "stream",
     "text": [
      "92\n",
      "❌ Error at row 628, attempt 1: No JSON block found\n",
      "❌ Error at row 628, attempt 2: No JSON block found\n"
     ]
    },
    {
     "name": "stderr",
     "output_type": "stream",
     "text": [
      "Scoring with LLM:   2%|▏         | 629/28028 [13:12<32:30:39,  4.27s/it]"
     ]
    },
    {
     "name": "stdout",
     "output_type": "stream",
     "text": [
      "92\n"
     ]
    },
    {
     "name": "stderr",
     "output_type": "stream",
     "text": [
      "Scoring with LLM:   2%|▏         | 630/28028 [13:14<26:35:40,  3.49s/it]"
     ]
    },
    {
     "name": "stdout",
     "output_type": "stream",
     "text": [
      "80\n"
     ]
    },
    {
     "name": "stderr",
     "output_type": "stream",
     "text": [
      "Scoring with LLM:   2%|▏         | 631/28028 [13:16<22:32:25,  2.96s/it]"
     ]
    },
    {
     "name": "stdout",
     "output_type": "stream",
     "text": [
      "84\n"
     ]
    },
    {
     "name": "stderr",
     "output_type": "stream",
     "text": [
      "Scoring with LLM:   2%|▏         | 632/28028 [13:18<21:02:28,  2.76s/it]"
     ]
    },
    {
     "name": "stdout",
     "output_type": "stream",
     "text": [
      "86\n",
      "❌ Error at row 632, attempt 1: No JSON block found\n",
      "❌ Error at row 632, attempt 2: No JSON block found\n"
     ]
    },
    {
     "name": "stderr",
     "output_type": "stream",
     "text": [
      "Scoring with LLM:   2%|▏         | 633/28028 [13:22<22:58:44,  3.02s/it]"
     ]
    },
    {
     "name": "stdout",
     "output_type": "stream",
     "text": [
      "83\n"
     ]
    },
    {
     "name": "stderr",
     "output_type": "stream",
     "text": [
      "Scoring with LLM:   2%|▏         | 634/28028 [13:24<21:04:13,  2.77s/it]"
     ]
    },
    {
     "name": "stdout",
     "output_type": "stream",
     "text": [
      "85\n",
      "❌ Error at row 634, attempt 1: No JSON block found\n",
      "❌ Error at row 634, attempt 2: No JSON block found\n"
     ]
    },
    {
     "name": "stderr",
     "output_type": "stream",
     "text": [
      "Scoring with LLM:   2%|▏         | 635/28028 [13:28<23:45:17,  3.12s/it]"
     ]
    },
    {
     "name": "stdout",
     "output_type": "stream",
     "text": [
      "90\n",
      "❌ Error at row 635, attempt 1: No JSON block found\n",
      "❌ Error at row 635, attempt 2: No JSON block found\n",
      "❌ Error at row 635, attempt 3: No JSON block found\n"
     ]
    },
    {
     "name": "stderr",
     "output_type": "stream",
     "text": [
      "Scoring with LLM:   2%|▏         | 636/28028 [13:33<28:28:52,  3.74s/it]"
     ]
    },
    {
     "name": "stdout",
     "output_type": "stream",
     "text": [
      "84\n"
     ]
    },
    {
     "name": "stderr",
     "output_type": "stream",
     "text": [
      "Scoring with LLM:   2%|▏         | 637/28028 [13:35<23:45:07,  3.12s/it]"
     ]
    },
    {
     "name": "stdout",
     "output_type": "stream",
     "text": [
      "84\n"
     ]
    },
    {
     "name": "stderr",
     "output_type": "stream",
     "text": [
      "Scoring with LLM:   2%|▏         | 638/28028 [13:39<27:18:01,  3.59s/it]"
     ]
    },
    {
     "name": "stdout",
     "output_type": "stream",
     "text": [
      "18\n"
     ]
    },
    {
     "name": "stderr",
     "output_type": "stream",
     "text": [
      "Scoring with LLM:   2%|▏         | 639/28028 [13:41<23:10:09,  3.05s/it]"
     ]
    },
    {
     "name": "stdout",
     "output_type": "stream",
     "text": [
      "88\n"
     ]
    },
    {
     "name": "stderr",
     "output_type": "stream",
     "text": [
      "Scoring with LLM:   2%|▏         | 640/28028 [13:43<20:26:31,  2.69s/it]"
     ]
    },
    {
     "name": "stdout",
     "output_type": "stream",
     "text": [
      "87\n"
     ]
    },
    {
     "name": "stderr",
     "output_type": "stream",
     "text": [
      "Scoring with LLM:   2%|▏         | 641/28028 [13:45<18:12:55,  2.39s/it]"
     ]
    },
    {
     "name": "stdout",
     "output_type": "stream",
     "text": [
      "91.0\n"
     ]
    },
    {
     "name": "stderr",
     "output_type": "stream",
     "text": [
      "Scoring with LLM:   2%|▏         | 642/28028 [13:50<24:39:32,  3.24s/it]"
     ]
    },
    {
     "name": "stdout",
     "output_type": "stream",
     "text": [
      "84.67\n"
     ]
    },
    {
     "name": "stderr",
     "output_type": "stream",
     "text": [
      "Scoring with LLM:   2%|▏         | 643/28028 [13:51<20:50:17,  2.74s/it]"
     ]
    },
    {
     "name": "stdout",
     "output_type": "stream",
     "text": [
      "90\n"
     ]
    },
    {
     "name": "stderr",
     "output_type": "stream",
     "text": [
      "Scoring with LLM:   2%|▏         | 644/28028 [13:53<18:39:32,  2.45s/it]"
     ]
    },
    {
     "name": "stdout",
     "output_type": "stream",
     "text": [
      "85\n",
      "❌ Error at row 644, attempt 1: Expecting property name enclosed in double quotes: line 8 column 30 (char 270)\n",
      "❌ Error at row 644, attempt 2: No JSON block found\n"
     ]
    },
    {
     "name": "stderr",
     "output_type": "stream",
     "text": [
      "Scoring with LLM:   2%|▏         | 645/28028 [13:58<23:55:00,  3.14s/it]"
     ]
    },
    {
     "name": "stdout",
     "output_type": "stream",
     "text": [
      "87\n",
      "❌ Error at row 645, attempt 1: No JSON block found\n",
      "❌ Error at row 645, attempt 2: No JSON block found\n",
      "❌ Error at row 645, attempt 3: No JSON block found\n",
      "❌ Error at row 645, attempt 4: No JSON block found\n"
     ]
    },
    {
     "name": "stderr",
     "output_type": "stream",
     "text": [
      "Scoring with LLM:   2%|▏         | 646/28028 [14:05<32:18:16,  4.25s/it]"
     ]
    },
    {
     "name": "stdout",
     "output_type": "stream",
     "text": [
      "82\n"
     ]
    },
    {
     "name": "stderr",
     "output_type": "stream",
     "text": [
      "Scoring with LLM:   2%|▏         | 647/28028 [14:14<43:14:58,  5.69s/it]"
     ]
    },
    {
     "name": "stdout",
     "output_type": "stream",
     "text": [
      "83\n"
     ]
    },
    {
     "name": "stderr",
     "output_type": "stream",
     "text": [
      "Scoring with LLM:   2%|▏         | 648/28028 [14:18<40:39:14,  5.35s/it]"
     ]
    },
    {
     "name": "stdout",
     "output_type": "stream",
     "text": [
      "80\n"
     ]
    },
    {
     "name": "stderr",
     "output_type": "stream",
     "text": [
      "Scoring with LLM:   2%|▏         | 649/28028 [14:20<32:43:39,  4.30s/it]"
     ]
    },
    {
     "name": "stdout",
     "output_type": "stream",
     "text": [
      "85\n",
      "❌ Error at row 649, attempt 1: No JSON block found\n",
      "❌ Error at row 649, attempt 2: No JSON block found\n",
      "❌ Error at row 649, attempt 3: No JSON block found\n"
     ]
    },
    {
     "name": "stderr",
     "output_type": "stream",
     "text": [
      "Scoring with LLM:   2%|▏         | 650/28028 [14:25<34:24:18,  4.52s/it]"
     ]
    },
    {
     "name": "stdout",
     "output_type": "stream",
     "text": [
      "83\n"
     ]
    },
    {
     "name": "stderr",
     "output_type": "stream",
     "text": [
      "Scoring with LLM:   2%|▏         | 651/28028 [14:30<35:40:11,  4.69s/it]"
     ]
    },
    {
     "name": "stdout",
     "output_type": "stream",
     "text": [
      "76\n",
      "❌ Error at row 651, attempt 1: No JSON block found\n"
     ]
    },
    {
     "name": "stderr",
     "output_type": "stream",
     "text": [
      "Scoring with LLM:   2%|▏         | 652/28028 [14:33<31:55:57,  4.20s/it]"
     ]
    },
    {
     "name": "stdout",
     "output_type": "stream",
     "text": [
      "82\n",
      "❌ Error at row 652, attempt 1: No JSON block found\n",
      "❌ Error at row 652, attempt 2: No JSON block found\n"
     ]
    },
    {
     "name": "stderr",
     "output_type": "stream",
     "text": [
      "Scoring with LLM:   2%|▏         | 653/28028 [14:38<32:09:07,  4.23s/it]"
     ]
    },
    {
     "name": "stdout",
     "output_type": "stream",
     "text": [
      "82\n",
      "❌ Error at row 653, attempt 1: No JSON block found\n",
      "❌ Error at row 653, attempt 2: No JSON block found\n"
     ]
    },
    {
     "name": "stderr",
     "output_type": "stream",
     "text": [
      "Scoring with LLM:   2%|▏         | 654/28028 [14:42<31:56:10,  4.20s/it]"
     ]
    },
    {
     "name": "stdout",
     "output_type": "stream",
     "text": [
      "72\n"
     ]
    },
    {
     "name": "stderr",
     "output_type": "stream",
     "text": [
      "Scoring with LLM:   2%|▏         | 655/28028 [14:44<26:19:21,  3.46s/it]"
     ]
    },
    {
     "name": "stdout",
     "output_type": "stream",
     "text": [
      "80\n"
     ]
    },
    {
     "name": "stderr",
     "output_type": "stream",
     "text": [
      "Scoring with LLM:   2%|▏         | 656/28028 [14:45<22:54:00,  3.01s/it]"
     ]
    },
    {
     "name": "stdout",
     "output_type": "stream",
     "text": [
      "92\n"
     ]
    },
    {
     "name": "stderr",
     "output_type": "stream",
     "text": [
      "Scoring with LLM:   2%|▏         | 657/28028 [14:47<19:48:06,  2.60s/it]"
     ]
    },
    {
     "name": "stdout",
     "output_type": "stream",
     "text": [
      "88\n"
     ]
    },
    {
     "name": "stderr",
     "output_type": "stream",
     "text": [
      "Scoring with LLM:   2%|▏         | 658/28028 [14:49<18:05:22,  2.38s/it]"
     ]
    },
    {
     "name": "stdout",
     "output_type": "stream",
     "text": [
      "80\n"
     ]
    },
    {
     "name": "stderr",
     "output_type": "stream",
     "text": [
      "Scoring with LLM:   2%|▏         | 659/28028 [14:51<16:53:22,  2.22s/it]"
     ]
    },
    {
     "name": "stdout",
     "output_type": "stream",
     "text": [
      "83\n"
     ]
    },
    {
     "name": "stderr",
     "output_type": "stream",
     "text": [
      "Scoring with LLM:   2%|▏         | 660/28028 [14:56<24:08:05,  3.17s/it]"
     ]
    },
    {
     "name": "stdout",
     "output_type": "stream",
     "text": [
      "60\n"
     ]
    },
    {
     "name": "stderr",
     "output_type": "stream",
     "text": [
      "Scoring with LLM:   2%|▏         | 661/28028 [14:58<21:03:16,  2.77s/it]"
     ]
    },
    {
     "name": "stdout",
     "output_type": "stream",
     "text": [
      "82\n"
     ]
    },
    {
     "name": "stderr",
     "output_type": "stream",
     "text": [
      "Scoring with LLM:   2%|▏         | 662/28028 [15:00<19:31:12,  2.57s/it]"
     ]
    },
    {
     "name": "stdout",
     "output_type": "stream",
     "text": [
      "64\n",
      "❌ Error at row 662, attempt 1: No JSON block found\n",
      "❌ Error at row 662, attempt 2: No JSON block found\n"
     ]
    },
    {
     "name": "stderr",
     "output_type": "stream",
     "text": [
      "Scoring with LLM:   2%|▏         | 663/28028 [15:11<37:43:39,  4.96s/it]"
     ]
    },
    {
     "name": "stdout",
     "output_type": "stream",
     "text": [
      "90\n"
     ]
    },
    {
     "name": "stderr",
     "output_type": "stream",
     "text": [
      "Scoring with LLM:   2%|▏         | 664/28028 [15:15<35:18:15,  4.64s/it]"
     ]
    },
    {
     "name": "stdout",
     "output_type": "stream",
     "text": [
      "92\n"
     ]
    },
    {
     "name": "stderr",
     "output_type": "stream",
     "text": [
      "Scoring with LLM:   2%|▏         | 665/28028 [15:16<28:50:38,  3.79s/it]"
     ]
    },
    {
     "name": "stdout",
     "output_type": "stream",
     "text": [
      "93.2\n"
     ]
    },
    {
     "name": "stderr",
     "output_type": "stream",
     "text": [
      "Scoring with LLM:   2%|▏         | 666/28028 [15:18<24:48:27,  3.26s/it]"
     ]
    },
    {
     "name": "stdout",
     "output_type": "stream",
     "text": [
      "85\n",
      "❌ Error at row 666, attempt 1: No JSON block found\n"
     ]
    },
    {
     "name": "stderr",
     "output_type": "stream",
     "text": [
      "Scoring with LLM:   2%|▏         | 667/28028 [15:21<23:59:45,  3.16s/it]"
     ]
    },
    {
     "name": "stdout",
     "output_type": "stream",
     "text": [
      "65\n",
      "❌ Error at row 667, attempt 1: No JSON block found\n"
     ]
    },
    {
     "name": "stderr",
     "output_type": "stream",
     "text": [
      "Scoring with LLM:   2%|▏         | 668/28028 [15:24<23:40:17,  3.11s/it]"
     ]
    },
    {
     "name": "stdout",
     "output_type": "stream",
     "text": [
      "82\n",
      "❌ Error at row 668, attempt 1: No JSON block found\n",
      "❌ Error at row 668, attempt 2: No JSON block found\n",
      "❌ Error at row 668, attempt 3: No JSON block found\n",
      "❌ Error at row 668, attempt 4: No JSON block found\n"
     ]
    },
    {
     "name": "stderr",
     "output_type": "stream",
     "text": [
      "Scoring with LLM:   2%|▏         | 669/28028 [15:31<30:43:47,  4.04s/it]"
     ]
    },
    {
     "name": "stdout",
     "output_type": "stream",
     "text": [
      "❌ Error at row 668, attempt 5: No JSON block found\n"
     ]
    },
    {
     "name": "stderr",
     "output_type": "stream",
     "text": [
      "Scoring with LLM:   2%|▏         | 670/28028 [15:32<25:26:14,  3.35s/it]"
     ]
    },
    {
     "name": "stdout",
     "output_type": "stream",
     "text": [
      "70\n"
     ]
    },
    {
     "name": "stderr",
     "output_type": "stream",
     "text": [
      "Scoring with LLM:   2%|▏         | 671/28028 [15:34<21:31:19,  2.83s/it]"
     ]
    },
    {
     "name": "stdout",
     "output_type": "stream",
     "text": [
      "70\n",
      "❌ Error at row 671, attempt 1: No JSON block found\n",
      "❌ Error at row 671, attempt 2: No JSON block found\n"
     ]
    },
    {
     "name": "stderr",
     "output_type": "stream",
     "text": [
      "Scoring with LLM:   2%|▏         | 672/28028 [15:38<25:07:22,  3.31s/it]"
     ]
    },
    {
     "name": "stdout",
     "output_type": "stream",
     "text": [
      "74\n",
      "❌ Error at row 672, attempt 1: No JSON block found\n",
      "❌ Error at row 672, attempt 2: No JSON block found\n"
     ]
    },
    {
     "name": "stderr",
     "output_type": "stream",
     "text": [
      "Scoring with LLM:   2%|▏         | 673/28028 [15:42<26:58:23,  3.55s/it]"
     ]
    },
    {
     "name": "stdout",
     "output_type": "stream",
     "text": [
      "84\n"
     ]
    },
    {
     "name": "stderr",
     "output_type": "stream",
     "text": [
      "Scoring with LLM:   2%|▏         | 674/28028 [15:44<22:49:52,  3.00s/it]"
     ]
    },
    {
     "name": "stdout",
     "output_type": "stream",
     "text": [
      "62\n",
      "❌ Error at row 674, attempt 1: No JSON block found\n",
      "❌ Error at row 674, attempt 2: No JSON block found\n",
      "❌ Error at row 674, attempt 3: No JSON block found\n"
     ]
    },
    {
     "name": "stderr",
     "output_type": "stream",
     "text": [
      "Scoring with LLM:   2%|▏         | 675/28028 [15:50<28:30:37,  3.75s/it]"
     ]
    },
    {
     "name": "stdout",
     "output_type": "stream",
     "text": [
      "84\n"
     ]
    },
    {
     "name": "stderr",
     "output_type": "stream",
     "text": [
      "Scoring with LLM:   2%|▏         | 676/28028 [15:52<25:39:41,  3.38s/it]"
     ]
    },
    {
     "name": "stdout",
     "output_type": "stream",
     "text": [
      "70\n"
     ]
    },
    {
     "name": "stderr",
     "output_type": "stream",
     "text": [
      "Scoring with LLM:   2%|▏         | 677/28028 [15:54<22:43:46,  2.99s/it]"
     ]
    },
    {
     "name": "stdout",
     "output_type": "stream",
     "text": [
      "60\n",
      "❌ Error at row 677, attempt 1: No JSON block found\n",
      "❌ Error at row 677, attempt 2: No JSON block found\n",
      "❌ Error at row 677, attempt 3: No JSON block found\n",
      "❌ Error at row 677, attempt 4: No JSON block found\n"
     ]
    },
    {
     "name": "stderr",
     "output_type": "stream",
     "text": [
      "Scoring with LLM:   2%|▏         | 678/28028 [16:01<31:23:56,  4.13s/it]"
     ]
    },
    {
     "name": "stdout",
     "output_type": "stream",
     "text": [
      "❌ Error at row 677, attempt 5: No JSON block found\n"
     ]
    },
    {
     "name": "stderr",
     "output_type": "stream",
     "text": [
      "Scoring with LLM:   2%|▏         | 679/28028 [16:03<25:46:28,  3.39s/it]"
     ]
    },
    {
     "name": "stdout",
     "output_type": "stream",
     "text": [
      "86\n"
     ]
    },
    {
     "name": "stderr",
     "output_type": "stream",
     "text": [
      "Scoring with LLM:   2%|▏         | 680/28028 [16:05<22:49:01,  3.00s/it]"
     ]
    },
    {
     "name": "stdout",
     "output_type": "stream",
     "text": [
      "62\n"
     ]
    },
    {
     "name": "stderr",
     "output_type": "stream",
     "text": [
      "Scoring with LLM:   2%|▏         | 681/28028 [16:07<20:04:35,  2.64s/it]"
     ]
    },
    {
     "name": "stdout",
     "output_type": "stream",
     "text": [
      "82\n"
     ]
    },
    {
     "name": "stderr",
     "output_type": "stream",
     "text": [
      "Scoring with LLM:   2%|▏         | 682/28028 [16:09<18:54:53,  2.49s/it]"
     ]
    },
    {
     "name": "stdout",
     "output_type": "stream",
     "text": [
      "93\n"
     ]
    },
    {
     "name": "stderr",
     "output_type": "stream",
     "text": [
      "Scoring with LLM:   2%|▏         | 683/28028 [16:10<16:57:20,  2.23s/it]"
     ]
    },
    {
     "name": "stdout",
     "output_type": "stream",
     "text": [
      "85\n",
      "❌ Error at row 683, attempt 1: No JSON block found\n",
      "❌ Error at row 683, attempt 2: No JSON block found\n",
      "❌ Error at row 683, attempt 3: No JSON block found\n",
      "❌ Error at row 683, attempt 4: No JSON block found\n"
     ]
    },
    {
     "name": "stderr",
     "output_type": "stream",
     "text": [
      "Scoring with LLM:   2%|▏         | 684/28028 [16:17<27:31:02,  3.62s/it]"
     ]
    },
    {
     "name": "stdout",
     "output_type": "stream",
     "text": [
      "❌ Error at row 683, attempt 5: No JSON block found\n",
      "❌ Error at row 684, attempt 1: No JSON block found\n"
     ]
    },
    {
     "name": "stderr",
     "output_type": "stream",
     "text": [
      "Scoring with LLM:   2%|▏         | 685/28028 [16:23<33:01:57,  4.35s/it]"
     ]
    },
    {
     "name": "stdout",
     "output_type": "stream",
     "text": [
      "92\n"
     ]
    },
    {
     "name": "stderr",
     "output_type": "stream",
     "text": [
      "Scoring with LLM:   2%|▏         | 686/28028 [16:25<27:04:07,  3.56s/it]"
     ]
    },
    {
     "name": "stdout",
     "output_type": "stream",
     "text": [
      "92\n"
     ]
    },
    {
     "name": "stderr",
     "output_type": "stream",
     "text": [
      "Scoring with LLM:   2%|▏         | 687/28028 [16:27<22:42:14,  2.99s/it]"
     ]
    },
    {
     "name": "stdout",
     "output_type": "stream",
     "text": [
      "82\n"
     ]
    },
    {
     "name": "stderr",
     "output_type": "stream",
     "text": [
      "Scoring with LLM:   2%|▏         | 688/28028 [16:28<19:39:38,  2.59s/it]"
     ]
    },
    {
     "name": "stdout",
     "output_type": "stream",
     "text": [
      "45\n"
     ]
    },
    {
     "name": "stderr",
     "output_type": "stream",
     "text": [
      "Scoring with LLM:   2%|▏         | 689/28028 [16:34<25:27:16,  3.35s/it]"
     ]
    },
    {
     "name": "stdout",
     "output_type": "stream",
     "text": [
      "80\n"
     ]
    },
    {
     "name": "stderr",
     "output_type": "stream",
     "text": [
      "Scoring with LLM:   2%|▏         | 690/28028 [16:36<22:28:26,  2.96s/it]"
     ]
    },
    {
     "name": "stdout",
     "output_type": "stream",
     "text": [
      "True\n"
     ]
    },
    {
     "name": "stderr",
     "output_type": "stream",
     "text": [
      "Scoring with LLM:   2%|▏         | 691/28028 [16:37<19:35:12,  2.58s/it]"
     ]
    },
    {
     "name": "stdout",
     "output_type": "stream",
     "text": [
      "66\n"
     ]
    },
    {
     "name": "stderr",
     "output_type": "stream",
     "text": [
      "Scoring with LLM:   2%|▏         | 692/28028 [16:42<23:53:22,  3.15s/it]"
     ]
    },
    {
     "name": "stdout",
     "output_type": "stream",
     "text": [
      "70\n",
      "❌ Error at row 692, attempt 1: No JSON block found\n"
     ]
    },
    {
     "name": "stderr",
     "output_type": "stream",
     "text": [
      "Scoring with LLM:   2%|▏         | 693/28028 [16:45<23:48:14,  3.13s/it]"
     ]
    },
    {
     "name": "stdout",
     "output_type": "stream",
     "text": [
      "77\n",
      "❌ Error at row 693, attempt 1: No JSON block found\n",
      "❌ Error at row 693, attempt 2: No JSON block found\n",
      "❌ Error at row 693, attempt 3: No JSON block found\n",
      "❌ Error at row 693, attempt 4: No JSON block found\n"
     ]
    },
    {
     "name": "stderr",
     "output_type": "stream",
     "text": [
      "Scoring with LLM:   2%|▏         | 694/28028 [16:51<29:49:57,  3.93s/it]"
     ]
    },
    {
     "name": "stdout",
     "output_type": "stream",
     "text": [
      "83\n",
      "❌ Error at row 694, attempt 1: No JSON block found\n"
     ]
    },
    {
     "name": "stderr",
     "output_type": "stream",
     "text": [
      "Scoring with LLM:   2%|▏         | 695/28028 [16:53<27:14:04,  3.59s/it]"
     ]
    },
    {
     "name": "stdout",
     "output_type": "stream",
     "text": [
      "83\n"
     ]
    },
    {
     "name": "stderr",
     "output_type": "stream",
     "text": [
      "Scoring with LLM:   2%|▏         | 696/28028 [16:58<29:11:37,  3.85s/it]"
     ]
    },
    {
     "name": "stdout",
     "output_type": "stream",
     "text": [
      "True\n"
     ]
    },
    {
     "name": "stderr",
     "output_type": "stream",
     "text": [
      "Scoring with LLM:   2%|▏         | 697/28028 [17:04<33:26:03,  4.40s/it]"
     ]
    },
    {
     "name": "stdout",
     "output_type": "stream",
     "text": [
      "83\n"
     ]
    },
    {
     "name": "stderr",
     "output_type": "stream",
     "text": [
      "Scoring with LLM:   2%|▏         | 698/28028 [17:05<27:18:42,  3.60s/it]"
     ]
    },
    {
     "name": "stdout",
     "output_type": "stream",
     "text": [
      "82\n"
     ]
    },
    {
     "name": "stderr",
     "output_type": "stream",
     "text": [
      "Scoring with LLM:   2%|▏         | 699/28028 [17:07<23:14:37,  3.06s/it]"
     ]
    },
    {
     "name": "stdout",
     "output_type": "stream",
     "text": [
      "85\n"
     ]
    },
    {
     "name": "stderr",
     "output_type": "stream",
     "text": [
      "Scoring with LLM:   2%|▏         | 700/28028 [17:09<20:40:14,  2.72s/it]"
     ]
    },
    {
     "name": "stdout",
     "output_type": "stream",
     "text": [
      "92\n"
     ]
    },
    {
     "name": "stderr",
     "output_type": "stream",
     "text": [
      "Scoring with LLM:   3%|▎         | 701/28028 [17:11<18:17:07,  2.41s/it]"
     ]
    },
    {
     "name": "stdout",
     "output_type": "stream",
     "text": [
      "80\n"
     ]
    },
    {
     "name": "stderr",
     "output_type": "stream",
     "text": [
      "Scoring with LLM:   3%|▎         | 702/28028 [17:12<16:43:30,  2.20s/it]"
     ]
    },
    {
     "name": "stdout",
     "output_type": "stream",
     "text": [
      "92\n",
      "❌ Error at row 702, attempt 1: No JSON block found\n",
      "❌ Error at row 702, attempt 2: Expecting value: line 8 column 27 (char 270)\n",
      "❌ Error at row 702, attempt 3: No JSON block found\n"
     ]
    },
    {
     "name": "stderr",
     "output_type": "stream",
     "text": [
      "Scoring with LLM:   3%|▎         | 703/28028 [17:21<31:36:25,  4.16s/it]"
     ]
    },
    {
     "name": "stdout",
     "output_type": "stream",
     "text": [
      "78\n",
      "❌ Error at row 703, attempt 1: No JSON block found\n"
     ]
    },
    {
     "name": "stderr",
     "output_type": "stream",
     "text": [
      "Scoring with LLM:   3%|▎         | 704/28028 [17:24<28:54:50,  3.81s/it]"
     ]
    },
    {
     "name": "stdout",
     "output_type": "stream",
     "text": [
      "85\n",
      "❌ Error at row 704, attempt 1: No JSON block found\n"
     ]
    },
    {
     "name": "stderr",
     "output_type": "stream",
     "text": [
      "Scoring with LLM:   3%|▎         | 705/28028 [17:27<26:59:59,  3.56s/it]"
     ]
    },
    {
     "name": "stdout",
     "output_type": "stream",
     "text": [
      "70\n",
      "❌ Error at row 705, attempt 1: No JSON block found\n"
     ]
    },
    {
     "name": "stderr",
     "output_type": "stream",
     "text": [
      "Scoring with LLM:   3%|▎         | 706/28028 [17:34<35:14:17,  4.64s/it]"
     ]
    },
    {
     "name": "stdout",
     "output_type": "stream",
     "text": [
      "86\n",
      "❌ Error at row 706, attempt 1: No JSON block found\n",
      "❌ Error at row 706, attempt 2: No JSON block found\n"
     ]
    },
    {
     "name": "stderr",
     "output_type": "stream",
     "text": [
      "Scoring with LLM:   3%|▎         | 707/28028 [17:39<34:43:08,  4.57s/it]"
     ]
    },
    {
     "name": "stdout",
     "output_type": "stream",
     "text": [
      "88\n",
      "❌ Error at row 707, attempt 1: No JSON block found\n"
     ]
    },
    {
     "name": "stderr",
     "output_type": "stream",
     "text": [
      "Scoring with LLM:   3%|▎         | 708/28028 [17:42<30:43:38,  4.05s/it]"
     ]
    },
    {
     "name": "stdout",
     "output_type": "stream",
     "text": [
      "84\n",
      "❌ Error at row 708, attempt 1: No JSON block found\n"
     ]
    },
    {
     "name": "stderr",
     "output_type": "stream",
     "text": [
      "Scoring with LLM:   3%|▎         | 709/28028 [17:44<28:07:51,  3.71s/it]"
     ]
    },
    {
     "name": "stdout",
     "output_type": "stream",
     "text": [
      "82\n",
      "❌ Error at row 709, attempt 1: No JSON block found\n",
      "❌ Error at row 709, attempt 2: No JSON block found\n",
      "❌ Error at row 709, attempt 3: No JSON block found\n"
     ]
    },
    {
     "name": "stderr",
     "output_type": "stream",
     "text": [
      "Scoring with LLM:   3%|▎         | 710/28028 [17:49<30:54:52,  4.07s/it]"
     ]
    },
    {
     "name": "stdout",
     "output_type": "stream",
     "text": [
      "86\n",
      "❌ Error at row 710, attempt 1: No JSON block found\n"
     ]
    },
    {
     "name": "stderr",
     "output_type": "stream",
     "text": [
      "Scoring with LLM:   3%|▎         | 711/28028 [17:52<27:31:34,  3.63s/it]"
     ]
    },
    {
     "name": "stdout",
     "output_type": "stream",
     "text": [
      "67\n"
     ]
    },
    {
     "name": "stderr",
     "output_type": "stream",
     "text": [
      "Scoring with LLM:   3%|▎         | 712/28028 [17:54<23:26:12,  3.09s/it]"
     ]
    },
    {
     "name": "stdout",
     "output_type": "stream",
     "text": [
      "86\n"
     ]
    },
    {
     "name": "stderr",
     "output_type": "stream",
     "text": [
      "Scoring with LLM:   3%|▎         | 713/28028 [17:58<27:08:53,  3.58s/it]"
     ]
    },
    {
     "name": "stdout",
     "output_type": "stream",
     "text": [
      "68\n",
      "❌ Error at row 713, attempt 1: No JSON block found\n"
     ]
    },
    {
     "name": "stderr",
     "output_type": "stream",
     "text": [
      "Scoring with LLM:   3%|▎         | 714/28028 [18:01<25:42:03,  3.39s/it]"
     ]
    },
    {
     "name": "stdout",
     "output_type": "stream",
     "text": [
      "85\n"
     ]
    },
    {
     "name": "stderr",
     "output_type": "stream",
     "text": [
      "Scoring with LLM:   3%|▎         | 715/28028 [18:03<21:51:18,  2.88s/it]"
     ]
    },
    {
     "name": "stdout",
     "output_type": "stream",
     "text": [
      "82\n"
     ]
    },
    {
     "name": "stderr",
     "output_type": "stream",
     "text": [
      "Scoring with LLM:   3%|▎         | 716/28028 [18:05<19:00:49,  2.51s/it]"
     ]
    },
    {
     "name": "stdout",
     "output_type": "stream",
     "text": [
      "82\n",
      "❌ Error at row 716, attempt 1: No JSON block found\n"
     ]
    },
    {
     "name": "stderr",
     "output_type": "stream",
     "text": [
      "Scoring with LLM:   3%|▎         | 717/28028 [18:07<19:30:35,  2.57s/it]"
     ]
    },
    {
     "name": "stdout",
     "output_type": "stream",
     "text": [
      "78\n",
      "❌ Error at row 717, attempt 1: No JSON block found\n",
      "❌ Error at row 717, attempt 2: No JSON block found\n",
      "❌ Error at row 717, attempt 3: No JSON block found\n",
      "❌ Error at row 717, attempt 4: No JSON block found\n"
     ]
    },
    {
     "name": "stderr",
     "output_type": "stream",
     "text": [
      "Scoring with LLM:   3%|▎         | 718/28028 [18:14<27:28:28,  3.62s/it]"
     ]
    },
    {
     "name": "stdout",
     "output_type": "stream",
     "text": [
      "❌ Error at row 717, attempt 5: No JSON block found\n",
      "❌ Error at row 718, attempt 1: No JSON block found\n",
      "❌ Error at row 718, attempt 2: No JSON block found\n",
      "❌ Error at row 718, attempt 3: No JSON block found\n",
      "❌ Error at row 718, attempt 4: No JSON block found\n"
     ]
    },
    {
     "name": "stderr",
     "output_type": "stream",
     "text": [
      "Scoring with LLM:   3%|▎         | 719/28028 [18:20<34:16:13,  4.52s/it]"
     ]
    },
    {
     "name": "stdout",
     "output_type": "stream",
     "text": [
      "❌ Error at row 718, attempt 5: No JSON block found\n",
      "❌ Error at row 719, attempt 1: No JSON block found\n",
      "❌ Error at row 719, attempt 2: No JSON block found\n",
      "❌ Error at row 719, attempt 3: No JSON block found\n",
      "❌ Error at row 719, attempt 4: No JSON block found\n"
     ]
    },
    {
     "name": "stderr",
     "output_type": "stream",
     "text": [
      "Scoring with LLM:   3%|▎         | 720/28028 [18:26<37:38:12,  4.96s/it]"
     ]
    },
    {
     "name": "stdout",
     "output_type": "stream",
     "text": [
      "❌ Error at row 719, attempt 5: No JSON block found\n",
      "❌ Error at row 720, attempt 1: No JSON block found\n",
      "❌ Error at row 720, attempt 2: No JSON block found\n",
      "❌ Error at row 720, attempt 3: No JSON block found\n",
      "❌ Error at row 720, attempt 4: No JSON block found\n"
     ]
    },
    {
     "name": "stderr",
     "output_type": "stream",
     "text": [
      "Scoring with LLM:   3%|▎         | 721/28028 [18:33<40:46:55,  5.38s/it]"
     ]
    },
    {
     "name": "stdout",
     "output_type": "stream",
     "text": [
      "❌ Error at row 720, attempt 5: No JSON block found\n",
      "❌ Error at row 721, attempt 1: No JSON block found\n",
      "❌ Error at row 721, attempt 2: No JSON block found\n"
     ]
    },
    {
     "name": "stderr",
     "output_type": "stream",
     "text": [
      "Scoring with LLM:   3%|▎         | 722/28028 [18:37<38:41:22,  5.10s/it]"
     ]
    },
    {
     "name": "stdout",
     "output_type": "stream",
     "text": [
      "80\n",
      "❌ Error at row 722, attempt 1: No JSON block found\n",
      "❌ Error at row 722, attempt 2: No JSON block found\n",
      "❌ Error at row 722, attempt 3: No JSON block found\n"
     ]
    },
    {
     "name": "stderr",
     "output_type": "stream",
     "text": [
      "Scoring with LLM:   3%|▎         | 723/28028 [18:42<39:37:10,  5.22s/it]"
     ]
    },
    {
     "name": "stdout",
     "output_type": "stream",
     "text": [
      "True\n"
     ]
    },
    {
     "name": "stderr",
     "output_type": "stream",
     "text": [
      "Scoring with LLM:   3%|▎         | 724/28028 [18:48<39:19:12,  5.18s/it]"
     ]
    },
    {
     "name": "stdout",
     "output_type": "stream",
     "text": [
      "85\n",
      "❌ Error at row 724, attempt 1: No JSON block found\n",
      "❌ Error at row 724, attempt 2: No JSON block found\n",
      "❌ Error at row 724, attempt 3: No JSON block found\n"
     ]
    },
    {
     "name": "stderr",
     "output_type": "stream",
     "text": [
      "Scoring with LLM:   3%|▎         | 725/28028 [18:53<39:30:12,  5.21s/it]"
     ]
    },
    {
     "name": "stdout",
     "output_type": "stream",
     "text": [
      "84\n"
     ]
    },
    {
     "name": "stderr",
     "output_type": "stream",
     "text": [
      "Scoring with LLM:   3%|▎         | 726/28028 [18:55<31:59:15,  4.22s/it]"
     ]
    },
    {
     "name": "stdout",
     "output_type": "stream",
     "text": [
      "90\n"
     ]
    },
    {
     "name": "stderr",
     "output_type": "stream",
     "text": [
      "Scoring with LLM:   3%|▎         | 727/28028 [18:59<32:28:01,  4.28s/it]"
     ]
    },
    {
     "name": "stdout",
     "output_type": "stream",
     "text": [
      "83\n",
      "❌ Error at row 727, attempt 1: No JSON block found\n"
     ]
    },
    {
     "name": "stderr",
     "output_type": "stream",
     "text": [
      "Scoring with LLM:   3%|▎         | 728/28028 [19:02<30:16:50,  3.99s/it]"
     ]
    },
    {
     "name": "stdout",
     "output_type": "stream",
     "text": [
      "85\n",
      "❌ Error at row 728, attempt 1: No JSON block found\n",
      "❌ Error at row 728, attempt 2: No JSON block found\n"
     ]
    },
    {
     "name": "stderr",
     "output_type": "stream",
     "text": [
      "Scoring with LLM:   3%|▎         | 729/28028 [19:07<30:53:22,  4.07s/it]"
     ]
    },
    {
     "name": "stdout",
     "output_type": "stream",
     "text": [
      "92\n"
     ]
    },
    {
     "name": "stderr",
     "output_type": "stream",
     "text": [
      "Scoring with LLM:   3%|▎         | 730/28028 [19:09<25:53:35,  3.41s/it]"
     ]
    },
    {
     "name": "stdout",
     "output_type": "stream",
     "text": [
      "70\n"
     ]
    },
    {
     "name": "stderr",
     "output_type": "stream",
     "text": [
      "Scoring with LLM:   3%|▎         | 731/28028 [19:13<28:08:30,  3.71s/it]"
     ]
    },
    {
     "name": "stdout",
     "output_type": "stream",
     "text": [
      "48\n",
      "❌ Error at row 731, attempt 1: No JSON block found\n",
      "❌ Error at row 731, attempt 2: No JSON block found\n",
      "❌ Error at row 731, attempt 3: No JSON block found\n",
      "❌ Error at row 731, attempt 4: No JSON block found\n"
     ]
    },
    {
     "name": "stderr",
     "output_type": "stream",
     "text": [
      "Scoring with LLM:   3%|▎         | 732/28028 [19:20<35:10:29,  4.64s/it]"
     ]
    },
    {
     "name": "stdout",
     "output_type": "stream",
     "text": [
      "82\n"
     ]
    },
    {
     "name": "stderr",
     "output_type": "stream",
     "text": [
      "Scoring with LLM:   3%|▎         | 733/28028 [19:21<28:19:09,  3.74s/it]"
     ]
    },
    {
     "name": "stdout",
     "output_type": "stream",
     "text": [
      "35\n"
     ]
    },
    {
     "name": "stderr",
     "output_type": "stream",
     "text": [
      "Scoring with LLM:   3%|▎         | 734/28028 [19:24<24:38:36,  3.25s/it]"
     ]
    },
    {
     "name": "stdout",
     "output_type": "stream",
     "text": [
      "80\n"
     ]
    },
    {
     "name": "stderr",
     "output_type": "stream",
     "text": [
      "Scoring with LLM:   3%|▎         | 735/28028 [19:25<21:03:37,  2.78s/it]"
     ]
    },
    {
     "name": "stdout",
     "output_type": "stream",
     "text": [
      "75\n"
     ]
    },
    {
     "name": "stderr",
     "output_type": "stream",
     "text": [
      "Scoring with LLM:   3%|▎         | 736/28028 [19:27<19:28:42,  2.57s/it]"
     ]
    },
    {
     "name": "stdout",
     "output_type": "stream",
     "text": [
      "83\n"
     ]
    },
    {
     "name": "stderr",
     "output_type": "stream",
     "text": [
      "Scoring with LLM:   3%|▎         | 737/28028 [19:29<17:59:03,  2.37s/it]"
     ]
    },
    {
     "name": "stdout",
     "output_type": "stream",
     "text": [
      "False\n",
      "❌ Error at row 737, attempt 1: No JSON block found\n"
     ]
    },
    {
     "name": "stderr",
     "output_type": "stream",
     "text": [
      "Scoring with LLM:   3%|▎         | 738/28028 [19:32<19:12:30,  2.53s/it]"
     ]
    },
    {
     "name": "stdout",
     "output_type": "stream",
     "text": [
      "True\n",
      "❌ Error at row 738, attempt 1: No JSON block found\n"
     ]
    },
    {
     "name": "stderr",
     "output_type": "stream",
     "text": [
      "Scoring with LLM:   3%|▎         | 739/28028 [19:36<21:09:53,  2.79s/it]"
     ]
    },
    {
     "name": "stdout",
     "output_type": "stream",
     "text": [
      "40\n"
     ]
    },
    {
     "name": "stderr",
     "output_type": "stream",
     "text": [
      "Scoring with LLM:   3%|▎         | 740/28028 [19:37<18:37:29,  2.46s/it]"
     ]
    },
    {
     "name": "stdout",
     "output_type": "stream",
     "text": [
      "72\n"
     ]
    },
    {
     "name": "stderr",
     "output_type": "stream",
     "text": [
      "Scoring with LLM:   3%|▎         | 741/28028 [19:39<16:55:26,  2.23s/it]"
     ]
    },
    {
     "name": "stdout",
     "output_type": "stream",
     "text": [
      "72\n",
      "❌ Error at row 741, attempt 1: No JSON block found\n",
      "❌ Error at row 741, attempt 2: Expecting value: line 4 column 28 (char 146)\n",
      "❌ Error at row 741, attempt 3: Expecting value: line 4 column 28 (char 146)\n"
     ]
    },
    {
     "name": "stderr",
     "output_type": "stream",
     "text": [
      "Scoring with LLM:   3%|▎         | 742/28028 [19:58<54:27:43,  7.19s/it]"
     ]
    },
    {
     "name": "stdout",
     "output_type": "stream",
     "text": [
      "91\n",
      "❌ Error at row 742, attempt 1: Expecting property name enclosed in double quotes: line 8 column 33 (char 259)\n",
      "❌ Error at row 742, attempt 2: No JSON block found\n",
      "❌ Error at row 742, attempt 3: No JSON block found\n",
      "❌ Error at row 742, attempt 4: No JSON block found\n"
     ]
    },
    {
     "name": "stderr",
     "output_type": "stream",
     "text": [
      "Scoring with LLM:   3%|▎         | 743/28028 [20:10<67:10:55,  8.86s/it]"
     ]
    },
    {
     "name": "stdout",
     "output_type": "stream",
     "text": [
      "60\n",
      "❌ Error at row 743, attempt 1: No JSON block found\n"
     ]
    },
    {
     "name": "stderr",
     "output_type": "stream",
     "text": [
      "Scoring with LLM:   3%|▎         | 744/28028 [20:13<53:30:28,  7.06s/it]"
     ]
    },
    {
     "name": "stdout",
     "output_type": "stream",
     "text": [
      "92\n"
     ]
    },
    {
     "name": "stderr",
     "output_type": "stream",
     "text": [
      "Scoring with LLM:   3%|▎         | 745/28028 [20:15<41:43:59,  5.51s/it]"
     ]
    },
    {
     "name": "stdout",
     "output_type": "stream",
     "text": [
      "85\n"
     ]
    },
    {
     "name": "stderr",
     "output_type": "stream",
     "text": [
      "Scoring with LLM:   3%|▎         | 746/28028 [20:17<33:07:05,  4.37s/it]"
     ]
    },
    {
     "name": "stdout",
     "output_type": "stream",
     "text": [
      "72\n"
     ]
    },
    {
     "name": "stderr",
     "output_type": "stream",
     "text": [
      "Scoring with LLM:   3%|▎         | 747/28028 [20:19<26:56:27,  3.56s/it]"
     ]
    },
    {
     "name": "stdout",
     "output_type": "stream",
     "text": [
      "60\n",
      "❌ Error at row 747, attempt 1: No JSON block found\n"
     ]
    },
    {
     "name": "stderr",
     "output_type": "stream",
     "text": [
      "Scoring with LLM:   3%|▎         | 748/28028 [20:21<25:28:29,  3.36s/it]"
     ]
    },
    {
     "name": "stdout",
     "output_type": "stream",
     "text": [
      "78\n",
      "❌ Error at row 748, attempt 1: No JSON block found\n"
     ]
    },
    {
     "name": "stderr",
     "output_type": "stream",
     "text": [
      "Scoring with LLM:   3%|▎         | 749/28028 [20:24<24:17:18,  3.21s/it]"
     ]
    },
    {
     "name": "stdout",
     "output_type": "stream",
     "text": [
      "88\n"
     ]
    },
    {
     "name": "stderr",
     "output_type": "stream",
     "text": [
      "Scoring with LLM:   3%|▎         | 750/28028 [20:26<20:36:36,  2.72s/it]"
     ]
    },
    {
     "name": "stdout",
     "output_type": "stream",
     "text": [
      "85\n",
      "❌ Error at row 750, attempt 1: No JSON block found\n",
      "❌ Error at row 750, attempt 2: No JSON block found\n",
      "❌ Error at row 750, attempt 3: No JSON block found\n"
     ]
    },
    {
     "name": "stderr",
     "output_type": "stream",
     "text": [
      "Scoring with LLM:   3%|▎         | 751/28028 [20:31<26:37:37,  3.51s/it]"
     ]
    },
    {
     "name": "stdout",
     "output_type": "stream",
     "text": [
      "92\n",
      "❌ Error at row 751, attempt 1: No JSON block found\n",
      "❌ Error at row 751, attempt 2: No JSON block found\n",
      "❌ Error at row 751, attempt 3: No JSON block found\n",
      "❌ Error at row 751, attempt 4: No JSON block found\n"
     ]
    },
    {
     "name": "stderr",
     "output_type": "stream",
     "text": [
      "Scoring with LLM:   3%|▎         | 752/28028 [20:38<32:54:18,  4.34s/it]"
     ]
    },
    {
     "name": "stdout",
     "output_type": "stream",
     "text": [
      "❌ Error at row 751, attempt 5: No JSON block found\n",
      "❌ Error at row 752, attempt 1: No JSON block found\n"
     ]
    },
    {
     "name": "stderr",
     "output_type": "stream",
     "text": [
      "Scoring with LLM:   3%|▎         | 753/28028 [20:41<30:07:42,  3.98s/it]"
     ]
    },
    {
     "name": "stdout",
     "output_type": "stream",
     "text": [
      "40\n"
     ]
    },
    {
     "name": "stderr",
     "output_type": "stream",
     "text": [
      "Scoring with LLM:   3%|▎         | 754/28028 [20:42<24:41:30,  3.26s/it]"
     ]
    },
    {
     "name": "stdout",
     "output_type": "stream",
     "text": [
      "85\n"
     ]
    },
    {
     "name": "stderr",
     "output_type": "stream",
     "text": [
      "Scoring with LLM:   3%|▎         | 755/28028 [20:44<21:51:52,  2.89s/it]"
     ]
    },
    {
     "name": "stdout",
     "output_type": "stream",
     "text": [
      "True\n"
     ]
    },
    {
     "name": "stderr",
     "output_type": "stream",
     "text": [
      "Scoring with LLM:   3%|▎         | 756/28028 [20:46<19:22:48,  2.56s/it]"
     ]
    },
    {
     "name": "stdout",
     "output_type": "stream",
     "text": [
      "76\n",
      "❌ Error at row 756, attempt 1: No JSON block found\n"
     ]
    },
    {
     "name": "stderr",
     "output_type": "stream",
     "text": [
      "Scoring with LLM:   3%|▎         | 757/28028 [20:49<20:05:08,  2.65s/it]"
     ]
    },
    {
     "name": "stdout",
     "output_type": "stream",
     "text": [
      "82\n"
     ]
    },
    {
     "name": "stderr",
     "output_type": "stream",
     "text": [
      "Scoring with LLM:   3%|▎         | 758/28028 [20:53<24:17:44,  3.21s/it]"
     ]
    },
    {
     "name": "stdout",
     "output_type": "stream",
     "text": [
      "74\n"
     ]
    },
    {
     "name": "stderr",
     "output_type": "stream",
     "text": [
      "Scoring with LLM:   3%|▎         | 759/28028 [20:58<26:53:12,  3.55s/it]"
     ]
    },
    {
     "name": "stdout",
     "output_type": "stream",
     "text": [
      "90\n"
     ]
    },
    {
     "name": "stderr",
     "output_type": "stream",
     "text": [
      "Scoring with LLM:   3%|▎         | 760/28028 [21:00<23:12:44,  3.06s/it]"
     ]
    },
    {
     "name": "stdout",
     "output_type": "stream",
     "text": [
      "86\n"
     ]
    },
    {
     "name": "stderr",
     "output_type": "stream",
     "text": [
      "Scoring with LLM:   3%|▎         | 761/28028 [21:02<20:40:35,  2.73s/it]"
     ]
    },
    {
     "name": "stdout",
     "output_type": "stream",
     "text": [
      "70\n",
      "❌ Error at row 761, attempt 1: No JSON block found\n"
     ]
    },
    {
     "name": "stderr",
     "output_type": "stream",
     "text": [
      "Scoring with LLM:   3%|▎         | 762/28028 [21:07<26:11:25,  3.46s/it]"
     ]
    },
    {
     "name": "stdout",
     "output_type": "stream",
     "text": [
      "80\n"
     ]
    },
    {
     "name": "stderr",
     "output_type": "stream",
     "text": [
      "Scoring with LLM:   3%|▎         | 763/28028 [21:08<22:08:24,  2.92s/it]"
     ]
    },
    {
     "name": "stdout",
     "output_type": "stream",
     "text": [
      "92\n",
      "❌ Error at row 763, attempt 1: No JSON block found\n",
      "❌ Error at row 763, attempt 2: No JSON block found\n",
      "❌ Error at row 763, attempt 3: No JSON block found\n"
     ]
    },
    {
     "name": "stderr",
     "output_type": "stream",
     "text": [
      "Scoring with LLM:   3%|▎         | 764/28028 [21:14<26:58:01,  3.56s/it]"
     ]
    },
    {
     "name": "stdout",
     "output_type": "stream",
     "text": [
      "83\n",
      "❌ Error at row 764, attempt 1: No JSON block found\n",
      "❌ Error at row 764, attempt 2: No JSON block found\n",
      "❌ Error at row 764, attempt 3: No JSON block found\n",
      "❌ Error at row 764, attempt 4: No JSON block found\n"
     ]
    },
    {
     "name": "stderr",
     "output_type": "stream",
     "text": [
      "Scoring with LLM:   3%|▎         | 765/28028 [21:19<32:03:11,  4.23s/it]"
     ]
    },
    {
     "name": "stdout",
     "output_type": "stream",
     "text": [
      "❌ Error at row 764, attempt 5: No JSON block found\n"
     ]
    },
    {
     "name": "stderr",
     "output_type": "stream",
     "text": [
      "Scoring with LLM:   3%|▎         | 766/28028 [21:21<26:58:47,  3.56s/it]"
     ]
    },
    {
     "name": "stdout",
     "output_type": "stream",
     "text": [
      "73\n"
     ]
    },
    {
     "name": "stderr",
     "output_type": "stream",
     "text": [
      "Scoring with LLM:   3%|▎         | 767/28028 [21:23<22:40:58,  3.00s/it]"
     ]
    },
    {
     "name": "stdout",
     "output_type": "stream",
     "text": [
      "92\n",
      "❌ Error at row 767, attempt 1: No JSON block found\n"
     ]
    },
    {
     "name": "stderr",
     "output_type": "stream",
     "text": [
      "Scoring with LLM:   3%|▎         | 768/28028 [21:26<22:11:51,  2.93s/it]"
     ]
    },
    {
     "name": "stdout",
     "output_type": "stream",
     "text": [
      "85\n"
     ]
    },
    {
     "name": "stderr",
     "output_type": "stream",
     "text": [
      "Scoring with LLM:   3%|▎         | 769/28028 [21:28<19:25:11,  2.56s/it]"
     ]
    },
    {
     "name": "stdout",
     "output_type": "stream",
     "text": [
      "90\n"
     ]
    },
    {
     "name": "stderr",
     "output_type": "stream",
     "text": [
      "Scoring with LLM:   3%|▎         | 770/28028 [21:29<17:58:39,  2.37s/it]"
     ]
    },
    {
     "name": "stdout",
     "output_type": "stream",
     "text": [
      "86\n"
     ]
    },
    {
     "name": "stderr",
     "output_type": "stream",
     "text": [
      "Scoring with LLM:   3%|▎         | 771/28028 [21:31<16:36:48,  2.19s/it]"
     ]
    },
    {
     "name": "stdout",
     "output_type": "stream",
     "text": [
      "83\n"
     ]
    },
    {
     "name": "stderr",
     "output_type": "stream",
     "text": [
      "Scoring with LLM:   3%|▎         | 772/28028 [21:33<15:47:19,  2.09s/it]"
     ]
    },
    {
     "name": "stdout",
     "output_type": "stream",
     "text": [
      "92.0\n"
     ]
    },
    {
     "name": "stderr",
     "output_type": "stream",
     "text": [
      "Scoring with LLM:   3%|▎         | 773/28028 [21:38<21:48:55,  2.88s/it]"
     ]
    },
    {
     "name": "stdout",
     "output_type": "stream",
     "text": [
      "30\n",
      "❌ Error at row 773, attempt 1: No JSON block found\n",
      "❌ Error at row 773, attempt 2: No JSON block found\n"
     ]
    },
    {
     "name": "stderr",
     "output_type": "stream",
     "text": [
      "Scoring with LLM:   3%|▎         | 774/28028 [21:42<24:00:02,  3.17s/it]"
     ]
    },
    {
     "name": "stdout",
     "output_type": "stream",
     "text": [
      "85\n"
     ]
    },
    {
     "name": "stderr",
     "output_type": "stream",
     "text": [
      "Scoring with LLM:   3%|▎         | 775/28028 [21:43<20:32:09,  2.71s/it]"
     ]
    },
    {
     "name": "stdout",
     "output_type": "stream",
     "text": [
      "80\n"
     ]
    },
    {
     "name": "stderr",
     "output_type": "stream",
     "text": [
      "Scoring with LLM:   3%|▎         | 776/28028 [21:45<18:07:48,  2.39s/it]"
     ]
    },
    {
     "name": "stdout",
     "output_type": "stream",
     "text": [
      "84\n",
      "❌ Error at row 776, attempt 1: No JSON block found\n",
      "❌ Error at row 776, attempt 2: No JSON block found\n",
      "❌ Error at row 776, attempt 3: No JSON block found\n",
      "❌ Error at row 776, attempt 4: No JSON block found\n"
     ]
    },
    {
     "name": "stderr",
     "output_type": "stream",
     "text": [
      "Scoring with LLM:   3%|▎         | 777/28028 [21:52<27:43:50,  3.66s/it]"
     ]
    },
    {
     "name": "stdout",
     "output_type": "stream",
     "text": [
      "❌ Error at row 776, attempt 5: No JSON block found\n"
     ]
    },
    {
     "name": "stderr",
     "output_type": "stream",
     "text": [
      "Scoring with LLM:   3%|▎         | 778/28028 [21:53<23:36:30,  3.12s/it]"
     ]
    },
    {
     "name": "stdout",
     "output_type": "stream",
     "text": [
      "82\n"
     ]
    },
    {
     "name": "stderr",
     "output_type": "stream",
     "text": [
      "Scoring with LLM:   3%|▎         | 779/28028 [21:57<25:44:24,  3.40s/it]"
     ]
    },
    {
     "name": "stdout",
     "output_type": "stream",
     "text": [
      "90\n"
     ]
    },
    {
     "name": "stderr",
     "output_type": "stream",
     "text": [
      "Scoring with LLM:   3%|▎         | 780/28028 [21:59<22:37:13,  2.99s/it]"
     ]
    },
    {
     "name": "stdout",
     "output_type": "stream",
     "text": [
      "82\n"
     ]
    },
    {
     "name": "stderr",
     "output_type": "stream",
     "text": [
      "Scoring with LLM:   3%|▎         | 781/28028 [22:01<19:31:40,  2.58s/it]"
     ]
    },
    {
     "name": "stdout",
     "output_type": "stream",
     "text": [
      "84\n",
      "❌ Error at row 781, attempt 1: No JSON block found\n"
     ]
    },
    {
     "name": "stderr",
     "output_type": "stream",
     "text": [
      "Scoring with LLM:   3%|▎         | 782/28028 [22:04<20:06:24,  2.66s/it]"
     ]
    },
    {
     "name": "stdout",
     "output_type": "stream",
     "text": [
      "84\n",
      "❌ Error at row 782, attempt 1: No JSON block found\n"
     ]
    },
    {
     "name": "stderr",
     "output_type": "stream",
     "text": [
      "Scoring with LLM:   3%|▎         | 783/28028 [22:07<20:39:22,  2.73s/it]"
     ]
    },
    {
     "name": "stdout",
     "output_type": "stream",
     "text": [
      "85\n"
     ]
    },
    {
     "name": "stderr",
     "output_type": "stream",
     "text": [
      "Scoring with LLM:   3%|▎         | 784/28028 [22:08<18:03:35,  2.39s/it]"
     ]
    },
    {
     "name": "stdout",
     "output_type": "stream",
     "text": [
      "85\n",
      "❌ Error at row 784, attempt 1: No JSON block found\n",
      "❌ Error at row 784, attempt 2: No JSON block found\n",
      "❌ Error at row 784, attempt 3: No JSON block found\n"
     ]
    },
    {
     "name": "stderr",
     "output_type": "stream",
     "text": [
      "Scoring with LLM:   3%|▎         | 785/28028 [22:13<23:37:15,  3.12s/it]"
     ]
    },
    {
     "name": "stdout",
     "output_type": "stream",
     "text": [
      "85\n"
     ]
    },
    {
     "name": "stderr",
     "output_type": "stream",
     "text": [
      "Scoring with LLM:   3%|▎         | 786/28028 [22:15<20:46:22,  2.75s/it]"
     ]
    },
    {
     "name": "stdout",
     "output_type": "stream",
     "text": [
      "92\n"
     ]
    },
    {
     "name": "stderr",
     "output_type": "stream",
     "text": [
      "Scoring with LLM:   3%|▎         | 787/28028 [22:17<18:31:08,  2.45s/it]"
     ]
    },
    {
     "name": "stdout",
     "output_type": "stream",
     "text": [
      "82\n"
     ]
    },
    {
     "name": "stderr",
     "output_type": "stream",
     "text": [
      "Scoring with LLM:   3%|▎         | 788/28028 [22:18<16:33:16,  2.19s/it]"
     ]
    },
    {
     "name": "stdout",
     "output_type": "stream",
     "text": [
      "92\n"
     ]
    },
    {
     "name": "stderr",
     "output_type": "stream",
     "text": [
      "Scoring with LLM:   3%|▎         | 789/28028 [22:20<15:29:27,  2.05s/it]"
     ]
    },
    {
     "name": "stdout",
     "output_type": "stream",
     "text": [
      "83\n",
      "❌ Error at row 789, attempt 1: No JSON block found\n",
      "❌ Error at row 789, attempt 2: No JSON block found\n"
     ]
    },
    {
     "name": "stderr",
     "output_type": "stream",
     "text": [
      "Scoring with LLM:   3%|▎         | 790/28028 [22:27<26:34:10,  3.51s/it]"
     ]
    },
    {
     "name": "stdout",
     "output_type": "stream",
     "text": [
      "78\n"
     ]
    },
    {
     "name": "stderr",
     "output_type": "stream",
     "text": [
      "Scoring with LLM:   3%|▎         | 791/28028 [22:29<23:48:07,  3.15s/it]"
     ]
    },
    {
     "name": "stdout",
     "output_type": "stream",
     "text": [
      "50\n",
      "❌ Error at row 791, attempt 1: No JSON block found\n"
     ]
    },
    {
     "name": "stderr",
     "output_type": "stream",
     "text": [
      "Scoring with LLM:   3%|▎         | 792/28028 [22:32<23:17:12,  3.08s/it]"
     ]
    },
    {
     "name": "stdout",
     "output_type": "stream",
     "text": [
      "92\n",
      "❌ Error at row 792, attempt 1: No JSON block found\n",
      "❌ Error at row 792, attempt 2: Expecting property name enclosed in double quotes: line 8 column 33 (char 264)\n"
     ]
    },
    {
     "name": "stderr",
     "output_type": "stream",
     "text": [
      "Scoring with LLM:   3%|▎         | 793/28028 [22:42<37:12:19,  4.92s/it]"
     ]
    },
    {
     "name": "stdout",
     "output_type": "stream",
     "text": [
      "84\n",
      "❌ Error at row 793, attempt 1: No JSON block found\n",
      "❌ Error at row 793, attempt 2: No JSON block found\n"
     ]
    },
    {
     "name": "stderr",
     "output_type": "stream",
     "text": [
      "Scoring with LLM:   3%|▎         | 794/28028 [22:46<35:42:20,  4.72s/it]"
     ]
    },
    {
     "name": "stdout",
     "output_type": "stream",
     "text": [
      "82\n",
      "❌ Error at row 794, attempt 1: No JSON block found\n",
      "❌ Error at row 794, attempt 2: No JSON block found\n",
      "❌ Error at row 794, attempt 3: No JSON block found\n"
     ]
    },
    {
     "name": "stderr",
     "output_type": "stream",
     "text": [
      "Scoring with LLM:   3%|▎         | 795/28028 [22:51<37:06:13,  4.90s/it]"
     ]
    },
    {
     "name": "stdout",
     "output_type": "stream",
     "text": [
      "92\n",
      "❌ Error at row 795, attempt 1: No JSON block found\n"
     ]
    },
    {
     "name": "stderr",
     "output_type": "stream",
     "text": [
      "Scoring with LLM:   3%|▎         | 796/28028 [22:54<32:01:55,  4.23s/it]"
     ]
    },
    {
     "name": "stdout",
     "output_type": "stream",
     "text": [
      "84\n"
     ]
    },
    {
     "name": "stderr",
     "output_type": "stream",
     "text": [
      "Scoring with LLM:   3%|▎         | 797/28028 [22:55<26:08:48,  3.46s/it]"
     ]
    },
    {
     "name": "stdout",
     "output_type": "stream",
     "text": [
      "85\n",
      "❌ Error at row 797, attempt 1: No JSON block found\n",
      "❌ Error at row 797, attempt 2: No JSON block found\n"
     ]
    },
    {
     "name": "stderr",
     "output_type": "stream",
     "text": [
      "Scoring with LLM:   3%|▎         | 798/28028 [23:02<33:46:06,  4.46s/it]"
     ]
    },
    {
     "name": "stdout",
     "output_type": "stream",
     "text": [
      "92\n",
      "❌ Error at row 798, attempt 1: No JSON block found\n"
     ]
    },
    {
     "name": "stderr",
     "output_type": "stream",
     "text": [
      "Scoring with LLM:   3%|▎         | 799/28028 [23:05<29:45:39,  3.93s/it]"
     ]
    },
    {
     "name": "stdout",
     "output_type": "stream",
     "text": [
      "85\n",
      "❌ Error at row 799, attempt 1: No JSON block found\n"
     ]
    },
    {
     "name": "stderr",
     "output_type": "stream",
     "text": [
      "Scoring with LLM:   3%|▎         | 800/28028 [23:10<13:08:40,  1.74s/it]"
     ]
    },
    {
     "name": "stdout",
     "output_type": "stream",
     "text": [
      "80\n"
     ]
    },
    {
     "name": "stderr",
     "output_type": "stream",
     "text": [
      "\n"
     ]
    }
   ],
   "source": [
    "# Process each row\n",
    "for idx, row in tqdm(df.iterrows(), total=len(df), desc=\"Scoring with LLM\"):\n",
    "    # Skip if all llm fields are already filled\n",
    "    if all(pd.notna(row.get(field, pd.NA)) for field in llm_fields):\n",
    "        continue\n",
    "    if idx >= 800:\n",
    "        break\n",
    "\n",
    "    prompt = template.format(\n",
    "        title=row['submission_title'],\n",
    "        abstract=row['submission_abstract'],\n",
    "        review_text=row['total_review']\n",
    "    )\n",
    "\n",
    "    for attempt in range(5):\n",
    "        try:\n",
    "            response = chat(\"llama3.2\", messages=[{'role': 'user', 'content': prompt}])\n",
    "            content = response['message']['content']\n",
    "            match = pattern.search(content)\n",
    "            if not match:\n",
    "                raise ValueError(\"No JSON block found\")\n",
    "\n",
    "            parsed = json.loads(match.group(1))\n",
    "            print(parsed[\"overall_score_100\"])\n",
    "            for key, val in parsed[\"criteria\"].items():\n",
    "                df.at[idx, f\"llm_{key}\"] = val\n",
    "            df.at[idx, \"llm_overall_score_100\"] = parsed[\"overall_score_100\"]\n",
    "\n",
    "            # Save after every successful row\n",
    "            # df.to_csv(input_file, index=False, quoting=csv.QUOTE_ALL)\n",
    "            break\n",
    "\n",
    "        except Exception as e:\n",
    "            print(f\"❌ Error at row {idx}, attempt {attempt + 1}: {e}\")\n",
    "            # time.sleep(0.5)"
   ]
  },
  {
   "cell_type": "code",
   "execution_count": 38,
   "metadata": {},
   "outputs": [
    {
     "data": {
      "application/vnd.microsoft.datawrangler.viewer.v0+json": {
       "columns": [
        {
         "name": "index",
         "rawType": "int64",
         "type": "integer"
        },
        {
         "name": "submission_id",
         "rawType": "object",
         "type": "string"
        },
        {
         "name": "submission_number",
         "rawType": "int64",
         "type": "integer"
        },
        {
         "name": "submission_creation_date",
         "rawType": "int64",
         "type": "integer"
        },
        {
         "name": "submission_authors",
         "rawType": "object",
         "type": "unknown"
        },
        {
         "name": "submission_title",
         "rawType": "object",
         "type": "string"
        },
        {
         "name": "submission_abstract",
         "rawType": "object",
         "type": "string"
        },
        {
         "name": "reviewer",
         "rawType": "object",
         "type": "string"
        },
        {
         "name": "creation_date",
         "rawType": "int64",
         "type": "integer"
        },
        {
         "name": "last_modification_date",
         "rawType": "int64",
         "type": "integer"
        },
        {
         "name": "review_rating",
         "rawType": "int64",
         "type": "integer"
        },
        {
         "name": "review_confidence",
         "rawType": "int64",
         "type": "integer"
        },
        {
         "name": "review_soundness",
         "rawType": "int64",
         "type": "integer"
        },
        {
         "name": "review_presentation",
         "rawType": "int64",
         "type": "integer"
        },
        {
         "name": "review_contribution",
         "rawType": "int64",
         "type": "integer"
        },
        {
         "name": "total_review",
         "rawType": "object",
         "type": "string"
        },
        {
         "name": "length_words",
         "rawType": "int64",
         "type": "integer"
        },
        {
         "name": "citation_count",
         "rawType": "int64",
         "type": "integer"
        },
        {
         "name": "question_count",
         "rawType": "int64",
         "type": "integer"
        },
        {
         "name": "mattr",
         "rawType": "object",
         "type": "string"
        },
        {
         "name": "sentiment_polarity",
         "rawType": "float64",
         "type": "float"
        },
        {
         "name": "similarity_score",
         "rawType": "float64",
         "type": "float"
        },
        {
         "name": "paper_submission_to_review_submission_days",
         "rawType": "int64",
         "type": "integer"
        },
        {
         "name": "review_creation_to_review_submission_days",
         "rawType": "int64",
         "type": "integer"
        },
        {
         "name": "flesch_reading_ease",
         "rawType": "float64",
         "type": "float"
        },
        {
         "name": "flesch_kincaid_grade",
         "rawType": "float64",
         "type": "float"
        },
        {
         "name": "gunning_fog",
         "rawType": "float64",
         "type": "float"
        },
        {
         "name": "smog_index",
         "rawType": "float64",
         "type": "float"
        },
        {
         "name": "automated_readability_index",
         "rawType": "float64",
         "type": "float"
        },
        {
         "name": "politeness_score",
         "rawType": "float64",
         "type": "float"
        },
        {
         "name": "hedge_C",
         "rawType": "int64",
         "type": "integer"
        },
        {
         "name": "hedge_D",
         "rawType": "int64",
         "type": "integer"
        },
        {
         "name": "hedge_E",
         "rawType": "int64",
         "type": "integer"
        },
        {
         "name": "hedge_I",
         "rawType": "int64",
         "type": "integer"
        },
        {
         "name": "hedge_N",
         "rawType": "int64",
         "type": "integer"
        },
        {
         "name": "llm_length_effort",
         "rawType": "object",
         "type": "unknown"
        },
        {
         "name": "llm_lexical_diversity",
         "rawType": "object",
         "type": "unknown"
        },
        {
         "name": "llm_questions_raised",
         "rawType": "object",
         "type": "unknown"
        },
        {
         "name": "llm_citation_usage",
         "rawType": "object",
         "type": "unknown"
        },
        {
         "name": "llm_sentiment_polarity",
         "rawType": "object",
         "type": "unknown"
        },
        {
         "name": "llm_politeness",
         "rawType": "object",
         "type": "unknown"
        },
        {
         "name": "llm_hedging",
         "rawType": "object",
         "type": "unknown"
        },
        {
         "name": "llm_specificity",
         "rawType": "object",
         "type": "unknown"
        },
        {
         "name": "llm_domain_terms",
         "rawType": "object",
         "type": "unknown"
        },
        {
         "name": "llm_relevance_alignment",
         "rawType": "object",
         "type": "unknown"
        },
        {
         "name": "llm_readability",
         "rawType": "object",
         "type": "unknown"
        },
        {
         "name": "llm_overall_quality",
         "rawType": "object",
         "type": "unknown"
        },
        {
         "name": "llm_overall_score_100",
         "rawType": "object",
         "type": "unknown"
        }
       ],
       "conversionMethod": "pd.DataFrame",
       "ref": "1bcf8642-c816-40e7-8d8f-6b8b7a343696",
       "rows": [
        [
         "0",
         "zzv4Bf50RW",
         "1647",
         "1695102158671",
         "['~Chunghyun_Park1', '~Seungwook_Kim2', '~Jaesik_Park3', '~Minsu_Cho1']",
         "Learning SO(3)-Invariant Correspondence via Point-wise Local Shape Transform",
         "Establishing accurate dense 3D correspondences between diverse shapes stands as a pivotal challenge with profound implications for computer vision and robotics. However, existing self-supervised methods for this problem assume perfect input shape alignment, restricting their real-world applicability. In this work, we introduce a novel self-supervised SO(3)-invariant 3D correspondence learner, dubbed LSTNet, that learns to establish dense correspondences between shapes even under challenging intra-class variations. Specifically, LSTNet learns to dynamically formulate an SO(3)-invariant local shape transform for each point, which maps the SO(3)-equivariant global shape descriptor of the input shape to a local shape descriptor. These local shape descriptors are provided as inputs to our decoder to facilitate point cloud self- and cross-reconstruction. Our proposed self-supervised training pipeline encourages semantically corresponding points from different shape instances to be mapped to similar local shape descriptors, enabling LSTNet to establish the dense point-wise correspondences. LSTNet demonstrates state-of-the-art performances on 3D semantic keypoint transfer and part segmentation label transfer given arbitrarily rotated point cloud pairs, outperforming existing methods by significant margins.",
         "Reviewer_eS3u",
         "1698243150596",
         "1699636093263",
         "6",
         "2",
         "3",
         "2",
         "3",
         "This work proposes LSTNet, a self-supervised method to establish reliable 3D dense correspondences irrespective of the input point clouds’ rotational orientation.\n\nSpecifically, LSTNet learns to formulate SO(3)-invariant local shape transform for each point in a dynamic, input-dependent manner. Each point-wise local shape transform can map the SO(3)-equivariant global shape descriptor of the input shape to a local shape descriptor, which is passed to the decoder to reconstruct the shape and pose of the input point cloud. \n\nThe proposed self-supervised training pipeline encourages semantically corresponding points from different shape instances to be mapped to similar local shape descriptors, enabling LSTNet to establish dense point-wise correspondences via nearest point pairs between cross-reconstructed point clouds. The self- and cross-reconstruction training strategy is simple yet effective. \n\nLSTNet demonstrates state-of-the-art performance on 3D semantic matching when evaluated on the KeypointNet dataset and part segmentation label transfer when evaluated on the ShapeNet dataset. The performance of aligned shape pairs under the setting of I/I shows that other methods, such as CPAE, are much better than LSTNet. The reason why other methods are much better than LSTNet under the setting of I/I should be clarified.\n\nLack of limitations.",
         "191",
         "0",
         "0",
         "0.7074",
         "0.09",
         "0.9708871841000001",
         "52",
         "16",
         "28.0536",
         "14.6186",
         "17.913",
         "16.0443",
         "17.8357",
         "0.1213",
         "78",
         "0",
         "0",
         "0",
         "0",
         "4",
         "5",
         "1",
         "True",
         "neutral",
         "polite",
         "Minimal",
         "3",
         "4",
         "5",
         "4",
         "85",
         "85"
        ],
        [
         "1",
         "zzv4Bf50RW",
         "1647",
         "1695102158671",
         "['~Chunghyun_Park1', '~Seungwook_Kim2', '~Jaesik_Park3', '~Minsu_Cho1']",
         "Learning SO(3)-Invariant Correspondence via Point-wise Local Shape Transform",
         "Establishing accurate dense 3D correspondences between diverse shapes stands as a pivotal challenge with profound implications for computer vision and robotics. However, existing self-supervised methods for this problem assume perfect input shape alignment, restricting their real-world applicability. In this work, we introduce a novel self-supervised SO(3)-invariant 3D correspondence learner, dubbed LSTNet, that learns to establish dense correspondences between shapes even under challenging intra-class variations. Specifically, LSTNet learns to dynamically formulate an SO(3)-invariant local shape transform for each point, which maps the SO(3)-equivariant global shape descriptor of the input shape to a local shape descriptor. These local shape descriptors are provided as inputs to our decoder to facilitate point cloud self- and cross-reconstruction. Our proposed self-supervised training pipeline encourages semantically corresponding points from different shape instances to be mapped to similar local shape descriptors, enabling LSTNet to establish the dense point-wise correspondences. LSTNet demonstrates state-of-the-art performances on 3D semantic keypoint transfer and part segmentation label transfer given arbitrarily rotated point cloud pairs, outperforming existing methods by significant margins.",
         "Reviewer_jP4i",
         "1698652503617",
         "1699636093190",
         "5",
         "4",
         "3",
         "3",
         "2",
         "1) This paper proposes a self-supervised method to find semantically corresponding points for a point cloud pair;\n\n2）The main idea is to decouple a point cloud feature learning process into a SO(3)-equivariant global shape descriptor and dynamic SO(3)-invariant point-wise local shape transforms;\n\n3) Experiments on the KeypointNet dataset show the effectiveness of the proposed method. 1) This paper is generally well-written;\n\n2) The idea of factorizing point cloud descriptors into SO(3)-equivariant global shape descriptor and dynamic SO(3)-invariant\npoint-wise local shape transforms seems to be novel;\n\n3) Experimental results are good. 1) The main weakness of this paper could be all experiments are performed on synthetic datasets, with simple point cloud. It's good for authors' to show some examples/experiments on real-world datasets. For example, the 3Dmatch dataset. \n\n2) Since the proposed method can estimate dense correspondences, I wonder whether the proposed method can be used to estimate the relative rotation/translation for a point cloud pair. For example, the estimated dense correspondences can be fed to an ICP method to estimate the relative rotation/translation. \n\n3) The running time and GPU memory cost is blurry for me;\n\n4) Please compare the proposed method with more recent papers, e.g., \\[SC3K: Self-supervised and Coherent 3D Keypoints Estimation\nfrom Rotated, Noisy, and Decimated Point Cloud Data\\]. Please refer to the weaknesses.",
         "215",
         "0",
         "0",
         "0.7009",
         "0.1601851852",
         "0.8842770457",
         "52",
         "11",
         "32.339",
         "14.0899",
         "17.5302",
         "15.9032",
         "16.5285",
         "0.1719",
         "73",
         "0",
         "0",
         "0",
         "0",
         "4",
         "5",
         "2",
         "yes",
         "positive",
         "polite",
         "Minimal",
         "4",
         "3",
         "5",
         "4",
         "85",
         "85"
        ],
        [
         "2",
         "zzv4Bf50RW",
         "1647",
         "1695102158671",
         "['~Chunghyun_Park1', '~Seungwook_Kim2', '~Jaesik_Park3', '~Minsu_Cho1']",
         "Learning SO(3)-Invariant Correspondence via Point-wise Local Shape Transform",
         "Establishing accurate dense 3D correspondences between diverse shapes stands as a pivotal challenge with profound implications for computer vision and robotics. However, existing self-supervised methods for this problem assume perfect input shape alignment, restricting their real-world applicability. In this work, we introduce a novel self-supervised SO(3)-invariant 3D correspondence learner, dubbed LSTNet, that learns to establish dense correspondences between shapes even under challenging intra-class variations. Specifically, LSTNet learns to dynamically formulate an SO(3)-invariant local shape transform for each point, which maps the SO(3)-equivariant global shape descriptor of the input shape to a local shape descriptor. These local shape descriptors are provided as inputs to our decoder to facilitate point cloud self- and cross-reconstruction. Our proposed self-supervised training pipeline encourages semantically corresponding points from different shape instances to be mapped to similar local shape descriptors, enabling LSTNet to establish the dense point-wise correspondences. LSTNet demonstrates state-of-the-art performances on 3D semantic keypoint transfer and part segmentation label transfer given arbitrarily rotated point cloud pairs, outperforming existing methods by significant margins.",
         "Reviewer_wiS9",
         "1698706547448",
         "1699636093122",
         "3",
         "4",
         "2",
         "2",
         "2",
         "This paper introduces LSTNet, which leverages an SO(3)-equivariant encoder-decoder architecture(Vector Neuron Networks, VNNs) and proposes a novel function called local shape transform to further transform the learned features. The proposed method is validated on both the 3D keypoint transfer and part segmentation label transformer tasks. 1. The idea of cross-reconstruction for generating inter-object correspondences in a self-supervised way is interesting;\n\n2. The overall writing is good and the methodology part is well-organized and easy to follow. 1. The novelty of this work seems insufficient for ICLR. The whole pipeline heavily relies on VNNs and the main contribution I personally consider is the local shape transform and the self-supervised mechanism for correspondences.\n\n2. Regarding the local shape transform:\n   2.1. From 3.1.1, the SO(3)-invariant output is $\\mathbf{V}\\mathbf{U}^T \\in \\mathbb{R}^{C \\times C}$, while in 3.1.2, the obtained SO(3)-invariant features $\\mathbf{V} \\in \\mathbb{R}^{C^\\prime \\times 3 \\times N}$ have a different shape;\n\n   2.2 The authors claimed that the local shape transform transforms the global features to local ones. Regarding this, I have two questions. \n\n      2.2.1 First, why are the features obtained by the Encoder global? They are generated by a DGCNN-based VNN, but DGCNN is not guaranteed to capture the global context, as it is graph-based and really depends on the number of layers together with the number of rings of each layer. \n\n      2.2.2 Second, the so-called local shape transform is predicted by a multi-layer perception from some SO(3)-invariant features that obtained from the input. Why after transforming the \"global\" features by such a mechanism, the features turn to \"local\"? I cannot see any specific design that enables it. It should be further explained. (I personally do not think so)\n\n3. Regarding the experiments:\n    3.1 The experiments are only conducted on synthetic data, which cannot support the proposed method can work for real applications. I think it would be better to have additional real-data experiments;\n\n     3.2 As this paper also targets on correspondence estimation, whose typical downstream task is pose estimation. Therefore, I consider it worthwhile to also conduct experiments on tasks of 6D pose estimation or point cloud registration (there you always use real data), to further validate the estimated correspondences.\n\n    3.3 In Tab.1, only CPAE proposed in 2021 is used as the baseline. Some recent methods, e.g., \\[1\\], should also be included. Otherwise the results are not convincing at all (only compared to a single baseline which was proposed years ago). And it seems CPAE is the only baseline method for all the experiments. More baselines are required on both tasks.\n\n   3.4 The method is claimed to generate SO(3)-invariant correspondences. However, in Tab. 1, even on the synthetic data, the I/SO(3) and SO(3)/SO(3) experiments perform unsimilarly (I would expect to have similar results per category, as it is on synthetic and clean data). Could this be explained?\n\n4. For the SO(3)-equivariant and -invariant methods, some works for point cloud registration \\[2, 3, 4, 5\\] should also be discussed.\n---------------------------------------------\n\\[1\\]. Zohaib et al. SC3K: Self-supervised and Coherent 3D Keypoints Estimation from Rotated, Noisy, and Decimated Point Cloud Data, ICCV 2023;\n\n\\[2\\]. Dent et al. PPF-FoldNet: Unsupervised Learning of Rotation Invariant 3D Local Descriptors, ECCV 2018\n\n\\[3\\]. Ao et al. SpinNet: Learning a General Surface Descriptor for 3D Point Cloud Registration, CVPR 2021\n\n\\[4\\]. Wang et al. You Only Hypothesize Once: Point Cloud Registration with Rotation-equivariant Descriptors, ACM MM 2022\n\n\\[5\\]. Yu et al. Rotation-Invariant Transformer for Point Cloud Matching, CVPR 2023 See weaknesses.",
         "570",
         "7",
         "10",
         "0.7698",
         "0.0953869048",
         "0.8982679844",
         "52",
         "10",
         "49.1847",
         "9.5403",
         "12.0174",
         "11.8969",
         "11.5244",
         "0.050300000000000004",
         "77",
         "0",
         "0",
         "0",
         "0",
         "4",
         "5",
         "2",
         "True",
         "neutral",
         "polite",
         "No Hedging",
         "somewhat specific",
         "3",
         "4",
         "4",
         "92",
         "92"
        ],
        [
         "3",
         "zzv4Bf50RW",
         "1647",
         "1695102158671",
         "['~Chunghyun_Park1', '~Seungwook_Kim2', '~Jaesik_Park3', '~Minsu_Cho1']",
         "Learning SO(3)-Invariant Correspondence via Point-wise Local Shape Transform",
         "Establishing accurate dense 3D correspondences between diverse shapes stands as a pivotal challenge with profound implications for computer vision and robotics. However, existing self-supervised methods for this problem assume perfect input shape alignment, restricting their real-world applicability. In this work, we introduce a novel self-supervised SO(3)-invariant 3D correspondence learner, dubbed LSTNet, that learns to establish dense correspondences between shapes even under challenging intra-class variations. Specifically, LSTNet learns to dynamically formulate an SO(3)-invariant local shape transform for each point, which maps the SO(3)-equivariant global shape descriptor of the input shape to a local shape descriptor. These local shape descriptors are provided as inputs to our decoder to facilitate point cloud self- and cross-reconstruction. Our proposed self-supervised training pipeline encourages semantically corresponding points from different shape instances to be mapped to similar local shape descriptors, enabling LSTNet to establish the dense point-wise correspondences. LSTNet demonstrates state-of-the-art performances on 3D semantic keypoint transfer and part segmentation label transfer given arbitrarily rotated point cloud pairs, outperforming existing methods by significant margins.",
         "Reviewer_a6Ps",
         "1698768293694",
         "1699636092942",
         "5",
         "4",
         "3",
         "3",
         "3",
         "This paper attempts to register point cloud properties to their templates without precise correspondences and exact shape matching. To achieve this, the authors trained a local shape transform (LST) network that produces SO(3) invariant correspondences. The training is self-supervised. The experimental results on ShapeNet look nice. - Valid motivation. Unlike the abused topic, vanilla point cloud registration, the motivation stands and could potentially benefit practical usages.\n- The SO(3)-invariant network design intrinsically ensures robustness against rotations.\n- The joint usage of a global descriptor and a local descriptor makes sense and may help with classification and recognition directly.\n- The self-supervision scheme looks plausible by self and cross-reconstruction. My major concern is with the experimental setup. While the experiments on ShapeNet is common in the community and shows good result, I am in general doubtful whether such an approach could be really applied to the real world. \nIn motivation, the authors talk about usage in vision, graphics, and robotics. In vision and robotics, we are interested in fitting real-world scans to templates (e.g. \\[Scan2CAD, CVPR 2019\\]), where in most cases, only noisy, partial, and sparse point clouds are provided. The authors do not have experiments or discussions in such cases. \n\nThe authors also take groundtruth keypoints and semantic segmentations from datasets for the experiments. In the real-world, however, obtaining such accurate high-level semantic information already requires a deep understanding of the point cloud, and its segmentation backbone may already be SO(3) invariant. This impairs the strength that the authors proposed. Following my points in the \"weaknesses\" section, I am curious about several relevant problems in the practical setup (i.e., scan to model). \n1. Would SO(3) invariance be sufficient? Do we need SE(3) or even Sim(3) invariance, if we cannot easily normalize the input due to the noise and sparsity? \n2. Will the network still be functional if the density distributions are different across input and output? \n3. Will it work out of the 16-category domain? Do we need more training data, or would it work out-of-box?\n4. Would non-gt and/or biased key points and semantic parts be transferred properly?\n\nIt would be nice if the authors could conduct a minimal set of experiments in the real-world setup (e.g., extract a reconstruction from a ScanNet model and attempt to apply keypoint/semantic part transfer). Otherwise, it would be good to see a justification that this paper itself is an inevitable intermediate step toward real-world usage, and what can be done to further extend it.",
         "412",
         "0",
         "5",
         "0.7920",
         "0.1400193798",
         "0.9250699282",
         "52",
         "10",
         "43.5803",
         "10.8007",
         "13.4756",
         "13.141",
         "11.9551",
         "0.129",
         "85",
         "0",
         "2",
         "0",
         "0",
         "4",
         "3",
         "1",
         "True",
         "positive",
         "polite",
         "No Hedging",
         "neutral",
         "4",
         "3",
         "5",
         "83",
         "84"
        ],
        [
         "4",
         "zzv4Bf50RW",
         "1647",
         "1695102158671",
         "['~Chunghyun_Park1', '~Seungwook_Kim2', '~Jaesik_Park3', '~Minsu_Cho1']",
         "Learning SO(3)-Invariant Correspondence via Point-wise Local Shape Transform",
         "Establishing accurate dense 3D correspondences between diverse shapes stands as a pivotal challenge with profound implications for computer vision and robotics. However, existing self-supervised methods for this problem assume perfect input shape alignment, restricting their real-world applicability. In this work, we introduce a novel self-supervised SO(3)-invariant 3D correspondence learner, dubbed LSTNet, that learns to establish dense correspondences between shapes even under challenging intra-class variations. Specifically, LSTNet learns to dynamically formulate an SO(3)-invariant local shape transform for each point, which maps the SO(3)-equivariant global shape descriptor of the input shape to a local shape descriptor. These local shape descriptors are provided as inputs to our decoder to facilitate point cloud self- and cross-reconstruction. Our proposed self-supervised training pipeline encourages semantically corresponding points from different shape instances to be mapped to similar local shape descriptors, enabling LSTNet to establish the dense point-wise correspondences. LSTNet demonstrates state-of-the-art performances on 3D semantic keypoint transfer and part segmentation label transfer given arbitrarily rotated point cloud pairs, outperforming existing methods by significant margins.",
         "Reviewer_Frem",
         "1699350072271",
         "1699636092872",
         "5",
         "4",
         "3",
         "3",
         "2",
         "This paper presents a method of learning dense 3D correspondence between shapes in a self-supervised manner. Specifically, it is built on an existing SO(3)-equivariant representation. The input point clouds are independently encoded to SO(3)-equivariant global shape descriptor Z and dynamic SO(3)-invariant point-wise local shape transforms. Then the network is trained via penalizing errors in self- and cross- reconstructions via the decoder. The experiment validates the effectiveness of the proposed method. 1. The paper is in general well organized and easy to follow. \n2. The proposed method is straightforward and shown to be effective on the test data. 1. The main issue of the proposed method lies in the experimental evaluation. Only one learned-based method is adopted for comparison in the main paper on a rather simple dataset. More methods including some traditional methods should be also evaluated for better comparison. The experiment on the real dataset should be also provided to show the robustness of the proposed method. \n2. From Fig. 6 in the supplementary, we can see that the performance of the proposed method on the I/I scenario is much worse than the SOTA method. More analysis of the drop of performance should be given. Moreover, the performance of different methods with different rotation angles should be provided for better comparison.\n3. How about the performance of other methods with a rough alignment of the initial shape? If a rough alignment is enough for the existing methods, why should we learn SO(3)-invariant correspondence in an end-to-end manner?\n4. The whole method is mainly built upon the existing SO(3)-equivariant representation. The main contribution lies in introducing this representation to the specific task. I didn't get too much novel insight in terms of network design. Please refer to the Weaknees part.",
         "290",
         "0",
         "7",
         "0.6900",
         "0.1242424242",
         "0.9471604824000001",
         "52",
         "3",
         "43.0465",
         "10.8574",
         "13.8",
         "13.106",
         "11.3839",
         "0.1864",
         "81",
         "0",
         "0",
         "0",
         "0",
         "4",
         "3",
         "2",
         "True",
         "neutral",
         "neutral",
         "Minimal",
         "3",
         "4",
         "3",
         "4",
         "73",
         "80"
        ],
        [
         "5",
         "zzqn5G9fjn",
         "1909",
         "1695134452464",
         "['~Wanru_Zhao1', '~Yihong_Chen3', '~Royson_Lee1', '~Xinchi_Qiu1', '~Yan_Gao4', '~Hongxiang_Fan1', '~Nicholas_Donald_Lane1']",
         "Breaking Physical and Linguistic Borders: Multilingual Federated Prompt Tuning for Low-Resource Languages",
         "Pretrained large language models (LLMs) have emerged as a cornerstone in modern natural language processing, with their utility expanding to various applications and languages. However, the fine-tuning of multilingual LLMs, particularly for low-resource languages, is fraught with challenges steming from data-sharing restrictions (the physical border) and from the inherent linguistic differences (the linguistic border). These barriers hinder users of various languages, especially those in low-resource regions, from fully benefiting from the advantages of LLMs.\n\nTo overcome these challenges, we propose the Federated Prompt Tuning Paradigm for Multilingual Scenarios, which leverages parameter-efficient fine-tuning in a manner that preserves user privacy. We have designed a comprehensive set of experiments and introduced the concept of \"language distance\" to highlight the several strengths of this paradigm. Even under computational constraints, our method not only bolsters data efficiency but also facilitates mutual enhancements across languages, particularly benefiting low-resource ones. Compared to traditional local crosslingual transfer tuning methods, our approach achieves a 6.9\\% higher accuracy, reduces the training parameters by over 99\\%, and demonstrates stronger cross-lingual generalization. Such findings underscore the potential of our approach to promote social equality, ensure user privacy, and champion linguistic diversity.",
         "Reviewer_xDut",
         "1698437142685",
         "1699636121514",
         "8",
         "5",
         "4",
         "4",
         "3",
         "This paper is about multilingual federated prompt tuning for low-resource languages, bringing together federated learning and prompt-tuning techniques. This approach leverages parameter-efficient fine-tuning which preserves user privacy, and additionally, the authors introduce language distance in order to highlight the strengths of the proposed paradigm. The results show that the technique is parameter efficient and computationally beneficial, reducing by 99% the number of trainable parameters while increasing the performance on downstream tasks (XNLI, NC) of ~7% accuracy. This paper makes a contribution to the federated learning field showing how federated learning can be used to enhance the performance of language models while preserving user privacy. The experiments are well-designed and the results are convincing - added to extensive analyses in order to leverage the capabilities of the proposed paradigm, but also its limitations. Although the paper is generally well-structured, the title mentions `low-resource` languages. However, the two tasks leveraged are primarily on high-resource languages, rather than low-resourced language. I would suggest to the authors to include more tasks - there are many low-resource language datasets (for instance on African languages MasakhaNEWS, Masakhaner (1.0 and 2.0 - which have been cited by the way but not used), MasakhaPOS; Indic languages: https://github.com/AI4Bharat/indicnlp_catalog; etc) and tasks.\n\nThis is rather a highly recommended suggestion, that does not take away the contribution of the paper. Including them would strengthen the paper and be more in accordance with the title. The Aggregation formula is a bit confusing. Did you mean h_{global, t+1} = \\sum_{k=1}^{m} h_{k, t}? Because the `t+1` on the last term does not make sense to me.",
         "262",
         "1",
         "0",
         "0.7963",
         "0.1664583333",
         "0.9397115707",
         "52",
         "13",
         "34.7123",
         "12.4236",
         "15.2872",
         "14.0992",
         "14.6228",
         "0.25730000000000003",
         "92",
         "0",
         "0",
         "0",
         "0",
         "5",
         "4",
         "2",
         "yes",
         "positive",
         "neutral",
         "Moderate",
         "somewhat specific",
         "3",
         "4",
         "4",
         "80",
         "86"
        ],
        [
         "6",
         "zzqn5G9fjn",
         "1909",
         "1695134452464",
         "['~Wanru_Zhao1', '~Yihong_Chen3', '~Royson_Lee1', '~Xinchi_Qiu1', '~Yan_Gao4', '~Hongxiang_Fan1', '~Nicholas_Donald_Lane1']",
         "Breaking Physical and Linguistic Borders: Multilingual Federated Prompt Tuning for Low-Resource Languages",
         "Pretrained large language models (LLMs) have emerged as a cornerstone in modern natural language processing, with their utility expanding to various applications and languages. However, the fine-tuning of multilingual LLMs, particularly for low-resource languages, is fraught with challenges steming from data-sharing restrictions (the physical border) and from the inherent linguistic differences (the linguistic border). These barriers hinder users of various languages, especially those in low-resource regions, from fully benefiting from the advantages of LLMs.\n\nTo overcome these challenges, we propose the Federated Prompt Tuning Paradigm for Multilingual Scenarios, which leverages parameter-efficient fine-tuning in a manner that preserves user privacy. We have designed a comprehensive set of experiments and introduced the concept of \"language distance\" to highlight the several strengths of this paradigm. Even under computational constraints, our method not only bolsters data efficiency but also facilitates mutual enhancements across languages, particularly benefiting low-resource ones. Compared to traditional local crosslingual transfer tuning methods, our approach achieves a 6.9\\% higher accuracy, reduces the training parameters by over 99\\%, and demonstrates stronger cross-lingual generalization. Such findings underscore the potential of our approach to promote social equality, ensure user privacy, and champion linguistic diversity.",
         "Reviewer_E7Lk",
         "1698484432194",
         "1700794322411",
         "1",
         "5",
         "1",
         "2",
         "2",
         "The paper introduces a finetuning paradigm that combines federated learning (FL) with prompt tuning for multilingual finetuning on certain, with the goal to preserve the privacy of the local data used for the finetuning job. The results show better performance in certain classification tasks, such as New Classification and XNLI. - Federated learning have recently gained good traction, the paper is a good application of it in the tasks of finetuning LLM. The paper chooses to use prompt tuning instead of full tuning to save costs, as well as to avoid overfitting on small data.\n- The method produces better performance on the 2 classification tasks compared to baselines - The proposed is a very trivial combination of federated learning and prompt tuning, which both are established methodology in their own realm. There is no novelty, such as modification or adjustment to the method that may have give a better results. In other words, people with an objective to do federated learning for privacy purpose can easily come up with prompt tuning as a solution to reduce costs.\n- Though it may have implicitly inferred by the concept of FL, the paper did not mention why and how federated learning helps with privacy and in which case one should use FL for their application.\n- The purpose of the task of multilingual finetuning in this case, is not warranted use case of privacy preservation.\n- There is no reported evidence that privacy is actually preserved. Such as whether the final model memorize the local data.\n- There are better parameter-efficient finetuning methods, such as LORA/QLora, that the authors should conduct experiments on and do comparision with prompt tuning.\n- The results show prompt tuning are much worse than full-federated tuning, thus casting doubt if the cost-saving is worth it.\n- Other generative and knowledge-based tasks, such as QA, translations and summarizations should be performed.\n\n**I have read the author responses and I advocate for a strong reject, below are reasons:**\n\n* I mentioned the paper has fundamental problems with originality, novelty, where the paper uses an unrelated existing and non-novel method designed for a different problem (fed-learning) to solve a low-resource \"privacy\" problem that does not make sense or exist yet, in which the method itself much worse than standard training. \n* Instead of addressing the scientific issue, the authors distracted away by pressing that they are helping the low-resource communities, or improving inequality as a societal issue. These multiple responses are lengthy, wordy, unnecessary, and filled with many \"politically correct\" (I don't know better word) things to avoid the scientific issue. Agree that we should help those under-represented communities, but after reading these, I shouldn't feel like rejecting the paper is an action against those communities.\n* The problem of \"a low-resource community who wants to shut down their internet and border\" is unfounded. We train LLM on public data we can find. If they wants to protect their secret data, they can download a public pre-trained model and fine-tune on their own. \n* The real problem is how to improve low-resource with the limited data we have, which the paper fails to suggest a better solution than trivial.\n* Less communication doens't mean more privacy, because we transfer model weights, not the data. And less parameters doesn't mean less private information be leaked. This misconception leads to wrong approach.\n* The author claims to be the first to target the low-resource problem and many other things, but there have been many works in previous years about this. Please be careful with this kind of \"we are first\" statements.\n* Overall, none of the responses has helped resolve the issues stated in the review. - Citation formet incorrect, \\citep{} be used to produce something like (Abc, et al., 2023) and not Abc, et al., 2023 everywhere.\n- Many grammatical errors, such as \"Throughout the fine-tuning...\"\"",
         "646",
         "0",
         "0",
         "0.8297",
         "0.1105421563",
         "0.9287629724",
         "65",
         "26",
         "45.2282",
         "11.9836",
         "14.6",
         "13.5927",
         "13.0802",
         "0.0978",
         "97",
         "0",
         "0",
         "0",
         "0",
         "2",
         "3",
         "4",
         "True",
         "negative",
         "neutral",
         "No Hedging",
         "somewhat specific",
         "2",
         "3",
         "3",
         "20",
         "60"
        ],
        [
         "7",
         "zzqn5G9fjn",
         "1909",
         "1695134452464",
         "['~Wanru_Zhao1', '~Yihong_Chen3', '~Royson_Lee1', '~Xinchi_Qiu1', '~Yan_Gao4', '~Hongxiang_Fan1', '~Nicholas_Donald_Lane1']",
         "Breaking Physical and Linguistic Borders: Multilingual Federated Prompt Tuning for Low-Resource Languages",
         "Pretrained large language models (LLMs) have emerged as a cornerstone in modern natural language processing, with their utility expanding to various applications and languages. However, the fine-tuning of multilingual LLMs, particularly for low-resource languages, is fraught with challenges steming from data-sharing restrictions (the physical border) and from the inherent linguistic differences (the linguistic border). These barriers hinder users of various languages, especially those in low-resource regions, from fully benefiting from the advantages of LLMs.\n\nTo overcome these challenges, we propose the Federated Prompt Tuning Paradigm for Multilingual Scenarios, which leverages parameter-efficient fine-tuning in a manner that preserves user privacy. We have designed a comprehensive set of experiments and introduced the concept of \"language distance\" to highlight the several strengths of this paradigm. Even under computational constraints, our method not only bolsters data efficiency but also facilitates mutual enhancements across languages, particularly benefiting low-resource ones. Compared to traditional local crosslingual transfer tuning methods, our approach achieves a 6.9\\% higher accuracy, reduces the training parameters by over 99\\%, and demonstrates stronger cross-lingual generalization. Such findings underscore the potential of our approach to promote social equality, ensure user privacy, and champion linguistic diversity.",
         "Reviewer_AG4r",
         "1698731849876",
         "1700723834276",
         "3",
         "4",
         "4",
         "1",
         "3",
         "The paper proposes a Multilingual Federated Prompt Tuning paradigm, where lightweight multilingual prompts are encoded and on regional devices in different languages and aggregated by averaging the prompt embeddings. The goal is fine-tuning multilingual large language models on resource-constraint devices in a privacy-preserving way. The paper evaluates this approach via the XNLI task, ablated into data efficiency, \"language distance\", and communication cost, against \"monolingual\" training (baseline). The innovation lies in that the paper somehow mashes federated learning, multi-lingual (low resource) language models, and Parameter-Efficient Fine-Tuning in one paper. The fact that they managed to come up with a storyline for a system that bolsters the benefit of each approach is commendable. - poor presentation: the citations are not separable enough from the main text, e.g., without any parenthesis, rendering the submission unreadable. Against the tradition and ease of reading, abbreviations are not defined in advance, e.g., NLI, PFL, PLM.\n- claims unverifiable: no code release.\n- conflating existing metrics with innovation: language distance is not a new concept.\n- conceptual weakness: the contrived baseline was bound to give the proposed approach an edge due to lack of federated learning. Also, what the paper refers to as prompts are just classifier model input, which are different from decoders-style LLM prompts as commonly acknowledged. Finally, the approach has absolutely nothing to do with privacy which the abstract and the main body consistently bolsters. \n- evaluation weakness: only two tasks (new classification and XNLI) was used in evaluation. In section 5.4.1 \n\n>  In both the NC and XNLI tasks, despite the total number of\nparameters exceeding 278 million, the trainable parameters are only around 1.2 million, accounting\nfor less than 0.5% of the total.\n\nCould the authors clarify which part of the model is being fine-tuned?",
         "293",
         "0",
         "0",
         "0.8387",
         "-0.0202793239",
         "0.8988320827",
         "64",
         "23",
         "35.1555",
         "11.9208",
         "14.2417",
         "13.3484",
         "12.5904",
         "0.0999",
         "77",
         "0",
         "0",
         "0",
         "0",
         "2",
         "3",
         "1",
         "no",
         "neutral",
         "neutral",
         "Minimal",
         "neutral",
         "2",
         "3",
         "4",
         "60",
         "62"
        ],
        [
         "8",
         "zzqn5G9fjn",
         "1909",
         "1695134452464",
         "['~Wanru_Zhao1', '~Yihong_Chen3', '~Royson_Lee1', '~Xinchi_Qiu1', '~Yan_Gao4', '~Hongxiang_Fan1', '~Nicholas_Donald_Lane1']",
         "Breaking Physical and Linguistic Borders: Multilingual Federated Prompt Tuning for Low-Resource Languages",
         "Pretrained large language models (LLMs) have emerged as a cornerstone in modern natural language processing, with their utility expanding to various applications and languages. However, the fine-tuning of multilingual LLMs, particularly for low-resource languages, is fraught with challenges steming from data-sharing restrictions (the physical border) and from the inherent linguistic differences (the linguistic border). These barriers hinder users of various languages, especially those in low-resource regions, from fully benefiting from the advantages of LLMs.\n\nTo overcome these challenges, we propose the Federated Prompt Tuning Paradigm for Multilingual Scenarios, which leverages parameter-efficient fine-tuning in a manner that preserves user privacy. We have designed a comprehensive set of experiments and introduced the concept of \"language distance\" to highlight the several strengths of this paradigm. Even under computational constraints, our method not only bolsters data efficiency but also facilitates mutual enhancements across languages, particularly benefiting low-resource ones. Compared to traditional local crosslingual transfer tuning methods, our approach achieves a 6.9\\% higher accuracy, reduces the training parameters by over 99\\%, and demonstrates stronger cross-lingual generalization. Such findings underscore the potential of our approach to promote social equality, ensure user privacy, and champion linguistic diversity.",
         "Reviewer_LsRx",
         "1698767055794",
         "1700887244625",
         "5",
         "4",
         "3",
         "3",
         "3",
         "The paper applies federated learning on multilingual scenarios to efficiently parameter-efficient prompt fine-tuning in a manner that preserves user privacy. The idea is to utilize a single global encoder that accumulates the information via federated prompt averaging. Thus, it learns the language patterns without knowing about the user information. They evaluated the experiment on NC and XNLI datasets and found performance improvement over the baseline. - The method is very practical since it is simple and efficient, and it is an appropriate method for training multilingual model.\n- Good analysis on the data efficiency and distance measurement, showing the effectiveness of the proposed method. - In terms of novelty, the proposed idea is not new, and it is only a further investigation of the multilingual setting.\n- Lack of clarity. The paper does not provide enough information about how the prompts are constructed or look like and hyperparameters for all settings. I suggest adding the information to the paper or appendix. Questions:\n- Do you have any findings on why multilingual centralized learning is far worse than federated learning in Table 2?\n- How did you tune the training and parameter averaging?\n\nSuggestions:\n- Figure number is missing on Page 2\n\n\"As depicted in Figure , \"\n\n- Missing Figure/Table \n\n\"This translates to over 99% reduction in the communication overhead shown in 3\"\n\n- Typo\n\n\"Finetuning accuracy across different lanugages on the NC task.\"",
         "234",
         "0",
         "0",
         "0.7573",
         "0.0373593074",
         "0.9010972977",
         "66",
         "24",
         "31.2256",
         "13.1655",
         "15.1127",
         "14.332699999999999",
         "12.1462",
         "0.25730000000000003",
         "97",
         "0",
         "0",
         "0",
         "0",
         "4",
         "3",
         "1",
         "yes",
         "neutral",
         "neutral",
         "Minimal",
         "somewhat specific",
         "4",
         "3",
         "2",
         "70",
         "80"
        ],
        [
         "9",
         "zz61V8bIab",
         "7001",
         "1695450633393",
         "['~Xu_Wang22', '~Yuan_Wu2']",
         "Stochastic Adversarial Networks for Multi-Domain Text Classification",
         "Adversarial training has played a pivotal role in the significant advancements of multi-domain text classification (MDTC). Recent MDTC methods often adopt the shared-private paradigm, wherein a shared feature extractor captures domain-invariant knowledge, while private feature extractors per domain extract domain-dependent knowledge. These approaches have demonstrated state-of-the-art performance. However, a major challenge remains: the exponential increase in model parameters as new domains emerge. To address this challenge, we propose the Stochastic Adversarial Network (SAN), which models multiple domain-specific feature extractors as a multivariate Gaussian distribution rather than weight vectors. With SAN, we can sample as many domain-specific feature extractors as necessary without drastically increasing the number of model parameters. Consequently, the model size of SAN remains comparable to having a single domain-specific feature extractor when data from multiple domains. Additionally, we incorporate domain label smoothing and robust pseudo-label regularization techniques to enhance the stability of the adversarial training and improve feature discriminability, respectively. The evaluations conducted on two prominent MDTC benchmarks validate the competitiveness of our proposed SAN method against state-of-the-art approaches.",
         "Reviewer_agCZ",
         "1698322956814",
         "1699636820093",
         "5",
         "3",
         "2",
         "2",
         "2",
         "To tackle Multi-Domain Text Classification (MDTC) task, one mainstream of proposed techniques is to extract the features via the shared and private extractors to capture the domain-invariant and domain-specific knowledge, respectively. However, as the number of domains increases, the count of their private extractors will also rapidly surge.  \nThe author proposed a novel approach Stochastic Adversarial Network (SAN) to avoid the unaffordable explosion of parameters when encountering the newly emerged domains. Specifically, the author modeled the domain-specific feature extractors as a multivariate Gaussian distribution. Furthermore, some tricks, such as domain label smoothing and robust pseudo-label regularization techniques, are utilized to improve the overall performance.\nExtensive experiments on two benchmarks demonstrate the superiority of the proposed method compared with the state-of-the-art baselines. 1.\tThis paper proposes a novel approach, called Stochastic Adversarial Network, to reduce the computational cost while meeting a large amount of domains.\n2.\tThis paper originally employs Gaussian distribution to generate private extractors in order to circumvent the extensive parameters found in previous works. \n3.\tThis paper conducts numerous experiments to show the effectiveness of the proposed scheme. Moreover, the parameter sensitivity and ablation study demonstrate the rationale of parameter selection and the necessity of each modules, respectively. 1.\tThe motivation is trivial. It is hard to say that the model size is the bottleneck of the training process according to Table.1 and 9. 342.91M is absolutely fine in current period. Further, inference process may gain nothing in the aspect of computational acceleration as we only choose one private extractor from the Domain Discriminator D. \n2.\tThe baselines are outdated and improvements on two benchmarks are limited. According to Table 2,3 and 4, it can hardly convince me that the proposed model exactly outperforms the SOTA models. It is worth noting that the author points out this limitation in Appendix E. \n3.\tThe writing and organization need to be improved. \na)\tThe emphasis in writing has been misplaced. As the author highlights the role of multivariate Gaussian distribution in Abstract, you are supposed to tell more story of it instead of the regularization term, which is the idea of others.\nb)\tThe effectiveness is not the focus of this article, efficiency is. Therefore, moving D. 5 to the main body of the article perhaps make your contribution more prominent. \nc)\tSome tools can be utilized effectively to optimize sentence structure and composition. 1.\tThe aim of equation (3) is to ensure that the shared Feature Extractor F_s exactly extract the domain-invariant features. Thus the author maximum this loss to let the discriminator D be confused about the features coming from F_s. Here is the question: discriminator D may lack of capabilities to recognize the difference among domains as this loss function does not involve any domain knowledge.\nThere may exists another adversarial network in equation (3), i.e. domain-specific extractor enhances the capabilities of discriminator D and domain-invariant extractor still confuse the discriminator D. \n2.\tAs a classic NLP task, this method inevitably needs to be compared with chatgpt. Currently, chatgpt has shown remarkable zero-shot capabilities. Therefore, you need to convince the reviewers why your method should be used instead of chatgpt or highlight the scenarios in which your method has significant advantages.",
         "534",
         "0",
         "5",
         "0.7784",
         "0.09682159950000001",
         "0.9668992162000001",
         "48",
         "15",
         "31.5082",
         "12.8846",
         "15.6113",
         "14.3361",
         "13.4832",
         "0.20270000000000002",
         "86",
         "0",
         "0",
         "0",
         "0",
         "3",
         "4",
         "2",
         "no",
         "neutral",
         "neutral",
         "Minimal",
         "somewhat specific",
         "3",
         "4",
         "4",
         "75",
         "75"
        ],
        [
         "10",
         "zz61V8bIab",
         "7001",
         "1695450633393",
         "['~Xu_Wang22', '~Yuan_Wu2']",
         "Stochastic Adversarial Networks for Multi-Domain Text Classification",
         "Adversarial training has played a pivotal role in the significant advancements of multi-domain text classification (MDTC). Recent MDTC methods often adopt the shared-private paradigm, wherein a shared feature extractor captures domain-invariant knowledge, while private feature extractors per domain extract domain-dependent knowledge. These approaches have demonstrated state-of-the-art performance. However, a major challenge remains: the exponential increase in model parameters as new domains emerge. To address this challenge, we propose the Stochastic Adversarial Network (SAN), which models multiple domain-specific feature extractors as a multivariate Gaussian distribution rather than weight vectors. With SAN, we can sample as many domain-specific feature extractors as necessary without drastically increasing the number of model parameters. Consequently, the model size of SAN remains comparable to having a single domain-specific feature extractor when data from multiple domains. Additionally, we incorporate domain label smoothing and robust pseudo-label regularization techniques to enhance the stability of the adversarial training and improve feature discriminability, respectively. The evaluations conducted on two prominent MDTC benchmarks validate the competitiveness of our proposed SAN method against state-of-the-art approaches.",
         "Reviewer_NpVu",
         "1698685251472",
         "1699636819980",
         "1",
         "4",
         "1",
         "3",
         "1",
         "The paper presents a new model for MDTC, built on the previous shared-private feature extraction architecture. The innovation includes 1) modelling the parameter of domain-specific feature extractors as a Gaussian random variable, and for each domain, the parameter is drawn from the distribution. This is why the model is called stochastic adversarial network, or SAN, 2)  domain label smoothing 3) pseudo labelling regularization.  The authors show some empirical successes on some datasets. The paper demonstrates that the authors are well aware of the challenges in MDTC and are familiar with various tools in deep learning (such as reparametrization trick, label smoothing, pseudo labelling etc). I have some concerns about this work.\n\n1. Assuming the design of proposed model is sensible (in fact I have doubts on this; see 2), the work heuristically puts together a bunch of well-known techniques to improve performance. Works of primarily such a nature, although potentially valuable in practice, do not possess enough novelty that justifies a publication in ICLR. \n\n2. I have doubts on the proposed approach in the \"stochastic\" part. Let us track the parameter $W_1$ of the domain-specific feature extractor for domain 1. In the beginning it is drawn from the prescribed Gaussian, say, its value is $W_1^{(0)}$, and after the first iteration, the Gaussian parameter gets updated (using the reparametrization trick)  -- well, whether Gaussian parameter is updated or not is not critical here. Then in the next iteration, $W_1$  is drawn again, let us call it $W_1^{(1)}$. If this understanding is correct, then $W_1^{(0)}$ and $W_1^{(1)}$ can be very different. That is, along the training process, $W_1$ will randomly hop everywhere as long as the Gaussian variance is not vanishing. How would such a scheme work at all? Bringing the parameter $W_2$ of the second domain-specific extractor into the picture would show an even more absurd picture: at each iteration $t$, $W_1^{(t)}$ and  $W_2^{(t)}$ are random variables following the same Gaussian distribution. How would $W_1$ and $W_2$ track their respective domain specific features?  If this structure were to work, it would have to be the case where the Gaussian variance is very small (which might be the case as shown in Figure 3 of the appendix). In that case, all domain-specific extractors are more or less the same, i.e, all equal to the Gaussian mean, only subject to some tiny *domain-nonspecific* random perturbation. That would defeat the entire purpose of having domain specific feature extractors. -- I could misunderstood the paper and I am willing to hear the authors' defence on this. In your defence, please also show the initial and final values of the Gaussian mean vector $\\mu$ (say, in terms of its L1-norm divided by its dimension), I would like compare it with $\\sigma$. See weakness 2.\n\nAdditional question: The authors say that the conventional shared-private adversarial scheme will have \"exponential increase\" in model parameters as new domains emerge? Why is it exponential?",
         "484",
         "0",
         "3",
         "0.7855",
         "-0.0365584416",
         "0.847129941",
         "48",
         "11",
         "47.077",
         "11.2985",
         "14.3863",
         "13.7578",
         "12.8684",
         "0.1563",
         "94",
         "0",
         "0",
         "0",
         "0",
         "2",
         "4",
         "3",
         "False",
         "neutral",
         "neutral",
         "Minimal",
         "somewhat specific",
         "4",
         "4",
         "3",
         "60",
         "70"
        ],
        [
         "11",
         "zz61V8bIab",
         "7001",
         "1695450633393",
         "['~Xu_Wang22', '~Yuan_Wu2']",
         "Stochastic Adversarial Networks for Multi-Domain Text Classification",
         "Adversarial training has played a pivotal role in the significant advancements of multi-domain text classification (MDTC). Recent MDTC methods often adopt the shared-private paradigm, wherein a shared feature extractor captures domain-invariant knowledge, while private feature extractors per domain extract domain-dependent knowledge. These approaches have demonstrated state-of-the-art performance. However, a major challenge remains: the exponential increase in model parameters as new domains emerge. To address this challenge, we propose the Stochastic Adversarial Network (SAN), which models multiple domain-specific feature extractors as a multivariate Gaussian distribution rather than weight vectors. With SAN, we can sample as many domain-specific feature extractors as necessary without drastically increasing the number of model parameters. Consequently, the model size of SAN remains comparable to having a single domain-specific feature extractor when data from multiple domains. Additionally, we incorporate domain label smoothing and robust pseudo-label regularization techniques to enhance the stability of the adversarial training and improve feature discriminability, respectively. The evaluations conducted on two prominent MDTC benchmarks validate the competitiveness of our proposed SAN method against state-of-the-art approaches.",
         "Reviewer_bAwA",
         "1698806204960",
         "1699636819830",
         "5",
         "2",
         "3",
         "3",
         "2",
         "The paper tackles the multi-domain text classification (MDTC) problem, and tries to minimize the amount the learning parameters by introducing a stochastic feature extractor (domain feature). The model is effective in handling the benchmark datasets and outperform the other baseline models. Additional multi-source UDA experiment is also conducted as a simple model extension. The proposed model performs strong in the benchmark dataset, with minimized learning parameters. The design of using both shared/private feature extractor is interesting and effective in merging the domain in the latent space. The proposed method is straightforward and easy to understand. 1. Though the proposal seems to be effective and achieving strong performance, the model itself still uses a relative old adversarial backbone, with the discriminator approach for removing the domain invariant feature. The two-feature-extractor approach is interesting, but that is mainly to deal with parameter increase in the MDTC problem. It would be great to see other design improvement in the model.\n2. The performance gain in using the proposed model is marginal on the Amazon review/FDU-MTL datasets. Also, it would be great to have some analysis on adjusting the setting between the two feature extractors. 1. This might be somewhat irrelevant, but would the model perform well in multi domain classification in other domain type(s), e.g., images?",
         "213",
         "0",
         "3",
         "0.7456",
         "0.26833333330000003",
         "0.9479958415",
         "48",
         "9",
         "35.1089",
         "12.7719",
         "15.5507",
         "14.5546",
         "14.2456",
         "0.1041",
         "93",
         "0",
         "0",
         "0",
         "0",
         "5",
         "4",
         "2",
         "True",
         "neutral",
         "neutral",
         "No Hedging",
         "3",
         "4",
         "4",
         "4",
         "86",
         "86"
        ],
        [
         "12",
         "zyBJodMrn5",
         "1924",
         "1695135324143",
         "['~Takuya_Ito1', '~Soham_Dan1', '~Mattia_Rigotti1', '~James_Kozloski1', '~Murray_Campbell1']",
         "On the generalization capacity of neural networks during generic multimodal reasoning",
         "The advent of the Transformer has led to the development of large language models (LLM), which appear to demonstrate human-like capabilities. To assess the generality of this class of models and a variety of other base neural network architectures to multimodal domains, we evaluated and compared their capacity for multimodal generalization. We introduce a multimodal question-answer benchmark to evaluate three specific types of out-of-distribution (OOD) generalization performance: distractor generalization (generalization in the presence of distractors), systematic compositional generalization (generalization to new task permutations), and productive compositional generalization (generalization to more complex tasks with deeper dependencies). While we found that most architectures faired poorly on most forms of generalization (e.g., RNNs and standard Transformers), models that leveraged cross-attention mechanisms between input domains, such as the Perceiver, fared better. Our positive results demonstrate that for multimodal distractor and systematic generalization, cross-attention is an important mechanism to integrate multiple sources of information. On the other hand, all architectures failed in productive generalization, suggesting fundamental limitations of existing architectures for specific types of multimodal OOD generalization. These results demonstrate the strengths and limitations of specific architectural components underlying modern neural models for multimodal reasoning. Finally, we provide *Generic COG* (gCOG), a configurable benchmark with several multimodal generalization splits, for future studies to explore.",
         "Reviewer_skmj",
         "1698632081062",
         "1701140370231",
         "6",
         "4",
         "3",
         "3",
         "3",
         "The paper studies multi-modal generalization in neural networks such as transformer-based models and recurrent networks. To do so, the authors propose Genertic COG, a modular benchmark with multi-modal splits to test for 3 types of generalization: 1) distractor (generalization to different noise distribution), 2) systemic compositional (generalization to new permutation of task structures) and 3) productive compositional (generalization to tasks of greater complexity) generalization. Experiments conducted by the authors showed that while cross-attention based transformers (e.g. CrossAttn and Perceiver) outperform other models and perform well on distractor and systemic compositional generalization, they fail at productive generalization when the depth of the task tree goes to out-of-distribution (>3). Representational analysis is done to show that cross-attention based transformers (e.g. CrossAttn and Perceiver) superior performance on distractor generalization might be due to their ability to better retain task-relevant (e.g. stimulus and response) information at the penultimate layer. +The paper studies a timely and critical question about the generalization capability of multimodal transformer-based models\n\n+The proposed benchmark dataset uncovers a limitation of current multimodal transformer-based models: productive generalization which can facilitate the development of more generalizable transformers/LLMs. \n\n+The paper is generally well-written and easy to follow -While the paper’s studies show that certain designs (e.g. cross-attention) seem to confer multi-modal generalization, there are still some key questions that can be more thoroughly studied to uncover the reasons why this is the case.\n\n-Similarly, important discussions such as why the (cross-attention) transformers might fail at productive generalization is lacking. What is the key architectural difference between dual stream transformer and transformers with cross attn that can explain their generalization performance? Is it only the lack of a cross attention between the different modalities?\n\nPossible typo:\n“Finally, we included a Perceiver-like model (Jaegle et al., 2021), an architecture designed to generically process multimodal inputs (Fig. 2f).”:  (Fig. 2f) > (Fig. 2e).\n\n\n==Post-Rebuttal==\nI appreciate the authors' response and decided to keep my score.",
         "318",
         "1",
         "3",
         "0.8097",
         "0.0690708101",
         "0.8793090582",
         "69",
         "29",
         "14.3228",
         "16.1836",
         "19.2815",
         "17.1951",
         "18.7062",
         "0.6926",
         "76",
         "0",
         "0",
         "0",
         "0",
         "4",
         "3",
         "2",
         "yes",
         "neutral",
         "neutral",
         "Moderate",
         "somewhat specific",
         "4",
         "4",
         "3",
         "83",
         "83"
        ],
        [
         "13",
         "zyBJodMrn5",
         "1924",
         "1695135324143",
         "['~Takuya_Ito1', '~Soham_Dan1', '~Mattia_Rigotti1', '~James_Kozloski1', '~Murray_Campbell1']",
         "On the generalization capacity of neural networks during generic multimodal reasoning",
         "The advent of the Transformer has led to the development of large language models (LLM), which appear to demonstrate human-like capabilities. To assess the generality of this class of models and a variety of other base neural network architectures to multimodal domains, we evaluated and compared their capacity for multimodal generalization. We introduce a multimodal question-answer benchmark to evaluate three specific types of out-of-distribution (OOD) generalization performance: distractor generalization (generalization in the presence of distractors), systematic compositional generalization (generalization to new task permutations), and productive compositional generalization (generalization to more complex tasks with deeper dependencies). While we found that most architectures faired poorly on most forms of generalization (e.g., RNNs and standard Transformers), models that leveraged cross-attention mechanisms between input domains, such as the Perceiver, fared better. Our positive results demonstrate that for multimodal distractor and systematic generalization, cross-attention is an important mechanism to integrate multiple sources of information. On the other hand, all architectures failed in productive generalization, suggesting fundamental limitations of existing architectures for specific types of multimodal OOD generalization. These results demonstrate the strengths and limitations of specific architectural components underlying modern neural models for multimodal reasoning. Finally, we provide *Generic COG* (gCOG), a configurable benchmark with several multimodal generalization splits, for future studies to explore.",
         "Reviewer_a4Su",
         "1699400405601",
         "1699636123172",
         "3",
         "3",
         "1",
         "2",
         "2",
         "This paper proposes a new benchmark for assessing various forms of generalization in a multimodal setting named gCOG. The dataset includes several different splits intended to measure different aspects of generalization. The paper also compares several different model architectures on the dataset. * The paper introduces a new dataset, gCOG. While the dataset is conceptually similar to those from prior work, such as gSCAN, it supports different types of contexts and instruction types, including more compositional instructions. I'm aware of some prior work (e.g. \\[1\\], \\[2\\]) that studied compositional generalization in natural language tasks and found that gains on one synthetic task did not always transfer to other tasks, so increasing the diversity of such benchmarks for assessing compositional generalization and related challenges in the multimodal setting could be a potentially valuable contribution.\n\n\\[1\\] https://arxiv.org/abs/2007.08970\n\\[2\\] https://aclanthology.org/2021.acl-long.75/ * I'm concerned about the strength of the baselines used in the paper (see my related questions below). While the primary contribution of the paper is the dataset, it is also important to establish strong baselines for this new dataset and to ensure that the conclusions from the empirical results are valid. The appendix states that only a *single Transformer layer* with a *single attention head* was used. This is almost certainly not an optimal depth and number of attention heads. Relatedly, it looks like some models are potentially underfit, according to the figures. With >5M training examples and a relatively simple input space, I would have expected a reasonably sized Transformer model to achieve low training loss and reasonable IID generalization. If these models could have been applied to similar tasks such as gSCAN (even using symbolic tokens to represent the scene context), where they could be compared with comparable baselines from prior work, this would have helped establish that these are indeed reasonably strong baselines that have been well tuned.\n* The qualitative difference between gCOG and datasets from prior work such as gSCAN was not very clearly described. For example, one of the key claims seemed to be gCOG \"employs generic feature sets that are not tied to any specific modality\". However, it seems like it is a useful property for a multimodal dataset to have a clear relation to real-world multimodal tasks. Indeed, the authors provide interpretations of their tasks in the form of natural language instructions and visual scenes (e.g. in Figure 1), and these are very useful for understanding the task. Representing this dataset using familiar modalities (e.g. vision, natural language) could enable future work to study different research questions, e.g. the impact of pre-training. The ability to alternatively represent the task input as a sequence of tokens is also reasonable for studying certain research questions, but this also seems possible for datasets from prior work. For example, I understand that gSCAN includes both symbolic descriptions as well as visual renderings. Anyways, I think clarifying the motivation for this dataset (e.g. increasing diversity of available benchmarks, focusing on different generalization challenges, etc.) separately from how inputs are represented for the experiments in this paper (e.g. token sequence vs. images and natural language) would be useful.\n* Some of the main empirical conclusions (e.g. that generalization to greater \"depth\" is challenging for models such as Transformers) are generally known from prior work.\n\nnits:\n* Introduction paragraph 1 - \"on a carefully controlled generic multimodal reasoning tasks\" -> \"on carefully...\" or \"...task\"\n* Appendix A.2.1 - Maybe reference Tables 8 and 9 where you discuss different positional embeddings.\n* Consider discussing \\[3\\] in related work. \\[3\\] demonstrated the importance of cross-modal attention for gSCAN, and similarly studied the relative difficulty of various aspects of generalization, including distractors.\n\n\\[3\\] https://aclanthology.org/2021.emnlp-main.166/ * Why not try more layers and attention heads, e.g. following a standard hyperparameter setting for model size such as those of BERT-Base? Or even BERT-Small?\n* In Figure 2 (F) why does the single-stream Transformer have almost double the parameters of the double stream Transformer? For the other Transformers, do the encoder blocks used for the task vector and stimulus vector share parameters? \n* What optimizer and hyperparameters (e.g. learning rate) were used for training? How were these chosen? I didn't see these details in Appendix A.2. \n* Position embeddings - Since you are representing 10x10 grids as 1D sequences, 1D relative positions may not capture this structure well. On the other hand, absolute position embeddings seem potentially problematic in the case of the SSTrfmr model, since they will not be consistently assigned to the same grid position if the text sequence is first and has varying length. Mitigating this may be important to provide for a fairer comparison with the SSTrfmr model.\n* To what do you attribute the periodic loss spikes during training that are shown in Figure 4 (E)?\n* I found the usage of \"cross-attention\" a bit confusing. For example, the single stream Transformer features cross-modal attention as an implicit consequence of self-attention over the concatenated sequence. I thought this would commonly be referred to as an instance of \"cross-attention\" between modalities. \n* Does the dataset also contain visual renderings and natural language instructions to enable future work to study these tasks using familiar modalities?",
         "860",
         "10",
         "1",
         "0.8184",
         "0.076096273",
         "0.8955636024",
         "52",
         "2",
         "37.0807",
         "11.9609",
         "15.3107",
         "14.4483",
         "12.808",
         "0.1278",
         "86",
         "0",
         "0",
         "0",
         "0",
         "4",
         "3",
         "2",
         "True",
         "neutral",
         "neutral",
         "No Hedging",
         "somewhat specific",
         "3",
         "4",
         "2",
         "60",
         "60"
        ],
        [
         "14",
         "zyBJodMrn5",
         "1924",
         "1695135324143",
         "['~Takuya_Ito1', '~Soham_Dan1', '~Mattia_Rigotti1', '~James_Kozloski1', '~Murray_Campbell1']",
         "On the generalization capacity of neural networks during generic multimodal reasoning",
         "The advent of the Transformer has led to the development of large language models (LLM), which appear to demonstrate human-like capabilities. To assess the generality of this class of models and a variety of other base neural network architectures to multimodal domains, we evaluated and compared their capacity for multimodal generalization. We introduce a multimodal question-answer benchmark to evaluate three specific types of out-of-distribution (OOD) generalization performance: distractor generalization (generalization in the presence of distractors), systematic compositional generalization (generalization to new task permutations), and productive compositional generalization (generalization to more complex tasks with deeper dependencies). While we found that most architectures faired poorly on most forms of generalization (e.g., RNNs and standard Transformers), models that leveraged cross-attention mechanisms between input domains, such as the Perceiver, fared better. Our positive results demonstrate that for multimodal distractor and systematic generalization, cross-attention is an important mechanism to integrate multiple sources of information. On the other hand, all architectures failed in productive generalization, suggesting fundamental limitations of existing architectures for specific types of multimodal OOD generalization. These results demonstrate the strengths and limitations of specific architectural components underlying modern neural models for multimodal reasoning. Finally, we provide *Generic COG* (gCOG), a configurable benchmark with several multimodal generalization splits, for future studies to explore.",
         "Reviewer_DJb6",
         "1699470958350",
         "1699636122858",
         "8",
         "4",
         "3",
         "3",
         "3",
         "The paper introduces a new multimodal question answering benchmark for out-of-distribution generalization, specifically covering task compositionality, robustness to distractors and combinatorial generalization. It uses this benchmark to evaluate various models and analyze their performance. - **Topic**: The paper studies an important topic which in my opinion is underexplored in current deep learning research. Especially given the tendency these days to scale training up to vast amounts of data, I believe it is particularly important to design carefully controlled benchmarks that can: evaluate the model’s performance from a critical and cautious standpoint, point to their fundamental limitations (e.g. systematic generalization), and support further research about ways to overcome these.  \n- **Evaluation**: The paper offers both extensive extrinsic evaluation, with performance comparison of various models on the different generalization skills, as well as intrinsic analysis of their internal representations’ degree of alignment to the stimuli.\n- **Clarity**: The writing quality is good and the paper is clear and easy to follow. The paper is well-organized, claims and findings are clearly stated, and useful figures and diagrams are provided.\n- **Related Works**: It does a good job in providing the relevant context, motivation and related works. \n- **Contribution**: The empirical findings of the paper on the benefits and limitations of different inductive biases such as recurrent and attention-based are important and may be of broad interest to the community. - **Pre-trained models** The paper focuses on models trained from scratch rather than pre-trained. This could be a strength and a weakness. On the one hand, it allows for isolating the contribution of the architectural choices from other factors of optimization, and training data. On the other hand, it has been observed that by training models at large enough scales enables the emergence of generalization capabilities, which we don’t see in smaller scales. I think it will be critical to also analyze the performance of pretrained models on the benchmark, in order to strengthen the paper.\n- **Visual Simplicity**: The visual side of the benchmark is quite rudimentary, featuring colorful letters. Extending it to a larger range of visual tokens/objects, that could have more than one property (color), and a broader set of elements and variations (than 26 letters), could be a straightforward extension that could help make it a bit more challenging visually. - **COG task**: It will be useful to discuss the COG task (rather than just mentioning it) before describing the new gCOG one, so that it will be clearer to the reader what are new contributions of the new benchmark compared to COG and the degree of their importance. In the overview diagram I would also recommend showing a sample also from COG to make the differences clearer. \n- **Grid size / generalization**: It could be interesting to vary the size of the grid in training/evaluation and study its impact on model’s performance. \n- **Terminology**: I recommend changing the phrase “Distractor generalization” to one that better conveys it’s about changing the answer distribution. Maybe e.g. answer distribution shift. I also recommend changing the name “Systematic compositional generalization” to “combinatorial generalization”, to emphasize that the main point is the generalization to permutation, and also to better contrast it with the following “Productive generalization” (which could also be systematic).\n- **Figures**: Would be good to increase the size of the plots in Figure 3b. It will also be good the increase the distance and visual separation between the sub-figures in each figure throughout the paper. \n- In the introduction: “multimodal question-answer” -> “answering”.\n- “This design allowed us” -> “This design allow us”.",
         "591",
         "0",
         "2",
         "0.7407",
         "0.1749524183",
         "0.9485415220000001",
         "52",
         "1",
         "28.5253",
         "14.5712",
         "17.3533",
         "15.8558",
         "15.5336",
         "0.25520000000000004",
         "90",
         "1",
         "0",
         "0",
         "0",
         "4",
         "5",
         "3",
         "1",
         "2",
         "3",
         "2",
         "3",
         "4",
         "4",
         "3",
         "83",
         "85"
        ],
        [
         "15",
         "zxPDdw8koz",
         "4303",
         "1695343783421",
         "['~Mohammadreza_Salehi3', '~Mehrdad_Farajtabar1', '~Maxwell_Horton1', '~Fartash_Faghri1', '~Hadi_Pouransari1', '~Raviteja_Vemulapalli1', '~Oncel_Tuzel2', '~Ali_Farhadi3', '~Mohammad_Rastegari2', '~Sachin_Mehta1']",
         "CLIP meets Model Zoo Experts: Pseudo-Supervision for Visual Enhancement",
         "Contrastive language image pretraining (CLIP) is a standard method for training vision-language models. While CLIP is scalable, promptable, and robust to distribution shifts on image classification tasks, it lacks object localization capabilities.  This paper studies the following question: Can we augment CLIP training with task-specific vision models from model zoos to improve its visual representations? Towards this end, we leverage open-source task-specific vision models to generate pseudo-labels for an uncurated and noisy image-text dataset. Subsequently, we train CLIP models on these pseudo-labels in addition to the contrastive training on image and text pairs. This simple setup shows substantial improvements of up to 16.3\\% across different vision tasks, including segmentation, detection, depth estimation, and surface normal estimation. Importantly, these enhancements are achieved without compromising CLIP's existing capabilities, including its proficiency in promptable zero-shot classification.",
         "Reviewer_BcRN",
         "1698598642014",
         "1699636398632",
         "3",
         "4",
         "3",
         "3",
         "2",
         "This paper proposes a training method to improve the CLIP’s visual representation based on task-specific vision models. It utilizes the vision models from model zoo to construct pseudo labels for noisy image-text models, serving as extra supervision besides the contrastive loss. This simple method is effective, improving  up to 16.3% across different vision tasks, including segmentation, detection, depth estimation, and surface normal estimation. 1. The proposed method is simple yet effective, leveraging existing vision models to serve as teacher for extra supervision. The improvements is obvious even compared to fine-tuned CLIP model on CC3M dataset.\n2. The effectiveness is demonstrated on a bunch of downstream tasks, including segmentation, detection, depth estimation, and surface normal estimation across multiple datasets. Limitations of novelty.  The paper claims proposed method uses publicly accessible experts trained on diverse tasks with different data distributions and objectives, which is different from previous works that use vision foundation models to generate labels. However, from the Fig.1 and model design, data samples are labeled by various foundation models and losses are computed respectively to optimize task heads, which is similar to previous pseudo labeling strategy. The training process involves multiple vision foundation model forwarding process, which would slowen the training process. How much impact will this have on the training process? And is it fair to compare the training strategy with CLIP-FT model in paper?",
         "226",
         "0",
         "2",
         "0.8079",
         "0.1061594203",
         "0.8954392672",
         "49",
         "12",
         "30.6084",
         "13.0004",
         "15.6607",
         "14.5546",
         "14.526299999999999",
         "0.0364",
         "94",
         "0",
         "0",
         "0",
         "0",
         "4",
         "5",
         "1",
         "yes",
         "positive",
         "polite",
         "No Hedging",
         "somewhat specific",
         "4",
         "5",
         "4",
         "90",
         "92"
        ],
        [
         "16",
         "zxPDdw8koz",
         "4303",
         "1695343783421",
         "['~Mohammadreza_Salehi3', '~Mehrdad_Farajtabar1', '~Maxwell_Horton1', '~Fartash_Faghri1', '~Hadi_Pouransari1', '~Raviteja_Vemulapalli1', '~Oncel_Tuzel2', '~Ali_Farhadi3', '~Mohammad_Rastegari2', '~Sachin_Mehta1']",
         "CLIP meets Model Zoo Experts: Pseudo-Supervision for Visual Enhancement",
         "Contrastive language image pretraining (CLIP) is a standard method for training vision-language models. While CLIP is scalable, promptable, and robust to distribution shifts on image classification tasks, it lacks object localization capabilities.  This paper studies the following question: Can we augment CLIP training with task-specific vision models from model zoos to improve its visual representations? Towards this end, we leverage open-source task-specific vision models to generate pseudo-labels for an uncurated and noisy image-text dataset. Subsequently, we train CLIP models on these pseudo-labels in addition to the contrastive training on image and text pairs. This simple setup shows substantial improvements of up to 16.3\\% across different vision tasks, including segmentation, detection, depth estimation, and surface normal estimation. Importantly, these enhancements are achieved without compromising CLIP's existing capabilities, including its proficiency in promptable zero-shot classification.",
         "Reviewer_hJxN",
         "1698648844616",
         "1699636398538",
         "3",
         "5",
         "2",
         "3",
         "2",
         "This paper aims to augment CLIP training with task-specific data and task heads. In particular, the authors use open-source task-specific vision models to generate the pseudo-labels and train the task-specific heads using these labels. The experiment results show the effectiveness of training such CLIP model while keeping zero-shot classification ability. - Well written and easy to follow. \n\n- The motivation is clear and idea is simple to understand.\n\n- The experiment results show the effectiveness of pseudo-label training in different tasks, including segmentation, detection, and depth estimation. - The experiment results are not convincing. The baselines are not strong. The authors should present more strong baselines, including Mask2Former. Moreover, this work dose not compare with recent state-of-the-art approach whether on semantic segmentation or depth prediction. \n\n- Missing the frozen trained CLIP model baselines with heavier head \\[1\\], \\[2\\], \\[3\\]. What are the Frozen CLIP results of strong baselines?\n\n- The ablation studies are not good. For example, the effects of various task heads are not explored. The effects of different task-specific experts are not explored.  \nThe experiment details can be put into appendix.\n- In abstract, “it lacks object localization capabilities” Personally, CLIP models have the localization ability. Several works \\[1\\]\\[2\\] have adopted CLIP as feature extractor, which also achieve good results.\n\n- Figure-1 (c) needs to add the baseline results for better comparison. \n\n\n\\[1\\], Frozen clip models are efficient video learners, ECCV-2022\n\n\\[2\\], Convolutions Die Hard: Open-Vocabulary Segmentation with Single Frozen Convolutional CLIP, NeurIPS-2023\n\\[3\\]. F-VLM: Open-Vocabulary Object Detection upon Frozen Vision and Language Models, ICLR-2023 See the weakness part.",
         "261",
         "8",
         "0",
         "0.7694",
         "0.0820393375",
         "0.8567712307",
         "49",
         "11",
         "39.7853",
         "10.703",
         "12.5661",
         "12.2047",
         "12.4388",
         "0.07200000000000001",
         "94",
         "0",
         "0",
         "0",
         "0",
         "2",
         "4",
         "3",
         "no",
         "neutral",
         "neutral",
         "1",
         "2",
         "4",
         "3",
         "3",
         "75",
         "75"
        ],
        [
         "17",
         "zxPDdw8koz",
         "4303",
         "1695343783421",
         "['~Mohammadreza_Salehi3', '~Mehrdad_Farajtabar1', '~Maxwell_Horton1', '~Fartash_Faghri1', '~Hadi_Pouransari1', '~Raviteja_Vemulapalli1', '~Oncel_Tuzel2', '~Ali_Farhadi3', '~Mohammad_Rastegari2', '~Sachin_Mehta1']",
         "CLIP meets Model Zoo Experts: Pseudo-Supervision for Visual Enhancement",
         "Contrastive language image pretraining (CLIP) is a standard method for training vision-language models. While CLIP is scalable, promptable, and robust to distribution shifts on image classification tasks, it lacks object localization capabilities.  This paper studies the following question: Can we augment CLIP training with task-specific vision models from model zoos to improve its visual representations? Towards this end, we leverage open-source task-specific vision models to generate pseudo-labels for an uncurated and noisy image-text dataset. Subsequently, we train CLIP models on these pseudo-labels in addition to the contrastive training on image and text pairs. This simple setup shows substantial improvements of up to 16.3\\% across different vision tasks, including segmentation, detection, depth estimation, and surface normal estimation. Importantly, these enhancements are achieved without compromising CLIP's existing capabilities, including its proficiency in promptable zero-shot classification.",
         "Reviewer_8Cdu",
         "1698863097320",
         "1699636398427",
         "3",
         "5",
         "2",
         "3",
         "1",
         "This paper proposes CLIPTeX, which enhances CLIP's capabilities utilizing specialized vision models. \nBy generating pseudo-labels from these models and subsequently training CLIP on these labels combined with image-text pairs, the approach has shown notable improvements in various vision tasks. \n\nCLIPTeX not only bolsters CLIP's visual understanding but also preserves its foundational strengths, ensuring its applicability across several computer vision tasks. This paper conducts experiments across multiple datasets to demonstrate the potential of CLIPTeX. 1. This paper is well-written and easy to follow.\n2. The rigorous experimentation across diverse tasks such as segmentation, detection, depth estimation, and surface normal estimation lends credibility to the paper's claims.\n3. This work emphasizes the potential of using pseudo-labels, setting a precedent for future research to consider such augmentation strategies. 1. The pre-processing to get the pseudo label is somehow time-consuming.\n2. Considering CLIP is a vision-language pre-training model, evaluation results on the cross-modal downstream tasks are necessary, which helps demonstrate the cross-modal dense understanding capability of proposed CLIPTeX, such as 2D visual grounding, 2D question-answering, etc.\n3. The reviewer holds that the novelty of this paper is limited. Instead of introducing a fundamentally new approach or technique, the paper's main contribution is in integrating specialized task-specific vision models with CLIP. While this integration does lead to performance improvements, the core idea revolves around a simple application of pseudo-labels. Essentially, the work can be viewed as a refinement of CLIP without enough novelty. \n4. Besides quantitative results, qualitative results on downstream tasks are required to further prove the 2D representation capability of CLIPTeX. Please check the Weaknesses mentioned above.",
         "264",
         "0",
         "7",
         "0.8374",
         "0.0525974026",
         "0.9221839309000001",
         "49",
         "8",
         "20.0915",
         "14.8293",
         "18.2521",
         "15.9032",
         "16.8967",
         "0.19390000000000002",
         "80",
         "0",
         "0",
         "0",
         "0",
         "4",
         "3",
         "1",
         "yes",
         "neutral",
         "neutral",
         "Minimal",
         "somewhat specific",
         "4",
         "3",
         "4",
         "85",
         "85"
        ],
        [
         "18",
         "zxPDdw8koz",
         "4303",
         "1695343783421",
         "['~Mohammadreza_Salehi3', '~Mehrdad_Farajtabar1', '~Maxwell_Horton1', '~Fartash_Faghri1', '~Hadi_Pouransari1', '~Raviteja_Vemulapalli1', '~Oncel_Tuzel2', '~Ali_Farhadi3', '~Mohammad_Rastegari2', '~Sachin_Mehta1']",
         "CLIP meets Model Zoo Experts: Pseudo-Supervision for Visual Enhancement",
         "Contrastive language image pretraining (CLIP) is a standard method for training vision-language models. While CLIP is scalable, promptable, and robust to distribution shifts on image classification tasks, it lacks object localization capabilities.  This paper studies the following question: Can we augment CLIP training with task-specific vision models from model zoos to improve its visual representations? Towards this end, we leverage open-source task-specific vision models to generate pseudo-labels for an uncurated and noisy image-text dataset. Subsequently, we train CLIP models on these pseudo-labels in addition to the contrastive training on image and text pairs. This simple setup shows substantial improvements of up to 16.3\\% across different vision tasks, including segmentation, detection, depth estimation, and surface normal estimation. Importantly, these enhancements are achieved without compromising CLIP's existing capabilities, including its proficiency in promptable zero-shot classification.",
         "Reviewer_Q843",
         "1699416352034",
         "1699636398331",
         "8",
         "3",
         "3",
         "3",
         "3",
         "In this work, the authors augment the capabilities of CLIP with task-specific experts that help to improve its representation for the downstream tasks. Those experts are well-known models from model zoos used to create hard pseudo-labels on web-scale noisy image-text datasets. - Easy to read. Good experiments and ablation. \n- It is great to see that by using experts and doing contrastive task-specific loss, the performance on downstream task improve, and CLIP maintains its versatility and obtain comparable performance on zero-shot classification\n- The method is simple and efficient. - It is interesting to see that the complementary task help between each others. Table 5, I believe lot of insights can be done and I was expecting to see more analysis in this part of the paper. \n- It would be great to guess what set of tasks should be pick, for the downstream task. So, we can get a set of different CLIPTeX trained with the combinatories of task/experts so people can use the one that is more likely to work for the downstream task.\nFor example, for segmentation seems to be that the most valuable experts are the segmentation and depth for linear and PSPNet. Similar to SSD in detection. etc... - What is the proof that CLIP is more robust to dataset distribution shifts? Reference, experiments?\n- Why Mask R-CNN needs LR milestones and gamma?",
         "228",
         "0",
         "0",
         "0.7506",
         "0.3529761905",
         "0.8587207794",
         "49",
         "2",
         "56.3637",
         "9.621",
         "12.2299",
         "12.231",
         "10.3101",
         "0.4364",
         "93",
         "0",
         "0",
         "0",
         "0",
         "5",
         "4",
         "2",
         "yes",
         "positive",
         "neutral",
         "Moderate",
         "3",
         "3",
         "4",
         "4",
         "85",
         "85"
        ],
        [
         "19",
         "zxOFe1mx26",
         "2152",
         "1695174125203",
         "['~Hee-Jun_Jung1', '~Jaehyoung_Jeong1', '~Kangil_Kim1']",
         "CFASL: Composite Factor-Aligned Symmetry Learning for Disentanglement in Variational Autoencoder",
         "Implemented symmetries of input and latent vectors is important for disentanglement learning in VAEs, but most works focus on disentangling each factor without consideration of multi-factor change close to real world transformation between two samples, and even a few studies to handle it in autoencoder literature are constrained to pre-defined factors. We propose a novel disentanglement framework\nfor Composite Factor-Aligned Symmetry Learning (CFASL) on VAEs for the extension to general multi-factor change condition without constraint. CFASL disentangles representations by 1) aligning their changes, explicit symmetries, and unknown factors via proposed inductive bias, 2) building a composite symmetry for multi-factor change between two samples, and 3) inducing group equivariant\nencoder and decoder in the condition. To set up the multi-factor change condition, we propose sample pairing for inputs, and an extended evaluation metric. In quantitative and in-depth qualitative analysis, CFASL shows significant improvement of disentanglement in multi-factor change condition compared to state-of-the-art methods and also gradually improves in single factor change condition on common benchmarks.",
         "Reviewer_5Cgw",
         "1697885084973",
         "1699636148336",
         "3",
         "5",
         "3",
         "2",
         "2",
         "The study puts forward a VAE-based approach to acquire disentangled representations without the need for supervision. In this framework, it assumes that diverse data samples exhibit variations across multiple factors, making it particularly well-suited for real-world datasets. The newly proposed technique, referred to as CFASL, introduces a range of unsupervised loss components that serve to instill \"inductive biases.\" These include parallel and perpendicular loss terms, in addition to a sparsity loss designed to encourage alignment along factor axes. The outcomes of this study illustrate the method's superior performance when compared to various other unsupervised disentanglement VAEs, both under single-factor and multi-factor alteration scenarios, across multiple widely used benchmark datasets. 1. The paper represents a significant stride in enhancing the practicality of disentanglement techniques within the realm of real image domains. It grapples with a formidable challenge where we cannot presume access to images that solely vary in a singular factor, thereby intensifying the complexity of extracting disentangled representations.\n\n2. The quantitative findings not only exhibit enhancements in the primary focus of this study, which is the alteration of multiple factors, but also in the scenario involving changes in a single factor. 1. The proposed approach incorporates a diverse array of loss terms within its training objectives, with each term potentially making a distinct contribution. However, this diversity comes at the expense of imposing significant assumptions on the underlying image distribution. While I acknowledge that these assumptions may be justified within the context of the datasets considered in this paper, it's worth noting that some metrics, such as DCI, do not unequivocally demonstrate superiority in the ablation study presented in Table 2.\n\nNevertheless, I believe that the paper could benefit from a more comprehensive exploration of the limitations stemming from these strong assumptions. It would be valuable for the authors to provide concrete examples where these assumptions result in unintended or adverse outcomes. Even for an unsupervised setting, it remains crucial to take into account the nature of transformations within the image domain. A more explicit discussion of these assumption-related limitations would substantially bolster the significance of the claims advanced in this paper, in my view.\n\n2. The qualitative results exhibit low image quality. While this is common across unsupervised disentanglement methods, it is really challenging to get convinced that better disentanglement is achieved. It would be valuable for the author to consider domain-specific metrics for the evaluation phase e.g. face identity loss, facial expression classification, head pose regression, etc. to assess whether only a specific attribute is altered during the single factor change experiments. 1. Following the weaknesses mentioned above, could the authors provide concrete examples (other datasets) where the assumptions induced by the loss terms result in unintended or adverse outcomes compared to the baseline beta-VAE?\n\n2. Could the authors please provide the ablation study results of the different loss terms for all datasets considered in the paper (and not only 3D-Cars)?",
         "483",
         "0",
         "7",
         "0.8442",
         "0.138866012",
         "0.8097960949",
         "51",
         "20",
         "20.0803",
         "15.9126",
         "18.6369",
         "16.6917",
         "17.3977",
         "0.15430000000000002",
         "88",
         "1",
         "0",
         "0",
         "0",
         "5",
         "4",
         "3",
         "True",
         "positive",
         "neutral",
         "Minimal",
         "somewhat specific",
         "2",
         "4",
         "4",
         "80",
         "85"
        ],
        [
         "20",
         "zxOFe1mx26",
         "2152",
         "1695174125203",
         "['~Hee-Jun_Jung1', '~Jaehyoung_Jeong1', '~Kangil_Kim1']",
         "CFASL: Composite Factor-Aligned Symmetry Learning for Disentanglement in Variational Autoencoder",
         "Implemented symmetries of input and latent vectors is important for disentanglement learning in VAEs, but most works focus on disentangling each factor without consideration of multi-factor change close to real world transformation between two samples, and even a few studies to handle it in autoencoder literature are constrained to pre-defined factors. We propose a novel disentanglement framework\nfor Composite Factor-Aligned Symmetry Learning (CFASL) on VAEs for the extension to general multi-factor change condition without constraint. CFASL disentangles representations by 1) aligning their changes, explicit symmetries, and unknown factors via proposed inductive bias, 2) building a composite symmetry for multi-factor change between two samples, and 3) inducing group equivariant\nencoder and decoder in the condition. To set up the multi-factor change condition, we propose sample pairing for inputs, and an extended evaluation metric. In quantitative and in-depth qualitative analysis, CFASL shows significant improvement of disentanglement in multi-factor change condition compared to state-of-the-art methods and also gradually improves in single factor change condition on common benchmarks.",
         "Reviewer_oACj",
         "1698758328711",
         "1699636148260",
         "5",
         "3",
         "3",
         "1",
         "2",
         "The authors introduce a new VAE architecture which operates on pairs of inputs and utilizes a set of regularization terms to induce structured disentanglement of the latent space with respect to observed symmetry transformations between examples in these pairs. The authors show that their model indeed achieves higher disentanglement scores than relevant baselines on a variety of datasets with a variety of different metrics. Specifically, the authors target the 'multi-factor change' regime, and demonstrate improved performance in this setting with their newly introduced metric. - The related work is well covered, and the authors position their method well in the literature.\n- The proposed combination of losses appears novel to the best of my knowledge, and the use of parallelism and orthogonality losses specifically on latent transformations is an interesting and exciting idea. \n- The study of disentanglement with respect to multiple simultaneously changing factors is important and interesting, and the authors make a notable contribution to this direction.\n- The results appear promising, and indicate that the model is performing well with respect to the baselines. \n- The methodology and extended results in the appendix appear sound. The calculation of P-values in the appendix is very important and appreciated. Furthermore, the use of an ablation study to validate their proposed model is a welcome addition. Weaknesses summarized:\n- The paper is challenging to read as the english is quite poor and the logical flow of the work is unorganized.\n- The method itself is composed of a wide variety of loss terms and the intuition or reasoning for why these terms are necessary is not provided. (Specifically for the parallel and perpendicular losses).\n\nIn more detail:\n\nWeakness 1:\nThere are many typos and poor grammar throughout the paper, with many sentences simply not making much sense. I include a few examples below, but there are many many more and the authors should have someone proof read this work more carefully:\n- In the abstract: \"We propose ... (CFASL) on VAEs for the extension to \\[a\\] general multi-factor change condition without constraint.\" \n- \"To implement  group equivariant VAE, Winter et al. (2022); Nasiri & Bepler (2022) achieve the translation and  rotation equivariant VAE\"\n- \"For the equivariant encoder and decoder, we differently propose the single forward process by the  encoder and decoder objective functions compared to previous work (Yang et al., 2022).\"\n- \"Differently, we induce disentanglement learning  with group equivariant VAE for inductive bias.\"\n- 'The unsupervised learning work (Winter et al., 2022) achieves class invariant and group equivariant  function in less constraint condition.'\n\nWeakness 2: \nNaming is extremely unclear. For example, what are 'sections' referred to in Section 3.2? How do these differ from factors? \n\nWeakness 3: \nDespite appealing to a precise probabilistic generative model as its primary value and distinction from prior work, the model itself could be made significantly more elegant in the context of generative models. For example, the 'factor prediction' mechanism could be integrated as a component of the generative model and inferred with another approximate posterior, as done in prior work (Song et al 2023).\n\nWeakness 4:\nThe discussion of learning the Lie algebra is quite rushed and the intuition for why the large set of different loss terms should be incorporated is largely missing.\n\n\\[1\\] (Song et al. 2023) https://arxiv.org/pdf/2309.13167.pdf Question 1:\nThe point that prior work with autoencoders does not extend to VAE's does not make much sense to me. Specifically the quote: \"Furthermore, the methods on autoencoder are not directly applicable to VAEs, because  of the large difference to VAE in probabilistic interpretation\". Can the authors provide further details to reinforce this claim?\n\nQuestion 2:\nGiven there are so many loss terms for this model, it is likely that it will be computationally expensive to estimate the correct weightings for each of these terms in a hyperparamter search. Can the authors speak to how this was done in their case and how expensive it was? \n\nQuestion 3:\nOne of the main selling points for this paper was the ability to extend disentanglement methods to 'multi-factor' change. However, for the experiments, the authors consider datasets which guarantee commutativity of transformations. Theoretically then, is there a reason why we should expect the other baseline models to not be able to handle this multi factor change? For example, it seems the axis aligned disentangled representations of the beta-vae should be able to compose multiple transformations simply by jointly changing multiple latent dimensions. Is this not the case?",
         "744",
         "6",
         "1",
         "0.7790",
         "0.16209867760000002",
         "0.887704134",
         "51",
         "10",
         "39.4602",
         "12.5279",
         "15.1911",
         "14.4792",
         "13.6498",
         "0.09770000000000001",
         "102",
         "0",
         "0",
         "0",
         "0",
         "4",
         "2",
         "3",
         "yes",
         "positive",
         "neutral",
         "Minimal",
         "somewhat specific",
         "3",
         "4",
         "5",
         "85",
         "90"
        ],
        [
         "21",
         "zxOFe1mx26",
         "2152",
         "1695174125203",
         "['~Hee-Jun_Jung1', '~Jaehyoung_Jeong1', '~Kangil_Kim1']",
         "CFASL: Composite Factor-Aligned Symmetry Learning for Disentanglement in Variational Autoencoder",
         "Implemented symmetries of input and latent vectors is important for disentanglement learning in VAEs, but most works focus on disentangling each factor without consideration of multi-factor change close to real world transformation between two samples, and even a few studies to handle it in autoencoder literature are constrained to pre-defined factors. We propose a novel disentanglement framework\nfor Composite Factor-Aligned Symmetry Learning (CFASL) on VAEs for the extension to general multi-factor change condition without constraint. CFASL disentangles representations by 1) aligning their changes, explicit symmetries, and unknown factors via proposed inductive bias, 2) building a composite symmetry for multi-factor change between two samples, and 3) inducing group equivariant\nencoder and decoder in the condition. To set up the multi-factor change condition, we propose sample pairing for inputs, and an extended evaluation metric. In quantitative and in-depth qualitative analysis, CFASL shows significant improvement of disentanglement in multi-factor change condition compared to state-of-the-art methods and also gradually improves in single factor change condition on common benchmarks.",
         "Reviewer_A4b1",
         "1698803382759",
         "1699636148172",
         "5",
         "3",
         "2",
         "2",
         "2",
         "Following the Variational Auto Encoder (VAE) framework, this paper proposes an extension of the single factor (change condition) disentanglement learning method, which they call as Composite Factor-Aligned Symmetry Learning (CFASL). The main idea and/or the assumption is certain scenarios such as the composite/complex symmetries (where certain mathematical transformational relationships exist) can be better captured by utilizing explicit symmetrical relationship information, if provided as additional input to the VAE learning framework. \n\nAs a part of the learning scheme, to facilitate this required piece of information, the proposed method explicitly inputs pairwise symmetrical relationship (and corresponding transformation) information. The expectation is the model, if learned in this fashion, should generate better representative samples from within those transformational subspace/domains. \n\nTo better explain and evaluate the scenario, some new metrics such as m-FVMk (extension of a common metric for a single factor change condition evaluation) have been proposed. They have compared their method with some state-of-the-art methods and on nine benchmark datasets; reported results are found to be promising. The following items seem to have some originality: (i) learning from explicit pairwise transformations, (ii) a network architecture to learn the codebook of symmetries for (i),  (iii) some associated metrics supporting (i) and (ii), and (iv) imposing group equivariant encoder-decoder into the learning framework. \n\nOverall, the paper is well written.  Mathematical derivations of different components seem to be sufficient. The proposed method has been tested on a number of benchmarks (both quantitative and qualitative analysis), and reported results are found to be promising. In addition, the ablation study of different loss functions may have added some extra points. \n\nIn terms of quality, I would rate the work as \"moderate\". In this work, one of the important missing part is the proper probabilistic derivation of the methodology, the core of the VAE framework. Or it may be due to the way the paper/work has been presented. To me, it's not sufficient to connect to the VAE world. It is suggested the authors clarify this important aspect with necessary derivations.  \n\nFor certain items/results, the authors claim statistical significance performance (section 5.2, and appendix D); however, without sufficient details of their significance tests. It is suggested authors include details of these statistical tests. \n\nAs the authors have implemented the benchmark approaches (section 5) by themselves, we may require additional details for a fair companion of their results. \n\nThe paper/research may have some significance, and it would be beneficial if the source code could be released. It is suggested the authors clarify the probabilistic derivation of the approach and make a proper connection to the VAE basics. \n\nIt is suggested authors include details of these statistical tests.\n\nAs the authors have implemented the benchmark approaches (section 5) by themselves, I suggest authors provide further details and release code if possible.",
         "461",
         "0",
         "0",
         "0.7849",
         "0.0855008418",
         "0.9382466078",
         "51",
         "9",
         "30.801",
         "13.7351",
         "16.5337",
         "15.4148",
         "15.7803",
         "0.08660000000000001",
         "84",
         "0",
         "0",
         "0",
         "1",
         "3",
         "4",
         "2",
         "True",
         "neutral",
         "neutral",
         "Minimal",
         "somewhat specific",
         "3",
         "4",
         "4",
         "70",
         "74"
        ],
        [
         "22",
         "zxOFe1mx26",
         "2152",
         "1695174125203",
         "['~Hee-Jun_Jung1', '~Jaehyoung_Jeong1', '~Kangil_Kim1']",
         "CFASL: Composite Factor-Aligned Symmetry Learning for Disentanglement in Variational Autoencoder",
         "Implemented symmetries of input and latent vectors is important for disentanglement learning in VAEs, but most works focus on disentangling each factor without consideration of multi-factor change close to real world transformation between two samples, and even a few studies to handle it in autoencoder literature are constrained to pre-defined factors. We propose a novel disentanglement framework\nfor Composite Factor-Aligned Symmetry Learning (CFASL) on VAEs for the extension to general multi-factor change condition without constraint. CFASL disentangles representations by 1) aligning their changes, explicit symmetries, and unknown factors via proposed inductive bias, 2) building a composite symmetry for multi-factor change between two samples, and 3) inducing group equivariant\nencoder and decoder in the condition. To set up the multi-factor change condition, we propose sample pairing for inputs, and an extended evaluation metric. In quantitative and in-depth qualitative analysis, CFASL shows significant improvement of disentanglement in multi-factor change condition compared to state-of-the-art methods and also gradually improves in single factor change condition on common benchmarks.",
         "Reviewer_DbMo",
         "1698968978898",
         "1699636148102",
         "3",
         "4",
         "2",
         "2",
         "2",
         "The manuscript aims to improve existing methods of unsupervised disentangled representations learning.  Inspired by the symmetry group action approach from (Higgins et al 2018,2022), authors suggest several additions for the conventional beta-VAE  method, resulting  in the form of seven supplementary loss terms. The article is devoted to important subject of disentanglement learning. Authors report improvements over some of existing methods on four simple datasets 1) Only simple datasets are considered, the method is not tested on standard complex datasets like MPI 3D. \n\n2) Reported improvements of CFASL in all measured metrics are essentially always situated within standard deviations of some other methods. \n\n3) Reconstruction loss is not reported in 3 out of 4 datasets. Upon visual inspection of reported samples, the reconstruction quality is not satisfactory. \n\n4) As reported on Figure 4, on 3DShapes dataset, there is no consistent improvement in FVM metric even at the expense of deteriorating reconstruction quality . \n\n5) There is no theoretic justifications for introduction of so many, seven in total,  additional loss terms. \n\n6) Description of Lie group action is not clear, how the action by psi_i is defined? how the dimensions of Lie groups are chosen?\n\n7) The described group action by matrix multiplications do not preserve the normal distribution, so the group equivariant term is not compatible with the  standard KL term from beta-VAE loss. \n\n8) There is no comparison with most recent disentanglement methods like DAVA, TCWAE.\n\n9) Related work section does not mention many works from vast literature on disentanglement learning, eg Disentangling Adversarial Variational Autoencoder (ICLR 2023). Why is the reconstruction quality not reported in three out of four datasets?\n\nWhy the method was not tested on standard more complex datasets like MPI3D?",
         "284",
         "0",
         "0",
         "0.7452",
         "0.070014881",
         "0.8747272491",
         "51",
         "7",
         "34.0313",
         "12.9067",
         "16.1209",
         "14.7317",
         "13.6173",
         "0.0751",
         "89",
         "0",
         "1",
         "0",
         "0",
         "2",
         "4",
         "8",
         "no",
         "negative",
         "neutral",
         "Minimal",
         "somewhat specific",
         "3",
         "4",
         "4",
         "70",
         "70"
        ],
        [
         "23",
         "zwcRnM8lD6",
         "2981",
         "1695258507554",
         "['~Chunlin_Ji1', '~Feng_Chen17', '~Fu_Yuhao1', '~Jun_Liu3']",
         "MILE: Mutual Information LogDet Estimator",
         "Mutual information (MI) estimation plays an important role in representational learning. However, accurately estimating mutual information is challenging, especially for high-dimensional variables with limited batch data. In this work, we approach the mutual information estimation problem via the logdet function of data covariance. To extend the logdet function for entropy estimation of non-Gaussian variables, we assume that the data can be approximated well by a Gaussian mixture distribution and introduce a lower and upper bound for the entropy of such distributions. To deal with high dimensionality, we introduce ``ridge'' term in the logdet function to stabilize the estimation. Consequently, the mutual information can be estimated by the entropy decomposition. Our method MILE significant outperforms conventional neural network-based MI estimators in obtaining low bias and low variance MI estimation. Besides, it well pass the challenging self-consistency tests. Simulation studies also show that, beyond a better MI estimator, MILE can simultaneously gain competitive performance with SOTA MI based loss in self-supervised learning.",
         "Reviewer_mr2r",
         "1698569976113",
         "1699636242675",
         "3",
         "4",
         "2",
         "2",
         "1",
         "The article offers a Gaussian Mixture-based differential entropy/mutual entropy estimation approach. Furthermore, it provides numerical experiments to test the expected behavior of the estimator and its application to self-supervised learning. The article addresses an important problem of mutual information estimation. It provides relevant numerical experiments to test the validity of the proposed approach. - The main approach proposed by the authors seem to be already appeared in the literature in some references not cited by the authors (please see the questions part).\n\n- There seems to be a major issue about the expressions provided for the proposed approach (please see the questions part).\n\n- The presentation requires improvement. ### I. INTRODUCTION \n\n**3rd paragraph:** \n\n- \"identify matrix\":  identity matrix?\n\n- \"The mutual information can be consequently estimated by the entropy decomposition.\": This sentence follows identity matrix addition sentence. I guess it might be better to clarify causality here. At this point, it is not clear what is meant by \"entropy decomposition\", whether it is a trivial procedure and what enables it (mixture of Gaussians modelling?).\n\n### 2.1 BACKGROUND\n\n**Paragraph before (4)**\n\n- After equation (1): instead of \"for a multi-variable Gaussian variable\" use Gaussian (random) vector ?\n\n- In the notation $$X=\\[x_1,x_2, \\ldots x_n\\]$$ $x_i$'s appear as column vectors, however, they are actuallly row vectors as $X\\in\\mathbb{R}^{n\\times d}$\n\n- (5) should be\n\n$$\\mathbf{H}_D(X)=\\sum_{i=1}^k \\frac{1}{2} \\log \\left(\\lambda_i+\\beta\\right)+(d-k)\\log(\\beta)+C_d$$\n\n- After (5): \"Therefore, LogDet can estimate the entropy of multivariate Gaussian variables by approximating the differential entropy.\". This is not a surprise/or contribution as the authors  simply defined (5) using (2) by replacing the true covariance with $\\beta I$ perturbed sample correlation (covariance?) matrix. This is sort of obvious. \n\n### 2.1.1 LOGDET ENTROPY ESTIMATOR FOR NON-GAUSSIAN VARIABLE\n\n- Title : ... NON-GAUSSIAN VECTOR\n\n- Replace variable->vector\n\n- There already exists GMM based entropy/mutual information approximation based works such as \n\n\\[a\\]. Lan T, Erdogmus D, Ozertem U, Huang Y. Estimating mutual information using gaussian mixture model for feature ranking and selection. InThe 2006 IEEE international joint conference on neural network proceedings 2006 Jul 16 (pp. 5034-5039). IEEE.\n\n\\[b\\]. Huber MF, Bailey T, Durrant-Whyte H, Hanebeck UD. On entropy approximation for Gaussian mixture random vectors. In2008 IEEE International Conference on Multisensor Fusion and Integration for Intelligent Systems 2008 Aug 20 (pp. 181-188). IEEE.\n\nYou need to refer to existing literature and clearly state what is novel in your approach relative to them.\n\n\n- Theorem 2 and Theorem 3 of \\[b\\] above already covers the lower and upper bounds of mixture of Gaussians. It looks like they are same as what is provided in this section. \n\n- There seems to be a major issue about the upper bound expression. The first expression for the upper bound (at the bottom of page 3), contains covariances ($\\Sigma_i$'s ) obtained from the GMM fitting algorithm, whereas the second line contains the overall sample covariance of actual data, instead of conditional covariance estimates. How do you equate these lines? The second line in fact equals to\n\n$$\\frac{1}{2} \\log \\operatorname{det}\\left(\\frac{X^T X}{n}\\right)+\\sum_{i=1}^K \\pi_i \\cdot\\left(-\\log \\pi_i+C_d\\right)$$\n\nas $\\frac{1}{2} \\log \\operatorname{det}\\left(\\frac{X^T X}{n}\\right)$ is independent of the summation index $i$. This does not make sense as you disregard covariance parameters of the GMM. \n\n- How do you make the upper bound objective co\n\n### 2.2 THE ISSUE OF MODEL SELECTION\n\n- Title: Model Selection is to generic for the discussion in this section. \"The Issue of Model Order Selection\" could be a better title.\n\n\n\n\n### 3. APPLICATION IN SELF-SUPERVISED LEARNING\n\nThe logdet-mutual information based SSL appears to be proposed in the following reference:\n\n\\[c\\]. Ozsoy S, Hamdan S, Arik S, Yuret D, Erdogan A. Self-supervised learning with an information maximization criterion. Advances in Neural Information Processing Systems. 2022 Dec 6;35:35240-53.\n\nThe authors should also clarify the relative novelty relative to \\[c\\]. Especially, the impact of GMM order selection as the approach in \\[c\\] appears to be for $K=1$. There is also claim in \\[c\\] that the use of $K=1$  defines correlative information maximizing which targets a linear (identity in their modified setting) between the representations of augmented versions of inputs. For $K>1$ does  maximizing mutual information between augmentation representation lead to nonlinear mappings between them? Is such organization of representation space desirable for classification tasks, for example?\n\nOr are you just using (18) with order $1$, which seems to be just the approach in \\[c\\]. \n\n### 4. RELATED WORKS & 5 SIMULATION STUDIES\n\nAll the references we mentioned above and the relevant references that cite them should be included in this discussion, and simulation results \n\n- 5.2 : ofBelghazi...-> of Belghazi\n- Figure 2: Two small figures and caption could be more informative.\n- 5.4 SSL: What is K for EMP-MILE? Is upper bound employed in EMP-MILE?  what if you directly use MILE?\nHow is backprop used in coordination with the GMM algorithm? As GMM parameters are algorithmically obtained from network output, how does backprop do backward mapping from probabilities $\\pi_i$'s (and there should be covariance estimates $\\hat{\\Sigma}_i$'s, as discussed above)",
         "825",
         "0",
         "11",
         "0.7898",
         "0.0758333333",
         "0.9194312096",
         "50",
         "12",
         "32.871",
         "12.3962",
         "15.7154",
         "14.1987",
         "13.0703",
         "0.1107",
         "100",
         "0",
         "2",
         "1",
         "0",
         "3",
         "4",
         "2",
         "yes",
         "neutral",
         "neutral",
         "No Hedging",
         "somewhat specific",
         "3",
         "4",
         "4",
         "70",
         "85"
        ],
        [
         "24",
         "zwcRnM8lD6",
         "2981",
         "1695258507554",
         "['~Chunlin_Ji1', '~Feng_Chen17', '~Fu_Yuhao1', '~Jun_Liu3']",
         "MILE: Mutual Information LogDet Estimator",
         "Mutual information (MI) estimation plays an important role in representational learning. However, accurately estimating mutual information is challenging, especially for high-dimensional variables with limited batch data. In this work, we approach the mutual information estimation problem via the logdet function of data covariance. To extend the logdet function for entropy estimation of non-Gaussian variables, we assume that the data can be approximated well by a Gaussian mixture distribution and introduce a lower and upper bound for the entropy of such distributions. To deal with high dimensionality, we introduce ``ridge'' term in the logdet function to stabilize the estimation. Consequently, the mutual information can be estimated by the entropy decomposition. Our method MILE significant outperforms conventional neural network-based MI estimators in obtaining low bias and low variance MI estimation. Besides, it well pass the challenging self-consistency tests. Simulation studies also show that, beyond a better MI estimator, MILE can simultaneously gain competitive performance with SOTA MI based loss in self-supervised learning.",
         "Reviewer_fvqj",
         "1698878886574",
         "1699636242588",
         "3",
         "5",
         "2",
         "1",
         "2",
         "This paper proposes a new approach to estimating the mutual information between a pair of random vectors, by extending the closed-form expression that is available to Gaussian variables to non-Gaussian variables. This is done by estimating Gaussian mixture approximations of the involved densities and then using bounds on the differential entropy of Gaussian mixtures. Estimating mutual information between high-dimensional non-Gaussian variables is an important problem with many applications. The proposed method extends Gaussian (which the authors refer to log-det) estimators to be applicable beyond Gaussian variables via the use of Gaussian mixture approximations, coupled with bounds on the differential entropy of mixtures. Unfortunately. the paper contains several critical flaws, namely a quite sloppy notation, that lead me to recommend its rejection. \n\nThe authors mixture, in a very confusing way, random variables and data matrices, typically using the same notation for both, $X$. For example, in Equations (1), (2), and (10), $X$ is a $d$-dimensional random variable, whereas in Equation (4), $X \\in \\mathbb{R}^{n\\times d}$ is a data matrix. Even worse, in the final equation of page 3, the two different definitions are used together and it is not even clear where the second equality means; it is simply wrong because $X^T X/n$ does not coincide with $\\Sigma_i$.\n\nUnlike what the authors claim, Equation (5) is not equivalent to Equation (5); the two differ by $\\frac{d-k}{2}\\log \\beta$.  \n\nAdding a matrix proportional to identity ($\\beta I$ in the paper) to the sample covariance was not proposed in a 2021 paper. It is a very classical method that can be found in any classical text on covariance matrix estimation, many decades ago.\n\nThe inequality in Equation (8) was not shown by Zhouyin and Liu in 2021. It is a classical result of information theory, that can be found, for example, in the famous Cover and Thomas book. By the way, the citation to this book is wrong in the paper; one of the authors (J. Thomas) is missing. \n\nThe two bounds for the differential entropy of mixtures that the authors claim to have introduced are in fact not new. The upper bound is in fact a well-known corollary of the log sum inequality (see the Cover and Thomas book). The lower bound was proved in 2008 by Huber et al. at https://doi.org/10.1109/MFI.2008.4648062 I have no questions.",
         "383",
         "1",
         "1",
         "0.7288",
         "-0.053505050500000005",
         "0.8470067382",
         "50",
         "8",
         "39.4844",
         "12.7598",
         "16.0005",
         "14.7779",
         "13.3057",
         "0.21480000000000002",
         "85",
         "0",
         "0",
         "0",
         "0",
         null,
         null,
         null,
         null,
         null,
         null,
         null,
         null,
         null,
         null,
         null,
         null,
         null
        ],
        [
         "25",
         "zwcRnM8lD6",
         "2981",
         "1695258507554",
         "['~Chunlin_Ji1', '~Feng_Chen17', '~Fu_Yuhao1', '~Jun_Liu3']",
         "MILE: Mutual Information LogDet Estimator",
         "Mutual information (MI) estimation plays an important role in representational learning. However, accurately estimating mutual information is challenging, especially for high-dimensional variables with limited batch data. In this work, we approach the mutual information estimation problem via the logdet function of data covariance. To extend the logdet function for entropy estimation of non-Gaussian variables, we assume that the data can be approximated well by a Gaussian mixture distribution and introduce a lower and upper bound for the entropy of such distributions. To deal with high dimensionality, we introduce ``ridge'' term in the logdet function to stabilize the estimation. Consequently, the mutual information can be estimated by the entropy decomposition. Our method MILE significant outperforms conventional neural network-based MI estimators in obtaining low bias and low variance MI estimation. Besides, it well pass the challenging self-consistency tests. Simulation studies also show that, beyond a better MI estimator, MILE can simultaneously gain competitive performance with SOTA MI based loss in self-supervised learning.",
         "Reviewer_F4Ta",
         "1698980874812",
         "1699636242491",
         "6",
         "4",
         "3",
         "3",
         "2",
         "This work presents a mutual information (MI) estimator called MILE (LE=logdet estimator) which uses \nthe log det closed form formula of the entropy of Gaussians.\n\nTo accomodate MI to arbitrary densities, a Gaussian mixture model (GMM) is first fit to data and lower/upper bounds on the entropy of GMM is used to define MILE formula Eq 15. \n\nThen MILE is benchmarked with other MI  estimators and MILE can be used in loss functions in semi-supervised learning in experiments. - Simple MI estimator method based on  \n\nZhanghao Zhouyin and Ding Liu. Understanding neural networks with logarithm determinant entropy estimator. arXiv preprint arXiv:2105.03705, 2021\n\n(cited in the paper)\n\n- Very good experiments and comparisons with other MI estimators\n\n- Source codes provided in supplemental information  for reproducible research -The paper is sloppy in its writing, and one problem is to determine the number of components k of the GMM which\n loosen the lower upper bounds on the entropy. \n\n- Another problem is to deal with near singularity (det close to zero) by introducing a regularization term \\beta.\n\n- Give definition of MI and link with copulas, e.g.,\nMa, Jian, and Zengqi Sun. \"Mutual information is copula entropy.\" Tsinghua Science & Technology 16.1 (2011): 51-54.\nThis will relate to Eq. 8 as well.\n\n- Because MI estimation is an important and well-studied topic, I suggest to put Section 4 on related works after the introduction to that the contributions are better explained.\n\n- The lower/upper bounded of entropy of GMMs are not tight. There is a rich litterature which also compares the tightness of the various bounds.\n\nHuber, Marco F., et al. \"On entropy approximation for Gaussian mixture random vectors.\" 2008 IEEE International Conference on Multisensor Fusion and Integration for Intelligent Systems. IEEE, 2008.\n\nEven in 1D:\nNielsen, Frank, and Ke Sun. \"Guaranteed bounds on the Kullback–Leibler divergence of univariate mixtures.\" IEEE Signal Processing Letters 23.11 (2016): 1543-1546.\n\n- Notice that some distributions do not admit densities (some elliptical distributions for example)\n\n\n\n- Mention MI properties (i.e., tensorization) which defines the self-consistency test of estimators\n\n\n- small remarks:\n* data covariance = scatter matrix\n* after (3), define $\\Sigma_x$ as scatter matrix?\n*  page 3, first sentence need to be rephrased\n* some typos: \npage 7  hyperparamter -> hyperparameter\npage 9 self-supervied -> self-supervised    competitve -> competitive - Would using PCA beforehand be more appropriate in the case of near singularity?\n\n- Can we tackle robustness/variance with f-MI?\n\nMoon, Kevin, and Alfred Hero. \"Multivariate f-divergence estimation with confidence.\" Advances in neural information processing systems 27 (2014).\nEsposito, Amedeo Roberto, Michael Gastpar, and Ibrahim Issa. \"Robust Generalization via f− Mutual Information.\" 2020 IEEE International Symposium on Information Theory (ISIT). IEEE, 2020.",
         "447",
         "3",
         "7",
         "0.8255",
         "0.1368315018",
         "0.9330754280000001",
         "50",
         "7",
         "35.4092",
         "11.3442",
         "14.446",
         "12.9766",
         "10.7556",
         "0.08660000000000001",
         "83",
         "0",
         "0",
         "0",
         "0",
         "4",
         "5",
         "3",
         "False",
         "positive",
         "neutral",
         "Moderate",
         "somewhat specific",
         "4",
         "5",
         "3",
         "80",
         "83"
        ],
        [
         "26",
         "zwcRnM8lD6",
         "2981",
         "1695258507554",
         "['~Chunlin_Ji1', '~Feng_Chen17', '~Fu_Yuhao1', '~Jun_Liu3']",
         "MILE: Mutual Information LogDet Estimator",
         "Mutual information (MI) estimation plays an important role in representational learning. However, accurately estimating mutual information is challenging, especially for high-dimensional variables with limited batch data. In this work, we approach the mutual information estimation problem via the logdet function of data covariance. To extend the logdet function for entropy estimation of non-Gaussian variables, we assume that the data can be approximated well by a Gaussian mixture distribution and introduce a lower and upper bound for the entropy of such distributions. To deal with high dimensionality, we introduce ``ridge'' term in the logdet function to stabilize the estimation. Consequently, the mutual information can be estimated by the entropy decomposition. Our method MILE significant outperforms conventional neural network-based MI estimators in obtaining low bias and low variance MI estimation. Besides, it well pass the challenging self-consistency tests. Simulation studies also show that, beyond a better MI estimator, MILE can simultaneously gain competitive performance with SOTA MI based loss in self-supervised learning.",
         "Reviewer_MHkc",
         "1699156174555",
         "1699636242410",
         "3",
         "4",
         "2",
         "3",
         "2",
         "this paper proposes to use the logdet function for the estimation of mutual information. \ntwo bounds are proposed for this purpose. the results show improvement in comparison \nto the editing methods. the proposed function itself is \"the Coding Length Function\". simple method with good results. In my opinion this paper reinvents \"Coding Length Function\".  \"...the difference is we put a scaling hyperparameter β on the identity matrix I..\" - that is not a difference. both affects SNR. The latter can be affected either way: by multiplying the noise covariance or by division of the data covariance. I do agree that the results are interesting, but the novelty is quite limited due the the above. \n\nplease elaborate on the limitations. \"So, we recommend β = 1e−3 in the following simulation studies\" why not beta=zero? \nFigure 1.b shows that beta=zero correctly estimates the true MI. \nThat raises a question why do you need beta > 0?\n\nHow do you define $\\pi_c$ in e.g., Eq17?\n\nBoth bounds are loose. How can you explain that such loose bounds lead to very small variance in MI?\n\nDo you calculate MILE in batches?",
         "187",
         "0",
         "1",
         "0.7572",
         "0.0981946625",
         "0.8652637601000001",
         "50",
         "5",
         "61.8294",
         "7.0412",
         "9.7432",
         "10.4262",
         "6.5339",
         "0.4252",
         "88",
         "0",
         "0",
         "0",
         "0",
         "2",
         "4",
         "1",
         "yes",
         "neutral",
         "neutral",
         "No Hedging",
         "somewhat specific",
         "3",
         "4",
         "5",
         "70",
         "70"
        ],
        [
         "27",
         "zwcRnM8lD6",
         "2981",
         "1695258507554",
         "['~Chunlin_Ji1', '~Feng_Chen17', '~Fu_Yuhao1', '~Jun_Liu3']",
         "MILE: Mutual Information LogDet Estimator",
         "Mutual information (MI) estimation plays an important role in representational learning. However, accurately estimating mutual information is challenging, especially for high-dimensional variables with limited batch data. In this work, we approach the mutual information estimation problem via the logdet function of data covariance. To extend the logdet function for entropy estimation of non-Gaussian variables, we assume that the data can be approximated well by a Gaussian mixture distribution and introduce a lower and upper bound for the entropy of such distributions. To deal with high dimensionality, we introduce ``ridge'' term in the logdet function to stabilize the estimation. Consequently, the mutual information can be estimated by the entropy decomposition. Our method MILE significant outperforms conventional neural network-based MI estimators in obtaining low bias and low variance MI estimation. Besides, it well pass the challenging self-consistency tests. Simulation studies also show that, beyond a better MI estimator, MILE can simultaneously gain competitive performance with SOTA MI based loss in self-supervised learning.",
         "Reviewer_oYZA",
         "1699327631740",
         "1699636242348",
         "3",
         "4",
         "2",
         "2",
         "2",
         "The paper proposes uses bounds on the entropy and mutual information for a mixture of Gaussian random variables based on the log determinant calculations used in calculating the entropy for a single Gaussian. In the context of self-supervised learning, the Gaussian mixture is assumed to known based on the augmentation. In other cases the number of mixture components has to be selected. Empirical results are reported on a synthetic benchmark of correlated Gaussians with and without non-linear transformations. Results of self-consistency measures are reported on CIFAR10. The paper is a logical motivation. Differential entropy is easy to calculate for Gaussian distributions, and mixture of Gaussians are universal approximations given enough data, so why not use GMM for mutual information estimation. The insight of using the augmentations as defining the GMM is a useful, simplifying assumption. One main weakness is the lack of extensive comparisons of using this method for self-supervised learning versus other. The one example in the main body (Table 1) shows that at 300 epochs the method is better than some other methods but is inferior to EMP-SSL. At 1000 epochs the other methods outperform the listed, but no results for 1000 epochs are reported. \n\nThe second main weakness is the paper does not give a complete description of the method. The paper is lacking in clarity with some key point unaddressed. The notation is confusing since the random variables (Z,Z') are denoted the same as Z_c, which may be a data point in the empirical sample. There should more clarity on random variables as compared to  sample sets, starting back before equation 4. The confusion carries to last paragraph of Section 4 where $\\mathbf{X}$ is defined but then $X$ is used in the definition. \n\nThe use of one instance for one cluster is not clear to me upon reading it\n\"This is because we treat the augmented data from one instance as a cluster, and this data\naugmentation strategy automatically clusters the data.\" This should be re written.\n\n In equation 17 it is not clear how $\\zeta_c$ captures all instances in the batch. It has only a single $i$ index. Perhaps the $\\zeta_c$ should concatenate them all. In section 3.2, $\\zeta_c$ is a set which indexes the whole match, which makes more sense, but it should be a matrix not a set. In any case, how is the $H(Z)$ term estimated in section 3.1? By keeping $Z_c$ fixed and only augmenting the second the one covariance matrix will be rank-1 (before ridge). \n\nIt doesn't sound like the experiments for the 5.2 are run fairly \" our MILE estimator does not require extra training,\" In this problem the point is that the MI could be changing at each data instance. Thus, other methods do not use access to the change points. MILE should have to be run (which involves performing the GMM since there are no self-clusters as in SSL) at each point. Running an expectation maximization is as much or more training than the updates of network.  \t\n\nIn the SSL, the trade-off parameter having to be searched in the grid  \\[0.01,0.1,1.0,2.0\\] doesn't seem to be efficient compared to EMP-SSL. \n \nIn terms of unsubstantiated claims, the method is clearly biased (not only by the choice of number of components) but also on the non-linear transform cases. It is not clear how well the mutual information estimation would actually work on more complicated data. Thus, even if it is useful for self-supervised learning is not necessarily a more accurate estimate of differential entropy. \n\n**Minor:**\nThere are a number of typographical mistakes that are distracting.\n\nI don't understand what this means\n\"often dwarfing traditional parametric and non-parametric approaches in statistics\"\n\n\" base on the \" -> \"based on the \" \n\nI'm not familiar with this phrasing \"When X subjects to a Gaussian\" \n\n\"a ‘noise’ $\\hat{X}$ \" -> \"a noisy $\\hat{X}$\" \n\nThe paragraph before equation (4) are not clear. \" an expanding factor\" is not defined nor is it clear what is meant by \"enlarging the original covariance matrix\".\n\nExtra $=$ on equation 14.\n\n\"trading each\" -> \"treating each\" ? \n\n\" ground true data\" \n\n\"SMILE: moothed\" -> \"SMILE: smoothed\" \n\nIt should be a parenthetical reference for You et al. (2017) fo LARS optimizer. How is the $H(Z)$ term estimated in section 3.1? Is it also based on augmented data?\n\nIn the SSL, the trade-off parameter having to be searched in the grid  \\[0.01,0.1,1.0,2.0\\] doesn't seem to be efficient compared to EMP-SSL. Are there hyper-parameters for EMP-SSL?  \n\nWhy in Table 1 is 1000 epochs not tested?\n\nIs the GMM method run at each time point in Figure 2?",
         "766",
         "1",
         "2",
         "0.7605",
         "0.0532218443",
         "0.8940244317",
         "50",
         "3",
         "54.1694",
         "9.5215",
         "12.4683",
         "12.0691",
         "9.6868",
         "0.1494",
         "91",
         "1",
         "0",
         "0",
         "0",
         "3",
         "4",
         "2",
         "1",
         "0",
         "3",
         "3",
         "4",
         "3",
         "2",
         "3",
         "60",
         "70"
        ],
        [
         "28",
         "zwU9scoU4A",
         "5423",
         "1695386194798",
         "['~Christian_Fabian1', '~Kai_Cui3', '~Heinz_Koeppl1']",
         "Learning Mean Field Games on Sparse Graphs: A Hybrid Graphex Approach",
         "Learning the behavior of large agent populations is an important task for numerous research areas. Although the field of multi-agent reinforcement learning (MARL) has made significant progress towards solving these systems, solutions for many agents often remain computationally infeasible and lack theoretical guarantees. Mean Field Games (MFGs) address both of these issues and can be extended to Graphon MFGs (GMFGs) to include network structures between agents. Despite their merits, the real world applicability of GMFGs is limited by the fact that graphons only capture dense graphs. Since most empirically observed networks show some degree of sparsity, such as power law graphs, the GMFG framework is insufficient for capturing these network topologies. Thus, we introduce the novel concept of Graphex MFGs (GXMFGs) which builds on the graph theoretical concept of graphexes. Graphexes are the limiting objects to sparse graph sequences that also have other desirable features such as the small world property. Learning equilibria in these games is challenging due to the rich and sparse structure of the underlying graphs. To tackle these challenges, we design a new learning algorithm tailored to the GXMFG setup. This hybrid graphex learning approach leverages that the system mainly consists of a highly connected core and a sparse periphery. After defining the system and providing a theoretical analysis, we state our learning approach and demonstrate its learning capabilities on both synthetic graphs and real-world networks. This comparison shows that our GXMFG learning algorithm successfully extends MFGs to a highly relevant class of hard, realistic learning problems that are not accurately addressed by current MARL and MFG methods.",
         "Reviewer_e4bh",
         "1698824679826",
         "1700667146725",
         "6",
         "3",
         "3",
         "3",
         "3",
         "This paper introduces Graphex Mean Field Games (GXMFGs) which build on the graph theoretical concept of graphexes to include sparse network structures between agents. This improves over prior work on Graphon Mean Field Games which only allows for modelling with dense graphs. The authors derive convergence properties for the finite game. In addition, a learning algorithm based on online mirror descent is provided for a particular class of GXMFGs that follow a core-periphery network structure. Finally, the theoretical claims are empirically validated over both synthetic and real-world networks. - This paper has a clear motivation to extend Graphon Mean Field Games to deal with sparse graphs which are frequently seen in practice. The hybrid graphex approach proposed in this work looks like a natural and intuitive solution.\n- The technical development is principled and the analysis is nontrivial.\n- The overall presentation and clarity is good. - Even though the authors explained in the paper, I didn't like the fact that the proposed GXMFGs have no baseline competitors to compare against. While I agree that one could argue on the contrary that the ability to work with sparse graphs is precisely the unique advantage of GXMGFs, I think that the authors should at least spend some efforts to discuss (if empirical comparison with LPGMFG is indeed unsuitable) how GXMFGs would compare with LPGMFG and GMFG in practice. In Figure 3a, it looks like the curves are diverging rather than converging as k increases? Are the curves coloured correctly?",
         "248",
         "0",
         "0",
         "0.8187",
         "0.0240079365",
         "0.9548254013",
         "61",
         "21",
         "47.3621",
         "11.3161",
         "14.0651",
         "13.2744",
         "12.8151",
         "0.1262",
         "95",
         "0",
         "0",
         "0",
         "0",
         "5",
         "4",
         "2",
         "yes",
         "neutral",
         "polite",
         "Minimal",
         "somewhat specific",
         "3",
         "4",
         "5",
         "85",
         "84"
        ],
        [
         "29",
         "zwU9scoU4A",
         "5423",
         "1695386194798",
         "['~Christian_Fabian1', '~Kai_Cui3', '~Heinz_Koeppl1']",
         "Learning Mean Field Games on Sparse Graphs: A Hybrid Graphex Approach",
         "Learning the behavior of large agent populations is an important task for numerous research areas. Although the field of multi-agent reinforcement learning (MARL) has made significant progress towards solving these systems, solutions for many agents often remain computationally infeasible and lack theoretical guarantees. Mean Field Games (MFGs) address both of these issues and can be extended to Graphon MFGs (GMFGs) to include network structures between agents. Despite their merits, the real world applicability of GMFGs is limited by the fact that graphons only capture dense graphs. Since most empirically observed networks show some degree of sparsity, such as power law graphs, the GMFG framework is insufficient for capturing these network topologies. Thus, we introduce the novel concept of Graphex MFGs (GXMFGs) which builds on the graph theoretical concept of graphexes. Graphexes are the limiting objects to sparse graph sequences that also have other desirable features such as the small world property. Learning equilibria in these games is challenging due to the rich and sparse structure of the underlying graphs. To tackle these challenges, we design a new learning algorithm tailored to the GXMFG setup. This hybrid graphex learning approach leverages that the system mainly consists of a highly connected core and a sparse periphery. After defining the system and providing a theoretical analysis, we state our learning approach and demonstrate its learning capabilities on both synthetic graphs and real-world networks. This comparison shows that our GXMFG learning algorithm successfully extends MFGs to a highly relevant class of hard, realistic learning problems that are not accurately addressed by current MARL and MFG methods.",
         "Reviewer_hgJx",
         "1698838739665",
         "1699636550718",
         "8",
         "2",
         "3",
         "3",
         "3",
         "This paper introduces Graphex Mean Field Games (GXMFGs), a framework for addressing the challenge of learning agent behavior in large populations. GXMFGs leverage graphon theory and graphexes, which represent limiting objects in sparse graph sequences. This approach suits real-world networks with both dense cores and sparse peripheries. The paper presents a specialized learning algorithm for GXMFGs. \n\nKey contributions include:\n\n1. Introduction of GXMFGs, extending the scope of Mean Field Games.\n2. Provides theoretical guarantees to show that GXMFGs accurately approximates finite systems.\n3. Development of a learning algorithm tailored to GXMFGs.\n4. Empirical validation on synthetic and real-world networks, demonstrating GXMFGs' ability to model agent interactions and determine equilibria effectively. - Well-Written and Organized: The paper demonstrates strong writing and organization, enhancing its overall readability and accessibility.\n\n- Clear Motivation: The paper effectively conveys a clear and compelling motivation for addressing the problem it tackles.\n\n- Thorough Discussion of Prior Works: The paper provides a comprehensive and well-structured overview of prior works related to the research area.\n\n- The paper provides solid theoretical contributions complimented with supporting empirical studies strengthens the paper's arguments and findings. As the current paper falls outside the scope of my research interests, I am unable to identify any significant weaknesses in the paper. Consequently, my confidence in assessing the paper is limited. - Providing an intuitive explanation for assumptions 1(b) and 1(c) would greatly enhance the paper's overall readability and accessibility.\n\n- While the paper assumes finite state and action spaces, it may be beneficial to explore whether the proposed approach can be extended to scenarios with infinite action spaces. \n- Including the code for the simulations, would enhance reproducibility.",
         "275",
         "0",
         "4",
         "0.8110",
         "0.1125396825",
         "0.9475759268",
         "49",
         "9",
         "19.6817",
         "14.2129",
         "17.5973",
         "15.0211",
         "14.8225",
         "0.1213",
         "79",
         "0",
         "0",
         "0",
         "0",
         "5",
         "4",
         "3",
         "yes",
         "positive",
         "neutral",
         "Minimal",
         "somewhat specific",
         "2",
         "4",
         "5",
         "80",
         "85"
        ],
        [
         "30",
         "zwU9scoU4A",
         "5423",
         "1695386194798",
         "['~Christian_Fabian1', '~Kai_Cui3', '~Heinz_Koeppl1']",
         "Learning Mean Field Games on Sparse Graphs: A Hybrid Graphex Approach",
         "Learning the behavior of large agent populations is an important task for numerous research areas. Although the field of multi-agent reinforcement learning (MARL) has made significant progress towards solving these systems, solutions for many agents often remain computationally infeasible and lack theoretical guarantees. Mean Field Games (MFGs) address both of these issues and can be extended to Graphon MFGs (GMFGs) to include network structures between agents. Despite their merits, the real world applicability of GMFGs is limited by the fact that graphons only capture dense graphs. Since most empirically observed networks show some degree of sparsity, such as power law graphs, the GMFG framework is insufficient for capturing these network topologies. Thus, we introduce the novel concept of Graphex MFGs (GXMFGs) which builds on the graph theoretical concept of graphexes. Graphexes are the limiting objects to sparse graph sequences that also have other desirable features such as the small world property. Learning equilibria in these games is challenging due to the rich and sparse structure of the underlying graphs. To tackle these challenges, we design a new learning algorithm tailored to the GXMFG setup. This hybrid graphex learning approach leverages that the system mainly consists of a highly connected core and a sparse periphery. After defining the system and providing a theoretical analysis, we state our learning approach and demonstrate its learning capabilities on both synthetic graphs and real-world networks. This comparison shows that our GXMFG learning algorithm successfully extends MFGs to a highly relevant class of hard, realistic learning problems that are not accurately addressed by current MARL and MFG methods.",
         "Reviewer_P6cQ",
         "1698854680058",
         "1699636550633",
         "6",
         "4",
         "3",
         "3",
         "3",
         "In this paper, the authors study a class of games with many players who are interacting through a sparse graph structure. More specifically, they are interested in the regime where the number of players tend to infinity. The main solution concept is an extension of the notion of Nash equilibrium. The authors propose a learning algorithm based on online mirror descent. They conclude the paper with examples and numerical simulations. Overall, the paper studies an interesting problem and is relatively clearly written. As far as I know, this is a new extension of MFG to sparse graphs. The algorithm is very inspired from existing ones but there is an adaptation to the problem under consideration (core vs periphery). The model is quite abstract at some places. For the theoretical results, they are mostly about the analysis of the game and I am not sure how relevant they are for this conference (although they are certainly interesting for a certain community). It might have been more interesting to focus more on the learning algorithm. \n\nThere are some typos which make it hard to check the correctness of some parts (see questions). 1. I am wondering if some assumptions are missing. For example below Lemma 1, should $f$ be at least measurable (and perhaps more?) with respect to $\\alpha$ for the integral to make sense?\n\n2. Assumption 2 as used for instance in Lemma 1 does not seem to make much sense (unless I missed something): What is $\\boldsymbol{\\pi}$? We do not know in advance the equilibrium policy and even if we did, we would still need to define the set of admissible deviations for the Nash equilibrium. Could you please clarify?\n\n3. Algorithm 1, line 14: Could you please explain or recall what is $Q^{k, \\mu^{\\tau_{\\mathrm{max}}}}$?\n\nSome typos: Should the state space be either $\\mathcal{X}$ or $X$ (see section 3 for instance)? Does $\\mathbb{G}^\\infty_{\\alpha,t}$ depend on $\\boldsymbol{\\mu}$ or not (see bottom of page 4)? Etc.",
         "324",
         "0",
         "4",
         "0.8025",
         "0.19302597400000002",
         "0.9195409417",
         "49",
         "9",
         "56.4417",
         "9.2197",
         "11.6035",
         "11.8555",
         "9.9651",
         "0.6631",
         "111",
         "0",
         "0",
         "0",
         "0",
         "4",
         "4",
         "3",
         "True",
         "neutral",
         "neutral",
         "Minimal",
         "somewhat specific",
         "4",
         "4",
         "3",
         "70",
         "85"
        ],
        [
         "31",
         "zwMfg9PfPs",
         "5166",
         "1695374748753",
         "['~Siyuan_Guo1', '~Jonas_Bernhard_Wildberger1', '~Bernhard_Schölkopf1']",
         "Out-of-Variable Generalisation for Discriminative Models",
         "The ability of an agent to do well in new environments is a critical aspect of intelligence. In machine learning, this ability is known as $\\textit{strong}$ or $\\textit{out-of-distribution}$ generalization. However, merely considering differences in distributions is inadequate for fully capturing differences between learning environments. In the present paper, we investigate $\\textit{out-of-variable}$ generalization, which pertains to an agent's generalization capabilities concerning environments with variables that were never jointly observed before. This skill closely reflects the process of animate learning: we, too, explore Nature by probing, observing, and measuring proper $\\textit{subsets}$ of variables at any given time. Mathematically, $\\textit{oov}$ generalization requires the efficient re-use of past marginal information, i.e., information over subsets of previously observed variables. We study this problem, focusing on prediction tasks across environments that contain overlapping, yet distinct, sets of causes. We show that after fitting a classifier, the residual distribution in one environment reveals the partial derivative of the true generating function with respect to the unobserved causal parent in that environment. We leverage this information and propose a method that exhibits non-trivial out-of-variable generalization performance when facing an overlapping, yet distinct, set of causal predictors. Code: https://github.com/syguo96/Out-of-Variable-Generalization",
         "Reviewer_qFZD",
         "1698724264822",
         "1699636511957",
         "5",
         "2",
         "3",
         "3",
         "2",
         "The paper introduces out-of-variable (OOV) generalization, which is an the ability to generalize in environments with variables that have never been jointly observed before. OOV is an issue in settings where different variables (e.g. diagnostic tests) are available for different environments (e.g. different patients). The paper investigates challenges for common approaches when faced with the OOV problem, and proposes an OOV predictor that leverage moments of the error distribution. The work contributes to theoretical understandings of OOV and offers a proof-of-concept for a predictor capable of non-trivial OOV transfer. - The paper formally studies a new perspective on generalization.\n- The methods employed in the paper are sound. - The paper does not demonstrate the practical applicability of the concept of OOV generalization, and the setting feels a bit contrived. Also it seems like OOV generalization can be thought of just a case of OOD generalization--if we think about all the variables together as the input, the OOV generalization is just a case of OOD generalization (e.g. covariate shift) where some inputs have clear signal from some features and other inputs have clear signal from other features. \n- It would be helpful to include more intuitive discussion throughout the paper providing more analysis on the sections. For example, more discussion on the assumptions of the settings/theorems would be helpful, and it's not clear exactly under what assumptions the proposed predictor is appropriate. Please see weaknesses above.",
         "236",
         "0",
         "2",
         "0.7220",
         "0.11756198350000001",
         "0.8290046453000001",
         "49",
         "10",
         "31.9194",
         "13.2407",
         "15.9316",
         "14.8796",
         "13.7972",
         "0.1839",
         "85",
         "0",
         "0",
         "0",
         "0",
         "3",
         "4",
         "1",
         "yes",
         "positive",
         "neutral",
         "Minimal",
         "somewhat specific",
         "2",
         "3",
         "4",
         "40",
         "60"
        ],
        [
         "32",
         "zwMfg9PfPs",
         "5166",
         "1695374748753",
         "['~Siyuan_Guo1', '~Jonas_Bernhard_Wildberger1', '~Bernhard_Schölkopf1']",
         "Out-of-Variable Generalisation for Discriminative Models",
         "The ability of an agent to do well in new environments is a critical aspect of intelligence. In machine learning, this ability is known as $\\textit{strong}$ or $\\textit{out-of-distribution}$ generalization. However, merely considering differences in distributions is inadequate for fully capturing differences between learning environments. In the present paper, we investigate $\\textit{out-of-variable}$ generalization, which pertains to an agent's generalization capabilities concerning environments with variables that were never jointly observed before. This skill closely reflects the process of animate learning: we, too, explore Nature by probing, observing, and measuring proper $\\textit{subsets}$ of variables at any given time. Mathematically, $\\textit{oov}$ generalization requires the efficient re-use of past marginal information, i.e., information over subsets of previously observed variables. We study this problem, focusing on prediction tasks across environments that contain overlapping, yet distinct, sets of causes. We show that after fitting a classifier, the residual distribution in one environment reveals the partial derivative of the true generating function with respect to the unobserved causal parent in that environment. We leverage this information and propose a method that exhibits non-trivial out-of-variable generalization performance when facing an overlapping, yet distinct, set of causal predictors. Code: https://github.com/syguo96/Out-of-Variable-Generalization",
         "Reviewer_s9Ga",
         "1698762596885",
         "1700684618252",
         "8",
         "4",
         "3",
         "4",
         "2",
         "This work investigates out-of-variable (OOV) generalization, which is a sub-problem to OOD generalization, and refers to scenarios where an agent needs to generalize to environments containing variables that were never jointly observed before. The paper shows that if the source and target environments contain some overlapping variables (and under certain conditions), information from the predictor in the source environment can improve predictions in the target environment. More specifically,  the moments of the residual distribution from the optimal classifier in the source environment can be used to calculate the generating function with respect to the unobserved variable in the target domain.\n\nBased on this observation, the paper proposes a practical algorithm for OOV prediction, evaluates its performance, and compares it against the marginal predictor and imputed predictor, as well as an Oracle predictor. The paper proposes a new and important problem-setting - OOV generalization, which can occur in real-world situations, on its own or alongside OOD aspects. The work also provides an extensive study of the identification problems of various variants of OOV scenarios, including theoretical proofs and examples. \n\nIn addition, the paper proposes a practical algorithm to solve several OOV scenarios that achieves non-trivial OOV transfer on synthetic data.\n\nThe ideas presented in the paper are novel and the conclusion that information from source domains can be used for prediction in the target domain in this setting is important, and can potentially have a broad impact on future research in the field. The main limitation of the paper is that the proposed approach was tested on only synthetic data, and was not validated using more challenging datasets. \n\nIn addition, the extension of OOV in multi-environments is mentioned mainly in the appendix and the algorithm was not tested empirically for that extension. I would like to ask the following questions:\n\n1. For future work, is there a more complicated/realistic dataset to validate the algorithm?\n2. Is it possible to compare the algorithm to state-of-the-art marginal or causal methods such as Mejia et al. (2021) or Janzing (2018)? To validate if Vapnik’s principle holds and whether the proposed approach indeed improves results due to solving a less general problem.\n3. Theorem 3 connects all moments of the residual distribution to the partial derivatives with respect to the unique variable of the target environment. If additional moments were to be calculated as part of the proposed algorithm, would it improve results (for the general function case)? \n4. In general, since the paper's main claim is that in the real world, it is likely to encounter both aspects of OOD and OOV - How simple is it to combine state-of-the-art  OOD methods with the proposed approach? I cannot imagine at the moment a straightforward way to do that.",
         "454",
         "2",
         "3",
         "0.7695",
         "0.1422634079",
         "0.9121482372",
         "61",
         "22",
         "27.7135",
         "15.3038",
         "18.6308",
         "16.8747",
         "15.9651",
         "0.1633",
         "97",
         "0",
         "0",
         "0",
         "1",
         "4",
         "5",
         "3",
         "yes",
         "neutral",
         "neutral",
         "Minimal",
         "2",
         "4",
         "5",
         "3",
         "80",
         "84"
        ],
        [
         "33",
         "zwMfg9PfPs",
         "5166",
         "1695374748753",
         "['~Siyuan_Guo1', '~Jonas_Bernhard_Wildberger1', '~Bernhard_Schölkopf1']",
         "Out-of-Variable Generalisation for Discriminative Models",
         "The ability of an agent to do well in new environments is a critical aspect of intelligence. In machine learning, this ability is known as $\\textit{strong}$ or $\\textit{out-of-distribution}$ generalization. However, merely considering differences in distributions is inadequate for fully capturing differences between learning environments. In the present paper, we investigate $\\textit{out-of-variable}$ generalization, which pertains to an agent's generalization capabilities concerning environments with variables that were never jointly observed before. This skill closely reflects the process of animate learning: we, too, explore Nature by probing, observing, and measuring proper $\\textit{subsets}$ of variables at any given time. Mathematically, $\\textit{oov}$ generalization requires the efficient re-use of past marginal information, i.e., information over subsets of previously observed variables. We study this problem, focusing on prediction tasks across environments that contain overlapping, yet distinct, sets of causes. We show that after fitting a classifier, the residual distribution in one environment reveals the partial derivative of the true generating function with respect to the unobserved causal parent in that environment. We leverage this information and propose a method that exhibits non-trivial out-of-variable generalization performance when facing an overlapping, yet distinct, set of causal predictors. Code: https://github.com/syguo96/Out-of-Variable-Generalization",
         "Reviewer_woi7",
         "1698788842803",
         "1699636511769",
         "6",
         "3",
         "3",
         "3",
         "2",
         "This paper describes the out-of-variable OOV problem, which in its simplest form, aims to learn a predictor Y = f_t(X2, X3) given an OOV predictor Y = f_s(X1, X2) and a dataset (X2, X3), but without any instance of (X2, X3, Y). The authors describe the setting in which this is possible and develops an algorithm. The key observation is that the third moment of the residue Y - f_s(X1,X2) contains information about X3 that is least polluted by the noise. - The key observation/discovery is clever, and the algorithm is straight-forward to use.\n- The writing is clear, clean, and well-referenced. The examples also made things concrete and easy to follow.\n- The rigor and simplicity of the work can act as a foundation to build OOV research. - The main weakness is the applicability of the method. The authors only showed results for proof-of-concept, not for real-world usage. \n- It is unclear how one could identify whether the assumptions are satisfied given a dataset.\n- It is unclear how bad the predictor would be if the assumptions are not satisfied.\n- It is not yet clear what realistic problem can be well modeled by OOV generalization. Intro:\n- It seems OOV fits very well the frame of missing-not-at-random and covariate-dependent missingness. Could the authors comment on that?\n\nSection 2:\n- Theorem 2 is slightly confusing for me at first glance because I thought PA_Y by definition includes all parents of Y (so x1,x2, x3 in the example) and not just those in the target environment (x2, x3). It may be helpful to clarify.\n\nSection 3:\nAs I am trying to get a sense of the restriction and applicability of the approach, I was wondering the following questions: \n- How does the method fair with the oracle as the magnitude of the noise increases? \n- What if the noise is not gaussian but more heavy tailed? \n- Does the performance degrade or improve with increasing number of variables? \n- I assume Theorem 3 does not apply to discrete variables because of the violation of differentiability; is that right?\n\nSection 4:\n- Can include missing-not-at-random imputation and covariate-missing imputation as two more baseline models (a search in Google scholar using the two key phrases yields some methods).\n- It would be really interesting if the authors could find some real-world datasets, create source and target environments by sub-setting the columns, and see how the method performs.\n- Figure 3: I don’t quite understand the figure. It would be helpful to define OOV loss, be explicit about the number of samples on the y-axis being (x2,x3,y) or (x1,x2,y) or something else. I also don’t understand why relative loss is zero means the method is on par with the oracle predictor. Why not just show how the fine-tuning error compares with oracle training, which seems easier to interpret? Anyway, I am overall a bit confused about the figure, so my questions may not make sense.",
         "493",
         "0",
         "0",
         "0.7642",
         "0.0947004608",
         "0.8592604399",
         "49",
         "9",
         "53.3705",
         "10.1765",
         "12.6762",
         "12.5225",
         "10.2004",
         "0.0743",
         "74",
         "0",
         "0",
         "0",
         "0",
         "4",
         "5",
         "3",
         "1",
         "Neutral",
         "Neutral",
         "Minimal",
         "Somewhat specific",
         "4",
         "5",
         "3",
         "70",
         "78.33"
        ],
        [
         "34",
         "zwMfg9PfPs",
         "5166",
         "1695374748753",
         "['~Siyuan_Guo1', '~Jonas_Bernhard_Wildberger1', '~Bernhard_Schölkopf1']",
         "Out-of-Variable Generalisation for Discriminative Models",
         "The ability of an agent to do well in new environments is a critical aspect of intelligence. In machine learning, this ability is known as $\\textit{strong}$ or $\\textit{out-of-distribution}$ generalization. However, merely considering differences in distributions is inadequate for fully capturing differences between learning environments. In the present paper, we investigate $\\textit{out-of-variable}$ generalization, which pertains to an agent's generalization capabilities concerning environments with variables that were never jointly observed before. This skill closely reflects the process of animate learning: we, too, explore Nature by probing, observing, and measuring proper $\\textit{subsets}$ of variables at any given time. Mathematically, $\\textit{oov}$ generalization requires the efficient re-use of past marginal information, i.e., information over subsets of previously observed variables. We study this problem, focusing on prediction tasks across environments that contain overlapping, yet distinct, sets of causes. We show that after fitting a classifier, the residual distribution in one environment reveals the partial derivative of the true generating function with respect to the unobserved causal parent in that environment. We leverage this information and propose a method that exhibits non-trivial out-of-variable generalization performance when facing an overlapping, yet distinct, set of causal predictors. Code: https://github.com/syguo96/Out-of-Variable-Generalization",
         "Reviewer_xwQY",
         "1699441328198",
         "1699636511667",
         "8",
         "3",
         "3",
         "3",
         "3",
         "The paper investigates out-of-variable generalization, namely the ability for a predictive model to generalize to target domains in which the agent has never seen the joint variables in the target domain in a single source domain before. Under certain assumptions as well as when these assumptions don't fully hold, the paper shows that the error residual distribution in an environment provides information on the unobserved causal parent variable in this environment, and they use this information to derive an algorithm that performs OOV generalization with source and target domains that have overlapping sets of causal factors. **Originality**\n- As far as I know, though the problem the paper addresses is well-known as a significant problem, the paper provides several theoretical results, mathematical derivations, and supports these with simple empirical results that are novel.\n\n**Quality**\n- The quality of the paper is high. It addresses a high-value problem in a principled fashion, shows how certain assumptions help obtain certain results and how and in which cases these assumptions can be bypasses while maintain approximately accurate results, and evaluates these cases in terms of loss accuracy as well as sample complexity of its approach versus baseline approaches.\n- The paper openly highlights limitations in its work, such as assumptions made for theorems to hold, and proposes prospective future work in multiple avenues. This refreshingly is (1) included at all and (2) doesn't seem like a mere afterthought.\n\n**Clarity**\n- The paper is mostly clear in its explanation of motivation, preliminaries, approach, baseline usage, results, and limitations.\n- The paper does a great job providing simple, clear real-world examples to elucidate the problem and applications of the various theorems included in multiple cases.\n\n**Significance**\n- The significance of the problem the paper addresses is high and the problem is ubiquitous. The approach is promising and can be applied in many real-world settings through Monte-Carlo sampling or similar methods. The paper shows that their approach can perform relatively well in \"few\"-shot settings though this depends on the number of variables involved and the complexity of the problem.\n\nFrom what I can tell, this is excellent work that I hope motivates further addressing this *out-of-variable* generalization problem by the research and applied AI community. My only reservation is my limited knowledge on the understanding of and state-of-the-art theoretical and applied approaches addressing this problem. - Referring to Figure 1, in the first paragraph in page 3, the claim \"it would seem all but impossible...(orange box)\" could be better explained.\n- In Figure 1, it is unclear whether \"With $Y$ not observed in the target domain\" is an assumption made or is somehow indicated in the diagram or earlier in the paper. Eventually I realized that it's an assumption made, but the illustration Figure 1a alone isn't enough to show this assumption. This ambiguity may clear for some or compound for some later in Section 3. - The abstract states \"merely considering differences in data distributions is inadequate for fully capturing differences between learning environments.\" Doesn't out-of-variable technically fall under out-of-distribution, so shouldn't this be adequate? Perhaps more specificity is needed here.\n- The abstract states \"Mathematically, out-of-variable generalization requires the efficient re-use of past marginal information...\" Why does it require efficient re-use? Could it work with \"non-efficient\" or inefficient re-use?\n- On page 2, should \"modal\" be \"model?\"\n- On page 6, do you mean \"parentheses\" instead of \"brackets\" between Eq (9) and Eq (10)?\n- Why is the joint predictor considered an oracle predictor if MomentLearn outperforms it?\n- Could you explain why MomentLearn is reliably more sample efficient than the oracle predictor for \"few\"-shot prediction?",
         "602",
         "0",
         "0",
         "0.7701",
         "0.10227124180000001",
         "0.9314678907",
         "49",
         "2",
         "29.5723",
         "14.1717",
         "17.226",
         "15.4091",
         "14.9494",
         "0.45280000000000004",
         "97",
         "0",
         "0",
         "1",
         "0",
         "5",
         "4",
         "2",
         "yes",
         "neutral",
         "neutral",
         "Moderate",
         "3",
         "4",
         "4",
         "3",
         "92",
         "92"
        ],
        [
         "35",
         "zvTnwY5uS7",
         "96",
         "1694767211144",
         "['~Yuzhu_Wang1', '~Lechao_Cheng2', '~Manni_Duan2', '~Yongheng_Wang1', '~Zunlei_Feng1', '~Shu_Kong1']",
         "Improving Knowledge Distillation via Regularizing Feature Direction and Norm",
         "Knowledge distillation (KD) exploits a large well-trained {\\tt teacher} neural network to train a small {\\tt student} network on the same dataset for the same task.\nTreating {\\tt teacher}'s feature as knowledge, prevailing methods train {\\tt student} by aligning its features with the {\\tt teacher}'s, e.g., by minimizing the KL-divergence between their logits or L2 distance between their features at intermediate layers. \nWhile it is natural to assume that better feature alignment helps distill {\\tt teacher}'s knowledge, simply forcing this alignment does not directly contribute to the {\\tt student}'s performance, e.g., classification accuracy.\nFor example, minimizing the L2 distance between the penultimate-layer features (used to compute logits for classification) does not necessarily help learn a better {\\tt student}-classifier.\nTherefore, we are motivated to regularize {\\tt student} features at the penultimate layer using {\\tt teacher} towards training a better {\\tt student} classifier.\nSpecifically, we present a rather simple method that uses {\\tt teacher}'s class-mean features to align {\\tt student} features w.r.t their {\\em direction}.\nExperiments show that this significantly improves KD performance. Moreover, we empirically find that {\\tt student} produces features that have notably smaller norms than {\\tt teacher}'s, motivating us to regularize {\\tt student} to produce large-norm features.\nExperiments show that doing so also yields better performance. Finally, we present a simple loss as our main technical contribution that regularizes {\\tt student} by simultaneously (1) aligning the \\emph{direction} of its features with the {\\tt teacher} class-mean feature, and (2) encouraging it to produce large-\\emph{norm} features.\nExperiments on standard benchmarks demonstrate that adopting our technique remarkably improves existing KD methods, achieving the state-of-the-art KD performance through the lens of image classification (on ImageNet and CIFAR100 datasets) and object detection (on the COCO dataset).",
         "Reviewer_HgHQ",
         "1697165838375",
         "1699635934990",
         "3",
         "5",
         "2",
         "3",
         "2",
         "The paper proposes a simple yet efficient feature direction distillation loss. Experiments show that this significantly improves KD\nperformance. 1. Improving KD by feature norm and direction is reasonable and effectiveness.\n2. Experiments on standard benchmarks demonstrate that adopting $\\mathcal{L}_{dino}$ remarkably improves existing KD methods. 1. The contributions seem a little limited. \n2. There is lack of theoretical analysis of DINO loss. The paper is not good enough to be published on ICLR. 1. How to align the features between heterogeneous architectures?\n2. Could you please provide more theoretical analysis?\n3. What about extending it to a multi-layer version of feature distillation?\n4. How to apply the proposed method to existing KD methods, e.g. ReviewKD, DKD, DIST? Just add the DINO loss function to the total loss ? If so, I think adding other loss like contrastive distillation loss or RKD may also make a improvement.",
         "146",
         "0",
         "8",
         "0.8205",
         "0.07793367350000001",
         "0.8326533437",
         "56",
         "28",
         "43.4591",
         "9.7707",
         "12.1429",
         "11.6299",
         "9.46",
         "0.5162",
         "80",
         "0",
         "1",
         "0",
         "0",
         "3",
         "4",
         "2",
         "no",
         "neutral",
         "neutral",
         "Moderate",
         "3",
         "4",
         "5",
         "4",
         "70",
         "80"
        ],
        [
         "36",
         "zvTnwY5uS7",
         "96",
         "1694767211144",
         "['~Yuzhu_Wang1', '~Lechao_Cheng2', '~Manni_Duan2', '~Yongheng_Wang1', '~Zunlei_Feng1', '~Shu_Kong1']",
         "Improving Knowledge Distillation via Regularizing Feature Direction and Norm",
         "Knowledge distillation (KD) exploits a large well-trained {\\tt teacher} neural network to train a small {\\tt student} network on the same dataset for the same task.\nTreating {\\tt teacher}'s feature as knowledge, prevailing methods train {\\tt student} by aligning its features with the {\\tt teacher}'s, e.g., by minimizing the KL-divergence between their logits or L2 distance between their features at intermediate layers. \nWhile it is natural to assume that better feature alignment helps distill {\\tt teacher}'s knowledge, simply forcing this alignment does not directly contribute to the {\\tt student}'s performance, e.g., classification accuracy.\nFor example, minimizing the L2 distance between the penultimate-layer features (used to compute logits for classification) does not necessarily help learn a better {\\tt student}-classifier.\nTherefore, we are motivated to regularize {\\tt student} features at the penultimate layer using {\\tt teacher} towards training a better {\\tt student} classifier.\nSpecifically, we present a rather simple method that uses {\\tt teacher}'s class-mean features to align {\\tt student} features w.r.t their {\\em direction}.\nExperiments show that this significantly improves KD performance. Moreover, we empirically find that {\\tt student} produces features that have notably smaller norms than {\\tt teacher}'s, motivating us to regularize {\\tt student} to produce large-norm features.\nExperiments show that doing so also yields better performance. Finally, we present a simple loss as our main technical contribution that regularizes {\\tt student} by simultaneously (1) aligning the \\emph{direction} of its features with the {\\tt teacher} class-mean feature, and (2) encouraging it to produce large-\\emph{norm} features.\nExperiments on standard benchmarks demonstrate that adopting our technique remarkably improves existing KD methods, achieving the state-of-the-art KD performance through the lens of image classification (on ImageNet and CIFAR100 datasets) and object detection (on the COCO dataset).",
         "Reviewer_yLjx",
         "1697172920902",
         "1699635934905",
         "6",
         "5",
         "3",
         "3",
         "2",
         "Here is a summary of the key points from the paper:\n\n- The paper proposes a method to improve knowledge distillation (KD) by regularizing student features to align direction with teacher class-means and have sufficiently large norms. \n\n- Current KD methods like logit or feature distillation align student and teacher but don't directly optimize for student's task performance.\n\n- The paper shows regularizing direction using cosine similarity to teacher class means helps improve student accuracy. \n\n- It also finds student models tend to produce smaller-norm features, so encouraging larger norms improves performance. \n\n- A simple combined loss called dino-loss is proposed to simultaneously regularize student feature direction and norm using teacher class means.\n\n- Experiments on CIFAR and ImageNet classification, and COCO detection show dino-loss consistently improves various KD methods like KD, ReviewKD, DKD.\n\n- Dino-loss achieves new state-of-the-art results among KD techniques on classification and detection benchmarks.\n\n- The method is model-agnostic, simple to implement, adds minimal overhead, and benefits from larger teacher models.\n\nIn summary, the key contributions are a way to improve KD by regularizing student features for better alignment and norms, along with a simple and effective dino-loss to achieve this jointly. The results demonstrate consistent gains across tasks and benchmarks. The paper presents an original and significant approach to improve KD via thoughtful feature regularization. The method is intuitive and supported by quality experiments. The gains are demonstrated to be significant across tasks. The presentation and discussion are clear:\n- The method and dino-loss are clearly explained with illustrations and equations. Results are well-presented in tables and figures. Limitations are properly discussed.\n- Improving KD is an important practical problem. The consistent gains are significant. Sets new state-of-the-art results on ImageNet classification and COCO detection.\n- Model-agnostic nature allows wide applicability to various KD methods and models. Simple extension can benefit the community compared to more complex techniques. - The paper should address the lack of novelty by acknowledging that feature normalization techniques have already been widely employed in knowledge distillation. For example, PKD (NeurIPS-2023) specifically incorporates channel alignment for detectors, and SKD (Guo Jia) explores normalization techniques on predictions. and Feature Normalized Knowledge Distillation for\n/mage Classification ECCV2022 also presents feature norm. Furthermore, it is worth investigating whether the proposed method has already been considered in the distiller's search work, as exemplified by KD-Zero: Evolving Knowledge Distiller for Any Teacher-Student Pairs (NeurIPS-2023).\n\n- In addition, the paper should incorporate a thorough discussion of relevant KD-related studies, including Self-Regulated Feature Learning via Teacher-free Feature Distillation (ECCV2022), NORM: Knowledge Distillation via N-to-One Representation Matching (ICLR2023), Shadow Knowledge Distillation: Bridging Offline and Online Knowledge Transfer (NIPS2022), DisWOT: Student Architecture Search for Distillation Without Training (CVPR2023), and Automated Knowledge Distillation via Monte Carlo Tree Search (ICCV2023). These discussions will provide valuable insights into the existing literature, establish connections with previous research, and potentially highlight points of comparison and contrast. The only concern to me is the novelty of the work and I hope the authors could discuss some of the related work I mentioned in the revised version.",
         "510",
         "0",
         "1",
         "0.8228",
         "0.134258658",
         "0.9310495853",
         "56",
         "28",
         "21.6614",
         "14.6476",
         "16.1946",
         "15.0048",
         "16.804",
         "0.063",
         "92",
         "0",
         "0",
         "0",
         "0",
         "5",
         "4",
         "0",
         "yes",
         "positive",
         "polite",
         "No Hedging",
         "very specific",
         "5",
         "4",
         "5",
         "85",
         "90"
        ],
        [
         "37",
         "zvTnwY5uS7",
         "96",
         "1694767211144",
         "['~Yuzhu_Wang1', '~Lechao_Cheng2', '~Manni_Duan2', '~Yongheng_Wang1', '~Zunlei_Feng1', '~Shu_Kong1']",
         "Improving Knowledge Distillation via Regularizing Feature Direction and Norm",
         "Knowledge distillation (KD) exploits a large well-trained {\\tt teacher} neural network to train a small {\\tt student} network on the same dataset for the same task.\nTreating {\\tt teacher}'s feature as knowledge, prevailing methods train {\\tt student} by aligning its features with the {\\tt teacher}'s, e.g., by minimizing the KL-divergence between their logits or L2 distance between their features at intermediate layers. \nWhile it is natural to assume that better feature alignment helps distill {\\tt teacher}'s knowledge, simply forcing this alignment does not directly contribute to the {\\tt student}'s performance, e.g., classification accuracy.\nFor example, minimizing the L2 distance between the penultimate-layer features (used to compute logits for classification) does not necessarily help learn a better {\\tt student}-classifier.\nTherefore, we are motivated to regularize {\\tt student} features at the penultimate layer using {\\tt teacher} towards training a better {\\tt student} classifier.\nSpecifically, we present a rather simple method that uses {\\tt teacher}'s class-mean features to align {\\tt student} features w.r.t their {\\em direction}.\nExperiments show that this significantly improves KD performance. Moreover, we empirically find that {\\tt student} produces features that have notably smaller norms than {\\tt teacher}'s, motivating us to regularize {\\tt student} to produce large-norm features.\nExperiments show that doing so also yields better performance. Finally, we present a simple loss as our main technical contribution that regularizes {\\tt student} by simultaneously (1) aligning the \\emph{direction} of its features with the {\\tt teacher} class-mean feature, and (2) encouraging it to produce large-\\emph{norm} features.\nExperiments on standard benchmarks demonstrate that adopting our technique remarkably improves existing KD methods, achieving the state-of-the-art KD performance through the lens of image classification (on ImageNet and CIFAR100 datasets) and object detection (on the COCO dataset).",
         "Reviewer_VRvE",
         "1698736302686",
         "1699635934723",
         "6",
         "4",
         "3",
         "3",
         "3",
         "This paper studies Knowledge Distillation (KD). A simple loss term namely ND loss is proposed to enhance the distillation performance. It encourages the student to produce large-norm features and aligns the direction of student features and teacher class-means. The ND loss helps not only logit-based distillation methods but also feature-based distillation methods. 1. The proposed method is simple but effective. Encouraging the feature norm for the student is novel in the field of KD.\n2. Experimental results are strong. The authors also conduct experiments on object detection. The proposed loss can improve the existing methods on both image classification and object detection.\n3. The whole paper is organized and written well. It is not a novel thing that decoupling the feature into the magnitude and the direction. Previous works \\[1\\]\\[2\\] already studied this point. \\[1\\] uses the teacher classifier to project both teacher features and student features into the same space and then align them. \\[2\\] proposes a loss term to align two features’ direction. Compared to the existing works, this paper proposes enlarging feature norm and utilizing the class-mean feature. Authors should check more existing papers and discuss their differences.\n\\[1\\] Yang, Jing, et al. \"Knowledge distillation via softmax regression representation learning.\" International Conference on Learning Representations (ICLR), 2021.\n\n\\[2\\] Wang, Guo-Hua, Yifan Ge, and Jianxin Wu. \"Distilling knowledge by mimicking features.\" IEEE Transactions on Pattern Analysis and Machine Intelligence 44.11 (2021): 8183-8195. None",
         "235",
         "7",
         "6",
         "0.7478",
         "0.1515151515",
         "0.9257477522",
         "56",
         "10",
         "45.6243",
         "9.4339",
         "10.8955",
         "11.0306",
         "10.9165",
         "0.0999",
         "85",
         "0",
         "0",
         "0",
         "0",
         "5",
         "4",
         "3",
         "yes",
         "positive",
         "polite",
         "No Hedging",
         "neutral",
         "4",
         "5",
         "4",
         "95",
         "True"
        ],
        [
         "38",
         "zvTnwY5uS7",
         "96",
         "1694767211144",
         "['~Yuzhu_Wang1', '~Lechao_Cheng2', '~Manni_Duan2', '~Yongheng_Wang1', '~Zunlei_Feng1', '~Shu_Kong1']",
         "Improving Knowledge Distillation via Regularizing Feature Direction and Norm",
         "Knowledge distillation (KD) exploits a large well-trained {\\tt teacher} neural network to train a small {\\tt student} network on the same dataset for the same task.\nTreating {\\tt teacher}'s feature as knowledge, prevailing methods train {\\tt student} by aligning its features with the {\\tt teacher}'s, e.g., by minimizing the KL-divergence between their logits or L2 distance between their features at intermediate layers. \nWhile it is natural to assume that better feature alignment helps distill {\\tt teacher}'s knowledge, simply forcing this alignment does not directly contribute to the {\\tt student}'s performance, e.g., classification accuracy.\nFor example, minimizing the L2 distance between the penultimate-layer features (used to compute logits for classification) does not necessarily help learn a better {\\tt student}-classifier.\nTherefore, we are motivated to regularize {\\tt student} features at the penultimate layer using {\\tt teacher} towards training a better {\\tt student} classifier.\nSpecifically, we present a rather simple method that uses {\\tt teacher}'s class-mean features to align {\\tt student} features w.r.t their {\\em direction}.\nExperiments show that this significantly improves KD performance. Moreover, we empirically find that {\\tt student} produces features that have notably smaller norms than {\\tt teacher}'s, motivating us to regularize {\\tt student} to produce large-norm features.\nExperiments show that doing so also yields better performance. Finally, we present a simple loss as our main technical contribution that regularizes {\\tt student} by simultaneously (1) aligning the \\emph{direction} of its features with the {\\tt teacher} class-mean feature, and (2) encouraging it to produce large-\\emph{norm} features.\nExperiments on standard benchmarks demonstrate that adopting our technique remarkably improves existing KD methods, achieving the state-of-the-art KD performance through the lens of image classification (on ImageNet and CIFAR100 datasets) and object detection (on the COCO dataset).",
         "Reviewer_AuzT",
         "1698788774762",
         "1699635934515",
         "5",
         "4",
         "2",
         "2",
         "2",
         "This paper proposes to use teacher's class-mean to align student's direction and encourage the student to produce large-norms features, improving the performance of KD. The paper is generally well-written, and the methodology is well-motivated. 1. would expect comparisons and discussion to similarity-preserving KD e.g., \\[1\\], which is a large family in feature distillation methods and shows some relations to the proposed method.\n2. Meanwhile, comparisons/discussion to explainablity-based KD, e.g., \\[2\\] are needed to see whether those methods can be benefited from the proposed method.\n\n\\[1\\] Tung, Fred, and Greg Mori. “Similarity-Preserving Knowledge Distillation.” ICCV 2019.\n\n\\[2\\] Guo, Ziyao, et al. \"Class Attention Transfer Based Knowledge Distillation.\" CVPR 2023. Please see weakness.",
         "111",
         "4",
         "6",
         "0.7517",
         "0.1321428571",
         "0.8699356318",
         "56",
         "9",
         "39.5873",
         "10.2446",
         "10.8832",
         "11.2081",
         "12.4695",
         "0.1376",
         "72",
         "1",
         "0",
         "0",
         "0",
         "4",
         "4",
         "2",
         "True",
         "neutral",
         "polite",
         "Minimal",
         "3",
         "4",
         "5",
         "4",
         "92",
         "92"
        ],
        [
         "39",
         "ztuCObOc2i",
         "3768",
         "1695317147625",
         "['~Huminhao_Zhu1', '~Fangyikang_Wang1', '~Chao_Zhang19', '~Hanbin_Zhao1', '~Hui_Qian1']",
         "Neural Sinkhorn Gradient Flow",
         "Wasserstein Gradient Flows (WGF) with respect to specific functionals have been widely used in the machine learning literature. \nRecently, neural networks have been adopted to approximate certain intractable parts of the underlying Wasserstein gradient flow and result in efficient inference procedures. In this paper, we introduce the Neural Sinkhorn Gradient Flow (NSGF) model,  which parametrizes the time-varying velocity field of the Wasserstein gradient flow w.r.t. the Sinkhorn divergence to the target distribution starting a given source distribution.  We utilize the velocity field matching training scheme in NSGF, which only requires samples from the source and target distribution to compute an empirical velocity field approximation. Our theoretical analyses show that as the sample size increases to infinity, the mean-field limit of the empirical approximation converges to the true underlying velocity field. With specific source and target data samples, our NSGF models can be used in many machine learning tasks such as unconditional/conditional image generating, style transfer, and audio-text translations.  Numerical experiments with synthetic and real-world benchmark datasets support our theoretical results and demonstrate the effectiveness of the proposed method.",
         "Reviewer_AcYB",
         "1697637540901",
         "1700740134087",
         "5",
         "4",
         "3",
         "2",
         "2",
         "The authors introduce Neural Sinkhorn gradient flow, which is a Wasserstein Gradient Flow wrt to the Sinkhorn divergence. The authors show that the velocity field can be calculated using the Sinkhorn potentials. This allows training a neural network approximating the velocity field. Furthermore, a mean field limit is established. The algorithm is evaluated on a toy example, MNIST image generation and CIFAR10 image generation. The authors do a good job at explaining the underlying concepts of their algorithms. The maths is nicely done. The core idea is very neat and the cifar10 results seem to be good quantitatively wrt other gradient flow works. 1) The article is full with typos. Just to name a few: \"piror\", \"Sinkhron\", \"Experimrnts\", \"speedest descent\", question mark in the appendix and so on. Please fix those. \n\n2) the authors write \"We do not compare with extant neural WGF methods on MNIST because most of the neural WGF\nmethods only show generative power and trajectories on this dataset and lack the criteria to make\ncomparisons.\" There are several papers (also gradient flow based ones), which evaluate a FID on MNIST. Please provide it as well. \n\n3) Also many of the MNIST digits appear flipped. Did the authors use data augmentation there? Also there seems to some slight noise present the generated MNIST digits. \n\n4) Although the CIFAR10 value seems good, there are unfortunately no generated images provided. It is standard practice to sample many images in the appendix. \n\n5) It is unclear what the trajectories show. Does it show the particle flow or the trained Neural Sinkhorn Gradient Flow? \n\n6) The statement of theorem 2 is incorrect. I guess the authors do not want to sample the Euler scheme (eq 14) but the continuous gradient flow, otherwise the statement would need to depend on the step size $\\eta$. \n\n7) In the proof of Theorem 2: Please provide a proof (or reference) why the mean field limit exists. Or do you mean the gradient flow starting at $\\mu_0$ with target $\\mu$ (first two sentences).\n\n8) Later in that proof: why does there exists a weakly convergent subsequence of $\\mu_t^M$? Further, I cant find the definition of $U_{\\mu}$. \n\n9) The code is not runnable, as the model (or any checkpoints) are not provided.\n\n10) From how I understood it, the learning of the velocity field is batched, i.e., one trains for different sets of $(z_i,x_i)$. Since the Sinkhorn dynamic describes an interacting particle system I dont see how this should be possible. To be more precise, one particle $\\tilde{x}$ could be sent to $x_0$ in the first batch, but to a totally different particle $x_1$ in another one, depending on the drawn prior and target samples. Are the positions of the other particles also input to the neural network (i.e by putting them in the channels)? Please elaborate. See weaknesses section. Overall I really like the idea, but the weaknesses prevent me from giving a higher score. It seems like the paper was rushed and is currently not ready for publication. I am willing to raise my score, if the authors address these issues.",
         "516",
         "0",
         "3",
         "0.7790",
         "0.1480691057",
         "0.8920141459",
         "62",
         "35",
         "60.9059",
         "8.1376",
         "10.8579",
         "11.2611",
         "8.6721",
         "0.2179",
         "92",
         "0",
         "0",
         "0",
         "0",
         "4",
         "3",
         "10",
         "False",
         "neutral",
         "polite",
         "Minimal",
         "somewhat specific",
         "4",
         "4",
         "3",
         "70",
         "78"
        ],
        [
         "40",
         "ztuCObOc2i",
         "3768",
         "1695317147625",
         "['~Huminhao_Zhu1', '~Fangyikang_Wang1', '~Chao_Zhang19', '~Hanbin_Zhao1', '~Hui_Qian1']",
         "Neural Sinkhorn Gradient Flow",
         "Wasserstein Gradient Flows (WGF) with respect to specific functionals have been widely used in the machine learning literature. \nRecently, neural networks have been adopted to approximate certain intractable parts of the underlying Wasserstein gradient flow and result in efficient inference procedures. In this paper, we introduce the Neural Sinkhorn Gradient Flow (NSGF) model,  which parametrizes the time-varying velocity field of the Wasserstein gradient flow w.r.t. the Sinkhorn divergence to the target distribution starting a given source distribution.  We utilize the velocity field matching training scheme in NSGF, which only requires samples from the source and target distribution to compute an empirical velocity field approximation. Our theoretical analyses show that as the sample size increases to infinity, the mean-field limit of the empirical approximation converges to the true underlying velocity field. With specific source and target data samples, our NSGF models can be used in many machine learning tasks such as unconditional/conditional image generating, style transfer, and audio-text translations.  Numerical experiments with synthetic and real-world benchmark datasets support our theoretical results and demonstrate the effectiveness of the proposed method.",
         "Reviewer_KKim",
         "1698338217824",
         "1700755549491",
         "5",
         "4",
         "2",
         "2",
         "2",
         "This paper introduces a novel way to train generative models. The authors want to approximate the gradient flow in the Wasserstein space.  They want to approximate the vector field which transports the source distribution to the real-data empirical distribution while minimizing the Sinkhorn divergence. The authors showed the analytical form of the vector field when one considers the Sinkhorn divergence and then they explain how to learn this vector field with a neural network through the simulation of a probability path. They showed that their procedures recover the true probability path when the number of iid samples goes to infinity. Finally, they validate their proposed method on several image-generative tasks. i) The motivation and the introduction are clear\n\nii) Regressing vector fields has been a recent and popular approach with many different applications in machine learning. The proposed approach is interesting and appears to be novel. The theoretical results also show that the proposed method has appealing properties. \n\niii) The authors also provided several experiments showing interesting results from their methods. The first thing I would like to highlight is that I have checked the provided code. I see several inconsistencies and weaknesses between the provided code and the paper:\n\n1. There are several differences in the empirical implementation between the paper and the code. In Appendix A, the authors state that they are computing the entropic potential through stochastic optimization algorithms \\[Genevay et al, 2016\\]. However, this is not what is done in practice according to the provided code. In practice, the authors compute the potential between mini-batches of samples, they sample a minibatch of cifar10 experiments, then sample a minibatch of the source Gaussian, and simulate the gradient flows between the two minibatches. This style of minibatch approximation induces a bias that should at least be mentioned in the main paper but also discussed. Indeed, the authors do not compute the true Sinkhorn divergence but a minibatch approximation of it; this approximation is slightly different than the one from \\[1,2\\] and that should be discussed. I understand the reason why the authors use this approach (decreasing the cost of this preprocessing step), but this is not what they say they do in Appendix A. In that regard, the paper is much closer to the minibatch optimal transport Flow Matching \\[Pooladian et al., Tong et al\\] and Appendix A deserves a major revision.\n\n2. With the provided code, there are several insights that should be discussed in the paper. In the provided cifar experiments, the number of Gaussian samples used is 50000 samples. This number is extremely low to approximate the semi-discrete OT. Therefore, a discussion regarding the statistical performance of the method is needed in my opinion.\n\n3. As your method requires the simulation of the probability path, I wonder about the training time between your method and the recent Flow Matching approaches which are simulation free.\n\n4. There are many typos in the paper (including in titles: ie ExperimRnts, Notaions) that lead to poor clarity...\n\n5. The experiments include two toy datasets (synthetic 2D and MNIST). I would like to know how the method performs on other big datasets (Flowers, CelebA) or on other tasks such as single-cell dynamics \\[4\\].\n\n6. The related work on optimal transport is incomplete. Several works used the sliced Wasserstein distance to perform gradient flows \\[3\\].\n\n\\[1\\] Learning Generative Models with Sinkhorn Divergences, Genevay et al, AISTATS 2018\n\\[2\\] Learning with minibatch Wasserstein, Fatras et al, AISTATS 2020\n\\[3\\] Sliced-Wasserstein Flows: Nonparametric Generative Modeling via Optimal Transport and Diffusions\n\\[4\\] TrajectoryNet: A Dynamic Optimal Transport Network for Modeling Cellular Dynamics 1. \\[Pooladian et al., Tong et al.\\] proved that when the minibatch increases, they get closer to the true optimal transport cost (W_2^2). The interest of their method is that they can rely on minibatches and learn the vector field from an unlimited number of minibatches. Could you follow a similar approach and simulate the gradient flow during training? While it would be an expensive step in training, it might improve the metrics on the different generative model experiments.\n\n2. What is the performance of your method concerning the number of simulation steps (ie Euler integration and its learning rate)?\n\n3. What is the time of the preprocessing step concerning the training time?\n\n4. Could you compare your method with OT-CFM \\[Pooladian et al., Tong et al.\\] on the synthetic data? I am curious to compare the differences.\n\nIn my opinion, the mentioned weaknesses have to be revised and this paper should go under a major revision. I deeply think that the experimental section should better highlight what is done in practice and the theoretical section should mention the different biases (statistical and minibatch). Therefore, I recommend rejecting the current manuscript as it does not meet the ICLR acceptance bar.\n\n\n----- EDIT POST REBUTTAL -----\n\nI thank the authors for their answers. I have read the updated manuscript. While it is now better than before, I suggest they add a limitation section where they describe the different biases in their algorithm. I understand the motivations of the paper. Overall, I think that the manuscript deserves another round of reviews but I have decided to move my score to 5 as they have given good answers.",
         "873",
         "7",
         "8",
         "0.7648",
         "0.0723611111",
         "0.8572189808",
         "62",
         "27",
         "47.6358",
         "10.776299999999999",
         "13.8642",
         "13.3974",
         "11.9247",
         "0.9374",
         "105",
         "0",
         "0",
         "0",
         "0",
         "4",
         "3",
         "5",
         "yes",
         "positive",
         "neutral",
         "Minimal",
         "somewhat specific",
         "4",
         "3",
         "4",
         "70",
         "80"
        ],
        [
         "41",
         "ztuCObOc2i",
         "3768",
         "1695317147625",
         "['~Huminhao_Zhu1', '~Fangyikang_Wang1', '~Chao_Zhang19', '~Hanbin_Zhao1', '~Hui_Qian1']",
         "Neural Sinkhorn Gradient Flow",
         "Wasserstein Gradient Flows (WGF) with respect to specific functionals have been widely used in the machine learning literature. \nRecently, neural networks have been adopted to approximate certain intractable parts of the underlying Wasserstein gradient flow and result in efficient inference procedures. In this paper, we introduce the Neural Sinkhorn Gradient Flow (NSGF) model,  which parametrizes the time-varying velocity field of the Wasserstein gradient flow w.r.t. the Sinkhorn divergence to the target distribution starting a given source distribution.  We utilize the velocity field matching training scheme in NSGF, which only requires samples from the source and target distribution to compute an empirical velocity field approximation. Our theoretical analyses show that as the sample size increases to infinity, the mean-field limit of the empirical approximation converges to the true underlying velocity field. With specific source and target data samples, our NSGF models can be used in many machine learning tasks such as unconditional/conditional image generating, style transfer, and audio-text translations.  Numerical experiments with synthetic and real-world benchmark datasets support our theoretical results and demonstrate the effectiveness of the proposed method.",
         "Reviewer_Kh9H",
         "1698606606187",
         "1699636333063",
         "6",
         "4",
         "3",
         "2",
         "2",
         "Through a series of approximations (and at times, really, relaxations) the authors show that the Sinkhorn gradient flow from one measure to another can be learned.  They do this by first reducing their relaxed problem to a vector field matching problem, and then proposing a neural network-based Algorithm for matching the Sinkhorn-Wasserstein flow's vector field by a neural network (though no convergence/approximation guarantees are proven).\nThe problem is interesting, and its solution is sufficiently novel to merit publication. The problem is natural to study, the results are mathematically correct, and the experiments are convincing. While the paper is mathematically correct, it does not provide theoretical justification for one of its main components, namely showing that approximate vector field matching yields approximate solutions for all time $t$.  I feel that without this guarantee, there is a gap in the theoretical viability of this model.  Nevertheless, this is a minor point since the length of a conference paper does not allow one to treat every such point.\n\nThere are minor typos throughout. \n* E.g. euclidean instead of Euclidean\n* $lim$ instead of $\\lim$ atop page 15 in the appendix\n* The positive scalar $\\delta$ is not defined in the proof of Theorem $1$\n* In the statement of Lemma 3: \"teh\" should read \"the\"\n\nSome references are obscure\n* For The fact that $\\mu + t\\delta \\mu$ converges weakly to $\\mu$, perhaps it is worth simply noting that due to linearity of integration (wrt to the measure term). Can it be shown that approximate vector field matching yields approximate solutions for all time $t$?",
         "262",
         "0",
         "1",
         "0.7647",
         "0.0019972452",
         "0.8472071886",
         "49",
         "11",
         "40.0713",
         "14.0299",
         "16.0213",
         "14.5546",
         "15.9806",
         "0.0613",
         "93",
         "0",
         "0",
         "0",
         "0",
         "4",
         "3",
         "2",
         "0",
         "3",
         "3",
         "1",
         "2",
         "4",
         "4",
         "5",
         "84",
         "84"
        ],
        [
         "42",
         "ztuCObOc2i",
         "3768",
         "1695317147625",
         "['~Huminhao_Zhu1', '~Fangyikang_Wang1', '~Chao_Zhang19', '~Hanbin_Zhao1', '~Hui_Qian1']",
         "Neural Sinkhorn Gradient Flow",
         "Wasserstein Gradient Flows (WGF) with respect to specific functionals have been widely used in the machine learning literature. \nRecently, neural networks have been adopted to approximate certain intractable parts of the underlying Wasserstein gradient flow and result in efficient inference procedures. In this paper, we introduce the Neural Sinkhorn Gradient Flow (NSGF) model,  which parametrizes the time-varying velocity field of the Wasserstein gradient flow w.r.t. the Sinkhorn divergence to the target distribution starting a given source distribution.  We utilize the velocity field matching training scheme in NSGF, which only requires samples from the source and target distribution to compute an empirical velocity field approximation. Our theoretical analyses show that as the sample size increases to infinity, the mean-field limit of the empirical approximation converges to the true underlying velocity field. With specific source and target data samples, our NSGF models can be used in many machine learning tasks such as unconditional/conditional image generating, style transfer, and audio-text translations.  Numerical experiments with synthetic and real-world benchmark datasets support our theoretical results and demonstrate the effectiveness of the proposed method.",
         "Reviewer_KkYD",
         "1698745650108",
         "1700818697559",
         "5",
         "4",
         "2",
         "3",
         "2",
         "The paper under consideration deals with the standard generative modelling setup (image generation from noise). To solve this problem, the authors propose to model the gradient flow w.r.t. the Sinkhorn divergence. The paper utilizes an explicit (forward) Euler discretization scheme, i.e., given a distribution $\\mu_t$ at the current time step $t$, the proposed method aims at finding the subsequent distribution $\\mu_{t + 1}$ following the gradient of the Sinkhorn divergence at point $\\mu_t$. The authors validate their methodology on toy 2D setups as well as standard image benchmarks (MNIST and CIFAR10).\n\n**Post-rebuttal update:** I thank the authors for the detailed answer. The majority of my concerns are properly addressed. I rise my score. However, I still tend to reject the paper. Also I agree with reviewer KKim that minibatch OT approximation should be discussed more thorougly. Thank you. To the best of my knowledge, the framework of the gradient flow w.r.t. Sinkhorn divergence for pure generative modelling has not yet been considered. This indicates that the paper is indeed bringing something novel to the ML community. At the same time, the idea of the Sinkhorn gradient flow has already arisen in previous research. In particular, \\[A\\] solves Sinkhorn barycenter problems by adjusting a generative distribution towards the barycenter distribution with the help of a procedure called “functional gradient descent” which is actually the discretization of the gradient flow w.r.t. the sum of Sinkhorn divergences to the target distributions. At the same time, it is worth mentioning, that \\[A\\] just simulates particles and does not build a generative model.\nRegarding the other strengths of the paper, I would like to note the well-organized Experiments section.\n\n\\[A\\] Sinkhorn Barycenter via Functional Gradient Descent, NeurIPS’2020 - Some theoretical results from the paper are known. For example, the statement of Theorem 1 could be found in \\[B\\] (eq. 26) or \\[C\\] (eq. 8). \n- The quality of the code provided is not good. There is no README/or other instruction to run the code. There are imports of non-existing classes. So, there is no possibility of checking (at least, qualitatively) the provided experimental results.\n\nFrom my point, the main weakness of the proposed paper is the limited methodological contribution. The authors simulate the particles of data following Sinkhorn divergence - as I already mentioned, this is not a super fresh idea. To make a generative model from these simulated trajectories, the authors simply solve the regression task to learn the local pushforward maps. And that is it. Combined with the fact, that the practical performance of the proposed approach is far from being SOTA in the generative modelling, the overall contribution of the paper seems for me to be limited. - My main question (and, probably, one of the main of my concerns) is regarding the proposed methodology. The authors propose to compute certain $\\mathcal{W}_{\\varepsilon}$ potentials (on discrete support of available samples) and then somehow take the gradients of these potentials w.r.t. the corresponding samples (eq. (13)). From the paper it is not clear how to compute the gradients, because the obtained potentials look like vectors of sample size shape, which are obtained through the iterations of the Sinkhorn algorithm. As I understand, in practice, the authors utilize SampleLoss from the geomloss package (\\[B\\]).  The outcome of this observation is that \\[B\\] should be properly cited when deriving the algorithm (section 4.2). I recommend authors explicitly use SampleLoss in the algorithm's listing. It will contribute to the clearness of what's going on. \n- The vector field of the Sinkhorn gradient flow is estimated by empirical samples. It is not clear how well this sample estimate approximates the true vector field. This point should be clarified. Note, that Theorem 2 works only for mean-field limit. \n- In the Introduction section, the authors consider a taxonomy of divergences used for gradient flow modelling, namely, \"divergences \\[...\\] with the same support\" and \"divergences \\[...\\]  with possible different support\". As I understand, the first class is about $f-$ divergences and the second class is about the other types (like Sinkhorn, MMD etc.). I have a question regarding the provided examples of works which deal with the former or the latter type of divergences. The fact is that the works \\[D\\], \\[E\\], \\[F\\], \\[G\\] deal with KL-divergence (or f-divergence) minimization. That is why I wonder why did the authors classify them as the second class.\n- A good work regarding poor expressiveness of ICNNs is \\[H\\].\n- What is the “ground” set ($\\S$ 3.1, first line).\n- Table 1. What are the differences between 1-RF, 2-RF and 3-RF methods?\n\n\\[B\\] Interpolating between Optimal Transport and MMD using Sinkhorn Divergences, AISTATS’2019\n\n\\[C\\] Sinkhorn Barycenters with Free Support via Frank-Wolfe Algorithm, NeurIPS’2019\n\n\\[D\\] Large-scale wasserstein gradient flows. NeurIPS'2021\n\n\\[E\\] Optimizing functionals on the space of probabilities with input convex neural networks. TMLR\n\n\\[F\\]  Proximal optimal tranport modeling of population dynamics. AISTATS\n\n\\[G\\] Variational wasserstein gradient flow. ICML\n\n\\[H\\] Do Neural Optimal Transport Solvers Work? A Continuous Wasserstein-2 Benchmark. NeurIPS’2021.",
         "827",
         "0",
         "8",
         "0.7673",
         "0.0867376775",
         "0.8458420038000001",
         "63",
         "23",
         "48.4494",
         "9.8761",
         "12.9425",
         "12.5739",
         "10.9848",
         "0.5343",
         "74",
         "0",
         "0",
         "0",
         "0",
         "2",
         "3",
         "4",
         "True",
         "neutral",
         "polite",
         "Moderate",
         "somewhat specific",
         "3",
         "4",
         "4",
         "85",
         "92"
        ],
        [
         "43",
         "ztuCObOc2i",
         "3768",
         "1695317147625",
         "['~Huminhao_Zhu1', '~Fangyikang_Wang1', '~Chao_Zhang19', '~Hanbin_Zhao1', '~Hui_Qian1']",
         "Neural Sinkhorn Gradient Flow",
         "Wasserstein Gradient Flows (WGF) with respect to specific functionals have been widely used in the machine learning literature. \nRecently, neural networks have been adopted to approximate certain intractable parts of the underlying Wasserstein gradient flow and result in efficient inference procedures. In this paper, we introduce the Neural Sinkhorn Gradient Flow (NSGF) model,  which parametrizes the time-varying velocity field of the Wasserstein gradient flow w.r.t. the Sinkhorn divergence to the target distribution starting a given source distribution.  We utilize the velocity field matching training scheme in NSGF, which only requires samples from the source and target distribution to compute an empirical velocity field approximation. Our theoretical analyses show that as the sample size increases to infinity, the mean-field limit of the empirical approximation converges to the true underlying velocity field. With specific source and target data samples, our NSGF models can be used in many machine learning tasks such as unconditional/conditional image generating, style transfer, and audio-text translations.  Numerical experiments with synthetic and real-world benchmark datasets support our theoretical results and demonstrate the effectiveness of the proposed method.",
         "Reviewer_MEFG",
         "1699146383667",
         "1699636332903",
         "6",
         "3",
         "3",
         "3",
         "3",
         "This paper introduces the idea of learning a time-dependent velocity field of the Sinkhorn Wasserstein gradient flow from samples from the target distribution to calculate the empirical velocity field approximations. The paper supports its claim by showing that the mean-field limit of this process recovers the true Sinkhorn Wasserstein gradient flow. They also validated the process with some empirical studies. The paper is well written and easy to follow. The proofs and arguments in the appendix are well-typed out and clear.  There are some nice diagrams in the empirical section to supports the claim the authors are making. I think the experiments could be more extensive. One thing about this method is to investigate the number of samples needed. effectively learn the velocity field. This is one important experiment missing as is remains unclear how sample-efficient the proposed method is. It would also make the paper more completing if the method is applied to generative models that output discrete random variable like binary mnist or even language modelling. One possible question is what happens if we change the source distribution to be closer to the target distribution like it was from a generator how would the method perform there. Another question is to better understand the sample complexity of the method as the current method may not be sample efficient due to the empirical distribution being approximated using the samples.",
         "230",
         "0",
         "0",
         "0.7569",
         "0.1872807018",
         "0.8377009034",
         "49",
         "5",
         "39.9077",
         "12.0883",
         "13.8595",
         "13.639",
         "12.502",
         "0.216",
         "99",
         "0",
         "0",
         "0",
         "0",
         "5",
         "4",
         "2",
         "True",
         "positive",
         "polite",
         "Minimal",
         "somewhat specific",
         "3",
         "4",
         "5",
         "85",
         "85"
        ],
        [
         "44",
         "ztpy1gsUpT",
         "7807",
         "1695486586687",
         "['~Xinlu_Zhang1', '~Shiyang_Li1', '~Xianjun_Yang1', '~Chenxin_Tian1', '~Yao_Qin1', '~Linda_Ruth_Petzold1']",
         "Enhancing Small Medical Learners with Privacy-preserving Contextual Prompting",
         "Large language models (LLMs) demonstrate remarkable medical expertise, but data privacy concerns impede their direct use in healthcare environments. Although offering improved data privacy protection, domain-specific small language models (SLMs) often underperform LLMs, emphasizing the need for methods that reduce this performance gap while alleviating privacy concerns. In this paper, we present a simple yet effective method that harnesses LLMs' medical proficiency to boost SLM performance in medical tasks under $privacy-restricted$ scenarios. Specifically, we mitigate patient privacy issues by extracting keywords from medical data and prompting the LLM to generate a medical knowledge-intensive context by simulating clinicians' thought processes. This context serves as additional input for SLMs, augmenting their decision-making capabilities. Our method significantly enhances performance in both few-shot and full training settings across three medical knowledge-intensive tasks, achieving up to a 22.57% increase in absolute accuracy compared to SLM fine-tuning without context, and sets new state-of-the-art results in two medical tasks within privacy-restricted scenarios. Further out-of-domain testing and experiments in two general domain datasets showcase its generalizability and broad applicability.",
         "Reviewer_JSi7",
         "1698680587788",
         "1699636955419",
         "6",
         "3",
         "3",
         "3",
         "3",
         "This article discusses a method to improve the application of SLM in the medical field, utilizing LLM's medical proficiency to boost SLM performance in medical tasks under privacy-restricted scenarios which has important social significance. The method was tested on MedQA, HEADQA, MedMCQA, and MMLU-professional medicine datasets, showing some improvements over existing methods. Additionally, the authors compared results across different sizes of training sets. see summary 1). Imprecise example of Privacy Protection.\nThe example in Figure 1 indicates that personal privacy issues are only present in the first sentence, and the key words \"man\" and \"admitted\" in that sentence have almost no impact on the subsequent content. Could it then be possible to simply delete the first sentence to achieve privacy protection, as extracting key words here does not seem to play a significant role.\n\n2). Privacy Protection as an Innovation Point\nRegarding the extraction of key words for privacy protection, the paper uses a medical NER model proposed by Neumann et al in 2019. We suggest further improvement of this model, for example, considering age as a crucial keyword for certain diseases and extracting it as necessary to better enrich the innovative aspects of the paper.\n\n3). Ambiguity of Symbols in Annotations\nAnnotation 13 on page 8 only appears in the content of the article but is not explained.\n\n4) The overall innovation of the methodology needs improvement, as the majority of the content relies on existing methods, such as the medical NER (Named Entity Recognition) model. please see the weaknesses.",
         "251",
         "0",
         "3",
         "0.8122",
         "0.0869868637",
         "0.8446011543",
         "48",
         "11",
         "30.5608",
         "14.193",
         "18.2471",
         "16.5267",
         "14.5487",
         "0.1839",
         "83",
         "0",
         "1",
         "0",
         "0",
         "3",
         "4",
         "2",
         "yes",
         "neutral",
         "neutral",
         "2",
         "1",
         "3",
         "4",
         "4",
         "80",
         "78"
        ],
        [
         "45",
         "ztpy1gsUpT",
         "7807",
         "1695486586687",
         "['~Xinlu_Zhang1', '~Shiyang_Li1', '~Xianjun_Yang1', '~Chenxin_Tian1', '~Yao_Qin1', '~Linda_Ruth_Petzold1']",
         "Enhancing Small Medical Learners with Privacy-preserving Contextual Prompting",
         "Large language models (LLMs) demonstrate remarkable medical expertise, but data privacy concerns impede their direct use in healthcare environments. Although offering improved data privacy protection, domain-specific small language models (SLMs) often underperform LLMs, emphasizing the need for methods that reduce this performance gap while alleviating privacy concerns. In this paper, we present a simple yet effective method that harnesses LLMs' medical proficiency to boost SLM performance in medical tasks under $privacy-restricted$ scenarios. Specifically, we mitigate patient privacy issues by extracting keywords from medical data and prompting the LLM to generate a medical knowledge-intensive context by simulating clinicians' thought processes. This context serves as additional input for SLMs, augmenting their decision-making capabilities. Our method significantly enhances performance in both few-shot and full training settings across three medical knowledge-intensive tasks, achieving up to a 22.57% increase in absolute accuracy compared to SLM fine-tuning without context, and sets new state-of-the-art results in two medical tasks within privacy-restricted scenarios. Further out-of-domain testing and experiments in two general domain datasets showcase its generalizability and broad applicability.",
         "Reviewer_gXvF",
         "1698819472631",
         "1699636955275",
         "6",
         "4",
         "3",
         "2",
         "3",
         "This paper tried to improve the performance of small medical language models by introducing knowledge from large language models, which keeps the privacy of clinical text when using large language models.  The proposed method uses keywords instead of full raw text to generate initial evidence from LLM and feed the evidence to small language model. Privacy-preserving is an essential and common need when using LLM in clinical text. This paper tried to solve this problem by using keywords instead of raw text, the idea is novel and experiments demonstrated the effectiveness of this approach. 1. As this research utilized a named entity recognition model to extract keywords, it is possible that the NER model can extract privacy information such as patient names. Is there any filtering or postprocessing step to avoid that? In addition, it is not guaranteed that NER system will never extract sensitive patient information; for example, if the NER system incorrectly extracts a patient's address as a symptom, then the address may be leaked to LLM. Although it is very rare, it is still necessary to comment on this. \n2. As the LLM already provides a preliminary decision, I am curious about the performance if we only feed the preliminary decision from LLM to SLM. It is worth knowing which part of the LLM-generated information improves the SLM most. \n3. The related work section need to discuss more LLM application in the clinical area, especially the knowledge-enhanced LLM in clinical settings. For example, paper \"Qualifying Chinese Medical Licensing Examination with Knowledge Enhanced Generative Pre-training Model.\" also utilized external knowledge for clinical questions. \n4. By adding the LLM-generated content, will the new concatenated input be too long and out of the word window in SLM? How do you deal with the long content problem? By adding the LLM-generated content, will the new concatenated input be too long and out of the word window in SLM? How do you deal with the long content problem?",
         "326",
         "0",
         "4",
         "0.7696",
         "0.0399925075",
         "0.9072911739",
         "48",
         "9",
         "42.8243",
         "12.0502",
         "14.7872",
         "13.9505",
         "12.5318",
         "0.181",
         "108",
         "0",
         "0",
         "0",
         "0",
         "4",
         "5",
         "3",
         "True",
         "neutral",
         "polite",
         "No Hedging",
         "somewhat specific",
         "4",
         "5",
         "4",
         "92",
         "92"
        ],
        [
         "46",
         "ztpy1gsUpT",
         "7807",
         "1695486586687",
         "['~Xinlu_Zhang1', '~Shiyang_Li1', '~Xianjun_Yang1', '~Chenxin_Tian1', '~Yao_Qin1', '~Linda_Ruth_Petzold1']",
         "Enhancing Small Medical Learners with Privacy-preserving Contextual Prompting",
         "Large language models (LLMs) demonstrate remarkable medical expertise, but data privacy concerns impede their direct use in healthcare environments. Although offering improved data privacy protection, domain-specific small language models (SLMs) often underperform LLMs, emphasizing the need for methods that reduce this performance gap while alleviating privacy concerns. In this paper, we present a simple yet effective method that harnesses LLMs' medical proficiency to boost SLM performance in medical tasks under $privacy-restricted$ scenarios. Specifically, we mitigate patient privacy issues by extracting keywords from medical data and prompting the LLM to generate a medical knowledge-intensive context by simulating clinicians' thought processes. This context serves as additional input for SLMs, augmenting their decision-making capabilities. Our method significantly enhances performance in both few-shot and full training settings across three medical knowledge-intensive tasks, achieving up to a 22.57% increase in absolute accuracy compared to SLM fine-tuning without context, and sets new state-of-the-art results in two medical tasks within privacy-restricted scenarios. Further out-of-domain testing and experiments in two general domain datasets showcase its generalizability and broad applicability.",
         "Reviewer_TtE2",
         "1698819599156",
         "1700663756238",
         "6",
         "4",
         "2",
         "2",
         "3",
         "The paper studied medical QA problems by incorporating large language models (LLMs) to assist small-language models (SLMs). To protect the private information in the data, the authors propose to first extract keywords and then use the keywords to query LLMs for intermediate content which can be used for SLMs to enhance prediction accuracy. 1. (originality) The proposed method is novel by extracting keywords and privately incorporating LLM for SLM-based predictions.\n2. (clarity) Overall, the paper is fair in presentation. The demonstrations of synthetic medical data with private information and extracted keywords are helpful for understanding the concepts.\n3. (significance) Versus the compared baselines, the proposed methods significantly improve the prediction accuracy on three medical QA tasks.\n4. (quality) The authors thoroughly evaluate the performance of the proposed method. 1. (Clarity) There is no specific definition of the private information. From Figure 1, it seems that privacy definition is restricted to private identifiable information (PII). The authors should clarify the scope of privacy risks. Importantly, the proposed method cannot address general private information leakage that is considered by strict formulations like differential privacy.\n2. (Quality) The evaluation of privacy is not strict. \n  - Risks: It is possible that the keyword extraction includes private identifiable information (PII), for instance, names and dates as shown in Figure 1. There is no theoretical guarantee for privacy protection or empirical evaluation of the leakage rates of such PII.\n  - Metric: The authors used the privacy budget for quantifying privacy risks:  the ratio of the number of words provided to the LLM to the total words in the original question. However, I doubt if the metric can imply some privacy risks. There essentially lacks an intuitive explanation of the relationship between the privacy budget and privacy risks.\n3. (Motivation) As the authors said, SLM presents a large gap compared to LLMs and thus there is no clear motivation to use SLM for prediction. Although the authors mention that ChatGPT requires access to data, it is essentially ignored that open-source LLMs, for example, Llama, can be used. In the paper, there is no referred evidence for the large gap between open-source LLMs and ChatGPT on the concerned medical tasks. Thus, I strongly doubt if the motivation of the paper can hold. * There is no clear motivation to see SLM for prediction. Although the authors mention that ChatGPT requires access to data, it is essentially ignored that open-source LLMs, for example, Llama, can be used. Is there any evidence for the large gap between open-source LLMs and ChatGPT on the concerned medical tasks?",
         "426",
         "0",
         "7",
         "0.7723",
         "0.0983912484",
         "0.9060524702",
         "59",
         "21",
         "36.5456",
         "12.5405",
         "15.7498",
         "14.4949",
         "13.1327",
         "0.1262",
         "92",
         "0",
         "0",
         "0",
         "0",
         "4",
         "3",
         "2",
         "yes",
         "neutral",
         "neutral",
         "Minimal",
         "somewhat specific",
         "4",
         "3",
         "3",
         "60",
         "82"
        ],
        [
         "47",
         "ztpy1gsUpT",
         "7807",
         "1695486586687",
         "['~Xinlu_Zhang1', '~Shiyang_Li1', '~Xianjun_Yang1', '~Chenxin_Tian1', '~Yao_Qin1', '~Linda_Ruth_Petzold1']",
         "Enhancing Small Medical Learners with Privacy-preserving Contextual Prompting",
         "Large language models (LLMs) demonstrate remarkable medical expertise, but data privacy concerns impede their direct use in healthcare environments. Although offering improved data privacy protection, domain-specific small language models (SLMs) often underperform LLMs, emphasizing the need for methods that reduce this performance gap while alleviating privacy concerns. In this paper, we present a simple yet effective method that harnesses LLMs' medical proficiency to boost SLM performance in medical tasks under $privacy-restricted$ scenarios. Specifically, we mitigate patient privacy issues by extracting keywords from medical data and prompting the LLM to generate a medical knowledge-intensive context by simulating clinicians' thought processes. This context serves as additional input for SLMs, augmenting their decision-making capabilities. Our method significantly enhances performance in both few-shot and full training settings across three medical knowledge-intensive tasks, achieving up to a 22.57% increase in absolute accuracy compared to SLM fine-tuning without context, and sets new state-of-the-art results in two medical tasks within privacy-restricted scenarios. Further out-of-domain testing and experiments in two general domain datasets showcase its generalizability and broad applicability.",
         "Reviewer_EBQC",
         "1699202302455",
         "1701315616812",
         "6",
         "3",
         "3",
         "3",
         "3",
         "In situations where text data is subject to privacy protection constraints, this paper designs a small-scale language model to perform diagnoses of diseases. Utilizing the rich prior medical knowledge in LLM, the approach involves generating a medical knowledge-intensive context using privacy-protected text. This generated context, along with key terms extracted from the text and questions, is then input into the SLM, which is fine-tuned during training. Experiments across multiple datasets demonstrate that this fine-tuning process effectively enhances the accuracy of the diagnostic model. 1. This paper focuses on a very important research topic in the field of medicine: how to effectively extract more useful information from incomplete text under the conditions of privacy protection. The author has made full use of the domain knowledge in LLM to effectively fine-tune the SLM, which ensures that the lightweight models can achieve high accuracy.\n\n2. This paper presents rich and comprehensive experiments. Beyond basic decision-making tasks, it also explores solutions for few-shot experiments and out-of-distribution (OOD) model generalization using the methods discussed in this paper.\n\n3. This paper fully utilizes the rich domain knowledge in LLMs to expand the knowledge base of medical reports, achieving excellent diagnostic accuracy even while ensuring privacy protection. 1. The contribution of this paper to the algorithm and the significance of the clinical problems it addresses seem not to be very high.\n\n2. The main work of this paper appears more as an engineering problem, transferring domain knowledge from LLMs to SLMs. From the perspective of algorithmic contribution, there seems to be some room for improvement. 1. The experimental datasets in this paper are all question-and-answer test datasets, and whether the methods of this paper are applicable to medical report datasets requires additional experimentation. This is because in medical reports, how to generate high-quality questions using other LLM interfaces is a question worth studying.\n\n2. Large language models provide additional domain knowledge, but in the context of specific medical tasks, will the direct transfer of knowledge from LLMs to SLMs lead to incorrect information leakage into SLMs? How can we ensure that LLMs only enhance information relevant to the current medical issue without introducing additional errors or irrelevant information? This is a very important issue in the medical field, as it directly relates to patient diagnosis.",
         "378",
         "0",
         "7",
         "0.8087",
         "0.1651777003",
         "0.9162929654",
         "67",
         "24",
         "24.0186",
         "15.4331",
         "18.2063",
         "16.3464",
         "16.6892",
         "0.09870000000000001",
         "96",
         "0",
         "0",
         "0",
         "0",
         "5",
         "4",
         "3",
         "yes",
         "positive",
         "polite",
         "Minimal",
         "somewhat specific",
         "5",
         "4",
         "3",
         "84",
         "84"
        ],
        [
         "48",
         "zt8bb6vC4m",
         "4003",
         "1695329721281",
         "['~Jianyu_Xu1', '~Yu-Xiang_Wang1']",
         "Pricing with Contextual Elasticity and Heteroscedastic Valuation",
         "We study an online contextual dynamic pricing problem, where customers decide whether to purchase a product based on its features and price. We introduce a novel approach to modeling a customer's expected demand by incorporating feature-based price elasticity, which can be equivalently represented as a valuation with heteroscedastic noise. To solve the problem, we propose a computationally efficient algorithm called \"Pricing with Perturbation (PwP)\", which enjoys an $O(\\sqrt{dT\\log T})$ regret while allowing arbitrary adversarial input context sequences. We also prove a matching lower bound at $\\Omega(\\sqrt{dT})$ to show the optimality (up to $\\log T$ factors). Our results shed light on the relationship between contextual elasticity and heteroscedastic valuation, providing insights for effective and practical pricing strategies.",
         "Reviewer_6Reb",
         "1698589805767",
         "1699636362362",
         "6",
         "5",
         "3",
         "3",
         "3",
         "This paper studies an online dynamic pricing problem by considering a novel model with feature-based price elasticity.  The authors provide a novel algorithm, ``Pricing with Perturbation (PwP),\" that efficiently solves this pricing problem and obtains near-optimal regret, which matches the lower bound of regret up to log terms. 1. The presentation is clear. Beginning with the introduction part, the paper clearly lists its comparisons and generalizations from previous work. Later in the main text, the intuition of the algorithm is also well described. The assumptions made in the paper are also clearly listed and justified.\n\n2. The novelty of the algorithm and its technical contributions are sound. The proposed Pricing with Perturbation (PwP) algorithm is smart and can efficiently solve the problem of a lack of fisher information.\n\n3. Discussions on potential extensions of the work are discussed in detail in the appendix. 1. The motivation for this contextual price elasticity seems unclear.\n\n2. Certain assumptions, such as $x^\\top \\eta$ having a positive lower bound, lack a real-world explanation.\n\n3. Lack of applying this framework to real-data studies 1. Can the authors present certain real-world motivations for this contextual price elasticity? e.g., why is it reasonable to rely on the context $x_t$, and is it reasonable to assume that for all $x_t$, $x_t^\\top \\eta$ is positive all the time? \n\n2. About the linear assumption on $x_t^\\top \\eta$, can this be generalized to some non-linear function of $x_t$? Also, when $x_t$ is stochastic, can the assumption of $x_t^\\top \\eta>0$ be relaxed to $E\\[x_t^\\top \\eta\\]>0$, where $E\\[\\cdot\\]$ is the expectation over $x$?\n\n3. Can the authors provide a real-world (or semi-real) data study? on evaluating the performance of algorithms in real-life situations.\n\n4. In terms of the presentation of simulation results, could the authors present log-log plots and compare them with the $1/2 log T$ curve? Since it would be hard to see the regret order if they are not presented in this way,",
         "322",
         "0",
         "9",
         "0.7199",
         "0.1048061787",
         "0.9118013978",
         "49",
         "12",
         "45.2022",
         "10.9542",
         "14.0176",
         "13.1874",
         "11.7498",
         "0.1041",
         "94",
         "0",
         "0",
         "0",
         "0",
         "4",
         "5",
         "3",
         "no",
         "positive",
         "neutral",
         "minimal",
         "2",
         "4",
         "5",
         "3",
         "80",
         "84"
        ],
        [
         "49",
         "zt8bb6vC4m",
         "4003",
         "1695329721281",
         "['~Jianyu_Xu1', '~Yu-Xiang_Wang1']",
         "Pricing with Contextual Elasticity and Heteroscedastic Valuation",
         "We study an online contextual dynamic pricing problem, where customers decide whether to purchase a product based on its features and price. We introduce a novel approach to modeling a customer's expected demand by incorporating feature-based price elasticity, which can be equivalently represented as a valuation with heteroscedastic noise. To solve the problem, we propose a computationally efficient algorithm called \"Pricing with Perturbation (PwP)\", which enjoys an $O(\\sqrt{dT\\log T})$ regret while allowing arbitrary adversarial input context sequences. We also prove a matching lower bound at $\\Omega(\\sqrt{dT})$ to show the optimality (up to $\\log T$ factors). Our results shed light on the relationship between contextual elasticity and heteroscedastic valuation, providing insights for effective and practical pricing strategies.",
         "Reviewer_vsAQ",
         "1698794304737",
         "1699636362256",
         "6",
         "4",
         "3",
         "3",
         "3",
         "The paper investigates a context-based dynamic pricing problem, where customers decide whether to purchase a product based on its features and price. The authors adopt a novel approach to formulating customers’ expected demand by incorporating feature-based price elasticity. The paper provides a matched regret bound for the problem. Generally speaking, from my point of view, the paper is well written. I really enjoy reading the discussions the authors make, including the relationship between two different formulations and Section 4.1.1. The technical part is solid. The idea of perturbation, though not completely novel, is quite interesting. 1.\tIn my opinion, Ban and Keskin (2021) should be given more credits. As far as I know, Ban and Keskin (2021) is the first to consider the heterogenous price elasticities which are formulated to be linear with context. At least when introducing the formulation, I think the paper should be cited and discussed more.\n2.\tI understand that a known link function is a good starting point and a common practice. One direction that I think might further improve the paper is to consider (or at least discuss about) an unknown link function. The reason why I mention this point is that Fan et al. (2021) studies a problem with unknown noise distribution. According to equivalence of the two formulation, it seems that it is not undoable to consider a version without knowing the link function. \n3.\tAbout the Perturbation, similar ideas can be found in the dynamic pricing literature (see, e.g., Nambiar et al. 2019). From my perspective, the only reason why the time horizon $T$ should be known in advance is because we need it to calculate $\\Delta$. Nambiar et al. (2019) dynamically change the magnitude of the perturbation, which may potentially help the current algorithm to get rid of the known time horizon $T$. Please correct me if I am wrong.\n\nReference:\nGah-Yi Ban and N Bora Keskin. Personalized dynamic pricing with machine learning: High-dimensional features and heterogeneous elasticity. Management Science, 67(9):5549–5568, 2021.\n\nJianqing Fan, Yongyi Guo, and Mengxin Yu. Policy optimization using semiparametric models for dynamic pricing. arXiv preprint arXiv:2109.06368, 2021.\n\nMila Nambiar, David Simchi-Levi, and He Wang. Dynamic learning and pricing with model misspecification. Management Science, 65(11):4980-5000, 2019. See above.",
         "371",
         "4",
         "9",
         "0.8034",
         "0.040322580600000005",
         "0.9313320518",
         "49",
         "9",
         "50.8505",
         "9.2389",
         "11.4157",
         "11.538",
         "10.4235",
         "0.1822",
         "96",
         "0",
         "0",
         "1",
         "0",
         "4",
         "5",
         "3",
         "yes",
         "neutral",
         "polite",
         "Minimal",
         "somewhat specific",
         "4",
         "4",
         "5",
         "92",
         "92"
        ]
       ],
       "shape": {
        "columns": 47,
        "rows": 28028
       }
      },
      "text/html": [
       "<div>\n",
       "<style scoped>\n",
       "    .dataframe tbody tr th:only-of-type {\n",
       "        vertical-align: middle;\n",
       "    }\n",
       "\n",
       "    .dataframe tbody tr th {\n",
       "        vertical-align: top;\n",
       "    }\n",
       "\n",
       "    .dataframe thead th {\n",
       "        text-align: right;\n",
       "    }\n",
       "</style>\n",
       "<table border=\"1\" class=\"dataframe\">\n",
       "  <thead>\n",
       "    <tr style=\"text-align: right;\">\n",
       "      <th></th>\n",
       "      <th>submission_id</th>\n",
       "      <th>submission_number</th>\n",
       "      <th>submission_creation_date</th>\n",
       "      <th>submission_authors</th>\n",
       "      <th>submission_title</th>\n",
       "      <th>submission_abstract</th>\n",
       "      <th>reviewer</th>\n",
       "      <th>creation_date</th>\n",
       "      <th>last_modification_date</th>\n",
       "      <th>review_rating</th>\n",
       "      <th>...</th>\n",
       "      <th>llm_citation_usage</th>\n",
       "      <th>llm_sentiment_polarity</th>\n",
       "      <th>llm_politeness</th>\n",
       "      <th>llm_hedging</th>\n",
       "      <th>llm_specificity</th>\n",
       "      <th>llm_domain_terms</th>\n",
       "      <th>llm_relevance_alignment</th>\n",
       "      <th>llm_readability</th>\n",
       "      <th>llm_overall_quality</th>\n",
       "      <th>llm_overall_score_100</th>\n",
       "    </tr>\n",
       "  </thead>\n",
       "  <tbody>\n",
       "    <tr>\n",
       "      <th>0</th>\n",
       "      <td>zzv4Bf50RW</td>\n",
       "      <td>1647</td>\n",
       "      <td>1695102158671</td>\n",
       "      <td>[~Chunghyun_Park1, ~Seungwook_Kim2, ~Jaesik_Pa...</td>\n",
       "      <td>Learning SO(3)-Invariant Correspondence via Po...</td>\n",
       "      <td>Establishing accurate dense 3D correspondences...</td>\n",
       "      <td>Reviewer_eS3u</td>\n",
       "      <td>1698243150596</td>\n",
       "      <td>1699636093263</td>\n",
       "      <td>6</td>\n",
       "      <td>...</td>\n",
       "      <td>True</td>\n",
       "      <td>neutral</td>\n",
       "      <td>polite</td>\n",
       "      <td>Minimal</td>\n",
       "      <td>3</td>\n",
       "      <td>4</td>\n",
       "      <td>5</td>\n",
       "      <td>4</td>\n",
       "      <td>85</td>\n",
       "      <td>85</td>\n",
       "    </tr>\n",
       "    <tr>\n",
       "      <th>1</th>\n",
       "      <td>zzv4Bf50RW</td>\n",
       "      <td>1647</td>\n",
       "      <td>1695102158671</td>\n",
       "      <td>[~Chunghyun_Park1, ~Seungwook_Kim2, ~Jaesik_Pa...</td>\n",
       "      <td>Learning SO(3)-Invariant Correspondence via Po...</td>\n",
       "      <td>Establishing accurate dense 3D correspondences...</td>\n",
       "      <td>Reviewer_jP4i</td>\n",
       "      <td>1698652503617</td>\n",
       "      <td>1699636093190</td>\n",
       "      <td>5</td>\n",
       "      <td>...</td>\n",
       "      <td>yes</td>\n",
       "      <td>positive</td>\n",
       "      <td>polite</td>\n",
       "      <td>Minimal</td>\n",
       "      <td>4</td>\n",
       "      <td>3</td>\n",
       "      <td>5</td>\n",
       "      <td>4</td>\n",
       "      <td>85</td>\n",
       "      <td>85</td>\n",
       "    </tr>\n",
       "    <tr>\n",
       "      <th>2</th>\n",
       "      <td>zzv4Bf50RW</td>\n",
       "      <td>1647</td>\n",
       "      <td>1695102158671</td>\n",
       "      <td>[~Chunghyun_Park1, ~Seungwook_Kim2, ~Jaesik_Pa...</td>\n",
       "      <td>Learning SO(3)-Invariant Correspondence via Po...</td>\n",
       "      <td>Establishing accurate dense 3D correspondences...</td>\n",
       "      <td>Reviewer_wiS9</td>\n",
       "      <td>1698706547448</td>\n",
       "      <td>1699636093122</td>\n",
       "      <td>3</td>\n",
       "      <td>...</td>\n",
       "      <td>True</td>\n",
       "      <td>neutral</td>\n",
       "      <td>polite</td>\n",
       "      <td>No Hedging</td>\n",
       "      <td>somewhat specific</td>\n",
       "      <td>3</td>\n",
       "      <td>4</td>\n",
       "      <td>4</td>\n",
       "      <td>92</td>\n",
       "      <td>92</td>\n",
       "    </tr>\n",
       "    <tr>\n",
       "      <th>3</th>\n",
       "      <td>zzv4Bf50RW</td>\n",
       "      <td>1647</td>\n",
       "      <td>1695102158671</td>\n",
       "      <td>[~Chunghyun_Park1, ~Seungwook_Kim2, ~Jaesik_Pa...</td>\n",
       "      <td>Learning SO(3)-Invariant Correspondence via Po...</td>\n",
       "      <td>Establishing accurate dense 3D correspondences...</td>\n",
       "      <td>Reviewer_a6Ps</td>\n",
       "      <td>1698768293694</td>\n",
       "      <td>1699636092942</td>\n",
       "      <td>5</td>\n",
       "      <td>...</td>\n",
       "      <td>True</td>\n",
       "      <td>positive</td>\n",
       "      <td>polite</td>\n",
       "      <td>No Hedging</td>\n",
       "      <td>neutral</td>\n",
       "      <td>4</td>\n",
       "      <td>3</td>\n",
       "      <td>5</td>\n",
       "      <td>83</td>\n",
       "      <td>84</td>\n",
       "    </tr>\n",
       "    <tr>\n",
       "      <th>4</th>\n",
       "      <td>zzv4Bf50RW</td>\n",
       "      <td>1647</td>\n",
       "      <td>1695102158671</td>\n",
       "      <td>[~Chunghyun_Park1, ~Seungwook_Kim2, ~Jaesik_Pa...</td>\n",
       "      <td>Learning SO(3)-Invariant Correspondence via Po...</td>\n",
       "      <td>Establishing accurate dense 3D correspondences...</td>\n",
       "      <td>Reviewer_Frem</td>\n",
       "      <td>1699350072271</td>\n",
       "      <td>1699636092872</td>\n",
       "      <td>5</td>\n",
       "      <td>...</td>\n",
       "      <td>True</td>\n",
       "      <td>neutral</td>\n",
       "      <td>neutral</td>\n",
       "      <td>Minimal</td>\n",
       "      <td>3</td>\n",
       "      <td>4</td>\n",
       "      <td>3</td>\n",
       "      <td>4</td>\n",
       "      <td>73</td>\n",
       "      <td>80</td>\n",
       "    </tr>\n",
       "    <tr>\n",
       "      <th>...</th>\n",
       "      <td>...</td>\n",
       "      <td>...</td>\n",
       "      <td>...</td>\n",
       "      <td>...</td>\n",
       "      <td>...</td>\n",
       "      <td>...</td>\n",
       "      <td>...</td>\n",
       "      <td>...</td>\n",
       "      <td>...</td>\n",
       "      <td>...</td>\n",
       "      <td>...</td>\n",
       "      <td>...</td>\n",
       "      <td>...</td>\n",
       "      <td>...</td>\n",
       "      <td>...</td>\n",
       "      <td>...</td>\n",
       "      <td>...</td>\n",
       "      <td>...</td>\n",
       "      <td>...</td>\n",
       "      <td>...</td>\n",
       "      <td>...</td>\n",
       "    </tr>\n",
       "    <tr>\n",
       "      <th>28023</th>\n",
       "      <td>014CgNPAGy</td>\n",
       "      <td>2200</td>\n",
       "      <td>1695179071455</td>\n",
       "      <td>[~Bochen_Lyu1, ~Zhanxing_Zhu1]</td>\n",
       "      <td>On the Role of Momentum in the Implicit Bias o...</td>\n",
       "      <td>Momentum is a widely adopted and crucial modif...</td>\n",
       "      <td>Reviewer_vt7i</td>\n",
       "      <td>1698673110283</td>\n",
       "      <td>1699636153803</td>\n",
       "      <td>5</td>\n",
       "      <td>...</td>\n",
       "      <td>&lt;NA&gt;</td>\n",
       "      <td>&lt;NA&gt;</td>\n",
       "      <td>&lt;NA&gt;</td>\n",
       "      <td>&lt;NA&gt;</td>\n",
       "      <td>&lt;NA&gt;</td>\n",
       "      <td>&lt;NA&gt;</td>\n",
       "      <td>&lt;NA&gt;</td>\n",
       "      <td>&lt;NA&gt;</td>\n",
       "      <td>&lt;NA&gt;</td>\n",
       "      <td>&lt;NA&gt;</td>\n",
       "    </tr>\n",
       "    <tr>\n",
       "      <th>28024</th>\n",
       "      <td>014CgNPAGy</td>\n",
       "      <td>2200</td>\n",
       "      <td>1695179071455</td>\n",
       "      <td>[~Bochen_Lyu1, ~Zhanxing_Zhu1]</td>\n",
       "      <td>On the Role of Momentum in the Implicit Bias o...</td>\n",
       "      <td>Momentum is a widely adopted and crucial modif...</td>\n",
       "      <td>Reviewer_oaZ7</td>\n",
       "      <td>1698928691830</td>\n",
       "      <td>1699636153728</td>\n",
       "      <td>3</td>\n",
       "      <td>...</td>\n",
       "      <td>&lt;NA&gt;</td>\n",
       "      <td>&lt;NA&gt;</td>\n",
       "      <td>&lt;NA&gt;</td>\n",
       "      <td>&lt;NA&gt;</td>\n",
       "      <td>&lt;NA&gt;</td>\n",
       "      <td>&lt;NA&gt;</td>\n",
       "      <td>&lt;NA&gt;</td>\n",
       "      <td>&lt;NA&gt;</td>\n",
       "      <td>&lt;NA&gt;</td>\n",
       "      <td>&lt;NA&gt;</td>\n",
       "    </tr>\n",
       "    <tr>\n",
       "      <th>28025</th>\n",
       "      <td>0074qaufB6</td>\n",
       "      <td>5962</td>\n",
       "      <td>1695403263602</td>\n",
       "      <td>[~Subrata_Kumar_Biswas1, ~Bashima_Islam1]</td>\n",
       "      <td>InfoNet: Missing Information Retrieval in Mult...</td>\n",
       "      <td>Faulty sensors in a multiple input stream setu...</td>\n",
       "      <td>Reviewer_fMm6</td>\n",
       "      <td>1698618130371</td>\n",
       "      <td>1699636636496</td>\n",
       "      <td>1</td>\n",
       "      <td>...</td>\n",
       "      <td>&lt;NA&gt;</td>\n",
       "      <td>&lt;NA&gt;</td>\n",
       "      <td>&lt;NA&gt;</td>\n",
       "      <td>&lt;NA&gt;</td>\n",
       "      <td>&lt;NA&gt;</td>\n",
       "      <td>&lt;NA&gt;</td>\n",
       "      <td>&lt;NA&gt;</td>\n",
       "      <td>&lt;NA&gt;</td>\n",
       "      <td>&lt;NA&gt;</td>\n",
       "      <td>&lt;NA&gt;</td>\n",
       "    </tr>\n",
       "    <tr>\n",
       "      <th>28026</th>\n",
       "      <td>0074qaufB6</td>\n",
       "      <td>5962</td>\n",
       "      <td>1695403263602</td>\n",
       "      <td>[~Subrata_Kumar_Biswas1, ~Bashima_Islam1]</td>\n",
       "      <td>InfoNet: Missing Information Retrieval in Mult...</td>\n",
       "      <td>Faulty sensors in a multiple input stream setu...</td>\n",
       "      <td>Reviewer_tZQw</td>\n",
       "      <td>1698807944071</td>\n",
       "      <td>1699636636378</td>\n",
       "      <td>3</td>\n",
       "      <td>...</td>\n",
       "      <td>&lt;NA&gt;</td>\n",
       "      <td>&lt;NA&gt;</td>\n",
       "      <td>&lt;NA&gt;</td>\n",
       "      <td>&lt;NA&gt;</td>\n",
       "      <td>&lt;NA&gt;</td>\n",
       "      <td>&lt;NA&gt;</td>\n",
       "      <td>&lt;NA&gt;</td>\n",
       "      <td>&lt;NA&gt;</td>\n",
       "      <td>&lt;NA&gt;</td>\n",
       "      <td>&lt;NA&gt;</td>\n",
       "    </tr>\n",
       "    <tr>\n",
       "      <th>28027</th>\n",
       "      <td>0074qaufB6</td>\n",
       "      <td>5962</td>\n",
       "      <td>1695403263602</td>\n",
       "      <td>[~Subrata_Kumar_Biswas1, ~Bashima_Islam1]</td>\n",
       "      <td>InfoNet: Missing Information Retrieval in Mult...</td>\n",
       "      <td>Faulty sensors in a multiple input stream setu...</td>\n",
       "      <td>Reviewer_9qjF</td>\n",
       "      <td>1698910414535</td>\n",
       "      <td>1699636636278</td>\n",
       "      <td>5</td>\n",
       "      <td>...</td>\n",
       "      <td>&lt;NA&gt;</td>\n",
       "      <td>&lt;NA&gt;</td>\n",
       "      <td>&lt;NA&gt;</td>\n",
       "      <td>&lt;NA&gt;</td>\n",
       "      <td>&lt;NA&gt;</td>\n",
       "      <td>&lt;NA&gt;</td>\n",
       "      <td>&lt;NA&gt;</td>\n",
       "      <td>&lt;NA&gt;</td>\n",
       "      <td>&lt;NA&gt;</td>\n",
       "      <td>&lt;NA&gt;</td>\n",
       "    </tr>\n",
       "  </tbody>\n",
       "</table>\n",
       "<p>28028 rows × 47 columns</p>\n",
       "</div>"
      ],
      "text/plain": [
       "      submission_id  submission_number  submission_creation_date  \\\n",
       "0        zzv4Bf50RW               1647             1695102158671   \n",
       "1        zzv4Bf50RW               1647             1695102158671   \n",
       "2        zzv4Bf50RW               1647             1695102158671   \n",
       "3        zzv4Bf50RW               1647             1695102158671   \n",
       "4        zzv4Bf50RW               1647             1695102158671   \n",
       "...             ...                ...                       ...   \n",
       "28023    014CgNPAGy               2200             1695179071455   \n",
       "28024    014CgNPAGy               2200             1695179071455   \n",
       "28025    0074qaufB6               5962             1695403263602   \n",
       "28026    0074qaufB6               5962             1695403263602   \n",
       "28027    0074qaufB6               5962             1695403263602   \n",
       "\n",
       "                                      submission_authors  \\\n",
       "0      [~Chunghyun_Park1, ~Seungwook_Kim2, ~Jaesik_Pa...   \n",
       "1      [~Chunghyun_Park1, ~Seungwook_Kim2, ~Jaesik_Pa...   \n",
       "2      [~Chunghyun_Park1, ~Seungwook_Kim2, ~Jaesik_Pa...   \n",
       "3      [~Chunghyun_Park1, ~Seungwook_Kim2, ~Jaesik_Pa...   \n",
       "4      [~Chunghyun_Park1, ~Seungwook_Kim2, ~Jaesik_Pa...   \n",
       "...                                                  ...   \n",
       "28023                     [~Bochen_Lyu1, ~Zhanxing_Zhu1]   \n",
       "28024                     [~Bochen_Lyu1, ~Zhanxing_Zhu1]   \n",
       "28025          [~Subrata_Kumar_Biswas1, ~Bashima_Islam1]   \n",
       "28026          [~Subrata_Kumar_Biswas1, ~Bashima_Islam1]   \n",
       "28027          [~Subrata_Kumar_Biswas1, ~Bashima_Islam1]   \n",
       "\n",
       "                                        submission_title  \\\n",
       "0      Learning SO(3)-Invariant Correspondence via Po...   \n",
       "1      Learning SO(3)-Invariant Correspondence via Po...   \n",
       "2      Learning SO(3)-Invariant Correspondence via Po...   \n",
       "3      Learning SO(3)-Invariant Correspondence via Po...   \n",
       "4      Learning SO(3)-Invariant Correspondence via Po...   \n",
       "...                                                  ...   \n",
       "28023  On the Role of Momentum in the Implicit Bias o...   \n",
       "28024  On the Role of Momentum in the Implicit Bias o...   \n",
       "28025  InfoNet: Missing Information Retrieval in Mult...   \n",
       "28026  InfoNet: Missing Information Retrieval in Mult...   \n",
       "28027  InfoNet: Missing Information Retrieval in Mult...   \n",
       "\n",
       "                                     submission_abstract       reviewer  \\\n",
       "0      Establishing accurate dense 3D correspondences...  Reviewer_eS3u   \n",
       "1      Establishing accurate dense 3D correspondences...  Reviewer_jP4i   \n",
       "2      Establishing accurate dense 3D correspondences...  Reviewer_wiS9   \n",
       "3      Establishing accurate dense 3D correspondences...  Reviewer_a6Ps   \n",
       "4      Establishing accurate dense 3D correspondences...  Reviewer_Frem   \n",
       "...                                                  ...            ...   \n",
       "28023  Momentum is a widely adopted and crucial modif...  Reviewer_vt7i   \n",
       "28024  Momentum is a widely adopted and crucial modif...  Reviewer_oaZ7   \n",
       "28025  Faulty sensors in a multiple input stream setu...  Reviewer_fMm6   \n",
       "28026  Faulty sensors in a multiple input stream setu...  Reviewer_tZQw   \n",
       "28027  Faulty sensors in a multiple input stream setu...  Reviewer_9qjF   \n",
       "\n",
       "       creation_date  last_modification_date  review_rating  ...  \\\n",
       "0      1698243150596           1699636093263              6  ...   \n",
       "1      1698652503617           1699636093190              5  ...   \n",
       "2      1698706547448           1699636093122              3  ...   \n",
       "3      1698768293694           1699636092942              5  ...   \n",
       "4      1699350072271           1699636092872              5  ...   \n",
       "...              ...                     ...            ...  ...   \n",
       "28023  1698673110283           1699636153803              5  ...   \n",
       "28024  1698928691830           1699636153728              3  ...   \n",
       "28025  1698618130371           1699636636496              1  ...   \n",
       "28026  1698807944071           1699636636378              3  ...   \n",
       "28027  1698910414535           1699636636278              5  ...   \n",
       "\n",
       "       llm_citation_usage  llm_sentiment_polarity  llm_politeness  \\\n",
       "0                    True                 neutral          polite   \n",
       "1                     yes                positive          polite   \n",
       "2                    True                 neutral          polite   \n",
       "3                    True                positive          polite   \n",
       "4                    True                 neutral         neutral   \n",
       "...                   ...                     ...             ...   \n",
       "28023                <NA>                    <NA>            <NA>   \n",
       "28024                <NA>                    <NA>            <NA>   \n",
       "28025                <NA>                    <NA>            <NA>   \n",
       "28026                <NA>                    <NA>            <NA>   \n",
       "28027                <NA>                    <NA>            <NA>   \n",
       "\n",
       "       llm_hedging    llm_specificity  llm_domain_terms  \\\n",
       "0          Minimal                  3                 4   \n",
       "1          Minimal                  4                 3   \n",
       "2       No Hedging  somewhat specific                 3   \n",
       "3       No Hedging            neutral                 4   \n",
       "4          Minimal                  3                 4   \n",
       "...            ...                ...               ...   \n",
       "28023         <NA>               <NA>              <NA>   \n",
       "28024         <NA>               <NA>              <NA>   \n",
       "28025         <NA>               <NA>              <NA>   \n",
       "28026         <NA>               <NA>              <NA>   \n",
       "28027         <NA>               <NA>              <NA>   \n",
       "\n",
       "       llm_relevance_alignment  llm_readability llm_overall_quality  \\\n",
       "0                            5                4                  85   \n",
       "1                            5                4                  85   \n",
       "2                            4                4                  92   \n",
       "3                            3                5                  83   \n",
       "4                            3                4                  73   \n",
       "...                        ...              ...                 ...   \n",
       "28023                     <NA>             <NA>                <NA>   \n",
       "28024                     <NA>             <NA>                <NA>   \n",
       "28025                     <NA>             <NA>                <NA>   \n",
       "28026                     <NA>             <NA>                <NA>   \n",
       "28027                     <NA>             <NA>                <NA>   \n",
       "\n",
       "       llm_overall_score_100  \n",
       "0                         85  \n",
       "1                         85  \n",
       "2                         92  \n",
       "3                         84  \n",
       "4                         80  \n",
       "...                      ...  \n",
       "28023                   <NA>  \n",
       "28024                   <NA>  \n",
       "28025                   <NA>  \n",
       "28026                   <NA>  \n",
       "28027                   <NA>  \n",
       "\n",
       "[28028 rows x 47 columns]"
      ]
     },
     "execution_count": 38,
     "metadata": {},
     "output_type": "execute_result"
    }
   ],
   "source": [
    "df"
   ]
  },
  {
   "cell_type": "code",
   "execution_count": 37,
   "metadata": {},
   "outputs": [],
   "source": [
    "df.to_json('/home/ali/Review_Quality_Benchmark/data/processed/iclr2024_llm.json', orient='records', lines=True)\n"
   ]
  },
  {
   "cell_type": "code",
   "execution_count": null,
   "metadata": {},
   "outputs": [],
   "source": []
  }
 ],
 "metadata": {
  "kernelspec": {
   "display_name": ".venv",
   "language": "python",
   "name": "python3"
  },
  "language_info": {
   "codemirror_mode": {
    "name": "ipython",
    "version": 3
   },
   "file_extension": ".py",
   "mimetype": "text/x-python",
   "name": "python",
   "nbconvert_exporter": "python",
   "pygments_lexer": "ipython3",
   "version": "3.10.12"
  }
 },
 "nbformat": 4,
 "nbformat_minor": 2
}
