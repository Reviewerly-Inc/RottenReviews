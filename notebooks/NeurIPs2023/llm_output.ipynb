{
 "cells": [
  {
   "cell_type": "code",
   "execution_count": 1,
   "id": "982db2fd",
   "metadata": {
    "execution": {
     "iopub.execute_input": "2025-05-14T23:26:07.004053Z",
     "iopub.status.busy": "2025-05-14T23:26:07.003228Z",
     "iopub.status.idle": "2025-05-14T23:26:07.840158Z",
     "shell.execute_reply": "2025-05-14T23:26:07.839655Z"
    },
    "papermill": {
     "duration": 0.842724,
     "end_time": "2025-05-14T23:26:07.841111",
     "exception": false,
     "start_time": "2025-05-14T23:26:06.998387",
     "status": "completed"
    },
    "tags": []
   },
   "outputs": [
    {
     "data": {
      "text/html": [
       "<div>\n",
       "<style scoped>\n",
       "    .dataframe tbody tr th:only-of-type {\n",
       "        vertical-align: middle;\n",
       "    }\n",
       "\n",
       "    .dataframe tbody tr th {\n",
       "        vertical-align: top;\n",
       "    }\n",
       "\n",
       "    .dataframe thead th {\n",
       "        text-align: right;\n",
       "    }\n",
       "</style>\n",
       "<table border=\"1\" class=\"dataframe\">\n",
       "  <thead>\n",
       "    <tr style=\"text-align: right;\">\n",
       "      <th></th>\n",
       "      <th>submission_id</th>\n",
       "      <th>submission_number</th>\n",
       "      <th>submission_creation_date</th>\n",
       "      <th>submission_authors</th>\n",
       "      <th>submission_title</th>\n",
       "      <th>submission_abstract</th>\n",
       "      <th>reviewer</th>\n",
       "      <th>creation_date</th>\n",
       "      <th>last_modification_date</th>\n",
       "      <th>review_rating</th>\n",
       "      <th>...</th>\n",
       "      <th>llm_Actionability</th>\n",
       "      <th>llm_Constructiveness</th>\n",
       "      <th>llm_Relevance Alignment</th>\n",
       "      <th>llm_Clarity and Readability</th>\n",
       "      <th>llm_Usage of Technical Terms</th>\n",
       "      <th>llm_Factuality</th>\n",
       "      <th>llm_Overall Quality</th>\n",
       "      <th>llm_overall_score_100</th>\n",
       "      <th>llm_Sentiment Polarity</th>\n",
       "      <th>llm_Politeness</th>\n",
       "    </tr>\n",
       "  </thead>\n",
       "  <tbody>\n",
       "    <tr>\n",
       "      <th>0</th>\n",
       "      <td>zyhxRc9bew</td>\n",
       "      <td>10819</td>\n",
       "      <td>1683789038840</td>\n",
       "      <td>[~Hao_Sun1, ~Boris_van_Breugel2, ~Jonathan_Cra...</td>\n",
       "      <td>What is Flagged in Uncertainty Quantification?...</td>\n",
       "      <td>Uncertainty quantification (UQ) is essential f...</td>\n",
       "      <td>Reviewer_AvJq</td>\n",
       "      <td>1688368213177</td>\n",
       "      <td>1702411303415</td>\n",
       "      <td>6</td>\n",
       "      <td>...</td>\n",
       "      <td>&lt;NA&gt;</td>\n",
       "      <td>&lt;NA&gt;</td>\n",
       "      <td>&lt;NA&gt;</td>\n",
       "      <td>&lt;NA&gt;</td>\n",
       "      <td>&lt;NA&gt;</td>\n",
       "      <td>&lt;NA&gt;</td>\n",
       "      <td>&lt;NA&gt;</td>\n",
       "      <td>&lt;NA&gt;</td>\n",
       "      <td>&lt;NA&gt;</td>\n",
       "      <td>&lt;NA&gt;</td>\n",
       "    </tr>\n",
       "    <tr>\n",
       "      <th>1</th>\n",
       "      <td>zyhxRc9bew</td>\n",
       "      <td>10819</td>\n",
       "      <td>1683789038840</td>\n",
       "      <td>[~Hao_Sun1, ~Boris_van_Breugel2, ~Jonathan_Cra...</td>\n",
       "      <td>What is Flagged in Uncertainty Quantification?...</td>\n",
       "      <td>Uncertainty quantification (UQ) is essential f...</td>\n",
       "      <td>Reviewer_7E4k</td>\n",
       "      <td>1688505633161</td>\n",
       "      <td>1702411303319</td>\n",
       "      <td>6</td>\n",
       "      <td>...</td>\n",
       "      <td>&lt;NA&gt;</td>\n",
       "      <td>&lt;NA&gt;</td>\n",
       "      <td>&lt;NA&gt;</td>\n",
       "      <td>&lt;NA&gt;</td>\n",
       "      <td>&lt;NA&gt;</td>\n",
       "      <td>&lt;NA&gt;</td>\n",
       "      <td>&lt;NA&gt;</td>\n",
       "      <td>&lt;NA&gt;</td>\n",
       "      <td>&lt;NA&gt;</td>\n",
       "      <td>&lt;NA&gt;</td>\n",
       "    </tr>\n",
       "    <tr>\n",
       "      <th>2</th>\n",
       "      <td>zyhxRc9bew</td>\n",
       "      <td>10819</td>\n",
       "      <td>1683789038840</td>\n",
       "      <td>[~Hao_Sun1, ~Boris_van_Breugel2, ~Jonathan_Cra...</td>\n",
       "      <td>What is Flagged in Uncertainty Quantification?...</td>\n",
       "      <td>Uncertainty quantification (UQ) is essential f...</td>\n",
       "      <td>Reviewer_hHZH</td>\n",
       "      <td>1688552936677</td>\n",
       "      <td>1702411303221</td>\n",
       "      <td>6</td>\n",
       "      <td>...</td>\n",
       "      <td>&lt;NA&gt;</td>\n",
       "      <td>&lt;NA&gt;</td>\n",
       "      <td>&lt;NA&gt;</td>\n",
       "      <td>&lt;NA&gt;</td>\n",
       "      <td>&lt;NA&gt;</td>\n",
       "      <td>&lt;NA&gt;</td>\n",
       "      <td>&lt;NA&gt;</td>\n",
       "      <td>&lt;NA&gt;</td>\n",
       "      <td>&lt;NA&gt;</td>\n",
       "      <td>&lt;NA&gt;</td>\n",
       "    </tr>\n",
       "    <tr>\n",
       "      <th>3</th>\n",
       "      <td>zyhxRc9bew</td>\n",
       "      <td>10819</td>\n",
       "      <td>1683789038840</td>\n",
       "      <td>[~Hao_Sun1, ~Boris_van_Breugel2, ~Jonathan_Cra...</td>\n",
       "      <td>What is Flagged in Uncertainty Quantification?...</td>\n",
       "      <td>Uncertainty quantification (UQ) is essential f...</td>\n",
       "      <td>Reviewer_sVgx</td>\n",
       "      <td>1688657604892</td>\n",
       "      <td>1702411303144</td>\n",
       "      <td>6</td>\n",
       "      <td>...</td>\n",
       "      <td>&lt;NA&gt;</td>\n",
       "      <td>&lt;NA&gt;</td>\n",
       "      <td>&lt;NA&gt;</td>\n",
       "      <td>&lt;NA&gt;</td>\n",
       "      <td>&lt;NA&gt;</td>\n",
       "      <td>&lt;NA&gt;</td>\n",
       "      <td>&lt;NA&gt;</td>\n",
       "      <td>&lt;NA&gt;</td>\n",
       "      <td>&lt;NA&gt;</td>\n",
       "      <td>&lt;NA&gt;</td>\n",
       "    </tr>\n",
       "    <tr>\n",
       "      <th>4</th>\n",
       "      <td>zsOOqjaj2z</td>\n",
       "      <td>5668</td>\n",
       "      <td>1683686700553</td>\n",
       "      <td>[~Yuanyuan_Wang5, ~Xi_Geng1, ~Wei_Huang8, ~Biw...</td>\n",
       "      <td>Generator Identification for Linear SDEs with ...</td>\n",
       "      <td>In this paper, we present conditions for ident...</td>\n",
       "      <td>Reviewer_Huoq</td>\n",
       "      <td>1688427159321</td>\n",
       "      <td>1702411021240</td>\n",
       "      <td>7</td>\n",
       "      <td>...</td>\n",
       "      <td>&lt;NA&gt;</td>\n",
       "      <td>&lt;NA&gt;</td>\n",
       "      <td>&lt;NA&gt;</td>\n",
       "      <td>&lt;NA&gt;</td>\n",
       "      <td>&lt;NA&gt;</td>\n",
       "      <td>&lt;NA&gt;</td>\n",
       "      <td>&lt;NA&gt;</td>\n",
       "      <td>&lt;NA&gt;</td>\n",
       "      <td>&lt;NA&gt;</td>\n",
       "      <td>&lt;NA&gt;</td>\n",
       "    </tr>\n",
       "    <tr>\n",
       "      <th>...</th>\n",
       "      <td>...</td>\n",
       "      <td>...</td>\n",
       "      <td>...</td>\n",
       "      <td>...</td>\n",
       "      <td>...</td>\n",
       "      <td>...</td>\n",
       "      <td>...</td>\n",
       "      <td>...</td>\n",
       "      <td>...</td>\n",
       "      <td>...</td>\n",
       "      <td>...</td>\n",
       "      <td>...</td>\n",
       "      <td>...</td>\n",
       "      <td>...</td>\n",
       "      <td>...</td>\n",
       "      <td>...</td>\n",
       "      <td>...</td>\n",
       "      <td>...</td>\n",
       "      <td>...</td>\n",
       "      <td>...</td>\n",
       "      <td>...</td>\n",
       "    </tr>\n",
       "    <tr>\n",
       "      <th>4460</th>\n",
       "      <td>00EKYYu3fD</td>\n",
       "      <td>6838</td>\n",
       "      <td>1683719044332</td>\n",
       "      <td>[~Tianyang_Hu1, ~Fei_Chen8, ~Haonan_Wang1, ~Ji...</td>\n",
       "      <td>Complexity Matters: Rethinking the Latent Spac...</td>\n",
       "      <td>In generative modeling, numerous successful ap...</td>\n",
       "      <td>Reviewer_ssMC</td>\n",
       "      <td>1688676041356</td>\n",
       "      <td>1702411081106</td>\n",
       "      <td>6</td>\n",
       "      <td>...</td>\n",
       "      <td>&lt;NA&gt;</td>\n",
       "      <td>&lt;NA&gt;</td>\n",
       "      <td>&lt;NA&gt;</td>\n",
       "      <td>&lt;NA&gt;</td>\n",
       "      <td>&lt;NA&gt;</td>\n",
       "      <td>&lt;NA&gt;</td>\n",
       "      <td>&lt;NA&gt;</td>\n",
       "      <td>&lt;NA&gt;</td>\n",
       "      <td>&lt;NA&gt;</td>\n",
       "      <td>&lt;NA&gt;</td>\n",
       "    </tr>\n",
       "    <tr>\n",
       "      <th>4461</th>\n",
       "      <td>009LK0vLcY</td>\n",
       "      <td>10107</td>\n",
       "      <td>1683778565991</td>\n",
       "      <td>[~Mehrdad_Ghadiri2, ~David_Arbour1, ~Tung_Mai1...</td>\n",
       "      <td>Finite Population Regression Adjustment and No...</td>\n",
       "      <td>The design and analysis of randomized experime...</td>\n",
       "      <td>Reviewer_UdXn</td>\n",
       "      <td>1688449656890</td>\n",
       "      <td>1702411268900</td>\n",
       "      <td>7</td>\n",
       "      <td>...</td>\n",
       "      <td>&lt;NA&gt;</td>\n",
       "      <td>&lt;NA&gt;</td>\n",
       "      <td>&lt;NA&gt;</td>\n",
       "      <td>&lt;NA&gt;</td>\n",
       "      <td>&lt;NA&gt;</td>\n",
       "      <td>&lt;NA&gt;</td>\n",
       "      <td>&lt;NA&gt;</td>\n",
       "      <td>&lt;NA&gt;</td>\n",
       "      <td>&lt;NA&gt;</td>\n",
       "      <td>&lt;NA&gt;</td>\n",
       "    </tr>\n",
       "    <tr>\n",
       "      <th>4462</th>\n",
       "      <td>009LK0vLcY</td>\n",
       "      <td>10107</td>\n",
       "      <td>1683778565991</td>\n",
       "      <td>[~Mehrdad_Ghadiri2, ~David_Arbour1, ~Tung_Mai1...</td>\n",
       "      <td>Finite Population Regression Adjustment and No...</td>\n",
       "      <td>The design and analysis of randomized experime...</td>\n",
       "      <td>Reviewer_ZgSr</td>\n",
       "      <td>1688485585833</td>\n",
       "      <td>1702411268818</td>\n",
       "      <td>5</td>\n",
       "      <td>...</td>\n",
       "      <td>&lt;NA&gt;</td>\n",
       "      <td>&lt;NA&gt;</td>\n",
       "      <td>&lt;NA&gt;</td>\n",
       "      <td>&lt;NA&gt;</td>\n",
       "      <td>&lt;NA&gt;</td>\n",
       "      <td>&lt;NA&gt;</td>\n",
       "      <td>&lt;NA&gt;</td>\n",
       "      <td>&lt;NA&gt;</td>\n",
       "      <td>&lt;NA&gt;</td>\n",
       "      <td>&lt;NA&gt;</td>\n",
       "    </tr>\n",
       "    <tr>\n",
       "      <th>4463</th>\n",
       "      <td>009LK0vLcY</td>\n",
       "      <td>10107</td>\n",
       "      <td>1683778565991</td>\n",
       "      <td>[~Mehrdad_Ghadiri2, ~David_Arbour1, ~Tung_Mai1...</td>\n",
       "      <td>Finite Population Regression Adjustment and No...</td>\n",
       "      <td>The design and analysis of randomized experime...</td>\n",
       "      <td>Reviewer_HGb9</td>\n",
       "      <td>1688665406904</td>\n",
       "      <td>1702411268706</td>\n",
       "      <td>4</td>\n",
       "      <td>...</td>\n",
       "      <td>&lt;NA&gt;</td>\n",
       "      <td>&lt;NA&gt;</td>\n",
       "      <td>&lt;NA&gt;</td>\n",
       "      <td>&lt;NA&gt;</td>\n",
       "      <td>&lt;NA&gt;</td>\n",
       "      <td>&lt;NA&gt;</td>\n",
       "      <td>&lt;NA&gt;</td>\n",
       "      <td>&lt;NA&gt;</td>\n",
       "      <td>&lt;NA&gt;</td>\n",
       "      <td>&lt;NA&gt;</td>\n",
       "    </tr>\n",
       "    <tr>\n",
       "      <th>4464</th>\n",
       "      <td>009LK0vLcY</td>\n",
       "      <td>10107</td>\n",
       "      <td>1683778565991</td>\n",
       "      <td>[~Mehrdad_Ghadiri2, ~David_Arbour1, ~Tung_Mai1...</td>\n",
       "      <td>Finite Population Regression Adjustment and No...</td>\n",
       "      <td>The design and analysis of randomized experime...</td>\n",
       "      <td>Reviewer_zpw6</td>\n",
       "      <td>1688755793651</td>\n",
       "      <td>1702411268608</td>\n",
       "      <td>4</td>\n",
       "      <td>...</td>\n",
       "      <td>&lt;NA&gt;</td>\n",
       "      <td>&lt;NA&gt;</td>\n",
       "      <td>&lt;NA&gt;</td>\n",
       "      <td>&lt;NA&gt;</td>\n",
       "      <td>&lt;NA&gt;</td>\n",
       "      <td>&lt;NA&gt;</td>\n",
       "      <td>&lt;NA&gt;</td>\n",
       "      <td>&lt;NA&gt;</td>\n",
       "      <td>&lt;NA&gt;</td>\n",
       "      <td>&lt;NA&gt;</td>\n",
       "    </tr>\n",
       "  </tbody>\n",
       "</table>\n",
       "<p>4465 rows × 48 columns</p>\n",
       "</div>"
      ],
      "text/plain": [
       "     submission_id  submission_number  submission_creation_date  \\\n",
       "0       zyhxRc9bew              10819             1683789038840   \n",
       "1       zyhxRc9bew              10819             1683789038840   \n",
       "2       zyhxRc9bew              10819             1683789038840   \n",
       "3       zyhxRc9bew              10819             1683789038840   \n",
       "4       zsOOqjaj2z               5668             1683686700553   \n",
       "...            ...                ...                       ...   \n",
       "4460    00EKYYu3fD               6838             1683719044332   \n",
       "4461    009LK0vLcY              10107             1683778565991   \n",
       "4462    009LK0vLcY              10107             1683778565991   \n",
       "4463    009LK0vLcY              10107             1683778565991   \n",
       "4464    009LK0vLcY              10107             1683778565991   \n",
       "\n",
       "                                     submission_authors  \\\n",
       "0     [~Hao_Sun1, ~Boris_van_Breugel2, ~Jonathan_Cra...   \n",
       "1     [~Hao_Sun1, ~Boris_van_Breugel2, ~Jonathan_Cra...   \n",
       "2     [~Hao_Sun1, ~Boris_van_Breugel2, ~Jonathan_Cra...   \n",
       "3     [~Hao_Sun1, ~Boris_van_Breugel2, ~Jonathan_Cra...   \n",
       "4     [~Yuanyuan_Wang5, ~Xi_Geng1, ~Wei_Huang8, ~Biw...   \n",
       "...                                                 ...   \n",
       "4460  [~Tianyang_Hu1, ~Fei_Chen8, ~Haonan_Wang1, ~Ji...   \n",
       "4461  [~Mehrdad_Ghadiri2, ~David_Arbour1, ~Tung_Mai1...   \n",
       "4462  [~Mehrdad_Ghadiri2, ~David_Arbour1, ~Tung_Mai1...   \n",
       "4463  [~Mehrdad_Ghadiri2, ~David_Arbour1, ~Tung_Mai1...   \n",
       "4464  [~Mehrdad_Ghadiri2, ~David_Arbour1, ~Tung_Mai1...   \n",
       "\n",
       "                                       submission_title  \\\n",
       "0     What is Flagged in Uncertainty Quantification?...   \n",
       "1     What is Flagged in Uncertainty Quantification?...   \n",
       "2     What is Flagged in Uncertainty Quantification?...   \n",
       "3     What is Flagged in Uncertainty Quantification?...   \n",
       "4     Generator Identification for Linear SDEs with ...   \n",
       "...                                                 ...   \n",
       "4460  Complexity Matters: Rethinking the Latent Spac...   \n",
       "4461  Finite Population Regression Adjustment and No...   \n",
       "4462  Finite Population Regression Adjustment and No...   \n",
       "4463  Finite Population Regression Adjustment and No...   \n",
       "4464  Finite Population Regression Adjustment and No...   \n",
       "\n",
       "                                    submission_abstract       reviewer  \\\n",
       "0     Uncertainty quantification (UQ) is essential f...  Reviewer_AvJq   \n",
       "1     Uncertainty quantification (UQ) is essential f...  Reviewer_7E4k   \n",
       "2     Uncertainty quantification (UQ) is essential f...  Reviewer_hHZH   \n",
       "3     Uncertainty quantification (UQ) is essential f...  Reviewer_sVgx   \n",
       "4     In this paper, we present conditions for ident...  Reviewer_Huoq   \n",
       "...                                                 ...            ...   \n",
       "4460  In generative modeling, numerous successful ap...  Reviewer_ssMC   \n",
       "4461  The design and analysis of randomized experime...  Reviewer_UdXn   \n",
       "4462  The design and analysis of randomized experime...  Reviewer_ZgSr   \n",
       "4463  The design and analysis of randomized experime...  Reviewer_HGb9   \n",
       "4464  The design and analysis of randomized experime...  Reviewer_zpw6   \n",
       "\n",
       "      creation_date  last_modification_date  review_rating  ...  \\\n",
       "0     1688368213177           1702411303415              6  ...   \n",
       "1     1688505633161           1702411303319              6  ...   \n",
       "2     1688552936677           1702411303221              6  ...   \n",
       "3     1688657604892           1702411303144              6  ...   \n",
       "4     1688427159321           1702411021240              7  ...   \n",
       "...             ...                     ...            ...  ...   \n",
       "4460  1688676041356           1702411081106              6  ...   \n",
       "4461  1688449656890           1702411268900              7  ...   \n",
       "4462  1688485585833           1702411268818              5  ...   \n",
       "4463  1688665406904           1702411268706              4  ...   \n",
       "4464  1688755793651           1702411268608              4  ...   \n",
       "\n",
       "      llm_Actionability  llm_Constructiveness  llm_Relevance Alignment  \\\n",
       "0                  <NA>                  <NA>                     <NA>   \n",
       "1                  <NA>                  <NA>                     <NA>   \n",
       "2                  <NA>                  <NA>                     <NA>   \n",
       "3                  <NA>                  <NA>                     <NA>   \n",
       "4                  <NA>                  <NA>                     <NA>   \n",
       "...                 ...                   ...                      ...   \n",
       "4460               <NA>                  <NA>                     <NA>   \n",
       "4461               <NA>                  <NA>                     <NA>   \n",
       "4462               <NA>                  <NA>                     <NA>   \n",
       "4463               <NA>                  <NA>                     <NA>   \n",
       "4464               <NA>                  <NA>                     <NA>   \n",
       "\n",
       "      llm_Clarity and Readability llm_Usage of Technical Terms  \\\n",
       "0                            <NA>                         <NA>   \n",
       "1                            <NA>                         <NA>   \n",
       "2                            <NA>                         <NA>   \n",
       "3                            <NA>                         <NA>   \n",
       "4                            <NA>                         <NA>   \n",
       "...                           ...                          ...   \n",
       "4460                         <NA>                         <NA>   \n",
       "4461                         <NA>                         <NA>   \n",
       "4462                         <NA>                         <NA>   \n",
       "4463                         <NA>                         <NA>   \n",
       "4464                         <NA>                         <NA>   \n",
       "\n",
       "      llm_Factuality  llm_Overall Quality  llm_overall_score_100  \\\n",
       "0               <NA>                 <NA>                   <NA>   \n",
       "1               <NA>                 <NA>                   <NA>   \n",
       "2               <NA>                 <NA>                   <NA>   \n",
       "3               <NA>                 <NA>                   <NA>   \n",
       "4               <NA>                 <NA>                   <NA>   \n",
       "...              ...                  ...                    ...   \n",
       "4460            <NA>                 <NA>                   <NA>   \n",
       "4461            <NA>                 <NA>                   <NA>   \n",
       "4462            <NA>                 <NA>                   <NA>   \n",
       "4463            <NA>                 <NA>                   <NA>   \n",
       "4464            <NA>                 <NA>                   <NA>   \n",
       "\n",
       "      llm_Sentiment Polarity  llm_Politeness  \n",
       "0                       <NA>            <NA>  \n",
       "1                       <NA>            <NA>  \n",
       "2                       <NA>            <NA>  \n",
       "3                       <NA>            <NA>  \n",
       "4                       <NA>            <NA>  \n",
       "...                      ...             ...  \n",
       "4460                    <NA>            <NA>  \n",
       "4461                    <NA>            <NA>  \n",
       "4462                    <NA>            <NA>  \n",
       "4463                    <NA>            <NA>  \n",
       "4464                    <NA>            <NA>  \n",
       "\n",
       "[4465 rows x 48 columns]"
      ]
     },
     "execution_count": 1,
     "metadata": {},
     "output_type": "execute_result"
    }
   ],
   "source": [
    "import pandas as pd\n",
    "import json\n",
    "import re\n",
    "import csv\n",
    "import time\n",
    "from tqdm import tqdm\n",
    "from ollama import chat\n",
    "\n",
    "\n",
    "input_file = '/home/ali/Review_Quality_Benchmark/data/processed/neurips2023_1000_papers.json'\n",
    "# Load data\n",
    "df = pd.read_json(input_file)\n",
    "\n",
    "llm_fields = [\n",
    "    \"llm_Comprehensiveness\", \"llm_Vagueness\", \"llm_Objectivity\", \"llm_Fairness\", \"llm_Actionability\", \n",
    "    \"llm_Constructiveness\", \"llm_Relevance Alignment\", \"llm_Clarity and Readability\", \"llm_Usage of Technical Terms\",\n",
    "    \"llm_Factuality\", \"llm_Overall Quality\", \"llm_overall_score_100\", \"llm_Sentiment Polarity\", \"llm_Politeness\", \n",
    "]\n",
    "\n",
    "\n",
    "# Check for missing fields and add them if not present\n",
    "for field in llm_fields:\n",
    "    if field not in df.columns:\n",
    "        df[field] = pd.NA\n",
    "\n",
    "# Pattern to extract JSON block\n",
    "pattern = re.compile(r\"<review_assessment>\\s*(\\{.*?\\})\\s*</review_assessment>\", re.DOTALL)\n",
    "\n",
    "# Define prompt template\n",
    "template = \"\"\"# REVIEW-QUALITY JUDGE\n",
    "\n",
    "## 0 — ROLE\n",
    "\n",
    "You are **ReviewInspector-LLM**, a rigorous, impartial meta-reviewer.\n",
    "Your goal is to assess the quality of a single peer-review against a predefined set of criteria and to provide precise, structured evaluations.\n",
    "\n",
    "## 1 — INPUTS\n",
    "\n",
    "Title: {title}\n",
    "Abstract: {abstract}\n",
    "Review: {review_text}\n",
    "\n",
    "## 2 — EVALUATION CRITERIA\n",
    "\n",
    "Return **only** the scale value or label at right (no rationale text).\n",
    "\n",
    "| #  | Criterion                    | Allowed scale / label                       | Description                                                                |\n",
    "| -- | ---------------------------- | ------------------------------------------- | -------------------------------------------------------------------------- |\n",
    "| 1  | **Comprehensiveness**        | integer **0-5**                             | Extent to which the review covers all key aspects of the paper.            |\n",
    "| 2  | **Usage of Technical Terms** | integer **0-5**                             | Appropriateness and frequency of domain-specific vocabulary.               |\n",
    "| 3  | **Factuality**               | **factual / partially factual / unfactual** | Accuracy of the statements made in the review.                             |\n",
    "| 4  | **Sentiment Polarity**       | **negative / neutral / positive**           | Overall sentiment conveyed by the reviewer.                                |\n",
    "| 5  | **Politeness**               | **polite / neutral / impolite**             | Tone and manner of the review language.                                    |\n",
    "| 6  | **Vagueness**                | **none / low / moderate / high / extreme**  | Degree of ambiguity or lack of specificity in the review.                  |\n",
    "| 7  | **Objectivity**              | integer **0-5**                             | Presence of unbiased, evidence-based commentary.                           |\n",
    "| 8  | **Fairness**                 | integer **0-5**                             | Perceived impartiality and balance in judgments.                           |\n",
    "| 9  | **Actionability**            | integer **0-5**                             | Helpfulness of the review in suggesting clear next steps.                  |\n",
    "| 10 | **Constructiveness**         | integer **0-5**                             | Degree to which the review offers improvements rather than just criticism. |\n",
    "| 11 | **Relevance Alignment**      | integer **0-5**                             | How well the review relates to the content and scope of the paper.         |\n",
    "| 12 | **Clarity and Readability**  | integer **0-5**                             | Ease of understanding the review, including grammar and structure.         |\n",
    "| 13 | **Overall Quality**          | integer **0-100**                           | Holistic evaluation of the review's usefulness and professionalism.        |\n",
    "\n",
    "## 3 — SCORING GUIDELINES\n",
    "\n",
    "For 0-5 scales:\n",
    "\n",
    "* 5 = Outstanding\n",
    "* 4 = Strong\n",
    "* 3 = Adequate\n",
    "* 2 = Weak\n",
    "* 1 = Very weak\n",
    "* 0 = Absent/irrelevant\n",
    "\n",
    "## 4 — ANALYSIS & COMPUTATION (silent)\n",
    "\n",
    "1. Read and understand the review in the context of the paper title and abstract.\n",
    "2. Extract quantitative and qualitative signals (e.g., term usage, factual consistency, tone, clarity).\n",
    "3. Map observations to the corresponding scoring scales.\n",
    "\n",
    "## 5 — OUTPUT FORMAT (strict)  \n",
    "Return **exactly one** JSON block wrapped in the tag below — **no comments or extra text**.\n",
    "\n",
    "```json\n",
    "<review_assessment>\n",
    "{{\n",
    "  \"paper_title\": \"{title}\",\n",
    "  \"criteria\": {{\n",
    "    \"Comprehensiveness\":       ...,\n",
    "    \"Usage of Technical Terms\":   ...,\n",
    "    \"Factuality\":    ...,\n",
    "    \"Sentiment Polarity\":      ...,\n",
    "    \"Politeness\":  ...,\n",
    "    \"Vagueness\":          ...,\n",
    "    \"Objectivity\":             ...,\n",
    "    \"Fairness\":         ...,\n",
    "    \"Actionability\":        ...,\n",
    "    \"Constructiveness\":    ...,\n",
    "    \"Relevance Alignment\":    ...,\n",
    "    \"Clarity and Readability\":    ...,\n",
    "    \"Relevance Alignment\":    ...,\n",
    "    \"Overall Quality\":     ...\n",
    "  }},\n",
    "  \"overall_score_100\": ...\n",
    "}}\n",
    "</review_assessment>\n",
    "```\n",
    "\"\"\"\n",
    "\n",
    "df"
   ]
  },
  {
   "cell_type": "code",
   "execution_count": 2,
   "id": "0232a542",
   "metadata": {
    "execution": {
     "iopub.execute_input": "2025-05-14T23:26:07.845797Z",
     "iopub.status.busy": "2025-05-14T23:26:07.845634Z"
    },
    "papermill": {
     "duration": null,
     "end_time": null,
     "exception": false,
     "start_time": "2025-05-14T23:26:07.843347",
     "status": "running"
    },
    "tags": []
   },
   "outputs": [
    {
     "name": "stderr",
     "output_type": "stream",
     "text": [
      "\r",
      "Scoring with LLM:   0%|          | 0/4465 [00:00<?, ?it/s]"
     ]
    },
    {
     "name": "stdout",
     "output_type": "stream",
     "text": [
      "❌ Error at row 0, attempt 1: Expecting value: line 6 column 22 (char 231)\n"
     ]
    },
    {
     "name": "stdout",
     "output_type": "stream",
     "text": [
      "❌ Error at row 0, attempt 2: Expecting value: line 6 column 22 (char 231)\n"
     ]
    },
    {
     "name": "stdout",
     "output_type": "stream",
     "text": [
      "❌ Error at row 0, attempt 3: Expecting value: line 6 column 22 (char 231)\n"
     ]
    },
    {
     "name": "stdout",
     "output_type": "stream",
     "text": [
      "❌ Error at row 0, attempt 4: Expecting value: line 6 column 22 (char 231)\n"
     ]
    },
    {
     "name": "stderr",
     "output_type": "stream",
     "text": [
      "\r",
      "Scoring with LLM:   0%|          | 1/4465 [00:16<20:43:10, 16.71s/it]"
     ]
    },
    {
     "name": "stdout",
     "output_type": "stream",
     "text": [
      "❌ Error at row 0, attempt 5: Expecting value: line 6 column 22 (char 231)\n"
     ]
    },
    {
     "name": "stdout",
     "output_type": "stream",
     "text": [
      "❌ Error at row 1, attempt 1: Expecting value: line 6 column 22 (char 231)\n"
     ]
    },
    {
     "name": "stderr",
     "output_type": "stream",
     "text": [
      "\r",
      "Scoring with LLM:   0%|          | 2/4465 [00:24<14:12:54, 11.47s/it]"
     ]
    },
    {
     "name": "stdout",
     "output_type": "stream",
     "text": [
      "80\n"
     ]
    },
    {
     "name": "stdout",
     "output_type": "stream",
     "text": [
      "❌ Error at row 2, attempt 1: Expecting value: line 6 column 22 (char 231)\n"
     ]
    },
    {
     "name": "stdout",
     "output_type": "stream",
     "text": [
      "❌ Error at row 2, attempt 2: Expecting value: line 6 column 22 (char 231)\n"
     ]
    },
    {
     "name": "stdout",
     "output_type": "stream",
     "text": [
      "❌ Error at row 2, attempt 3: Expecting value: line 6 column 22 (char 231)\n"
     ]
    },
    {
     "name": "stdout",
     "output_type": "stream",
     "text": [
      "❌ Error at row 2, attempt 4: Expecting value: line 6 column 22 (char 231)\n"
     ]
    },
    {
     "name": "stderr",
     "output_type": "stream",
     "text": [
      "\r",
      "Scoring with LLM:   0%|          | 3/4465 [00:42<18:02:34, 14.56s/it]"
     ]
    },
    {
     "name": "stdout",
     "output_type": "stream",
     "text": [
      "❌ Error at row 2, attempt 5: Expecting value: line 6 column 22 (char 231)\n"
     ]
    },
    {
     "name": "stderr",
     "output_type": "stream",
     "text": [
      "\r",
      "Scoring with LLM:   0%|          | 4/4465 [00:46<12:43:00, 10.26s/it]"
     ]
    },
    {
     "name": "stdout",
     "output_type": "stream",
     "text": [
      "80\n"
     ]
    },
    {
     "name": "stderr",
     "output_type": "stream",
     "text": [
      "\r",
      "Scoring with LLM:   0%|          | 5/4465 [00:50<9:44:57,  7.87s/it] "
     ]
    },
    {
     "name": "stdout",
     "output_type": "stream",
     "text": [
      "70\n"
     ]
    },
    {
     "name": "stderr",
     "output_type": "stream",
     "text": [
      "\r",
      "Scoring with LLM:   0%|          | 6/4465 [00:53<7:58:09,  6.43s/it]"
     ]
    },
    {
     "name": "stdout",
     "output_type": "stream",
     "text": [
      "60\n"
     ]
    },
    {
     "name": "stderr",
     "output_type": "stream",
     "text": [
      "\r",
      "Scoring with LLM:   0%|          | 7/4465 [00:57<6:51:02,  5.53s/it]"
     ]
    },
    {
     "name": "stdout",
     "output_type": "stream",
     "text": [
      "60\n"
     ]
    },
    {
     "name": "stderr",
     "output_type": "stream",
     "text": [
      "\r",
      "Scoring with LLM:   0%|          | 8/4465 [01:00<6:01:41,  4.87s/it]"
     ]
    },
    {
     "name": "stdout",
     "output_type": "stream",
     "text": [
      "60\n"
     ]
    },
    {
     "name": "stderr",
     "output_type": "stream",
     "text": [
      "\r",
      "Scoring with LLM:   0%|          | 9/4465 [01:05<5:45:46,  4.66s/it]"
     ]
    },
    {
     "name": "stdout",
     "output_type": "stream",
     "text": [
      "70\n"
     ]
    },
    {
     "name": "stderr",
     "output_type": "stream",
     "text": [
      "\r",
      "Scoring with LLM:   0%|          | 10/4465 [01:08<5:20:04,  4.31s/it]"
     ]
    },
    {
     "name": "stdout",
     "output_type": "stream",
     "text": [
      "70\n"
     ]
    },
    {
     "name": "stdout",
     "output_type": "stream",
     "text": [
      "❌ Error at row 10, attempt 1: Expecting value: line 6 column 22 (char 187)\n"
     ]
    },
    {
     "name": "stdout",
     "output_type": "stream",
     "text": [
      "❌ Error at row 10, attempt 2: Expecting value: line 6 column 22 (char 187)\n"
     ]
    },
    {
     "name": "stdout",
     "output_type": "stream",
     "text": [
      "❌ Error at row 10, attempt 3: Expecting value: line 6 column 22 (char 187)\n"
     ]
    },
    {
     "name": "stderr",
     "output_type": "stream",
     "text": [
      "\r",
      "Scoring with LLM:   0%|          | 11/4465 [01:22<9:03:53,  7.33s/it]"
     ]
    },
    {
     "name": "stdout",
     "output_type": "stream",
     "text": [
      "80\n"
     ]
    },
    {
     "name": "stderr",
     "output_type": "stream",
     "text": [
      "\r",
      "Scoring with LLM:   0%|          | 12/4465 [01:26<7:46:13,  6.28s/it]"
     ]
    },
    {
     "name": "stdout",
     "output_type": "stream",
     "text": [
      "80\n"
     ]
    },
    {
     "name": "stderr",
     "output_type": "stream",
     "text": [
      "\r",
      "Scoring with LLM:   0%|          | 13/4465 [01:30<6:51:21,  5.54s/it]"
     ]
    },
    {
     "name": "stdout",
     "output_type": "stream",
     "text": [
      "80\n"
     ]
    },
    {
     "name": "stderr",
     "output_type": "stream",
     "text": [
      "\r",
      "Scoring with LLM:   0%|          | 14/4465 [01:34<6:28:33,  5.24s/it]"
     ]
    },
    {
     "name": "stdout",
     "output_type": "stream",
     "text": [
      "80\n"
     ]
    },
    {
     "name": "stderr",
     "output_type": "stream",
     "text": [
      "\r",
      "Scoring with LLM:   0%|          | 15/4465 [01:38<5:55:48,  4.80s/it]"
     ]
    },
    {
     "name": "stdout",
     "output_type": "stream",
     "text": [
      "70\n"
     ]
    },
    {
     "name": "stderr",
     "output_type": "stream",
     "text": [
      "\r",
      "Scoring with LLM:   0%|          | 16/4465 [01:42<5:34:01,  4.50s/it]"
     ]
    },
    {
     "name": "stdout",
     "output_type": "stream",
     "text": [
      "80\n"
     ]
    },
    {
     "name": "stderr",
     "output_type": "stream",
     "text": [
      "\r",
      "Scoring with LLM:   0%|          | 17/4465 [01:46<5:18:29,  4.30s/it]"
     ]
    },
    {
     "name": "stdout",
     "output_type": "stream",
     "text": [
      "80\n"
     ]
    },
    {
     "name": "stderr",
     "output_type": "stream",
     "text": [
      "\r",
      "Scoring with LLM:   0%|          | 18/4465 [01:50<5:15:21,  4.25s/it]"
     ]
    },
    {
     "name": "stdout",
     "output_type": "stream",
     "text": [
      "80\n"
     ]
    },
    {
     "name": "stderr",
     "output_type": "stream",
     "text": [
      "\r",
      "Scoring with LLM:   0%|          | 19/4465 [01:55<5:19:57,  4.32s/it]"
     ]
    },
    {
     "name": "stdout",
     "output_type": "stream",
     "text": [
      "80\n"
     ]
    },
    {
     "name": "stderr",
     "output_type": "stream",
     "text": [
      "\r",
      "Scoring with LLM:   0%|          | 20/4465 [01:58<5:05:27,  4.12s/it]"
     ]
    },
    {
     "name": "stdout",
     "output_type": "stream",
     "text": [
      "70\n"
     ]
    },
    {
     "name": "stderr",
     "output_type": "stream",
     "text": [
      "\r",
      "Scoring with LLM:   0%|          | 21/4465 [02:04<5:48:15,  4.70s/it]"
     ]
    },
    {
     "name": "stdout",
     "output_type": "stream",
     "text": [
      "60\n"
     ]
    },
    {
     "name": "stdout",
     "output_type": "stream",
     "text": [
      "❌ Error at row 21, attempt 1: Expecting value: line 6 column 22 (char 206)\n"
     ]
    },
    {
     "name": "stderr",
     "output_type": "stream",
     "text": [
      "\r",
      "Scoring with LLM:   0%|          | 22/4465 [02:12<6:51:23,  5.56s/it]"
     ]
    },
    {
     "name": "stdout",
     "output_type": "stream",
     "text": [
      "80\n"
     ]
    },
    {
     "name": "stderr",
     "output_type": "stream",
     "text": [
      "\r",
      "Scoring with LLM:   1%|          | 23/4465 [02:15<6:03:02,  4.90s/it]"
     ]
    },
    {
     "name": "stdout",
     "output_type": "stream",
     "text": [
      "70\n"
     ]
    },
    {
     "name": "stderr",
     "output_type": "stream",
     "text": [
      "\r",
      "Scoring with LLM:   1%|          | 24/4465 [02:19<5:34:00,  4.51s/it]"
     ]
    },
    {
     "name": "stdout",
     "output_type": "stream",
     "text": [
      "70\n"
     ]
    },
    {
     "name": "stderr",
     "output_type": "stream",
     "text": [
      "\r",
      "Scoring with LLM:   1%|          | 25/4465 [02:22<5:09:16,  4.18s/it]"
     ]
    },
    {
     "name": "stdout",
     "output_type": "stream",
     "text": [
      "80\n"
     ]
    },
    {
     "name": "stderr",
     "output_type": "stream",
     "text": [
      "\r",
      "Scoring with LLM:   1%|          | 26/4465 [02:26<4:53:55,  3.97s/it]"
     ]
    },
    {
     "name": "stdout",
     "output_type": "stream",
     "text": [
      "70\n"
     ]
    },
    {
     "name": "stderr",
     "output_type": "stream",
     "text": [
      "\r",
      "Scoring with LLM:   1%|          | 27/4465 [02:28<4:25:43,  3.59s/it]"
     ]
    },
    {
     "name": "stdout",
     "output_type": "stream",
     "text": [
      "70\n"
     ]
    },
    {
     "name": "stdout",
     "output_type": "stream",
     "text": [
      "❌ Error at row 27, attempt 1: Expecting value: line 6 column 22 (char 217)\n"
     ]
    },
    {
     "name": "stdout",
     "output_type": "stream",
     "text": [
      "❌ Error at row 27, attempt 2: Expecting value: line 6 column 22 (char 217)\n"
     ]
    },
    {
     "name": "stdout",
     "output_type": "stream",
     "text": [
      "❌ Error at row 27, attempt 3: Expecting value: line 6 column 22 (char 217)\n"
     ]
    },
    {
     "name": "stdout",
     "output_type": "stream",
     "text": [
      "❌ Error at row 27, attempt 4: Expecting value: line 6 column 22 (char 217)\n"
     ]
    },
    {
     "name": "stderr",
     "output_type": "stream",
     "text": [
      "\r",
      "Scoring with LLM:   1%|          | 28/4465 [02:43<8:36:28,  6.98s/it]"
     ]
    },
    {
     "name": "stdout",
     "output_type": "stream",
     "text": [
      "❌ Error at row 27, attempt 5: Expecting value: line 6 column 22 (char 217)\n"
     ]
    },
    {
     "name": "stderr",
     "output_type": "stream",
     "text": [
      "\r",
      "Scoring with LLM:   1%|          | 29/4465 [02:47<7:21:04,  5.97s/it]"
     ]
    },
    {
     "name": "stdout",
     "output_type": "stream",
     "text": [
      "80\n"
     ]
    },
    {
     "name": "stderr",
     "output_type": "stream",
     "text": [
      "\r",
      "Scoring with LLM:   1%|          | 30/4465 [02:51<6:30:55,  5.29s/it]"
     ]
    },
    {
     "name": "stdout",
     "output_type": "stream",
     "text": [
      "80\n"
     ]
    },
    {
     "name": "stderr",
     "output_type": "stream",
     "text": [
      "\r",
      "Scoring with LLM:   1%|          | 31/4465 [02:53<5:38:22,  4.58s/it]"
     ]
    },
    {
     "name": "stdout",
     "output_type": "stream",
     "text": [
      "70\n"
     ]
    },
    {
     "name": "stderr",
     "output_type": "stream",
     "text": [
      "\r",
      "Scoring with LLM:   1%|          | 32/4465 [02:56<4:59:59,  4.06s/it]"
     ]
    },
    {
     "name": "stdout",
     "output_type": "stream",
     "text": [
      "20\n"
     ]
    },
    {
     "name": "stderr",
     "output_type": "stream",
     "text": [
      "\r",
      "Scoring with LLM:   1%|          | 33/4465 [02:59<4:38:15,  3.77s/it]"
     ]
    },
    {
     "name": "stdout",
     "output_type": "stream",
     "text": [
      "70\n"
     ]
    },
    {
     "name": "stderr",
     "output_type": "stream",
     "text": [
      "\r",
      "Scoring with LLM:   1%|          | 34/4465 [03:03<4:23:22,  3.57s/it]"
     ]
    },
    {
     "name": "stdout",
     "output_type": "stream",
     "text": [
      "80\n"
     ]
    },
    {
     "name": "stderr",
     "output_type": "stream",
     "text": [
      "\r",
      "Scoring with LLM:   1%|          | 35/4465 [03:06<4:23:04,  3.56s/it]"
     ]
    },
    {
     "name": "stdout",
     "output_type": "stream",
     "text": [
      "80\n"
     ]
    },
    {
     "name": "stderr",
     "output_type": "stream",
     "text": [
      "\r",
      "Scoring with LLM:   1%|          | 36/4465 [03:09<4:09:03,  3.37s/it]"
     ]
    },
    {
     "name": "stdout",
     "output_type": "stream",
     "text": [
      "85\n"
     ]
    },
    {
     "name": "stderr",
     "output_type": "stream",
     "text": [
      "\r",
      "Scoring with LLM:   1%|          | 37/4465 [03:12<4:08:47,  3.37s/it]"
     ]
    },
    {
     "name": "stdout",
     "output_type": "stream",
     "text": [
      "80\n"
     ]
    },
    {
     "name": "stderr",
     "output_type": "stream",
     "text": [
      "\r",
      "Scoring with LLM:   1%|          | 38/4465 [03:15<3:59:20,  3.24s/it]"
     ]
    },
    {
     "name": "stdout",
     "output_type": "stream",
     "text": [
      "80\n"
     ]
    },
    {
     "name": "stderr",
     "output_type": "stream",
     "text": [
      "\r",
      "Scoring with LLM:   1%|          | 39/4465 [03:19<4:01:08,  3.27s/it]"
     ]
    },
    {
     "name": "stdout",
     "output_type": "stream",
     "text": [
      "80\n"
     ]
    },
    {
     "name": "stderr",
     "output_type": "stream",
     "text": [
      "\r",
      "Scoring with LLM:   1%|          | 40/4465 [03:22<4:02:35,  3.29s/it]"
     ]
    },
    {
     "name": "stdout",
     "output_type": "stream",
     "text": [
      "80\n"
     ]
    },
    {
     "name": "stderr",
     "output_type": "stream",
     "text": [
      "\r",
      "Scoring with LLM:   1%|          | 41/4465 [03:25<4:05:25,  3.33s/it]"
     ]
    },
    {
     "name": "stdout",
     "output_type": "stream",
     "text": [
      "70\n"
     ]
    },
    {
     "name": "stderr",
     "output_type": "stream",
     "text": [
      "\r",
      "Scoring with LLM:   1%|          | 42/4465 [03:29<4:13:02,  3.43s/it]"
     ]
    },
    {
     "name": "stdout",
     "output_type": "stream",
     "text": [
      "70\n"
     ]
    },
    {
     "name": "stderr",
     "output_type": "stream",
     "text": [
      "\r",
      "Scoring with LLM:   1%|          | 43/4465 [03:33<4:14:35,  3.45s/it]"
     ]
    },
    {
     "name": "stdout",
     "output_type": "stream",
     "text": [
      "70\n"
     ]
    },
    {
     "name": "stderr",
     "output_type": "stream",
     "text": [
      "\r",
      "Scoring with LLM:   1%|          | 44/4465 [03:36<4:14:00,  3.45s/it]"
     ]
    },
    {
     "name": "stdout",
     "output_type": "stream",
     "text": [
      "80\n"
     ]
    },
    {
     "name": "stderr",
     "output_type": "stream",
     "text": [
      "\r",
      "Scoring with LLM:   1%|          | 45/4465 [03:39<4:13:00,  3.43s/it]"
     ]
    },
    {
     "name": "stdout",
     "output_type": "stream",
     "text": [
      "70\n"
     ]
    },
    {
     "name": "stderr",
     "output_type": "stream",
     "text": [
      "\r",
      "Scoring with LLM:   1%|          | 46/4465 [03:43<4:10:40,  3.40s/it]"
     ]
    }
   ],
   "source": [
    "# Process each row\n",
    "# Set the temperature parameter for the llama model\n",
    "temperature = 0\n",
    "seed = 42\n",
    "\n",
    "\n",
    "# Process each row\n",
    "for idx, row in tqdm(df.iterrows(), total=len(df), desc=\"Scoring with LLM\"):\n",
    "    # Skip if all llm fields are already filled\n",
    "    if all(pd.notna(row.get(field, pd.NA)) for field in llm_fields):\n",
    "        continue\n",
    "    if idx >= 50:\n",
    "        break\n",
    "\n",
    "    prompt = template.format(\n",
    "        title=row['submission_title'],\n",
    "        abstract=row['submission_abstract'],\n",
    "        review_text=row['total_review']\n",
    "    )\n",
    "    \n",
    "    for attempt in range(5):\n",
    "        try:\n",
    "            response = chat(\"llama3:8b\", messages=[{'role': 'user', 'content': prompt}], options={'temperature': temperature, 'seed': seed})\n",
    "            content = response['message']['content']\n",
    "            match = pattern.search(content)\n",
    "            if not match:\n",
    "                raise ValueError(\"No JSON block found\")\n",
    "\n",
    "            parsed = json.loads(match.group(1))\n",
    "            print(parsed[\"overall_score_100\"])\n",
    "            for key, val in parsed[\"criteria\"].items():\n",
    "                df.at[idx, f\"llm_{key}\"] = val\n",
    "            df.at[idx, \"llm_overall_score_100\"] = parsed[\"overall_score_100\"]\n",
    "\n",
    "            # Save after every successful row\n",
    "            # df.to_csv(input_file, index=False, quoting=csv.QUOTE_ALL)\n",
    "            break\n",
    "\n",
    "        except Exception as e:\n",
    "            print(f\"❌ Error at row {idx}, attempt {attempt + 1}: {e}\")"
   ]
  },
  {
   "cell_type": "code",
   "execution_count": null,
   "id": "92a02a49",
   "metadata": {
    "papermill": {
     "duration": null,
     "end_time": null,
     "exception": null,
     "start_time": null,
     "status": "pending"
    },
    "tags": []
   },
   "outputs": [],
   "source": [
    "df.to_json('/home/ali/Review_Quality_Benchmark/data/processed/neurips2023_1000papers_llm.json', orient='records')"
   ]
  },
  {
   "cell_type": "code",
   "execution_count": null,
   "id": "fb91e641",
   "metadata": {
    "papermill": {
     "duration": null,
     "end_time": null,
     "exception": null,
     "start_time": null,
     "status": "pending"
    },
    "tags": []
   },
   "outputs": [],
   "source": [
    "# Filter the first 50 rows and check for rows without null values in \"llm_\" columns\n",
    "non_null_count = df.iloc[:][[col for col in df.columns if col.startswith(\"llm_\")]].dropna().shape[0]\n",
    "print(non_null_count)\n",
    "print(df.shape)"
   ]
  },
  {
   "cell_type": "code",
   "execution_count": null,
   "id": "d6480b93",
   "metadata": {
    "papermill": {
     "duration": null,
     "end_time": null,
     "exception": null,
     "start_time": null,
     "status": "pending"
    },
    "tags": []
   },
   "outputs": [],
   "source": [
    "df"
   ]
  },
  {
   "cell_type": "code",
   "execution_count": null,
   "id": "51bf787d",
   "metadata": {
    "papermill": {
     "duration": null,
     "end_time": null,
     "exception": null,
     "start_time": null,
     "status": "pending"
    },
    "tags": []
   },
   "outputs": [],
   "source": []
  }
 ],
 "metadata": {
  "kernelspec": {
   "display_name": ".venv",
   "language": "python",
   "name": "python3"
  },
  "language_info": {
   "codemirror_mode": {
    "name": "ipython",
    "version": 3
   },
   "file_extension": ".py",
   "mimetype": "text/x-python",
   "name": "python",
   "nbconvert_exporter": "python",
   "pygments_lexer": "ipython3",
   "version": "3.10.12"
  },
  "papermill": {
   "default_parameters": {},
   "duration": null,
   "end_time": null,
   "environment_variables": {},
   "exception": null,
   "input_path": "llm_analysis_neurips.ipynb",
   "output_path": "llm_output.ipynb",
   "parameters": {},
   "start_time": "2025-05-14T23:26:05.922361",
   "version": "2.6.0"
  }
 },
 "nbformat": 4,
 "nbformat_minor": 5
}