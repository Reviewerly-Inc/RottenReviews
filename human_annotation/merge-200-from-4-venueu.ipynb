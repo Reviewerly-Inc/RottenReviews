{
 "cells": [
  {
   "cell_type": "markdown",
   "metadata": {},
   "source": [
    "# Merge ICLR and NeurIPs"
   ]
  },
  {
   "cell_type": "code",
   "execution_count": null,
   "metadata": {},
   "outputs": [],
   "source": [
    "import pandas as pd\n",
    "\n",
    "\n",
    "df_iclr = pd.read_json('../data/processed/iclr-2024.json')\n",
    "df_neurips = pd.read_json('../data/processed/neurips-2023.json')\n",
    "\n",
    "# Display the dataframes\n",
    "display(df_iclr)\n",
    "display(df_neurips)"
   ]
  },
  {
   "cell_type": "code",
   "execution_count": null,
   "metadata": {
    "vscode": {
     "languageId": "ruby"
    }
   },
   "outputs": [],
   "source": [
    "import random\n",
    "\n",
    "# Randomly select 50 unique submission IDs from df_iclr\n",
    "selected_iclr_ids = random.sample(df_iclr['submission_id'].unique().tolist(), 50)\n",
    "df_iclr_50 = df_iclr[df_iclr['submission_id'].isin(selected_iclr_ids)]\n",
    "\n",
    "# Randomly select 50 unique submission IDs from df_neurips\n",
    "selected_neurips_ids = random.sample(df_neurips['submission_id'].unique().tolist(), 50)\n",
    "df_neurips_50 = df_neurips[df_neurips['submission_id'].isin(selected_neurips_ids)]\n",
    "\n",
    "# Display the resulting dataframes\n",
    "display(df_iclr_50)\n",
    "display(df_neurips_50)"
   ]
  },
  {
   "cell_type": "code",
   "execution_count": null,
   "metadata": {
    "vscode": {
     "languageId": "ruby"
    }
   },
   "outputs": [],
   "source": [
    "# Add a new column 'venue' to each dataframe\n",
    "df_iclr_50['venue'] = 'iclr'\n",
    "df_neurips_50['venue'] = 'neurips'\n",
    "\n",
    "# Concatenate the two dataframes\n",
    "df_merged = pd.concat([df_iclr_50, df_neurips_50], ignore_index=True)\n",
    "\n",
    "# Display the merged dataframe\n",
    "display(df_merged)"
   ]
  },
  {
   "cell_type": "code",
   "execution_count": null,
   "metadata": {},
   "outputs": [],
   "source": [
    "# Save the merged dataframe to a CSV file\n",
    "df_merged.to_csv('../data/processed/50iclr-50neurips-merged.csv', index=False)"
   ]
  },
  {
   "cell_type": "markdown",
   "metadata": {},
   "source": [
    "# Merge F1000 and Semantic Web Journal"
   ]
  },
  {
   "cell_type": "code",
   "execution_count": null,
   "metadata": {},
   "outputs": [],
   "source": [
    "import pandas as pd\n",
    "\n",
    "# Read the two CSV files\n",
    "file1 = pd.read_csv('../data/processed/f1000.csv')\n",
    "file2 = pd.read_csv('../data/processed/semanticweb.csv')\n",
    "\n",
    "# Display the dataframes\n",
    "display(file1)\n",
    "display(file2)"
   ]
  },
  {
   "cell_type": "code",
   "execution_count": null,
   "metadata": {},
   "outputs": [],
   "source": [
    "import random\n",
    "\n",
    "# Randomly select 50 unique paper IDs from each file\n",
    "selected_paper_ids_file1_sample = random.sample(list(selected_paper_ids_file1), 50)\n",
    "selected_paper_ids_file2_sample = random.sample(list(selected_paper_ids_file2), 50)\n",
    "\n",
    "# Filter the original dataframes to include all rows for the selected paper IDs\n",
    "df_50_sample_file1 = file1[file1['title'].isin(selected_paper_ids_file1_sample)]\n",
    "df_50_sample_file2 = file2[file2['paper_id'].isin(selected_paper_ids_file2_sample)]\n",
    "\n",
    "# Display the resulting dataframes\n",
    "display(df_50_sample_file1)\n",
    "display(df_50_sample_file2)"
   ]
  },
  {
   "cell_type": "code",
   "execution_count": null,
   "metadata": {},
   "outputs": [],
   "source": [
    "# Add the 'venue' column to both sample dataframes\n",
    "df_50_sample_file1['venue'] = 'f1000'\n",
    "df_50_sample_file2['venue'] = 'semanticweb'\n",
    "\n",
    "# Rename columns to remove '_llamaV3-2' from their names for each dataframe\n",
    "df_50_sample_file1.columns = [col.replace('_llamaV3-2', '') for col in df_50_sample_file1.columns]\n",
    "df_50_sample_file2.columns = [col.replace('_llamaV3-2', '') for col in df_50_sample_file2.columns]\n",
    "\n",
    "# Drop the 'paper_id' column from the second dataframe\n",
    "df_50_sample_file2 = df_50_sample_file2.drop(columns=['paper_id'])\n",
    "\n",
    "# Merge the two dataframes\n",
    "merged_df = pd.concat([df_50_sample_file1, df_50_sample_file2], ignore_index=True)\n",
    "\n",
    "# Display the merged dataframe\n",
    "display(merged_df)"
   ]
  },
  {
   "cell_type": "code",
   "execution_count": null,
   "metadata": {},
   "outputs": [],
   "source": [
    "# save the merged dataframe to a CSV file named sw_f1000_merged.csv\n",
    "merged_df.to_csv('../data/processed/50swj-50f1000-merged.csv', index=False)"
   ]
  },
  {
   "cell_type": "markdown",
   "metadata": {},
   "source": [
    "# Merge All for Human Annotation"
   ]
  },
  {
   "cell_type": "code",
   "execution_count": null,
   "metadata": {},
   "outputs": [],
   "source": [
    "import pandas as pd\n",
    "\n",
    "# Read the two CSV files\n",
    "ali_df = pd.read_csv('../data/processed/50iclr-50neurips-merged.csv')\n",
    "soroush_df = pd.read_csv('../data/processed/50swj-50f1000-merged.csv')\n",
    "\n",
    "# Display the first few rows of each dataframe to verify\n",
    "display(ali_df.head())\n",
    "display(soroush_df.head())"
   ]
  },
  {
   "cell_type": "code",
   "execution_count": null,
   "metadata": {},
   "outputs": [],
   "source": [
    "print(\"Columns in ali_df:\")\n",
    "print(ali_df.columns)\n",
    "\n",
    "print(\"\\nColumns in soroush_df:\")\n",
    "print(soroush_df.columns)"
   ]
  },
  {
   "cell_type": "code",
   "execution_count": null,
   "metadata": {},
   "outputs": [],
   "source": [
    "# Merge the two dataframes\n",
    "merged_df = pd.concat([ali_df, soroush_df], ignore_index=True, sort=False)\n",
    "\n",
    "# Display the merged dataframe\n",
    "display(merged_df)"
   ]
  },
  {
   "cell_type": "code",
   "execution_count": null,
   "metadata": {
    "vscode": {
     "languageId": "ruby"
    }
   },
   "outputs": [],
   "source": [
    "# Assign a unique paper_id for each unique combination of title and abstract\n",
    "merged_df['paper_id'] = merged_df.groupby(['title', 'abstract']).ngroup()\n",
    "\n",
    "# Reorder the columns to make paper_id the first column\n",
    "merged_df = merged_df[['paper_id'] + [col for col in merged_df.columns if col != 'paper_id']]\n",
    "\n",
    "# Display the updated dataframe\n",
    "display(merged_df)"
   ]
  },
  {
   "cell_type": "code",
   "execution_count": null,
   "metadata": {},
   "outputs": [],
   "source": [
    "# Count unique values in the paper_id column\n",
    "unique_paper_ids = merged_df['paper_id'].nunique()\n",
    "print(f\"Number of unique paper IDs: {unique_paper_ids}\")\n",
    "\n",
    "# Determine the range of paper_id values\n",
    "paper_id_min = merged_df['paper_id'].min()\n",
    "paper_id_max = merged_df['paper_id'].max()\n",
    "print(f\"Range of paper IDs: {paper_id_min} to {paper_id_max}\")"
   ]
  },
  {
   "cell_type": "code",
   "execution_count": null,
   "metadata": {},
   "outputs": [],
   "source": [
    "# Reorder the columns in merged_df\n",
    "columns_order = ['paper_id', 'title', 'abstract', 'review_text'] + [col for col in merged_df.columns if col not in ['paper_id', 'title', 'abstract', 'review_text']]\n",
    "merged_df = merged_df[columns_order]\n",
    "\n",
    "# Display the updated dataframe\n",
    "display(merged_df)"
   ]
  },
  {
   "cell_type": "code",
   "execution_count": 27,
   "metadata": {},
   "outputs": [],
   "source": [
    "merged_df.to_csv('../data/processed/merged-200-papers.csv', index=False)"
   ]
  },
  {
   "cell_type": "code",
   "execution_count": 2,
   "metadata": {},
   "outputs": [],
   "source": [
    "import pandas as pd\n",
    "\n",
    "\n",
    "df = pd.read_csv('../data/processed/merged-200-papers.csv')\n",
    "df\n",
    "\n",
    "df.to_json('../data/processed/merged-200-papers.json', orient='records', lines=True)"
   ]
  }
 ],
 "metadata": {
  "kernelspec": {
   "display_name": ".venv",
   "language": "python",
   "name": "python3"
  },
  "language_info": {
   "codemirror_mode": {
    "name": "ipython",
    "version": 3
   },
   "file_extension": ".py",
   "mimetype": "text/x-python",
   "name": "python",
   "nbconvert_exporter": "python",
   "pygments_lexer": "ipython3",
   "version": "3.10.12"
  }
 },
 "nbformat": 4,
 "nbformat_minor": 2
}
